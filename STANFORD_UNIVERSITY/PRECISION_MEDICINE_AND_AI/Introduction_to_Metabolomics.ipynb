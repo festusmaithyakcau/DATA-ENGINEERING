{
 "cells": [
  {
   "cell_type": "markdown",
   "metadata": {
    "id": "vY8bbwzwd7Cn"
   },
   "source": [
    "<img src=\"materials/images/introduction-metabolomics-cover.png\"/>"
   ]
  },
  {
   "cell_type": "markdown",
   "metadata": {
    "id": "YuqfVNcw8xE0"
   },
   "source": [
    "# Introduction to Metabolomics"
   ]
  },
  {
   "cell_type": "markdown",
   "metadata": {
    "id": "bYO9g_Oe8xE1"
   },
   "source": [
    "`🕒 This module should take 30 minutes to complete.`\n",
    "\n",
    "`✍️ This notebook is written using Python.`"
   ]
  },
  {
   "cell_type": "markdown",
   "metadata": {
    "id": "Ihwg32O98xE2"
   },
   "source": [
    "<div class=\"alert alert-block alert-info\">\n",
    "<h3>⌨️ Keyboard shortcut</h3>\n",
    "\n",
    "These common shortcut could save your time going through this notebook:\n",
    "- Run the current cell: **`Enter + Shift`**.\n",
    "- Add a cell above the current cell: Press **`A`**.\n",
    "- Add a cell below the current cell: Press **`B`**.\n",
    "- Change a code cell to markdown cell: Select the cell, and then press **`M`**.\n",
    "- Delete a cell: Press **`D`** twice.\n",
    "\n",
    "Need more help with keyboard shortcut? Press **`H`** to look it up.\n",
    "</div>"
   ]
  },
  {
   "cell_type": "markdown",
   "metadata": {
    "id": "kW-dr4xN8xE3"
   },
   "source": [
    "---"
   ]
  },
  {
   "cell_type": "markdown",
   "metadata": {
    "id": "eBM0JrgsNg_7"
   },
   "source": [
    "## What is metabolomics?\n",
    "\n",
    "Metabolomics is the scientific study of the set of metabolites present within an organism, cell, or tissue. Scientists find studying metabolomics useful because it reveals the unique “chemical fingerprints” that help them track different biological processes that are happening in the body [1]. \n",
    "\n",
    "For example, if you donate your blood samples to a scientist after you eat a healthy high fiber lunch (eg. a colorful salad with spinach, red pepper, black beans), versus a high fat and high carb lunch (e.g., a bowl of spaghetti with meatballs), the scientist can see different metabolites compositions in your blood samples. The different metabolites compositions are the result of your body trying to break down the meals in those two different lunch scenarios. \n"
   ]
  },
  {
   "cell_type": "markdown",
   "metadata": {
    "id": "hMTS8VOON0lx"
   },
   "source": [
    "> #### Apply what you learned:\n",
    "> \n",
    "> Next time you hear the phrase “You are what you eat”, you will know it is true from the metabolomics perspective [2]. Having healthier diets that contain diverse fibers and proteins creates metabolites in your body that allows you to function more efficiently, such as having better attention, athletic performance, and immune responses. Adding something healthy in your meal each day is the most under-rated, economic, and effective way to lead a better quality life. Moreover, It is an exercise of learning to spontaneously follow disciplines. The earlier you start, the more you will see the compounded benefits it brings to your study, work, relationship with yourself and other people.\n"
   ]
  },
  {
   "cell_type": "markdown",
   "metadata": {
    "id": "V2cp1-ulVuhF"
   },
   "source": [
    "---"
   ]
  },
  {
   "cell_type": "markdown",
   "metadata": {
    "id": "oYybyNj_OW5h"
   },
   "source": [
    "### What are the metabolites? \n",
    "\n",
    "Metabolites are made or used when the body breaks down food, drugs or chemicals [3]. By identifying and measuring the metabolites in a biological sample, we could tell what biological processes are happening in the sample. \n"
   ]
  },
  {
   "cell_type": "markdown",
   "metadata": {
    "id": "9-xyZYH8U7Y2"
   },
   "source": [
    "Metabolite profiles (i.e. the metabolites compositions) vary between individuals as it is a product of microbial, genetic and environmental factors. This is why studying metabolomics is important. It helps us understand the underlying biochemical activity and state of cells or tissues [4] when the person is under the influence of microbial, genetic, and environmental factors. "
   ]
  },
  {
   "cell_type": "markdown",
   "metadata": {
    "id": "PYPxn0NOeJeW"
   },
   "source": [
    "<img src=\"materials/images/metabolism.png\"/>"
   ]
  },
  {
   "cell_type": "markdown",
   "metadata": {
    "id": "I19USgyClqXf"
   },
   "source": [
    "Metabolites can be grouped into four major classes [5]: \n",
    "1. Xenobiotics\n",
    "2. Genome\n",
    "3. Gut Microflora\n",
    "4. Environment\n",
    "\n"
   ]
  },
  {
   "cell_type": "markdown",
   "metadata": {
    "id": "RxnUm0jGePFh"
   },
   "source": [
    "<img src=\"materials/images/types-of-metabolites.png\"/>"
   ]
  },
  {
   "cell_type": "markdown",
   "metadata": {
    "id": "o9SyP_iwVe95"
   },
   "source": [
    "### What is metabolome?\n",
    "\n",
    "Metabolome is the total collection of metabolites presented within an organism, cell, or tissue. It is the product of gene expression and protein activity. \n",
    "To make the distinction from the word “metabolomics”, which refers to the academic field, “metabolome” refers to what the scientists in metabolomics are studying.\n"
   ]
  },
  {
   "cell_type": "markdown",
   "metadata": {
    "id": "7qcOfBi4VzV6"
   },
   "source": [
    "---"
   ]
  },
  {
   "cell_type": "markdown",
   "metadata": {
    "id": "6Wpns7MFVxgd"
   },
   "source": [
    "## How to quantify metabolomics?"
   ]
  },
  {
   "cell_type": "markdown",
   "metadata": {
    "id": "awcD-CraWSj8"
   },
   "source": [
    "Similar to proteomics, we also use mass spectrometry for metabolomics to measure the mass-to-charge ratio (m/z) of one or more molecules presented in a sample. The m/z ratio is important information that helps us understand the identity of the metabolic feature (e.g. metabolite).\n"
   ]
  },
  {
   "cell_type": "markdown",
   "metadata": {
    "id": "zZswKjwAeW2V"
   },
   "source": [
    "<img src=\"materials/images/quantify-metabolomics.png\"/>"
   ]
  },
  {
   "cell_type": "markdown",
   "metadata": {
    "id": "z_HJLBFTV5RL"
   },
   "source": [
    "---"
   ]
  },
  {
   "cell_type": "markdown",
   "metadata": {
    "id": "DUO2IfGnWktN"
   },
   "source": [
    "## What are the major applications of metabolomics?\n",
    "\n",
    "Metabolomics covers a wide range of applications, such as human diseases, plant biotechnology, and pharmacology.\n",
    "\n",
    "The human metabolome probably consists of far more than a million endogenous and exogenous compounds. Blood is the matrix of choice to study human disease because it is easy to collect, and is an integrated map of all tissues in the body.\n",
    "\n",
    "Studies show that metabolic profile impacts progression of Alzheimer's disease (AD) [6]. For example, oxidative stress is a condition when antioxidant levels are low in the body. This condition creates an imbalance between free radicals and antioxidants. Free radicals react easily with other molecules and if there are more free radicals compared to antioxidants, then free radicals can start doing damage  to DNA and proteins [7].\n"
   ]
  },
  {
   "cell_type": "markdown",
   "metadata": {
    "id": "25A5QWtYVdp1"
   },
   "source": [
    "---"
   ]
  },
  {
   "cell_type": "markdown",
   "metadata": {
    "id": "whvwX1whW1HT"
   },
   "source": [
    "#### References:\n",
    "\n",
    "[1] Metabolomics. (2022); last accessed August 26, 2022, from https://en.wikipedia.org/wiki/Metabolomics\n",
    "\n",
    "[2] https://www.youtube.com/watch?v=kWch9J0EGG8, last accessed Aug 26, 2022.\n",
    "\n",
    "[3] https://www.cancer.gov/publications/dictionaries/cancer-terms/def/metabolite, last accessed Aug 23, 2022.\n",
    "\n",
    "[4] https://www.ebi.ac.uk/training/online/courses/metabolomics-introduction/what-is/, last accessed Aug 23, 2022.\n",
    "\n",
    "[5] Johnson, C. H., Patterson, A. D., Idle, J. R., & Gonzalez, F. J. (2012). Xenobiotic metabolomics: major impact on the metabolome. Annual review of pharmacology and toxicology, 52, 37.\n",
    "\n",
    "[6] Orešič, M., Hyötyläinen, T., Herukka, S. K., Sysi-Aho, M., Mattila, I., Seppänan-Laakso, T., ... & Soininen, H. (2011). Metabolome in progression to Alzheimer's disease. Translational psychiatry, 1(12), e57-e57.\n",
    "\n",
    "[7] https://www.healthline.com/health/oxidative-stress, last accessed Aug 26, 2022."
   ]
  },
  {
   "cell_type": "markdown",
   "metadata": {
    "id": "XepuSn-UW-bg"
   },
   "source": [
    "---"
   ]
  },
  {
   "cell_type": "code",
   "execution_count": 1,
   "metadata": {
    "id": "q2wyW08dYKDf"
   },
   "outputs": [
    {
     "data": {
      "text/html": [
       "<div>\n",
       "<style scoped>\n",
       "    .dataframe tbody tr th:only-of-type {\n",
       "        vertical-align: middle;\n",
       "    }\n",
       "\n",
       "    .dataframe tbody tr th {\n",
       "        vertical-align: top;\n",
       "    }\n",
       "\n",
       "    .dataframe thead th {\n",
       "        text-align: right;\n",
       "    }\n",
       "</style>\n",
       "<table border=\"1\" class=\"dataframe\">\n",
       "  <thead>\n",
       "    <tr style=\"text-align: right;\">\n",
       "      <th></th>\n",
       "      <th>pHILIC_142.1225_1.3</th>\n",
       "      <th>pHILIC_199.0825_1.5</th>\n",
       "      <th>pHILIC_154.1225_1.6</th>\n",
       "      <th>pHILIC_302.3046_1.8</th>\n",
       "      <th>pHILIC_790.5707_2</th>\n",
       "      <th>pHILIC_257.1127_2</th>\n",
       "      <th>pHILIC_114.0661_2.5</th>\n",
       "      <th>pHILIC_776.5554_3</th>\n",
       "    </tr>\n",
       "    <tr>\n",
       "      <th>SampleID</th>\n",
       "      <th></th>\n",
       "      <th></th>\n",
       "      <th></th>\n",
       "      <th></th>\n",
       "      <th></th>\n",
       "      <th></th>\n",
       "      <th></th>\n",
       "      <th></th>\n",
       "    </tr>\n",
       "  </thead>\n",
       "  <tbody>\n",
       "    <tr>\n",
       "      <th>ZOZOW1T-01</th>\n",
       "      <td>48933.50</td>\n",
       "      <td>12930.38</td>\n",
       "      <td>8806.556</td>\n",
       "      <td>161984.40</td>\n",
       "      <td>7.346514e+00</td>\n",
       "      <td>116880.70</td>\n",
       "      <td>36174800.0</td>\n",
       "      <td>527681.50</td>\n",
       "    </tr>\n",
       "    <tr>\n",
       "      <th>ZOZOW1T-02</th>\n",
       "      <td>38733.88</td>\n",
       "      <td>59952.15</td>\n",
       "      <td>10619.350</td>\n",
       "      <td>216496.40</td>\n",
       "      <td>2.236876e+03</td>\n",
       "      <td>312380.90</td>\n",
       "      <td>78940410.0</td>\n",
       "      <td>1179171.00</td>\n",
       "    </tr>\n",
       "    <tr>\n",
       "      <th>ZOZOW1T-03</th>\n",
       "      <td>42435.48</td>\n",
       "      <td>38987.30</td>\n",
       "      <td>7809.121</td>\n",
       "      <td>108672.90</td>\n",
       "      <td>2.856187e+04</td>\n",
       "      <td>104521.10</td>\n",
       "      <td>39027150.0</td>\n",
       "      <td>336941.30</td>\n",
       "    </tr>\n",
       "    <tr>\n",
       "      <th>ZOZOW1T-05</th>\n",
       "      <td>46083.25</td>\n",
       "      <td>15084.49</td>\n",
       "      <td>8909.069</td>\n",
       "      <td>97748.90</td>\n",
       "      <td>1.508881e+01</td>\n",
       "      <td>139771.50</td>\n",
       "      <td>50265620.0</td>\n",
       "      <td>159105.70</td>\n",
       "    </tr>\n",
       "    <tr>\n",
       "      <th>ZOZOW1T-06</th>\n",
       "      <td>52522.11</td>\n",
       "      <td>31970.83</td>\n",
       "      <td>9438.909</td>\n",
       "      <td>56578.23</td>\n",
       "      <td>8.179492e-01</td>\n",
       "      <td>95810.41</td>\n",
       "      <td>33657510.0</td>\n",
       "      <td>88254.79</td>\n",
       "    </tr>\n",
       "    <tr>\n",
       "      <th>ZOZOW1T-07</th>\n",
       "      <td>55143.94</td>\n",
       "      <td>66744.44</td>\n",
       "      <td>10622.140</td>\n",
       "      <td>241043.10</td>\n",
       "      <td>9.357697e+00</td>\n",
       "      <td>310446.10</td>\n",
       "      <td>93627340.0</td>\n",
       "      <td>1860479.00</td>\n",
       "    </tr>\n",
       "    <tr>\n",
       "      <th>ZOZOW1T-08</th>\n",
       "      <td>53490.17</td>\n",
       "      <td>135944.70</td>\n",
       "      <td>10269.460</td>\n",
       "      <td>162967.50</td>\n",
       "      <td>2.545053e+02</td>\n",
       "      <td>284623.30</td>\n",
       "      <td>88753020.0</td>\n",
       "      <td>1037701.00</td>\n",
       "    </tr>\n",
       "    <tr>\n",
       "      <th>ZOZOW1T-09</th>\n",
       "      <td>53123.64</td>\n",
       "      <td>86714.81</td>\n",
       "      <td>10299.390</td>\n",
       "      <td>201440.60</td>\n",
       "      <td>2.831608e+06</td>\n",
       "      <td>315267.60</td>\n",
       "      <td>91092720.0</td>\n",
       "      <td>762136.20</td>\n",
       "    </tr>\n",
       "  </tbody>\n",
       "</table>\n",
       "</div>"
      ],
      "text/plain": [
       "            pHILIC_142.1225_1.3  pHILIC_199.0825_1.5  pHILIC_154.1225_1.6  \\\n",
       "SampleID                                                                    \n",
       "ZOZOW1T-01             48933.50             12930.38             8806.556   \n",
       "ZOZOW1T-02             38733.88             59952.15            10619.350   \n",
       "ZOZOW1T-03             42435.48             38987.30             7809.121   \n",
       "ZOZOW1T-05             46083.25             15084.49             8909.069   \n",
       "ZOZOW1T-06             52522.11             31970.83             9438.909   \n",
       "ZOZOW1T-07             55143.94             66744.44            10622.140   \n",
       "ZOZOW1T-08             53490.17            135944.70            10269.460   \n",
       "ZOZOW1T-09             53123.64             86714.81            10299.390   \n",
       "\n",
       "            pHILIC_302.3046_1.8  pHILIC_790.5707_2  pHILIC_257.1127_2  \\\n",
       "SampleID                                                                \n",
       "ZOZOW1T-01            161984.40       7.346514e+00          116880.70   \n",
       "ZOZOW1T-02            216496.40       2.236876e+03          312380.90   \n",
       "ZOZOW1T-03            108672.90       2.856187e+04          104521.10   \n",
       "ZOZOW1T-05             97748.90       1.508881e+01          139771.50   \n",
       "ZOZOW1T-06             56578.23       8.179492e-01           95810.41   \n",
       "ZOZOW1T-07            241043.10       9.357697e+00          310446.10   \n",
       "ZOZOW1T-08            162967.50       2.545053e+02          284623.30   \n",
       "ZOZOW1T-09            201440.60       2.831608e+06          315267.60   \n",
       "\n",
       "            pHILIC_114.0661_2.5  pHILIC_776.5554_3  \n",
       "SampleID                                            \n",
       "ZOZOW1T-01           36174800.0          527681.50  \n",
       "ZOZOW1T-02           78940410.0         1179171.00  \n",
       "ZOZOW1T-03           39027150.0          336941.30  \n",
       "ZOZOW1T-05           50265620.0          159105.70  \n",
       "ZOZOW1T-06           33657510.0           88254.79  \n",
       "ZOZOW1T-07           93627340.0         1860479.00  \n",
       "ZOZOW1T-08           88753020.0         1037701.00  \n",
       "ZOZOW1T-09           91092720.0          762136.20  "
      ]
     },
     "execution_count": 1,
     "metadata": {},
     "output_type": "execute_result"
    }
   ],
   "source": [
    "import pandas as pd\n",
    "\n",
    "data = pd.read_csv('data/metabolome_abundance.txt', sep='\\t', index_col=0)\n",
    "data.iloc[0:8, 0:8]"
   ]
  },
  {
   "cell_type": "markdown",
   "metadata": {
    "id": "IaSJNcpO_Jt1"
   },
   "source": [
    "Here, we see that our metabolite names are coded, and can be found in the Excel file `iPOP_Metablolite_Annotation.xlsx`. "
   ]
  },
  {
   "cell_type": "code",
   "execution_count": 2,
   "metadata": {
    "id": "WrDY4ZCpPd1T"
   },
   "outputs": [
    {
     "data": {
      "text/html": [
       "<div>\n",
       "<style scoped>\n",
       "    .dataframe tbody tr th:only-of-type {\n",
       "        vertical-align: middle;\n",
       "    }\n",
       "\n",
       "    .dataframe tbody tr th {\n",
       "        vertical-align: top;\n",
       "    }\n",
       "\n",
       "    .dataframe thead th {\n",
       "        text-align: right;\n",
       "    }\n",
       "</style>\n",
       "<table border=\"1\" class=\"dataframe\">\n",
       "  <thead>\n",
       "    <tr style=\"text-align: right;\">\n",
       "      <th></th>\n",
       "      <th>Compounds_ID</th>\n",
       "      <th>Metabolite</th>\n",
       "      <th>KEGG</th>\n",
       "      <th>HMDB</th>\n",
       "      <th>Chemical Class</th>\n",
       "      <th>Pathway</th>\n",
       "    </tr>\n",
       "  </thead>\n",
       "  <tbody>\n",
       "    <tr>\n",
       "      <th>0</th>\n",
       "      <td>nHILIC_204.9811_1.1</td>\n",
       "      <td>1,2,3-benzenetriol sulfate</td>\n",
       "      <td>NaN</td>\n",
       "      <td>NaN</td>\n",
       "      <td>Xenobiotics</td>\n",
       "      <td>Chemical</td>\n",
       "    </tr>\n",
       "    <tr>\n",
       "      <th>1</th>\n",
       "      <td>nHILIC_133.0506_4.4</td>\n",
       "      <td>2,3-Dihydroxyvaleric acid(1)</td>\n",
       "      <td>C04039</td>\n",
       "      <td>HMDB00421</td>\n",
       "      <td>Cofactors and Vitamins</td>\n",
       "      <td>Pantothenate and CoA Metabolism</td>\n",
       "    </tr>\n",
       "    <tr>\n",
       "      <th>2</th>\n",
       "      <td>nHILIC_133.0506_2.3</td>\n",
       "      <td>2,3-Dihydroxyvaleric acid(2)</td>\n",
       "      <td>C04039</td>\n",
       "      <td>HMDB00421</td>\n",
       "      <td>Cofactors and Vitamins</td>\n",
       "      <td>Pantothenate and CoA Metabolism</td>\n",
       "    </tr>\n",
       "    <tr>\n",
       "      <th>3</th>\n",
       "      <td>nRPLC_371.1881_9.5</td>\n",
       "      <td>5alpha-Androstan-3alpha,17alpha-diol monosulfa...</td>\n",
       "      <td>NaN</td>\n",
       "      <td>NaN</td>\n",
       "      <td>Lipid</td>\n",
       "      <td>Androgenic Steroids</td>\n",
       "    </tr>\n",
       "    <tr>\n",
       "      <th>4</th>\n",
       "      <td>nRPLC_371.189_9.7</td>\n",
       "      <td>5alpha-Androstan-3alpha,17alpha-diol monosulfa...</td>\n",
       "      <td>NaN</td>\n",
       "      <td>NaN</td>\n",
       "      <td>Lipid</td>\n",
       "      <td>Androgenic Steroids</td>\n",
       "    </tr>\n",
       "    <tr>\n",
       "      <th>5</th>\n",
       "      <td>nRPLC_371.1887_9.1</td>\n",
       "      <td>5alpha-Androstan-3alpha,17alpha-diol monosulfa...</td>\n",
       "      <td>NaN</td>\n",
       "      <td>NaN</td>\n",
       "      <td>Lipid</td>\n",
       "      <td>Androgenic Steroids</td>\n",
       "    </tr>\n",
       "    <tr>\n",
       "      <th>6</th>\n",
       "      <td>nRPLC_467.2636_8.4</td>\n",
       "      <td>5alpha-Androstan-3alpha,17beta-diol 17-glucuro...</td>\n",
       "      <td>NaN</td>\n",
       "      <td>NaN</td>\n",
       "      <td>Lipid</td>\n",
       "      <td>Androgenic Steroids</td>\n",
       "    </tr>\n",
       "    <tr>\n",
       "      <th>7</th>\n",
       "      <td>nRPLC_467.2649_8.8</td>\n",
       "      <td>5alpha-Androstan-3alpha,17beta-diol 17-glucuro...</td>\n",
       "      <td>NaN</td>\n",
       "      <td>NaN</td>\n",
       "      <td>Lipid</td>\n",
       "      <td>Androgenic Steroids</td>\n",
       "    </tr>\n",
       "    <tr>\n",
       "      <th>8</th>\n",
       "      <td>nHILIC_224.0617_4.8</td>\n",
       "      <td>Androstenediol (3beta,17beta) disulfate</td>\n",
       "      <td>C04295</td>\n",
       "      <td>HMDB03818</td>\n",
       "      <td>Lipid</td>\n",
       "      <td>Androgenic Steroids</td>\n",
       "    </tr>\n",
       "    <tr>\n",
       "      <th>9</th>\n",
       "      <td>nRPLC_201.1133_6.3</td>\n",
       "      <td>C10:0,DC FA (Sebacic acid)(1)</td>\n",
       "      <td>C08277</td>\n",
       "      <td>HMDB00792</td>\n",
       "      <td>Lipid</td>\n",
       "      <td>Fatty Acid, Dicarboxylate</td>\n",
       "    </tr>\n",
       "  </tbody>\n",
       "</table>\n",
       "</div>"
      ],
      "text/plain": [
       "          Compounds_ID                                         Metabolite  \\\n",
       "0  nHILIC_204.9811_1.1                         1,2,3-benzenetriol sulfate   \n",
       "1  nHILIC_133.0506_4.4                       2,3-Dihydroxyvaleric acid(1)   \n",
       "2  nHILIC_133.0506_2.3                       2,3-Dihydroxyvaleric acid(2)   \n",
       "3   nRPLC_371.1881_9.5  5alpha-Androstan-3alpha,17alpha-diol monosulfa...   \n",
       "4    nRPLC_371.189_9.7  5alpha-Androstan-3alpha,17alpha-diol monosulfa...   \n",
       "5   nRPLC_371.1887_9.1  5alpha-Androstan-3alpha,17alpha-diol monosulfa...   \n",
       "6   nRPLC_467.2636_8.4  5alpha-Androstan-3alpha,17beta-diol 17-glucuro...   \n",
       "7   nRPLC_467.2649_8.8  5alpha-Androstan-3alpha,17beta-diol 17-glucuro...   \n",
       "8  nHILIC_224.0617_4.8            Androstenediol (3beta,17beta) disulfate   \n",
       "9   nRPLC_201.1133_6.3                      C10:0,DC FA (Sebacic acid)(1)   \n",
       "\n",
       "     KEGG       HMDB          Chemical Class                          Pathway  \n",
       "0     NaN        NaN             Xenobiotics                         Chemical  \n",
       "1  C04039  HMDB00421  Cofactors and Vitamins  Pantothenate and CoA Metabolism  \n",
       "2  C04039  HMDB00421  Cofactors and Vitamins  Pantothenate and CoA Metabolism  \n",
       "3     NaN        NaN                   Lipid              Androgenic Steroids  \n",
       "4     NaN        NaN                   Lipid              Androgenic Steroids  \n",
       "5     NaN        NaN                   Lipid              Androgenic Steroids  \n",
       "6     NaN        NaN                   Lipid              Androgenic Steroids  \n",
       "7     NaN        NaN                   Lipid              Androgenic Steroids  \n",
       "8  C04295  HMDB03818                   Lipid              Androgenic Steroids  \n",
       "9  C08277  HMDB00792                   Lipid        Fatty Acid, Dicarboxylate  "
      ]
     },
     "execution_count": 2,
     "metadata": {},
     "output_type": "execute_result"
    }
   ],
   "source": [
    "metabolites = pd.read_excel('data/iPOP_Metablolite_Annotation.xlsx')\n",
    "metabolites.iloc[0:10, ]"
   ]
  },
  {
   "cell_type": "code",
   "execution_count": 3,
   "metadata": {
    "id": "KLrIZFPDCJbA"
   },
   "outputs": [
    {
     "name": "stdout",
     "output_type": "stream",
     "text": [
      "Our dataset contains the abundance data for 724 metabolites from 981 samples.\n"
     ]
    }
   ],
   "source": [
    "(nRows, nCols) = data.shape\n",
    "metadata = data.iloc[:, nCols-5:]\n",
    "data = data.iloc[:, :nCols-5]\n",
    "(nRows, nCols) = data.shape\n",
    "print('Our dataset contains the abundance data for', nCols, 'metabolites from', nRows, 'samples.')"
   ]
  },
  {
   "cell_type": "code",
   "execution_count": 4,
   "metadata": {
    "id": "pwjEN3ImYww5"
   },
   "outputs": [
    {
     "data": {
      "text/html": [
       "<div>\n",
       "<style scoped>\n",
       "    .dataframe tbody tr th:only-of-type {\n",
       "        vertical-align: middle;\n",
       "    }\n",
       "\n",
       "    .dataframe tbody tr th {\n",
       "        vertical-align: top;\n",
       "    }\n",
       "\n",
       "    .dataframe thead th {\n",
       "        text-align: right;\n",
       "    }\n",
       "</style>\n",
       "<table border=\"1\" class=\"dataframe\">\n",
       "  <thead>\n",
       "    <tr style=\"text-align: right;\">\n",
       "      <th></th>\n",
       "      <th>pHILIC_142.1225_1.3</th>\n",
       "      <th>pHILIC_199.0825_1.5</th>\n",
       "      <th>pHILIC_154.1225_1.6</th>\n",
       "      <th>pHILIC_302.3046_1.8</th>\n",
       "      <th>pHILIC_790.5707_2</th>\n",
       "      <th>pHILIC_257.1127_2</th>\n",
       "      <th>pHILIC_114.0661_2.5</th>\n",
       "      <th>pHILIC_776.5554_3</th>\n",
       "    </tr>\n",
       "    <tr>\n",
       "      <th>SampleID</th>\n",
       "      <th></th>\n",
       "      <th></th>\n",
       "      <th></th>\n",
       "      <th></th>\n",
       "      <th></th>\n",
       "      <th></th>\n",
       "      <th></th>\n",
       "      <th></th>\n",
       "    </tr>\n",
       "  </thead>\n",
       "  <tbody>\n",
       "    <tr>\n",
       "      <th>ZOZOW1T-01</th>\n",
       "      <td>48933.50</td>\n",
       "      <td>12930.38</td>\n",
       "      <td>8806.556</td>\n",
       "      <td>161984.40</td>\n",
       "      <td>7.346514e+00</td>\n",
       "      <td>116880.70</td>\n",
       "      <td>36174800.0</td>\n",
       "      <td>527681.50</td>\n",
       "    </tr>\n",
       "    <tr>\n",
       "      <th>ZOZOW1T-02</th>\n",
       "      <td>38733.88</td>\n",
       "      <td>59952.15</td>\n",
       "      <td>10619.350</td>\n",
       "      <td>216496.40</td>\n",
       "      <td>2.236876e+03</td>\n",
       "      <td>312380.90</td>\n",
       "      <td>78940410.0</td>\n",
       "      <td>1179171.00</td>\n",
       "    </tr>\n",
       "    <tr>\n",
       "      <th>ZOZOW1T-03</th>\n",
       "      <td>42435.48</td>\n",
       "      <td>38987.30</td>\n",
       "      <td>7809.121</td>\n",
       "      <td>108672.90</td>\n",
       "      <td>2.856187e+04</td>\n",
       "      <td>104521.10</td>\n",
       "      <td>39027150.0</td>\n",
       "      <td>336941.30</td>\n",
       "    </tr>\n",
       "    <tr>\n",
       "      <th>ZOZOW1T-05</th>\n",
       "      <td>46083.25</td>\n",
       "      <td>15084.49</td>\n",
       "      <td>8909.069</td>\n",
       "      <td>97748.90</td>\n",
       "      <td>1.508881e+01</td>\n",
       "      <td>139771.50</td>\n",
       "      <td>50265620.0</td>\n",
       "      <td>159105.70</td>\n",
       "    </tr>\n",
       "    <tr>\n",
       "      <th>ZOZOW1T-06</th>\n",
       "      <td>52522.11</td>\n",
       "      <td>31970.83</td>\n",
       "      <td>9438.909</td>\n",
       "      <td>56578.23</td>\n",
       "      <td>8.179492e-01</td>\n",
       "      <td>95810.41</td>\n",
       "      <td>33657510.0</td>\n",
       "      <td>88254.79</td>\n",
       "    </tr>\n",
       "    <tr>\n",
       "      <th>ZOZOW1T-07</th>\n",
       "      <td>55143.94</td>\n",
       "      <td>66744.44</td>\n",
       "      <td>10622.140</td>\n",
       "      <td>241043.10</td>\n",
       "      <td>9.357697e+00</td>\n",
       "      <td>310446.10</td>\n",
       "      <td>93627340.0</td>\n",
       "      <td>1860479.00</td>\n",
       "    </tr>\n",
       "    <tr>\n",
       "      <th>ZOZOW1T-08</th>\n",
       "      <td>53490.17</td>\n",
       "      <td>135944.70</td>\n",
       "      <td>10269.460</td>\n",
       "      <td>162967.50</td>\n",
       "      <td>2.545053e+02</td>\n",
       "      <td>284623.30</td>\n",
       "      <td>88753020.0</td>\n",
       "      <td>1037701.00</td>\n",
       "    </tr>\n",
       "    <tr>\n",
       "      <th>ZOZOW1T-09</th>\n",
       "      <td>53123.64</td>\n",
       "      <td>86714.81</td>\n",
       "      <td>10299.390</td>\n",
       "      <td>201440.60</td>\n",
       "      <td>2.831608e+06</td>\n",
       "      <td>315267.60</td>\n",
       "      <td>91092720.0</td>\n",
       "      <td>762136.20</td>\n",
       "    </tr>\n",
       "  </tbody>\n",
       "</table>\n",
       "</div>"
      ],
      "text/plain": [
       "            pHILIC_142.1225_1.3  pHILIC_199.0825_1.5  pHILIC_154.1225_1.6  \\\n",
       "SampleID                                                                    \n",
       "ZOZOW1T-01             48933.50             12930.38             8806.556   \n",
       "ZOZOW1T-02             38733.88             59952.15            10619.350   \n",
       "ZOZOW1T-03             42435.48             38987.30             7809.121   \n",
       "ZOZOW1T-05             46083.25             15084.49             8909.069   \n",
       "ZOZOW1T-06             52522.11             31970.83             9438.909   \n",
       "ZOZOW1T-07             55143.94             66744.44            10622.140   \n",
       "ZOZOW1T-08             53490.17            135944.70            10269.460   \n",
       "ZOZOW1T-09             53123.64             86714.81            10299.390   \n",
       "\n",
       "            pHILIC_302.3046_1.8  pHILIC_790.5707_2  pHILIC_257.1127_2  \\\n",
       "SampleID                                                                \n",
       "ZOZOW1T-01            161984.40       7.346514e+00          116880.70   \n",
       "ZOZOW1T-02            216496.40       2.236876e+03          312380.90   \n",
       "ZOZOW1T-03            108672.90       2.856187e+04          104521.10   \n",
       "ZOZOW1T-05             97748.90       1.508881e+01          139771.50   \n",
       "ZOZOW1T-06             56578.23       8.179492e-01           95810.41   \n",
       "ZOZOW1T-07            241043.10       9.357697e+00          310446.10   \n",
       "ZOZOW1T-08            162967.50       2.545053e+02          284623.30   \n",
       "ZOZOW1T-09            201440.60       2.831608e+06          315267.60   \n",
       "\n",
       "            pHILIC_114.0661_2.5  pHILIC_776.5554_3  \n",
       "SampleID                                            \n",
       "ZOZOW1T-01           36174800.0          527681.50  \n",
       "ZOZOW1T-02           78940410.0         1179171.00  \n",
       "ZOZOW1T-03           39027150.0          336941.30  \n",
       "ZOZOW1T-05           50265620.0          159105.70  \n",
       "ZOZOW1T-06           33657510.0           88254.79  \n",
       "ZOZOW1T-07           93627340.0         1860479.00  \n",
       "ZOZOW1T-08           88753020.0         1037701.00  \n",
       "ZOZOW1T-09           91092720.0          762136.20  "
      ]
     },
     "execution_count": 4,
     "metadata": {},
     "output_type": "execute_result"
    }
   ],
   "source": [
    "patientID = 'ZOZOW1T'\n",
    "patientData = data.filter(like=patientID, axis=0)\n",
    "patientData.iloc[0:8, 0:8]"
   ]
  },
  {
   "cell_type": "code",
   "execution_count": 5,
   "metadata": {
    "id": "UczTbY7pY48C"
   },
   "outputs": [
    {
     "name": "stdout",
     "output_type": "stream",
     "text": [
      "C10H14N2O2 is the metabolite with the highest abundance in sample ZOZOW1T-01.\n"
     ]
    }
   ],
   "source": [
    "import numpy as np\n",
    "\n",
    "i = np.argmax(patientData.iloc[0, :])\n",
    "print(metabolites['Metabolite'][i], 'is the metabolite with the highest abundance in sample ZOZOW1T-01.')"
   ]
  },
  {
   "cell_type": "code",
   "execution_count": 6,
   "metadata": {
    "id": "P9Ji2Y8gZQtc"
   },
   "outputs": [],
   "source": [
    "# *** Can use this code to preserve row and columns. However, it may be easier to append relative abundances to a list (like in Proteomics module) *** \n",
    "\n",
    "# relativeAbundance = np.empty_like(patientData)\n",
    "# for metabolite in range(patientData.shape[1]):\n",
    "#   maxAbundance = max(patientData.iloc[:, metabolite])\n",
    "#   relativeAbundance[:, metabolite] = patientData.iloc[:, metabolite] / maxAbundance\n",
    "# relativeAbundance = pd.DataFrame(relativeAbundance, columns=list(metabolites['Metabolite']), index=patientData.index)"
   ]
  },
  {
   "cell_type": "code",
   "execution_count": 7,
   "metadata": {
    "id": "u6fuKpa1CaPO"
   },
   "outputs": [],
   "source": [
    "relativeAbundance = []\n",
    "for metabolite in range(patientData.shape[1]):\n",
    "  maxAbundance = max(patientData.iloc[:, metabolite])\n",
    "  relativeAbundance.append(patientData.iloc[:, metabolite] / maxAbundance)\n",
    "relativeAbundance = pd.DataFrame(relativeAbundance, index=list(metabolites['Metabolite']))"
   ]
  },
  {
   "cell_type": "code",
   "execution_count": 8,
   "metadata": {
    "id": "WwBlrA5_AQBt"
   },
   "outputs": [
    {
     "data": {
      "text/html": [
       "<div>\n",
       "<style scoped>\n",
       "    .dataframe tbody tr th:only-of-type {\n",
       "        vertical-align: middle;\n",
       "    }\n",
       "\n",
       "    .dataframe tbody tr th {\n",
       "        vertical-align: top;\n",
       "    }\n",
       "\n",
       "    .dataframe thead th {\n",
       "        text-align: right;\n",
       "    }\n",
       "</style>\n",
       "<table border=\"1\" class=\"dataframe\">\n",
       "  <thead>\n",
       "    <tr style=\"text-align: right;\">\n",
       "      <th>SampleID</th>\n",
       "      <th>ZOZOW1T-01</th>\n",
       "      <th>ZOZOW1T-02</th>\n",
       "      <th>ZOZOW1T-03</th>\n",
       "      <th>ZOZOW1T-05</th>\n",
       "      <th>ZOZOW1T-06</th>\n",
       "      <th>ZOZOW1T-07</th>\n",
       "      <th>ZOZOW1T-08</th>\n",
       "      <th>ZOZOW1T-09</th>\n",
       "      <th>ZOZOW1T-1013</th>\n",
       "      <th>ZOZOW1T-1015</th>\n",
       "      <th>...</th>\n",
       "      <th>ZOZOW1T-75</th>\n",
       "      <th>ZOZOW1T-76</th>\n",
       "      <th>ZOZOW1T-77</th>\n",
       "      <th>ZOZOW1T-78</th>\n",
       "      <th>ZOZOW1T-79</th>\n",
       "      <th>ZOZOW1T-80</th>\n",
       "      <th>ZOZOW1T-82</th>\n",
       "      <th>ZOZOW1T-83</th>\n",
       "      <th>ZOZOW1T-84</th>\n",
       "      <th>ZOZOW1T-86</th>\n",
       "    </tr>\n",
       "  </thead>\n",
       "  <tbody>\n",
       "    <tr>\n",
       "      <th>1,2,3-benzenetriol sulfate</th>\n",
       "      <td>3.863014e-02</td>\n",
       "      <td>0.030578</td>\n",
       "      <td>0.033500</td>\n",
       "      <td>3.638004e-02</td>\n",
       "      <td>4.146314e-02</td>\n",
       "      <td>4.353293e-02</td>\n",
       "      <td>0.042227</td>\n",
       "      <td>0.041938</td>\n",
       "      <td>0.164852</td>\n",
       "      <td>0.278113</td>\n",
       "      <td>...</td>\n",
       "      <td>0.154870</td>\n",
       "      <td>0.190376</td>\n",
       "      <td>0.226325</td>\n",
       "      <td>1.000000e+00</td>\n",
       "      <td>0.115588</td>\n",
       "      <td>1.570828e-01</td>\n",
       "      <td>0.096597</td>\n",
       "      <td>0.231380</td>\n",
       "      <td>0.246607</td>\n",
       "      <td>0.268925</td>\n",
       "    </tr>\n",
       "    <tr>\n",
       "      <th>2,3-Dihydroxyvaleric acid(1)</th>\n",
       "      <td>7.580826e-03</td>\n",
       "      <td>0.035149</td>\n",
       "      <td>0.022857</td>\n",
       "      <td>8.843738e-03</td>\n",
       "      <td>1.874387e-02</td>\n",
       "      <td>3.913095e-02</td>\n",
       "      <td>0.079702</td>\n",
       "      <td>0.050839</td>\n",
       "      <td>0.007662</td>\n",
       "      <td>0.379416</td>\n",
       "      <td>...</td>\n",
       "      <td>0.098410</td>\n",
       "      <td>0.444457</td>\n",
       "      <td>0.045888</td>\n",
       "      <td>7.504117e-02</td>\n",
       "      <td>0.027986</td>\n",
       "      <td>1.000000e+00</td>\n",
       "      <td>0.051991</td>\n",
       "      <td>0.964917</td>\n",
       "      <td>0.225544</td>\n",
       "      <td>0.012242</td>\n",
       "    </tr>\n",
       "    <tr>\n",
       "      <th>2,3-Dihydroxyvaleric acid(2)</th>\n",
       "      <td>1.629425e-03</td>\n",
       "      <td>0.001965</td>\n",
       "      <td>0.001445</td>\n",
       "      <td>1.648392e-03</td>\n",
       "      <td>1.746425e-03</td>\n",
       "      <td>1.965352e-03</td>\n",
       "      <td>0.001900</td>\n",
       "      <td>0.001906</td>\n",
       "      <td>0.556464</td>\n",
       "      <td>0.890928</td>\n",
       "      <td>...</td>\n",
       "      <td>0.450898</td>\n",
       "      <td>0.402866</td>\n",
       "      <td>0.622244</td>\n",
       "      <td>6.331755e-01</td>\n",
       "      <td>0.336002</td>\n",
       "      <td>4.731413e-01</td>\n",
       "      <td>0.284218</td>\n",
       "      <td>0.573547</td>\n",
       "      <td>0.754358</td>\n",
       "      <td>0.990995</td>\n",
       "    </tr>\n",
       "    <tr>\n",
       "      <th>5alpha-Androstan-3alpha,17alpha-diol monosulfate(1)</th>\n",
       "      <td>1.090651e-01</td>\n",
       "      <td>0.145768</td>\n",
       "      <td>0.073170</td>\n",
       "      <td>6.581491e-02</td>\n",
       "      <td>3.809446e-02</td>\n",
       "      <td>1.622957e-01</td>\n",
       "      <td>0.109727</td>\n",
       "      <td>0.135631</td>\n",
       "      <td>0.092335</td>\n",
       "      <td>0.139659</td>\n",
       "      <td>...</td>\n",
       "      <td>0.170573</td>\n",
       "      <td>0.179936</td>\n",
       "      <td>0.106524</td>\n",
       "      <td>2.023655e-01</td>\n",
       "      <td>0.135682</td>\n",
       "      <td>1.306462e-01</td>\n",
       "      <td>0.381228</td>\n",
       "      <td>0.280141</td>\n",
       "      <td>0.170203</td>\n",
       "      <td>0.107740</td>\n",
       "    </tr>\n",
       "    <tr>\n",
       "      <th>5alpha-Androstan-3alpha,17alpha-diol monosulfate(2)</th>\n",
       "      <td>4.533715e-08</td>\n",
       "      <td>0.000014</td>\n",
       "      <td>0.000176</td>\n",
       "      <td>9.311678e-08</td>\n",
       "      <td>5.047767e-09</td>\n",
       "      <td>5.774866e-08</td>\n",
       "      <td>0.000002</td>\n",
       "      <td>0.017475</td>\n",
       "      <td>0.000559</td>\n",
       "      <td>0.000336</td>\n",
       "      <td>...</td>\n",
       "      <td>0.000723</td>\n",
       "      <td>0.003046</td>\n",
       "      <td>0.000983</td>\n",
       "      <td>6.171247e-09</td>\n",
       "      <td>0.000012</td>\n",
       "      <td>6.254534e-08</td>\n",
       "      <td>0.005016</td>\n",
       "      <td>0.006055</td>\n",
       "      <td>0.001473</td>\n",
       "      <td>0.000523</td>\n",
       "    </tr>\n",
       "    <tr>\n",
       "      <th>...</th>\n",
       "      <td>...</td>\n",
       "      <td>...</td>\n",
       "      <td>...</td>\n",
       "      <td>...</td>\n",
       "      <td>...</td>\n",
       "      <td>...</td>\n",
       "      <td>...</td>\n",
       "      <td>...</td>\n",
       "      <td>...</td>\n",
       "      <td>...</td>\n",
       "      <td>...</td>\n",
       "      <td>...</td>\n",
       "      <td>...</td>\n",
       "      <td>...</td>\n",
       "      <td>...</td>\n",
       "      <td>...</td>\n",
       "      <td>...</td>\n",
       "      <td>...</td>\n",
       "      <td>...</td>\n",
       "      <td>...</td>\n",
       "      <td>...</td>\n",
       "    </tr>\n",
       "    <tr>\n",
       "      <th>Uracil</th>\n",
       "      <td>3.305771e-02</td>\n",
       "      <td>0.172085</td>\n",
       "      <td>0.070132</td>\n",
       "      <td>1.655083e-01</td>\n",
       "      <td>1.246274e-01</td>\n",
       "      <td>4.078327e-01</td>\n",
       "      <td>0.670728</td>\n",
       "      <td>0.278816</td>\n",
       "      <td>0.280185</td>\n",
       "      <td>0.271927</td>\n",
       "      <td>...</td>\n",
       "      <td>0.415084</td>\n",
       "      <td>0.399155</td>\n",
       "      <td>0.319557</td>\n",
       "      <td>3.467297e-01</td>\n",
       "      <td>0.391462</td>\n",
       "      <td>5.133750e-01</td>\n",
       "      <td>0.887254</td>\n",
       "      <td>0.498610</td>\n",
       "      <td>0.289432</td>\n",
       "      <td>0.310998</td>\n",
       "    </tr>\n",
       "    <tr>\n",
       "      <th>Uric acid</th>\n",
       "      <td>4.165019e-02</td>\n",
       "      <td>0.216543</td>\n",
       "      <td>0.063804</td>\n",
       "      <td>6.964063e-02</td>\n",
       "      <td>3.495930e-02</td>\n",
       "      <td>2.920748e-01</td>\n",
       "      <td>0.226165</td>\n",
       "      <td>0.248898</td>\n",
       "      <td>0.333697</td>\n",
       "      <td>0.381813</td>\n",
       "      <td>...</td>\n",
       "      <td>0.544099</td>\n",
       "      <td>0.481049</td>\n",
       "      <td>0.407863</td>\n",
       "      <td>7.557823e-01</td>\n",
       "      <td>0.396189</td>\n",
       "      <td>5.747114e-01</td>\n",
       "      <td>0.515234</td>\n",
       "      <td>0.306758</td>\n",
       "      <td>0.379974</td>\n",
       "      <td>0.401339</td>\n",
       "    </tr>\n",
       "    <tr>\n",
       "      <th>Uridine</th>\n",
       "      <td>1.128898e-02</td>\n",
       "      <td>0.817682</td>\n",
       "      <td>0.044634</td>\n",
       "      <td>4.719188e-02</td>\n",
       "      <td>3.235616e-02</td>\n",
       "      <td>8.609181e-02</td>\n",
       "      <td>0.118725</td>\n",
       "      <td>0.140016</td>\n",
       "      <td>0.078862</td>\n",
       "      <td>0.097024</td>\n",
       "      <td>...</td>\n",
       "      <td>0.137144</td>\n",
       "      <td>0.074175</td>\n",
       "      <td>0.091115</td>\n",
       "      <td>1.197459e-01</td>\n",
       "      <td>0.086226</td>\n",
       "      <td>1.132768e-01</td>\n",
       "      <td>0.062096</td>\n",
       "      <td>0.058280</td>\n",
       "      <td>0.121035</td>\n",
       "      <td>0.082222</td>\n",
       "    </tr>\n",
       "    <tr>\n",
       "      <th>Urocanic acid</th>\n",
       "      <td>1.034805e-03</td>\n",
       "      <td>0.134709</td>\n",
       "      <td>0.036510</td>\n",
       "      <td>2.996337e-02</td>\n",
       "      <td>2.289197e-02</td>\n",
       "      <td>5.857329e-02</td>\n",
       "      <td>0.193576</td>\n",
       "      <td>0.159485</td>\n",
       "      <td>0.089051</td>\n",
       "      <td>0.241005</td>\n",
       "      <td>...</td>\n",
       "      <td>0.863361</td>\n",
       "      <td>0.366576</td>\n",
       "      <td>0.179643</td>\n",
       "      <td>1.955244e-01</td>\n",
       "      <td>0.187973</td>\n",
       "      <td>1.000000e+00</td>\n",
       "      <td>0.284411</td>\n",
       "      <td>0.449148</td>\n",
       "      <td>0.251174</td>\n",
       "      <td>0.192032</td>\n",
       "    </tr>\n",
       "    <tr>\n",
       "      <th>Xanthine</th>\n",
       "      <td>3.219179e-02</td>\n",
       "      <td>0.171068</td>\n",
       "      <td>0.061267</td>\n",
       "      <td>4.307437e-02</td>\n",
       "      <td>3.759080e-02</td>\n",
       "      <td>1.013353e-01</td>\n",
       "      <td>0.070034</td>\n",
       "      <td>0.084930</td>\n",
       "      <td>0.376139</td>\n",
       "      <td>0.380179</td>\n",
       "      <td>...</td>\n",
       "      <td>0.635831</td>\n",
       "      <td>0.719977</td>\n",
       "      <td>0.739843</td>\n",
       "      <td>5.981493e-01</td>\n",
       "      <td>1.000000</td>\n",
       "      <td>5.682314e-01</td>\n",
       "      <td>0.561024</td>\n",
       "      <td>0.384067</td>\n",
       "      <td>0.368882</td>\n",
       "      <td>0.410719</td>\n",
       "    </tr>\n",
       "  </tbody>\n",
       "</table>\n",
       "<p>724 rows × 114 columns</p>\n",
       "</div>"
      ],
      "text/plain": [
       "SampleID                                              ZOZOW1T-01  ZOZOW1T-02  \\\n",
       "1,2,3-benzenetriol sulfate                          3.863014e-02    0.030578   \n",
       "2,3-Dihydroxyvaleric acid(1)                        7.580826e-03    0.035149   \n",
       "2,3-Dihydroxyvaleric acid(2)                        1.629425e-03    0.001965   \n",
       "5alpha-Androstan-3alpha,17alpha-diol monosulfat...  1.090651e-01    0.145768   \n",
       "5alpha-Androstan-3alpha,17alpha-diol monosulfat...  4.533715e-08    0.000014   \n",
       "...                                                          ...         ...   \n",
       "Uracil                                              3.305771e-02    0.172085   \n",
       "Uric acid                                           4.165019e-02    0.216543   \n",
       "Uridine                                             1.128898e-02    0.817682   \n",
       "Urocanic acid                                       1.034805e-03    0.134709   \n",
       "Xanthine                                            3.219179e-02    0.171068   \n",
       "\n",
       "SampleID                                            ZOZOW1T-03    ZOZOW1T-05  \\\n",
       "1,2,3-benzenetriol sulfate                            0.033500  3.638004e-02   \n",
       "2,3-Dihydroxyvaleric acid(1)                          0.022857  8.843738e-03   \n",
       "2,3-Dihydroxyvaleric acid(2)                          0.001445  1.648392e-03   \n",
       "5alpha-Androstan-3alpha,17alpha-diol monosulfat...    0.073170  6.581491e-02   \n",
       "5alpha-Androstan-3alpha,17alpha-diol monosulfat...    0.000176  9.311678e-08   \n",
       "...                                                        ...           ...   \n",
       "Uracil                                                0.070132  1.655083e-01   \n",
       "Uric acid                                             0.063804  6.964063e-02   \n",
       "Uridine                                               0.044634  4.719188e-02   \n",
       "Urocanic acid                                         0.036510  2.996337e-02   \n",
       "Xanthine                                              0.061267  4.307437e-02   \n",
       "\n",
       "SampleID                                              ZOZOW1T-06  \\\n",
       "1,2,3-benzenetriol sulfate                          4.146314e-02   \n",
       "2,3-Dihydroxyvaleric acid(1)                        1.874387e-02   \n",
       "2,3-Dihydroxyvaleric acid(2)                        1.746425e-03   \n",
       "5alpha-Androstan-3alpha,17alpha-diol monosulfat...  3.809446e-02   \n",
       "5alpha-Androstan-3alpha,17alpha-diol monosulfat...  5.047767e-09   \n",
       "...                                                          ...   \n",
       "Uracil                                              1.246274e-01   \n",
       "Uric acid                                           3.495930e-02   \n",
       "Uridine                                             3.235616e-02   \n",
       "Urocanic acid                                       2.289197e-02   \n",
       "Xanthine                                            3.759080e-02   \n",
       "\n",
       "SampleID                                              ZOZOW1T-07  ZOZOW1T-08  \\\n",
       "1,2,3-benzenetriol sulfate                          4.353293e-02    0.042227   \n",
       "2,3-Dihydroxyvaleric acid(1)                        3.913095e-02    0.079702   \n",
       "2,3-Dihydroxyvaleric acid(2)                        1.965352e-03    0.001900   \n",
       "5alpha-Androstan-3alpha,17alpha-diol monosulfat...  1.622957e-01    0.109727   \n",
       "5alpha-Androstan-3alpha,17alpha-diol monosulfat...  5.774866e-08    0.000002   \n",
       "...                                                          ...         ...   \n",
       "Uracil                                              4.078327e-01    0.670728   \n",
       "Uric acid                                           2.920748e-01    0.226165   \n",
       "Uridine                                             8.609181e-02    0.118725   \n",
       "Urocanic acid                                       5.857329e-02    0.193576   \n",
       "Xanthine                                            1.013353e-01    0.070034   \n",
       "\n",
       "SampleID                                            ZOZOW1T-09  ZOZOW1T-1013  \\\n",
       "1,2,3-benzenetriol sulfate                            0.041938      0.164852   \n",
       "2,3-Dihydroxyvaleric acid(1)                          0.050839      0.007662   \n",
       "2,3-Dihydroxyvaleric acid(2)                          0.001906      0.556464   \n",
       "5alpha-Androstan-3alpha,17alpha-diol monosulfat...    0.135631      0.092335   \n",
       "5alpha-Androstan-3alpha,17alpha-diol monosulfat...    0.017475      0.000559   \n",
       "...                                                        ...           ...   \n",
       "Uracil                                                0.278816      0.280185   \n",
       "Uric acid                                             0.248898      0.333697   \n",
       "Uridine                                               0.140016      0.078862   \n",
       "Urocanic acid                                         0.159485      0.089051   \n",
       "Xanthine                                              0.084930      0.376139   \n",
       "\n",
       "SampleID                                            ZOZOW1T-1015  ...  \\\n",
       "1,2,3-benzenetriol sulfate                              0.278113  ...   \n",
       "2,3-Dihydroxyvaleric acid(1)                            0.379416  ...   \n",
       "2,3-Dihydroxyvaleric acid(2)                            0.890928  ...   \n",
       "5alpha-Androstan-3alpha,17alpha-diol monosulfat...      0.139659  ...   \n",
       "5alpha-Androstan-3alpha,17alpha-diol monosulfat...      0.000336  ...   \n",
       "...                                                          ...  ...   \n",
       "Uracil                                                  0.271927  ...   \n",
       "Uric acid                                               0.381813  ...   \n",
       "Uridine                                                 0.097024  ...   \n",
       "Urocanic acid                                           0.241005  ...   \n",
       "Xanthine                                                0.380179  ...   \n",
       "\n",
       "SampleID                                            ZOZOW1T-75  ZOZOW1T-76  \\\n",
       "1,2,3-benzenetriol sulfate                            0.154870    0.190376   \n",
       "2,3-Dihydroxyvaleric acid(1)                          0.098410    0.444457   \n",
       "2,3-Dihydroxyvaleric acid(2)                          0.450898    0.402866   \n",
       "5alpha-Androstan-3alpha,17alpha-diol monosulfat...    0.170573    0.179936   \n",
       "5alpha-Androstan-3alpha,17alpha-diol monosulfat...    0.000723    0.003046   \n",
       "...                                                        ...         ...   \n",
       "Uracil                                                0.415084    0.399155   \n",
       "Uric acid                                             0.544099    0.481049   \n",
       "Uridine                                               0.137144    0.074175   \n",
       "Urocanic acid                                         0.863361    0.366576   \n",
       "Xanthine                                              0.635831    0.719977   \n",
       "\n",
       "SampleID                                            ZOZOW1T-77    ZOZOW1T-78  \\\n",
       "1,2,3-benzenetriol sulfate                            0.226325  1.000000e+00   \n",
       "2,3-Dihydroxyvaleric acid(1)                          0.045888  7.504117e-02   \n",
       "2,3-Dihydroxyvaleric acid(2)                          0.622244  6.331755e-01   \n",
       "5alpha-Androstan-3alpha,17alpha-diol monosulfat...    0.106524  2.023655e-01   \n",
       "5alpha-Androstan-3alpha,17alpha-diol monosulfat...    0.000983  6.171247e-09   \n",
       "...                                                        ...           ...   \n",
       "Uracil                                                0.319557  3.467297e-01   \n",
       "Uric acid                                             0.407863  7.557823e-01   \n",
       "Uridine                                               0.091115  1.197459e-01   \n",
       "Urocanic acid                                         0.179643  1.955244e-01   \n",
       "Xanthine                                              0.739843  5.981493e-01   \n",
       "\n",
       "SampleID                                            ZOZOW1T-79    ZOZOW1T-80  \\\n",
       "1,2,3-benzenetriol sulfate                            0.115588  1.570828e-01   \n",
       "2,3-Dihydroxyvaleric acid(1)                          0.027986  1.000000e+00   \n",
       "2,3-Dihydroxyvaleric acid(2)                          0.336002  4.731413e-01   \n",
       "5alpha-Androstan-3alpha,17alpha-diol monosulfat...    0.135682  1.306462e-01   \n",
       "5alpha-Androstan-3alpha,17alpha-diol monosulfat...    0.000012  6.254534e-08   \n",
       "...                                                        ...           ...   \n",
       "Uracil                                                0.391462  5.133750e-01   \n",
       "Uric acid                                             0.396189  5.747114e-01   \n",
       "Uridine                                               0.086226  1.132768e-01   \n",
       "Urocanic acid                                         0.187973  1.000000e+00   \n",
       "Xanthine                                              1.000000  5.682314e-01   \n",
       "\n",
       "SampleID                                            ZOZOW1T-82  ZOZOW1T-83  \\\n",
       "1,2,3-benzenetriol sulfate                            0.096597    0.231380   \n",
       "2,3-Dihydroxyvaleric acid(1)                          0.051991    0.964917   \n",
       "2,3-Dihydroxyvaleric acid(2)                          0.284218    0.573547   \n",
       "5alpha-Androstan-3alpha,17alpha-diol monosulfat...    0.381228    0.280141   \n",
       "5alpha-Androstan-3alpha,17alpha-diol monosulfat...    0.005016    0.006055   \n",
       "...                                                        ...         ...   \n",
       "Uracil                                                0.887254    0.498610   \n",
       "Uric acid                                             0.515234    0.306758   \n",
       "Uridine                                               0.062096    0.058280   \n",
       "Urocanic acid                                         0.284411    0.449148   \n",
       "Xanthine                                              0.561024    0.384067   \n",
       "\n",
       "SampleID                                            ZOZOW1T-84  ZOZOW1T-86  \n",
       "1,2,3-benzenetriol sulfate                            0.246607    0.268925  \n",
       "2,3-Dihydroxyvaleric acid(1)                          0.225544    0.012242  \n",
       "2,3-Dihydroxyvaleric acid(2)                          0.754358    0.990995  \n",
       "5alpha-Androstan-3alpha,17alpha-diol monosulfat...    0.170203    0.107740  \n",
       "5alpha-Androstan-3alpha,17alpha-diol monosulfat...    0.001473    0.000523  \n",
       "...                                                        ...         ...  \n",
       "Uracil                                                0.289432    0.310998  \n",
       "Uric acid                                             0.379974    0.401339  \n",
       "Uridine                                               0.121035    0.082222  \n",
       "Urocanic acid                                         0.251174    0.192032  \n",
       "Xanthine                                              0.368882    0.410719  \n",
       "\n",
       "[724 rows x 114 columns]"
      ]
     },
     "execution_count": 8,
     "metadata": {},
     "output_type": "execute_result"
    }
   ],
   "source": [
    "relativeAbundance"
   ]
  },
  {
   "cell_type": "code",
   "execution_count": 9,
   "metadata": {
    "id": "1rlUXZ7pZUSo"
   },
   "outputs": [
    {
     "data": {
      "image/png": "[encoded data removed]",
      "text/plain": [
       "<Figure size 640x480 with 2 Axes>"
      ]
     },
     "execution_count": 9,
     "metadata": {},
     "output_type": "execute_result"
    },
    {
     "data": {
      "image/png": "[encoded data removed]",
      "text/plain": [
       "<Figure size 640x480 with 2 Axes>"
      ]
     },
     "metadata": {},
     "output_type": "display_data"
    }
   ],
   "source": [
    "import seaborn as sns\n",
    "\n",
    "df = relativeAbundance.iloc[0:20, 0:5]\n",
    "ax = sns.heatmap(df, vmin=0, vmax=1)\n",
    "ax.figure"
   ]
  },
  {
   "cell_type": "markdown",
   "metadata": {
    "id": "4UPc6hIQSexm"
   },
   "source": [
    "---"
   ]
  },
  {
   "cell_type": "markdown",
   "metadata": {
    "id": "D8ru-JkaShVZ"
   },
   "source": [
    "## Contributions & acknowledgement\n",
    "\n",
    "- **Module Content:** Ryan Park\n",
    "- **Engineering:** Amit Dixit\n",
    "- **UX/UI Design & Illustration:** Kexin Cha\n",
    "- **Video Production:** Francesca Goncalves\n",
    "- **Project Management:** Amir Bahmani, Kexin Cha"
   ]
  },
  {
   "cell_type": "markdown",
   "metadata": {
    "id": "gsre_6DrSkSs"
   },
   "source": [
    "---"
   ]
  },
  {
   "cell_type": "markdown",
   "metadata": {
    "id": "S1dK5uAdSwlo"
   },
   "source": [
    "Copyright (c) 2022 Stanford Data Ocean (SDO)\n",
    "\n",
    "All rights reserved."
   ]
  }
 ],
 "metadata": {
  "colab": {
   "provenance": [
    {
     "file_id": "1f3sdZp_pdMe1KfzXLeRBlDw4KHlcxL2l",
     "timestamp": 1661883070508
    }
   ]
  },
  "kernelspec": {
   "display_name": "Python 3 (ipykernel)",
   "language": "python",
   "name": "python3"
  },
  "language_info": {
   "codemirror_mode": {
    "name": "ipython",
    "version": 3
   },
   "file_extension": ".py",
   "mimetype": "text/x-python",
   "name": "python",
   "nbconvert_exporter": "python",
   "pygments_lexer": "ipython3",
   "version": "3.10.9"
  }
 },
 "nbformat": 4,
 "nbformat_minor": 1
}
