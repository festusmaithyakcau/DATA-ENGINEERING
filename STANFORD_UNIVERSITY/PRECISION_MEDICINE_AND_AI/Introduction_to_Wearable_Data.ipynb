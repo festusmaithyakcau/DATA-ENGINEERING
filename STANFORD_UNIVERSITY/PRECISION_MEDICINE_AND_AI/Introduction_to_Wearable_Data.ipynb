{
 "cells": [
  {
   "cell_type": "markdown",
   "metadata": {
    "id": "n5in7y2roYMr"
   },
   "source": [
    "<img src=\"materials/images/introduction-to-wearable-data-cover.png\"/>"
   ]
  },
  {
   "cell_type": "markdown",
   "metadata": {
    "id": "oWSUmHzB2OZa"
   },
   "source": [
    "# Introduction to wearable data"
   ]
  },
  {
   "cell_type": "markdown",
   "metadata": {
    "id": "ZMCoThO3FcnC"
   },
   "source": [
    "It becomes increasingly common to see people wear continuous glucose monitoring device, ECG monitors, wearable blood pressure monitors, or smartwatches daily to track health or physical performance. With smartwatches alone, there are about 202.6 million people purchased smartwatches in 2021 globally. The number is expected to increase by approximately 14% in 5 years. \n",
    "\n",
    "Smartwatches are popular among consumers becuase it provides a portable and non-invasive way for continuously measuring a range of biometric data. Most smartwatches in the consumer market provides readings in heartrate, sleep, and step, but there are several other important biometrics can be collected by wearable technology. Here are two additional data types you will encounter frequently if you work with wearable data:\n",
    "\n",
    "\n"
   ]
  },
  {
   "cell_type": "markdown",
   "metadata": {
    "id": "hvskJ00LHvCK"
   },
   "source": [
    "#### 1. **Heart rate variability (HRV)**: the variance in time between every heartbeat"
   ]
  },
  {
   "cell_type": "markdown",
   "metadata": {
    "id": "EmQJxicGoYMx"
   },
   "source": [
    "<img src=\"materials/images/heart-rate-variability.png\"/>"
   ]
  },
  {
   "cell_type": "markdown",
   "metadata": {
    "id": "phqjnHh8bkOo"
   },
   "source": [
    "Unconscious tasks such as HRV, heartbeat and breathing are controlled by a network of nerves called the Autonomic Nervous System (ANS). When your body is stressed, ANS goes to the fight mode and makes the heart beat faster and shortens the intervals between heart beats, this gives the muscles more oxygen to fight the emergency. "
   ]
  },
  {
   "cell_type": "markdown",
   "metadata": {
    "id": "kcO0zfP4JWG5"
   },
   "source": [
    "#### 2. **Oxygen saturation (SpO2)**: a measurement of how much oxygen your blood is carrying as a percentage of the maximum it could carry. \n",
    "\n"
   ]
  },
  {
   "cell_type": "markdown",
   "metadata": {
    "id": "FqxSBo6ybvUo"
   },
   "source": [
    "For example, assuming you have 100 blood cells, and 95 of them are carrying oxygen, then your SpO2 is 95%. "
   ]
  },
  {
   "cell_type": "markdown",
   "metadata": {
    "id": "IhD7sgR2oYMy"
   },
   "source": [
    "<img src=\"materials/images/low-air-pressure-in-high-altitude.png\"/>"
   ]
  },
  {
   "cell_type": "markdown",
   "metadata": {
    "id": "ok6BT-Vm9x4W"
   },
   "source": [
    "Air pressure is low in high altitudes. If the cabin pressure of an aircraft at 40,000 feet is the same as outside, then passengers would die! To fix this problem, aircrafts carry oxygen tanks and typically set the air pressure at 75% of what we have on the ground. If they want to keep it at the same air pressure level, then we need more oxygen, which would make the aircraft heavier. Heavier aircraft means more fuel consumption, and essentially more expensive tickets.  \n",
    "\n",
    "As it is shown in the graph, the blood oxygen level drops during the cruising altitude. If you feel sick next time you are flying (e.g., headaches and nausea), it could be a result of lower air pressure."
   ]
  },
  {
   "cell_type": "markdown",
   "metadata": {
    "id": "uHjJop3_oYMz"
   },
   "source": [
    "<img src=\"materials/images/spo2-air-travel.png\"/>"
   ]
  },
  {
   "cell_type": "markdown",
   "metadata": {
    "id": "ZyaC0UQ4FLxc"
   },
   "source": [
    "In this module, you will be using data from a study published on Nature Biomedical Engineering in 2020. The study aims to understand if data collected from wearable devices (eg Fitbit, Apple Watch, Oura Ring, Garmin and others) can be used to predict the onset of an infectious disease such as COVID-19 before the symptoms start. \n",
    "\n",
    "`✍️ This notebook is written using Python.`"
   ]
  },
  {
   "cell_type": "markdown",
   "metadata": {
    "id": "jrXYXcJcFLxc"
   },
   "source": [
    "---"
   ]
  },
  {
   "cell_type": "markdown",
   "metadata": {
    "id": "AdBQAj4MFLxd"
   },
   "source": [
    "**Referenced research**\n",
    "\n",
    "• Mishra, T., Wang, M., Metwally, A.A. et al. Pre-symptomatic detection of COVID-19 from smartwatch data. Nat Biomed Eng 4, 1208–1220 (2020). https://doi.org/10.1038/s41551-020-00640-6"
   ]
  },
  {
   "cell_type": "markdown",
   "metadata": {
    "id": "n9YGrQ6VFLxd"
   },
   "source": [
    "---"
   ]
  },
  {
   "cell_type": "markdown",
   "metadata": {
    "id": "E5eaiFxhFLxe"
   },
   "source": [
    "\n",
    "# 1. Get started with tables\n",
    "\n",
    "\n",
    "You can experiment with 4 types of data collected from the study participants. \n",
    "\n",
    "1. Heart rate per minute\n",
    "2. Heart rate per hour\n",
    "3. Steps per minute\n",
    "4. Steps per hour\n",
    "\n",
    "\n",
    "Each data type above is organized in a table below, and each table is written as a list in Python: \n",
    "\n",
    "• Let's say 'a','b','c' are data in the \"heart rate per minute\" table. \n",
    "\n",
    "• Data in this table is organized in a list ['a', 'b', 'c',...] in Python.\n",
    "\n",
    "• Data in each table is expressed in this structure: {datatype}{resolution}{participant ID}. For example, 'hr_minute_a65hvgp' in the \"heart rate per minute\" table stands for \"heart rate per minute for participant ID a65hvgp\".\n",
    "\n",
    "\n",
    "Randomly pick a few data from below, and see if you can understand what it means by referencing this structure: {datatype}{resolution}{participant ID}."
   ]
  },
  {
   "cell_type": "code",
   "execution_count": 1,
   "metadata": {
    "id": "kPM9G7CHFLxe"
   },
   "outputs": [],
   "source": [
    "# 1. Heartrate per minute data:   \n",
    "#['hr_minute_a65hvgp', 'hr_minute_a6bui4n', 'hr_minute_a6gebik', 'hr_minute_a7eawa7', 'hr_minute_a7em0b6', 'hr_minute_a8cbejz', 'hr_minute_a8qlab0', 'hr_minute_a91hezv', 'hr_minute_a99zkkw', 'hr_minute_a9zg5gr', 'hr_minute_aa2kp1s', 'hr_minute_aaf9ace', 'hr_minute_aagtwzk', 'hr_minute_aaxaa7z', 'hr_minute_ad77k91', 'hr_minute_ae0mq94', 'hr_minute_ae2b3rh', 'hr_minute_aeobcfj', 'hr_minute_aeohh30', 'hr_minute_aezdkvo', 'hr_minute_af3j1yc', 'hr_minute_af3mxm1', 'hr_minute_af8r0i6', 'hr_minute_afefa29', 'hr_minute_afhohom', 'hr_minute_afpb8j2', 'hr_minute_afvaec7', 'hr_minute_afylhg4', 'hr_minute_aga8xun', 'hr_minute_agki03n', 'hr_minute_agyqjel', 'hr_minute_ahp25oj', 'hr_minute_ahyijdv', 'hr_minute_ahyr55c', 'hr_minute_aifdjzb', 'hr_minute_aj0dkq3', 'hr_minute_aj7tsv9', 'hr_minute_ajmquvv', 'hr_minute_ajww3iy', 'hr_minute_ak7yrbu', 'hr_minute_aktgd8x', 'hr_minute_akv66us', 'hr_minute_akxn5zz', 'hr_minute_al48gp3', 'hr_minute_alkaxmz', 'hr_minute_alzdavz', 'hr_minute_amquhoq', 'hr_minute_amv7eqf', 'hr_minute_ao20ds4', 'hr_minute_aob9son', 'hr_minute_aogfrxl', 'hr_minute_aoqa85x', 'hr_minute_aos4bsj', 'hr_minute_aoym4kg', 'hr_minute_apdj1qp', 'hr_minute_apgib2t', 'hr_minute_aphnrsv', 'hr_minute_aq25y0l', 'hr_minute_aq4tmlv', 'hr_minute_aqc0l71', 'hr_minute_aqr8zss', 'hr_minute_ar4fpcc', 'hr_minute_arfylmk', 'hr_minute_arr2ike', 'hr_minute_aryb2qo', 'hr_minute_as2mvdl', 'hr_minute_asfodqr', 'hr_minute_athbfwx', 'hr_minute_athkm6v', 'hr_minute_att9rr1', 'hr_minute_aucguf3', 'hr_minute_auilkhg', 'hr_minute_aurctak', 'hr_minute_auy8kyw', 'hr_minute_av2gf3b', 'hr_minute_aw4exxk', 'hr_minute_awa2kjk', 'hr_minute_awrbuqz', 'hr_minute_ax3kew9', 'hr_minute_ax6281v', 'hr_minute_axco7i9', 'hr_minute_axd3w8o', 'hr_minute_axdwdea', 'hr_minute_axi1pbs', 'hr_minute_ay8tpmp', 'hr_minute_ayefcwq', 'hr_minute_ayvquf1', 'hr_minute_aywiekr', 'hr_minute_az2ryw7', 'hr_minute_az35pi5', 'hr_minute_azik4za', 'hr_minute_azkz0ai'] \n",
    "\n",
    "# 2. Heartrate per hour data:   \n",
    "#['hr_hour_a65hvgp', 'hr_hour_a6bui4n', 'hr_hour_a6gebik', 'hr_hour_a7eawa7', 'hr_hour_a7em0b6', 'hr_hour_a8cbejz', 'hr_hour_a8qlab0', 'hr_hour_a91hezv', 'hr_hour_a99zkkw', 'hr_hour_a9zg5gr', 'hr_hour_aa2kp1s', 'hr_hour_aaf9ace', 'hr_hour_aagtwzk', 'hr_hour_aaxaa7z', 'hr_hour_ad77k91', 'hr_hour_ae0mq94', 'hr_hour_ae2b3rh', 'hr_hour_aeobcfj', 'hr_hour_aeohh30', 'hr_hour_aezdkvo', 'hr_hour_af3j1yc', 'hr_hour_af3mxm1', 'hr_hour_af8r0i6', 'hr_hour_afefa29', 'hr_hour_afhohom', 'hr_hour_afpb8j2', 'hr_hour_afvaec7', 'hr_hour_afylhg4', 'hr_hour_aga8xun', 'hr_hour_agki03n', 'hr_hour_agyqjel', 'hr_hour_ahp25oj', 'hr_hour_ahyijdv', 'hr_hour_ahyr55c', 'hr_hour_aifdjzb', 'hr_hour_aj0dkq3', 'hr_hour_aj7tsv9', 'hr_hour_ajmquvv', 'hr_hour_ajww3iy', 'hr_hour_ak7yrbu', 'hr_hour_aktgd8x', 'hr_hour_akv66us', 'hr_hour_akxn5zz', 'hr_hour_al48gp3', 'hr_hour_alkaxmz', 'hr_hour_alzdavz', 'hr_hour_amquhoq', 'hr_hour_amv7eqf', 'hr_hour_ao20ds4', 'hr_hour_aob9son', 'hr_hour_aogfrxl', 'hr_hour_aoqa85x', 'hr_hour_aos4bsj', 'hr_hour_aoym4kg', 'hr_hour_apdj1qp', 'hr_hour_apgib2t', 'hr_hour_aphnrsv', 'hr_hour_aq25y0l', 'hr_hour_aq4tmlv', 'hr_hour_aqc0l71', 'hr_hour_aqr8zss', 'hr_hour_ar4fpcc', 'hr_hour_arfylmk', 'hr_hour_arr2ike', 'hr_hour_aryb2qo', 'hr_hour_as2mvdl', 'hr_hour_asfodqr', 'hr_hour_athbfwx', 'hr_hour_athkm6v', 'hr_hour_att9rr1', 'hr_hour_aucguf3', 'hr_hour_auilkhg', 'hr_hour_aurctak', 'hr_hour_auy8kyw', 'hr_hour_av2gf3b', 'hr_hour_aw4exxk', 'hr_hour_awa2kjk', 'hr_hour_awrbuqz', 'hr_hour_ax3kew9', 'hr_hour_ax6281v', 'hr_hour_axco7i9', 'hr_hour_axd3w8o', 'hr_hour_axdwdea', 'hr_hour_axi1pbs', 'hr_hour_ay8tpmp', 'hr_hour_ayefcwq', 'hr_hour_ayvquf1', 'hr_hour_aywiekr', 'hr_hour_az2ryw7', 'hr_hour_az35pi5', 'hr_hour_azik4za', 'hr_hour_azkz0ai'] \n",
    "\n",
    "# 3. Steps per minute data:\n",
    "#['steps_minute_a4e0d03', 'steps_minute_a4g0044', 'steps_minute_a4h7snf', 'steps_minute_a5xl2ic', 'steps_minute_a65hvgp', 'steps_minute_a6bui4n', 'steps_minute_a6gebik', 'steps_minute_a7eawa7', 'steps_minute_a7em0b6', 'steps_minute_a8cbejz', 'steps_minute_a8qlab0', 'steps_minute_a91hezv', 'steps_minute_a99zkkw', 'steps_minute_a9zg5gr', 'steps_minute_aa2kp1s', 'steps_minute_aaf9ace', 'steps_minute_aagtwzk', 'steps_minute_aaxaa7z', 'steps_minute_ad77k91', 'steps_minute_ae0mq94', 'steps_minute_ae2b3rh', 'steps_minute_aeobcfj', 'steps_minute_aeohh30', 'steps_minute_aezdkvo', 'steps_minute_af3j1yc', 'steps_minute_af3mxm1', 'steps_minute_af8r0i6', 'steps_minute_afefa29', 'steps_minute_afhohom', 'steps_minute_afpb8j2', 'steps_minute_afvaec7', 'steps_minute_afylhg4', 'steps_minute_aga8xun', 'steps_minute_agki03n', 'steps_minute_agyqjel', 'steps_minute_ahp25oj', 'steps_minute_ahyijdv', 'steps_minute_ahyr55c', 'steps_minute_aifdjzb', 'steps_minute_aj0dkq3', 'steps_minute_aj7tsv9', 'steps_minute_ajmquvv', 'steps_minute_ajww3iy', 'steps_minute_ak7yrbu', 'steps_minute_aktgd8x', 'steps_minute_akv66us', 'steps_minute_akxn5zz', 'steps_minute_al3kt5b', 'steps_minute_al48gp3', 'steps_minute_alkaxmz', 'steps_minute_alzdavz', 'steps_minute_amquhoq', 'steps_minute_amv7eqf', 'steps_minute_ao20ds4', 'steps_minute_aob9son', 'steps_minute_aogfrxl', 'steps_minute_aoqa85x', 'steps_minute_aos4bsj', 'steps_minute_aoym4kg', 'steps_minute_apdj1qp', 'steps_minute_apgib2t', 'steps_minute_aphnrsv', 'steps_minute_aq25y0l', 'steps_minute_aq4tmlv', 'steps_minute_aqc0l71', 'steps_minute_aqr8zss', 'steps_minute_ar4fpcc', 'steps_minute_arfylmk', 'steps_minute_arr2ike', 'steps_minute_aryb2qo', 'steps_minute_as2mvdl', 'steps_minute_asfodqr', 'steps_minute_athbfwx', 'steps_minute_athkm6v', 'steps_minute_att9rr1', 'steps_minute_aucguf3', 'steps_minute_auilkhg', 'steps_minute_aurctak', 'steps_minute_auy8kyw', 'steps_minute_av2gf3b', 'steps_minute_aw4exxk', 'steps_minute_awa2kjk', 'steps_minute_awrbuqz', 'steps_minute_ax3kew9', 'steps_minute_ax6281v', 'steps_minute_axco7i9', 'steps_minute_axd3w8o', 'steps_minute_axdwdea', 'steps_minute_axi1pbs', 'steps_minute_ay8tpmp', 'steps_minute_ayefcwq', 'steps_minute_ayvquf1', 'steps_minute_aywiekr', 'steps_minute_az2ryw7', 'steps_minute_az35pi5', 'steps_minute_azik4za', 'steps_minute_azkz0ai']\n",
    "\n",
    "# 4. Steps per hour data:         \n",
    "#['steps_hour_a4e0d03', 'steps_hour_a4g0044', 'steps_hour_a4h7snf', 'steps_hour_a5xl2ic', 'steps_hour_a65hvgp', 'steps_hour_a6bui4n', 'steps_hour_a6gebik', 'steps_hour_a7eawa7', 'steps_hour_a7em0b6', 'steps_hour_a8cbejz', 'steps_hour_a8qlab0', 'steps_hour_a91hezv', 'steps_hour_a99zkkw', 'steps_hour_a9zg5gr', 'steps_hour_aa2kp1s', 'steps_hour_aaf9ace', 'steps_hour_aagtwzk', 'steps_hour_aaxaa7z', 'steps_hour_ad77k91', 'steps_hour_ae0mq94', 'steps_hour_ae2b3rh', 'steps_hour_aeobcfj', 'steps_hour_aeohh30', 'steps_hour_aezdkvo', 'steps_hour_af3j1yc', 'steps_hour_af3mxm1', 'steps_hour_af8r0i6', 'steps_hour_afefa29', 'steps_hour_afhohom', 'steps_hour_afpb8j2', 'steps_hour_afvaec7', 'steps_hour_afylhg4', 'steps_hour_aga8xun', 'steps_hour_agki03n', 'steps_hour_agyqjel', 'steps_hour_ahp25oj', 'steps_hour_ahyijdv', 'steps_hour_ahyr55c', 'steps_hour_aifdjzb', 'steps_hour_aj0dkq3', 'steps_hour_aj7tsv9', 'steps_hour_ajmquvv', 'steps_hour_ajww3iy', 'steps_hour_ak7yrbu', 'steps_hour_aktgd8x', 'steps_hour_akv66us', 'steps_hour_akxn5zz', 'steps_hour_al3kt5b', 'steps_hour_al48gp3', 'steps_hour_alkaxmz', 'steps_hour_alzdavz', 'steps_hour_amquhoq', 'steps_hour_amv7eqf', 'steps_hour_ao20ds4', 'steps_hour_aob9son', 'steps_hour_aogfrxl', 'steps_hour_aoqa85x', 'steps_hour_aos4bsj', 'steps_hour_aoym4kg', 'steps_hour_apdj1qp', 'steps_hour_apgib2t', 'steps_hour_aphnrsv', 'steps_hour_aq25y0l', 'steps_hour_aq4tmlv', 'steps_hour_aqc0l71', 'steps_hour_aqr8zss', 'steps_hour_ar4fpcc', 'steps_hour_arfylmk', 'steps_hour_arr2ike', 'steps_hour_aryb2qo', 'steps_hour_as2mvdl', 'steps_hour_asfodqr', 'steps_hour_athbfwx', 'steps_hour_athkm6v', 'steps_hour_att9rr1', 'steps_hour_aucguf3', 'steps_hour_auilkhg', 'steps_hour_aurctak', 'steps_hour_auy8kyw', 'steps_hour_av2gf3b', 'steps_hour_aw4exxk', 'steps_hour_awa2kjk', 'steps_hour_awrbuqz', 'steps_hour_ax3kew9', 'steps_hour_ax6281v', 'steps_hour_axco7i9', 'steps_hour_axd3w8o', 'steps_hour_axdwdea', 'steps_hour_axi1pbs', 'steps_hour_ay8tpmp', 'steps_hour_ayefcwq', 'steps_hour_ayvquf1', 'steps_hour_aywiekr', 'steps_hour_az2ryw7', 'steps_hour_az35pi5', 'steps_hour_azik4za', 'steps_hour_azkz0ai']\n"
   ]
  },
  {
   "cell_type": "markdown",
   "metadata": {
    "id": "Y-_J0p6PFLxh"
   },
   "source": [
    "\n",
    "Next, let's take a look at what data in each table looks like:"
   ]
  },
  {
   "cell_type": "markdown",
   "metadata": {
    "id": "OUIRYnQZoYM3"
   },
   "source": [
    "<img src=\"materials/images/schema.png\"/>"
   ]
  },
  {
   "cell_type": "markdown",
   "metadata": {
    "id": "gpzOoPV8FLxh"
   },
   "source": [
    "---"
   ]
  },
  {
   "cell_type": "markdown",
   "metadata": {
    "id": "374zmTR02nmC"
   },
   "source": [
    "# 2. Understand a simple query"
   ]
  },
  {
   "cell_type": "markdown",
   "metadata": {
    "id": "eG_LEJ2j2lZz"
   },
   "source": [
    "It's usually helpful to picture the data before performing any analysis, so we are going to import the database as the first step, and then view the first ten rows. \n",
    "\n",
    "We'll use the PyAthena library to get access to a database stored in AWS (Amazon Web Services). You can read more about PyAthena here:\n",
    "\n",
    "• https://pypi.org/project/pyathena/\n",
    "\n",
    "• https://aws.amazon.com/athena/?whats-new-cards.sort-by=item.additionalFields.postDateTime&whats-new-cards.sort-order=desc"
   ]
  },
  {
   "cell_type": "code",
   "execution_count": 2,
   "metadata": {
    "id": "mA1LDhCI2fFa"
   },
   "outputs": [
    {
     "name": "stderr",
     "output_type": "stream",
     "text": [
      "/tmp/ipykernel_261/4227962965.py:6: UserWarning: pandas only supports SQLAlchemy connectable (engine/connection) or database string URI or sqlite3 DBAPI2 connection. Other DBAPI2 objects are not tested. Please consider using SQLAlchemy.\n",
      "  pd.read_sql(\"SELECT * FROM sid_00000.hr_minute_a6bui4n  WHERE year='2022' and device='fitbit' LIMIT 10\", conn).head(10)\n"
     ]
    },
    {
     "data": {
      "text/html": [
       "<div>\n",
       "<style scoped>\n",
       "    .dataframe tbody tr th:only-of-type {\n",
       "        vertical-align: middle;\n",
       "    }\n",
       "\n",
       "    .dataframe tbody tr th {\n",
       "        vertical-align: top;\n",
       "    }\n",
       "\n",
       "    .dataframe thead th {\n",
       "        text-align: right;\n",
       "    }\n",
       "</style>\n",
       "<table border=\"1\" class=\"dataframe\">\n",
       "  <thead>\n",
       "    <tr style=\"text-align: right;\">\n",
       "      <th></th>\n",
       "      <th>datetime</th>\n",
       "      <th>heartrate</th>\n",
       "      <th>sid</th>\n",
       "      <th>pid</th>\n",
       "      <th>device</th>\n",
       "      <th>year</th>\n",
       "      <th>month</th>\n",
       "      <th>day</th>\n",
       "    </tr>\n",
       "  </thead>\n",
       "  <tbody>\n",
       "    <tr>\n",
       "      <th>0</th>\n",
       "      <td>00:15:48</td>\n",
       "      <td>70.000000</td>\n",
       "      <td>00000</td>\n",
       "      <td>aw4exxk</td>\n",
       "      <td>fitbit</td>\n",
       "      <td>2022</td>\n",
       "      <td>11</td>\n",
       "      <td>28</td>\n",
       "    </tr>\n",
       "    <tr>\n",
       "      <th>1</th>\n",
       "      <td>08:30:00</td>\n",
       "      <td>70.000000</td>\n",
       "      <td>00000</td>\n",
       "      <td>aw4exxk</td>\n",
       "      <td>fitbit</td>\n",
       "      <td>2022</td>\n",
       "      <td>11</td>\n",
       "      <td>28</td>\n",
       "    </tr>\n",
       "    <tr>\n",
       "      <th>2</th>\n",
       "      <td>08:39:02</td>\n",
       "      <td>70.000000</td>\n",
       "      <td>00000</td>\n",
       "      <td>aw4exxk</td>\n",
       "      <td>fitbit</td>\n",
       "      <td>2022</td>\n",
       "      <td>11</td>\n",
       "      <td>28</td>\n",
       "    </tr>\n",
       "    <tr>\n",
       "      <th>3</th>\n",
       "      <td>10:10:53</td>\n",
       "      <td>70.000000</td>\n",
       "      <td>00000</td>\n",
       "      <td>aw4exxk</td>\n",
       "      <td>fitbit</td>\n",
       "      <td>2022</td>\n",
       "      <td>12</td>\n",
       "      <td>21</td>\n",
       "    </tr>\n",
       "    <tr>\n",
       "      <th>4</th>\n",
       "      <td>10:11:03</td>\n",
       "      <td>95.333333</td>\n",
       "      <td>00000</td>\n",
       "      <td>aw4exxk</td>\n",
       "      <td>fitbit</td>\n",
       "      <td>2022</td>\n",
       "      <td>12</td>\n",
       "      <td>21</td>\n",
       "    </tr>\n",
       "    <tr>\n",
       "      <th>5</th>\n",
       "      <td>10:12:13</td>\n",
       "      <td>73.200000</td>\n",
       "      <td>00000</td>\n",
       "      <td>aw4exxk</td>\n",
       "      <td>fitbit</td>\n",
       "      <td>2022</td>\n",
       "      <td>12</td>\n",
       "      <td>21</td>\n",
       "    </tr>\n",
       "    <tr>\n",
       "      <th>6</th>\n",
       "      <td>10:17:05</td>\n",
       "      <td>99.666667</td>\n",
       "      <td>00000</td>\n",
       "      <td>aw4exxk</td>\n",
       "      <td>fitbit</td>\n",
       "      <td>2022</td>\n",
       "      <td>12</td>\n",
       "      <td>21</td>\n",
       "    </tr>\n",
       "    <tr>\n",
       "      <th>7</th>\n",
       "      <td>10:18:02</td>\n",
       "      <td>106.571429</td>\n",
       "      <td>00000</td>\n",
       "      <td>aw4exxk</td>\n",
       "      <td>fitbit</td>\n",
       "      <td>2022</td>\n",
       "      <td>12</td>\n",
       "      <td>21</td>\n",
       "    </tr>\n",
       "    <tr>\n",
       "      <th>8</th>\n",
       "      <td>10:19:07</td>\n",
       "      <td>96.000000</td>\n",
       "      <td>00000</td>\n",
       "      <td>aw4exxk</td>\n",
       "      <td>fitbit</td>\n",
       "      <td>2022</td>\n",
       "      <td>12</td>\n",
       "      <td>21</td>\n",
       "    </tr>\n",
       "    <tr>\n",
       "      <th>9</th>\n",
       "      <td>10:13:13</td>\n",
       "      <td>69.400000</td>\n",
       "      <td>00000</td>\n",
       "      <td>aw4exxk</td>\n",
       "      <td>fitbit</td>\n",
       "      <td>2022</td>\n",
       "      <td>12</td>\n",
       "      <td>21</td>\n",
       "    </tr>\n",
       "  </tbody>\n",
       "</table>\n",
       "</div>"
      ],
      "text/plain": [
       "   datetime   heartrate    sid      pid  device  year month day\n",
       "0  00:15:48   70.000000  00000  aw4exxk  fitbit  2022    11  28\n",
       "1  08:30:00   70.000000  00000  aw4exxk  fitbit  2022    11  28\n",
       "2  08:39:02   70.000000  00000  aw4exxk  fitbit  2022    11  28\n",
       "3  10:10:53   70.000000  00000  aw4exxk  fitbit  2022    12  21\n",
       "4  10:11:03   95.333333  00000  aw4exxk  fitbit  2022    12  21\n",
       "5  10:12:13   73.200000  00000  aw4exxk  fitbit  2022    12  21\n",
       "6  10:17:05   99.666667  00000  aw4exxk  fitbit  2022    12  21\n",
       "7  10:18:02  106.571429  00000  aw4exxk  fitbit  2022    12  21\n",
       "8  10:19:07   96.000000  00000  aw4exxk  fitbit  2022    12  21\n",
       "9  10:13:13   69.400000  00000  aw4exxk  fitbit  2022    12  21"
      ]
     },
     "execution_count": 2,
     "metadata": {},
     "output_type": "execute_result"
    }
   ],
   "source": [
    "import pyathena\n",
    "import pandas as pd\n",
    "\n",
    "conn = pyathena.connect(s3_staging_dir=\"s3://athena-output-351869726285/\", region_name='us-east-1', encryption_option='SSE_S3')\n",
    "\n",
    "pd.read_sql(\"SELECT * FROM sid_00000.hr_minute_a6bui4n  WHERE year='2022' and device='fitbit' LIMIT 10\", conn).head(10)\n"
   ]
  },
  {
   "cell_type": "markdown",
   "metadata": {
    "id": "IeeQLjPa2rp_"
   },
   "source": [
    "A schema defines what the name of the table is, and what the name and type of each column is. The chart above looks pretty standard: \n",
    "1. Each row is a recorded heartrate per minute associated with the data and time it was recorded. \n",
    "2. The sid and pid columns are id numbers that can be used to track rows across different data tables. \n",
    "    - sid is study ID\n",
    "    - pid is study participant ID. For example, pid a6bui4n could correspond to one participant, letting us track this participant across different rows and data tables. \n"
   ]
  },
  {
   "cell_type": "markdown",
   "metadata": {
    "id": "ttz52SOkFLxl"
   },
   "source": [
    " -----"
   ]
  },
  {
   "cell_type": "markdown",
   "metadata": {
    "id": "wzglBeDboYM5"
   },
   "source": [
    "Queries are written in a language called SQL (pronounced sequel), and we can break the above SQL query into a few parts:"
   ]
  },
  {
   "cell_type": "markdown",
   "metadata": {
    "id": "ADFujPGpoYM6"
   },
   "source": [
    "<img src=\"materials/images/simple-query.png\"/>"
   ]
  },
  {
   "cell_type": "markdown",
   "metadata": {
    "id": "5l9g6LTkFLxl"
   },
   "source": [
    "1. SELECT: \n",
    "    Like the name suggests, SELECT tells SQL which data tables and columns have the data we want to find. \n",
    "    \n",
    "2. \"sid_00000.hr_minute_a6bui4n\": In this case, we are telling SQL we want heartrate per minute data of participant a6bui4n in the study with ID 00000\n",
    "\n",
    "3. WHERE: \n",
    "   - It lets the query specify conditions that the data must meet. This is the meat of the query that takes over after we specify where to look (SELECT). We now get to say what we want. \n",
    "   - In this case, we're looking for data collected from Fitbit devices in year 2022. Since this is de-identified data, we shifted the date randomly for each participant.\n",
    "   \n",
    "4. head(10):\n",
    "   We want to display 10 items from the selected table."
   ]
  },
  {
   "cell_type": "markdown",
   "metadata": {
    "id": "JmZovxWkFLxm"
   },
   "source": [
    "----"
   ]
  },
  {
   "cell_type": "markdown",
   "metadata": {
    "id": "JlIb8ZQD2u30"
   },
   "source": [
    "# 3. A data visualization example for wearable data"
   ]
  },
  {
   "cell_type": "markdown",
   "metadata": {
    "id": "sObbvRCmFLxn"
   },
   "source": [
    "## 3.1 Combine selected data into a table"
   ]
  },
  {
   "cell_type": "markdown",
   "metadata": {
    "id": "6Jge9grvFLxo"
   },
   "source": [
    "You're already familiar with libraries after seeing PyAthena. This code block is using another one called pandas. There's a lot you can do with pandas, but in this instance we're using pandas to \"query\" the dataset and find a specific set of rows that have the properites we want. \n"
   ]
  },
  {
   "cell_type": "code",
   "execution_count": 3,
   "metadata": {
    "id": "IPy1JKwE2s28"
   },
   "outputs": [
    {
     "name": "stderr",
     "output_type": "stream",
     "text": [
      "/tmp/ipykernel_261/1352324714.py:6: UserWarning: pandas only supports SQLAlchemy connectable (engine/connection) or database string URI or sqlite3 DBAPI2 connection. Other DBAPI2 objects are not tested. Please consider using SQLAlchemy.\n",
      "  df = pd.read_sql(\"SELECT A.year, A.month, cast (A.day as integer) as day, daily_average_steps, daily_average_heartrate from \"\n"
     ]
    }
   ],
   "source": [
    "import pyathena\n",
    "import pandas as pd\n",
    "\n",
    "conn = pyathena.connect(s3_staging_dir=\"s3://athena-output-351869726285/\", region_name='us-east-1', encryption_option='SSE_S3')\n",
    "\n",
    "df = pd.read_sql(\"SELECT A.year, A.month, cast (A.day as integer) as day, daily_average_steps, daily_average_heartrate from \" \n",
    "+ \" (SELECT year, month, day, AVG(steps) AS daily_average_steps FROM sid_00000.steps_minute_arfylmk WHERE year='2022' AND month='9'  GROUP BY year, month, day) as A \"\n",
    "+ \" Join (SELECT year, month, day, AVG(heartrate) AS daily_average_heartrate FROM sid_00000.hr_minute_arfylmk WHERE year='2022' AND month='9'  GROUP BY year, month, day) as B \"\n",
    "+ \" ON A.day=B.day order by day\", conn)"
   ]
  },
  {
   "cell_type": "markdown",
   "metadata": {
    "id": "7LjWhqw520qX"
   },
   "source": [
    "Let's review a concept: Queries are written in a language called SQL (pronounced sequel). Now, let's break this SQL query into a few parts.\n",
    "\n",
    "<img src=\"materials/images/sql.png\"/>\n",
    "\n",
    "1. SELECT: Like the name suggests, SELECT tells SQL which data tables and columns have the data we want to find. Select statements are structured as A.year. \"A\" is the varaible name assigned to the data table sid_00000.steps_minute_arfylmk and \"year\" is a column name in table A. \n",
    "\n",
    "\n",
    "\n",
    "2. JOIN: Join is how you compare data across tables. Just like \"A\" was assigned to one table, now \"B\" is assigned to the table sid_00000.hr_minute_arfylmk\n",
    "\n",
    "\n",
    "3. WHERE: Where lets the query specify conditions that the data must meet. This is the meat of the query that takes over after we specify where to look (SELECT) we now get to say what we want. In this case we're looking for data collected in year 2022 during September (the ninth month)\n",
    "\n",
    "\n",
    "4. ON: The two select clauses pull data from two different tables, and the ON statement specifies the condition for unifying the data. In this case, we're looking for entries (rows) taken on the same day. Why the need to get data from two different tables? Simply put, because they contain different information. Table A contains information about the participant's average heartrate per minute while we get information about average stepsper minute from table B. We can plot these values against each other. "
   ]
  },
  {
   "cell_type": "markdown",
   "metadata": {
    "id": "ixDTT4WTFLxp"
   },
   "source": [
    "---"
   ]
  },
  {
   "cell_type": "markdown",
   "metadata": {
    "id": "Nycrwl5MFLxq"
   },
   "source": [
    "## 3.2 Plot a graph with heart rate and steps data"
   ]
  },
  {
   "cell_type": "markdown",
   "metadata": {
    "id": "3Yj3YtKcFLxq"
   },
   "source": [
    "\n",
    "Next, let's plot a graph using average heart rate per minute and average steps per minute."
   ]
  },
  {
   "cell_type": "code",
   "execution_count": 4,
   "metadata": {
    "id": "sQpbo7Vj2yCp"
   },
   "outputs": [
    {
     "data": {
      "image/png": "[encoded data removed]",
      "text/plain": [
       "<Figure size 640x480 with 2 Axes>"
      ]
     },
     "metadata": {},
     "output_type": "display_data"
    },
    {
     "data": {
      "text/html": [
       "<div>\n",
       "<style scoped>\n",
       "    .dataframe tbody tr th:only-of-type {\n",
       "        vertical-align: middle;\n",
       "    }\n",
       "\n",
       "    .dataframe tbody tr th {\n",
       "        vertical-align: top;\n",
       "    }\n",
       "\n",
       "    .dataframe thead th {\n",
       "        text-align: right;\n",
       "    }\n",
       "</style>\n",
       "<table border=\"1\" class=\"dataframe\">\n",
       "  <thead>\n",
       "    <tr style=\"text-align: right;\">\n",
       "      <th></th>\n",
       "      <th>year</th>\n",
       "      <th>month</th>\n",
       "      <th>day</th>\n",
       "      <th>daily_average_steps</th>\n",
       "      <th>daily_average_heartrate</th>\n",
       "    </tr>\n",
       "  </thead>\n",
       "  <tbody>\n",
       "    <tr>\n",
       "      <th>0</th>\n",
       "      <td>2022</td>\n",
       "      <td>9</td>\n",
       "      <td>1</td>\n",
       "      <td>11.765972</td>\n",
       "      <td>80.576208</td>\n",
       "    </tr>\n",
       "    <tr>\n",
       "      <th>1</th>\n",
       "      <td>2022</td>\n",
       "      <td>9</td>\n",
       "      <td>2</td>\n",
       "      <td>12.382292</td>\n",
       "      <td>80.343092</td>\n",
       "    </tr>\n",
       "    <tr>\n",
       "      <th>2</th>\n",
       "      <td>2022</td>\n",
       "      <td>9</td>\n",
       "      <td>3</td>\n",
       "      <td>11.007639</td>\n",
       "      <td>75.941472</td>\n",
       "    </tr>\n",
       "    <tr>\n",
       "      <th>3</th>\n",
       "      <td>2022</td>\n",
       "      <td>9</td>\n",
       "      <td>4</td>\n",
       "      <td>11.159375</td>\n",
       "      <td>72.876373</td>\n",
       "    </tr>\n",
       "    <tr>\n",
       "      <th>4</th>\n",
       "      <td>2022</td>\n",
       "      <td>9</td>\n",
       "      <td>5</td>\n",
       "      <td>13.365278</td>\n",
       "      <td>77.154686</td>\n",
       "    </tr>\n",
       "    <tr>\n",
       "      <th>5</th>\n",
       "      <td>2022</td>\n",
       "      <td>9</td>\n",
       "      <td>6</td>\n",
       "      <td>13.695139</td>\n",
       "      <td>80.743533</td>\n",
       "    </tr>\n",
       "    <tr>\n",
       "      <th>6</th>\n",
       "      <td>2022</td>\n",
       "      <td>9</td>\n",
       "      <td>7</td>\n",
       "      <td>13.022917</td>\n",
       "      <td>83.404382</td>\n",
       "    </tr>\n",
       "    <tr>\n",
       "      <th>7</th>\n",
       "      <td>2022</td>\n",
       "      <td>9</td>\n",
       "      <td>8</td>\n",
       "      <td>13.973958</td>\n",
       "      <td>79.263406</td>\n",
       "    </tr>\n",
       "    <tr>\n",
       "      <th>8</th>\n",
       "      <td>2022</td>\n",
       "      <td>9</td>\n",
       "      <td>9</td>\n",
       "      <td>13.269444</td>\n",
       "      <td>78.402459</td>\n",
       "    </tr>\n",
       "    <tr>\n",
       "      <th>9</th>\n",
       "      <td>2022</td>\n",
       "      <td>9</td>\n",
       "      <td>10</td>\n",
       "      <td>9.425694</td>\n",
       "      <td>80.433812</td>\n",
       "    </tr>\n",
       "    <tr>\n",
       "      <th>10</th>\n",
       "      <td>2022</td>\n",
       "      <td>9</td>\n",
       "      <td>11</td>\n",
       "      <td>10.254861</td>\n",
       "      <td>73.606964</td>\n",
       "    </tr>\n",
       "    <tr>\n",
       "      <th>11</th>\n",
       "      <td>2022</td>\n",
       "      <td>9</td>\n",
       "      <td>12</td>\n",
       "      <td>10.026736</td>\n",
       "      <td>78.045056</td>\n",
       "    </tr>\n",
       "    <tr>\n",
       "      <th>12</th>\n",
       "      <td>2022</td>\n",
       "      <td>9</td>\n",
       "      <td>13</td>\n",
       "      <td>16.858333</td>\n",
       "      <td>82.552807</td>\n",
       "    </tr>\n",
       "    <tr>\n",
       "      <th>13</th>\n",
       "      <td>2022</td>\n",
       "      <td>9</td>\n",
       "      <td>14</td>\n",
       "      <td>13.863542</td>\n",
       "      <td>80.552628</td>\n",
       "    </tr>\n",
       "    <tr>\n",
       "      <th>14</th>\n",
       "      <td>2022</td>\n",
       "      <td>9</td>\n",
       "      <td>15</td>\n",
       "      <td>14.203125</td>\n",
       "      <td>79.910042</td>\n",
       "    </tr>\n",
       "    <tr>\n",
       "      <th>15</th>\n",
       "      <td>2022</td>\n",
       "      <td>9</td>\n",
       "      <td>16</td>\n",
       "      <td>13.662847</td>\n",
       "      <td>79.582301</td>\n",
       "    </tr>\n",
       "    <tr>\n",
       "      <th>16</th>\n",
       "      <td>2022</td>\n",
       "      <td>9</td>\n",
       "      <td>17</td>\n",
       "      <td>6.629514</td>\n",
       "      <td>74.011029</td>\n",
       "    </tr>\n",
       "    <tr>\n",
       "      <th>17</th>\n",
       "      <td>2022</td>\n",
       "      <td>9</td>\n",
       "      <td>18</td>\n",
       "      <td>11.348264</td>\n",
       "      <td>76.472607</td>\n",
       "    </tr>\n",
       "    <tr>\n",
       "      <th>18</th>\n",
       "      <td>2022</td>\n",
       "      <td>9</td>\n",
       "      <td>19</td>\n",
       "      <td>12.331250</td>\n",
       "      <td>80.093084</td>\n",
       "    </tr>\n",
       "    <tr>\n",
       "      <th>19</th>\n",
       "      <td>2022</td>\n",
       "      <td>9</td>\n",
       "      <td>20</td>\n",
       "      <td>15.283333</td>\n",
       "      <td>82.387688</td>\n",
       "    </tr>\n",
       "    <tr>\n",
       "      <th>20</th>\n",
       "      <td>2022</td>\n",
       "      <td>9</td>\n",
       "      <td>21</td>\n",
       "      <td>8.837153</td>\n",
       "      <td>76.344791</td>\n",
       "    </tr>\n",
       "    <tr>\n",
       "      <th>21</th>\n",
       "      <td>2022</td>\n",
       "      <td>9</td>\n",
       "      <td>22</td>\n",
       "      <td>9.657639</td>\n",
       "      <td>76.887711</td>\n",
       "    </tr>\n",
       "    <tr>\n",
       "      <th>22</th>\n",
       "      <td>2022</td>\n",
       "      <td>9</td>\n",
       "      <td>23</td>\n",
       "      <td>9.187500</td>\n",
       "      <td>76.333367</td>\n",
       "    </tr>\n",
       "    <tr>\n",
       "      <th>23</th>\n",
       "      <td>2022</td>\n",
       "      <td>9</td>\n",
       "      <td>24</td>\n",
       "      <td>11.511458</td>\n",
       "      <td>78.274966</td>\n",
       "    </tr>\n",
       "    <tr>\n",
       "      <th>24</th>\n",
       "      <td>2022</td>\n",
       "      <td>9</td>\n",
       "      <td>25</td>\n",
       "      <td>10.435764</td>\n",
       "      <td>73.573742</td>\n",
       "    </tr>\n",
       "    <tr>\n",
       "      <th>25</th>\n",
       "      <td>2022</td>\n",
       "      <td>9</td>\n",
       "      <td>26</td>\n",
       "      <td>9.447222</td>\n",
       "      <td>78.013991</td>\n",
       "    </tr>\n",
       "    <tr>\n",
       "      <th>26</th>\n",
       "      <td>2022</td>\n",
       "      <td>9</td>\n",
       "      <td>27</td>\n",
       "      <td>10.184028</td>\n",
       "      <td>80.659449</td>\n",
       "    </tr>\n",
       "    <tr>\n",
       "      <th>27</th>\n",
       "      <td>2022</td>\n",
       "      <td>9</td>\n",
       "      <td>28</td>\n",
       "      <td>16.118403</td>\n",
       "      <td>80.357609</td>\n",
       "    </tr>\n",
       "    <tr>\n",
       "      <th>28</th>\n",
       "      <td>2022</td>\n",
       "      <td>9</td>\n",
       "      <td>29</td>\n",
       "      <td>9.423264</td>\n",
       "      <td>77.287588</td>\n",
       "    </tr>\n",
       "    <tr>\n",
       "      <th>29</th>\n",
       "      <td>2022</td>\n",
       "      <td>9</td>\n",
       "      <td>30</td>\n",
       "      <td>13.670833</td>\n",
       "      <td>82.464865</td>\n",
       "    </tr>\n",
       "  </tbody>\n",
       "</table>\n",
       "</div>"
      ],
      "text/plain": [
       "    year month  day  daily_average_steps  daily_average_heartrate\n",
       "0   2022     9    1            11.765972                80.576208\n",
       "1   2022     9    2            12.382292                80.343092\n",
       "2   2022     9    3            11.007639                75.941472\n",
       "3   2022     9    4            11.159375                72.876373\n",
       "4   2022     9    5            13.365278                77.154686\n",
       "5   2022     9    6            13.695139                80.743533\n",
       "6   2022     9    7            13.022917                83.404382\n",
       "7   2022     9    8            13.973958                79.263406\n",
       "8   2022     9    9            13.269444                78.402459\n",
       "9   2022     9   10             9.425694                80.433812\n",
       "10  2022     9   11            10.254861                73.606964\n",
       "11  2022     9   12            10.026736                78.045056\n",
       "12  2022     9   13            16.858333                82.552807\n",
       "13  2022     9   14            13.863542                80.552628\n",
       "14  2022     9   15            14.203125                79.910042\n",
       "15  2022     9   16            13.662847                79.582301\n",
       "16  2022     9   17             6.629514                74.011029\n",
       "17  2022     9   18            11.348264                76.472607\n",
       "18  2022     9   19            12.331250                80.093084\n",
       "19  2022     9   20            15.283333                82.387688\n",
       "20  2022     9   21             8.837153                76.344791\n",
       "21  2022     9   22             9.657639                76.887711\n",
       "22  2022     9   23             9.187500                76.333367\n",
       "23  2022     9   24            11.511458                78.274966\n",
       "24  2022     9   25            10.435764                73.573742\n",
       "25  2022     9   26             9.447222                78.013991\n",
       "26  2022     9   27            10.184028                80.659449\n",
       "27  2022     9   28            16.118403                80.357609\n",
       "28  2022     9   29             9.423264                77.287588\n",
       "29  2022     9   30            13.670833                82.464865"
      ]
     },
     "execution_count": 4,
     "metadata": {},
     "output_type": "execute_result"
    }
   ],
   "source": [
    "def get_results():\n",
    "    try:\n",
    "        med=df['daily_average_heartrate'].median()\n",
    "        # Plot data\n",
    "        from matplotlib import pyplot as plt\n",
    "        # create figure and axis objects with subplots()\n",
    "        fig,ax = plt.subplots()\n",
    "        # make a plot\n",
    "        ax.plot(df.day, df.daily_average_steps, color=\"red\", marker=\"o\")\n",
    "        # set x-axis label\n",
    "        ax.set_xlabel(\"day\",fontsize=14)\n",
    "        # set y-axis label\n",
    "        ax.set_ylabel(\"Daily Average Steps per Minute\",color=\"red\",fontsize=10)\n",
    "        # twin object for two different y-axis on the sample plot\n",
    "        ax2=ax.twinx()\n",
    "        # make a plot with different y-axis using second axis object\n",
    "        ax2.plot(df.day, df[\"daily_average_heartrate\"],color=\"blue\",marker=\"o\")\n",
    "        ax2.set_ylabel(\"Daily Average Heartrate per Minute\",color=\"blue\",fontsize=10)\n",
    "        plt.axhline(y=med, color='g', linestyle='-')\n",
    "        plt.show()\n",
    "    except Exception as e:\n",
    "        print(e)\n",
    "    return df\n",
    "\n",
    "get_results()"
   ]
  },
  {
   "cell_type": "markdown",
   "metadata": {
    "id": "cmeq7leA-Rpg"
   },
   "source": [
    "Take a look at the chart. Does the relation between number of steps and average heart rate make sense? \n",
    "\n",
    "Usually, steps and heart rate are positively correlated. When we take more steps per minute, our heart rate goes up. That is why we want to study irregular resting heart rate when participant is not active but their heart rate is abnormal."
   ]
  },
  {
   "cell_type": "markdown",
   "metadata": {
    "id": "OH7rLoa4FLxr"
   },
   "source": [
    "----"
   ]
  },
  {
   "cell_type": "markdown",
   "metadata": {
    "id": "Z4m-1gLAFLxr"
   },
   "source": [
    "## 3.3 Calculate resting heart rate per minute"
   ]
  },
  {
   "cell_type": "markdown",
   "metadata": {
    "id": "mQa_E_NhFLxs"
   },
   "source": [
    "This is another SQL query, but this time you get to see what the query returns. The pd.read_sql() command returns a data table that gets stored in the variable df_RHR. When df_RHR is typed alone on the last line, the computer prints out the first ten rows of the data table. "
   ]
  },
  {
   "cell_type": "code",
   "execution_count": 5,
   "metadata": {
    "id": "_RvjnpSn3ADw"
   },
   "outputs": [
    {
     "name": "stderr",
     "output_type": "stream",
     "text": [
      "/tmp/ipykernel_261/2053420226.py:2: UserWarning: pandas only supports SQLAlchemy connectable (engine/connection) or database string URI or sqlite3 DBAPI2 connection. Other DBAPI2 objects are not tested. Please consider using SQLAlchemy.\n",
      "  df_RHR = pd.read_sql(\"SELECT month, day, steps, avg(heartrate) as RHR FROM \"\n"
     ]
    },
    {
     "data": {
      "text/html": [
       "<div>\n",
       "<style scoped>\n",
       "    .dataframe tbody tr th:only-of-type {\n",
       "        vertical-align: middle;\n",
       "    }\n",
       "\n",
       "    .dataframe tbody tr th {\n",
       "        vertical-align: top;\n",
       "    }\n",
       "\n",
       "    .dataframe thead th {\n",
       "        text-align: right;\n",
       "    }\n",
       "</style>\n",
       "<table border=\"1\" class=\"dataframe\">\n",
       "  <thead>\n",
       "    <tr style=\"text-align: right;\">\n",
       "      <th></th>\n",
       "      <th>month</th>\n",
       "      <th>day</th>\n",
       "      <th>steps</th>\n",
       "      <th>RHR</th>\n",
       "    </tr>\n",
       "  </thead>\n",
       "  <tbody>\n",
       "    <tr>\n",
       "      <th>0</th>\n",
       "      <td>5</td>\n",
       "      <td>1</td>\n",
       "      <td>0.0</td>\n",
       "      <td>71.692771</td>\n",
       "    </tr>\n",
       "    <tr>\n",
       "      <th>1</th>\n",
       "      <td>5</td>\n",
       "      <td>2</td>\n",
       "      <td>0.0</td>\n",
       "      <td>70.007457</td>\n",
       "    </tr>\n",
       "    <tr>\n",
       "      <th>2</th>\n",
       "      <td>5</td>\n",
       "      <td>3</td>\n",
       "      <td>0.0</td>\n",
       "      <td>68.868651</td>\n",
       "    </tr>\n",
       "    <tr>\n",
       "      <th>3</th>\n",
       "      <td>5</td>\n",
       "      <td>4</td>\n",
       "      <td>0.0</td>\n",
       "      <td>68.261910</td>\n",
       "    </tr>\n",
       "    <tr>\n",
       "      <th>4</th>\n",
       "      <td>5</td>\n",
       "      <td>5</td>\n",
       "      <td>0.0</td>\n",
       "      <td>64.100455</td>\n",
       "    </tr>\n",
       "    <tr>\n",
       "      <th>5</th>\n",
       "      <td>5</td>\n",
       "      <td>6</td>\n",
       "      <td>0.0</td>\n",
       "      <td>65.254764</td>\n",
       "    </tr>\n",
       "    <tr>\n",
       "      <th>6</th>\n",
       "      <td>5</td>\n",
       "      <td>7</td>\n",
       "      <td>0.0</td>\n",
       "      <td>73.835447</td>\n",
       "    </tr>\n",
       "    <tr>\n",
       "      <th>7</th>\n",
       "      <td>5</td>\n",
       "      <td>8</td>\n",
       "      <td>0.0</td>\n",
       "      <td>70.773444</td>\n",
       "    </tr>\n",
       "    <tr>\n",
       "      <th>8</th>\n",
       "      <td>5</td>\n",
       "      <td>9</td>\n",
       "      <td>0.0</td>\n",
       "      <td>69.171677</td>\n",
       "    </tr>\n",
       "    <tr>\n",
       "      <th>9</th>\n",
       "      <td>5</td>\n",
       "      <td>10</td>\n",
       "      <td>0.0</td>\n",
       "      <td>71.391128</td>\n",
       "    </tr>\n",
       "    <tr>\n",
       "      <th>10</th>\n",
       "      <td>5</td>\n",
       "      <td>11</td>\n",
       "      <td>0.0</td>\n",
       "      <td>71.823286</td>\n",
       "    </tr>\n",
       "    <tr>\n",
       "      <th>11</th>\n",
       "      <td>5</td>\n",
       "      <td>12</td>\n",
       "      <td>0.0</td>\n",
       "      <td>74.321495</td>\n",
       "    </tr>\n",
       "    <tr>\n",
       "      <th>12</th>\n",
       "      <td>5</td>\n",
       "      <td>13</td>\n",
       "      <td>0.0</td>\n",
       "      <td>72.999724</td>\n",
       "    </tr>\n",
       "    <tr>\n",
       "      <th>13</th>\n",
       "      <td>5</td>\n",
       "      <td>14</td>\n",
       "      <td>0.0</td>\n",
       "      <td>69.590893</td>\n",
       "    </tr>\n",
       "    <tr>\n",
       "      <th>14</th>\n",
       "      <td>5</td>\n",
       "      <td>15</td>\n",
       "      <td>0.0</td>\n",
       "      <td>71.581307</td>\n",
       "    </tr>\n",
       "    <tr>\n",
       "      <th>15</th>\n",
       "      <td>5</td>\n",
       "      <td>16</td>\n",
       "      <td>0.0</td>\n",
       "      <td>68.583006</td>\n",
       "    </tr>\n",
       "    <tr>\n",
       "      <th>16</th>\n",
       "      <td>5</td>\n",
       "      <td>17</td>\n",
       "      <td>0.0</td>\n",
       "      <td>72.772195</td>\n",
       "    </tr>\n",
       "    <tr>\n",
       "      <th>17</th>\n",
       "      <td>5</td>\n",
       "      <td>18</td>\n",
       "      <td>0.0</td>\n",
       "      <td>70.004010</td>\n",
       "    </tr>\n",
       "    <tr>\n",
       "      <th>18</th>\n",
       "      <td>5</td>\n",
       "      <td>19</td>\n",
       "      <td>0.0</td>\n",
       "      <td>72.384887</td>\n",
       "    </tr>\n",
       "    <tr>\n",
       "      <th>19</th>\n",
       "      <td>5</td>\n",
       "      <td>20</td>\n",
       "      <td>0.0</td>\n",
       "      <td>75.649744</td>\n",
       "    </tr>\n",
       "    <tr>\n",
       "      <th>20</th>\n",
       "      <td>5</td>\n",
       "      <td>21</td>\n",
       "      <td>0.0</td>\n",
       "      <td>74.910152</td>\n",
       "    </tr>\n",
       "    <tr>\n",
       "      <th>21</th>\n",
       "      <td>5</td>\n",
       "      <td>22</td>\n",
       "      <td>0.0</td>\n",
       "      <td>83.660640</td>\n",
       "    </tr>\n",
       "    <tr>\n",
       "      <th>22</th>\n",
       "      <td>5</td>\n",
       "      <td>23</td>\n",
       "      <td>0.0</td>\n",
       "      <td>71.367515</td>\n",
       "    </tr>\n",
       "    <tr>\n",
       "      <th>23</th>\n",
       "      <td>5</td>\n",
       "      <td>24</td>\n",
       "      <td>0.0</td>\n",
       "      <td>74.833491</td>\n",
       "    </tr>\n",
       "    <tr>\n",
       "      <th>24</th>\n",
       "      <td>5</td>\n",
       "      <td>25</td>\n",
       "      <td>0.0</td>\n",
       "      <td>69.415585</td>\n",
       "    </tr>\n",
       "    <tr>\n",
       "      <th>25</th>\n",
       "      <td>5</td>\n",
       "      <td>26</td>\n",
       "      <td>0.0</td>\n",
       "      <td>65.302108</td>\n",
       "    </tr>\n",
       "    <tr>\n",
       "      <th>26</th>\n",
       "      <td>5</td>\n",
       "      <td>27</td>\n",
       "      <td>0.0</td>\n",
       "      <td>66.146591</td>\n",
       "    </tr>\n",
       "    <tr>\n",
       "      <th>27</th>\n",
       "      <td>5</td>\n",
       "      <td>28</td>\n",
       "      <td>0.0</td>\n",
       "      <td>66.764749</td>\n",
       "    </tr>\n",
       "    <tr>\n",
       "      <th>28</th>\n",
       "      <td>5</td>\n",
       "      <td>29</td>\n",
       "      <td>0.0</td>\n",
       "      <td>65.190000</td>\n",
       "    </tr>\n",
       "    <tr>\n",
       "      <th>29</th>\n",
       "      <td>5</td>\n",
       "      <td>30</td>\n",
       "      <td>0.0</td>\n",
       "      <td>72.787204</td>\n",
       "    </tr>\n",
       "    <tr>\n",
       "      <th>30</th>\n",
       "      <td>5</td>\n",
       "      <td>31</td>\n",
       "      <td>0.0</td>\n",
       "      <td>70.877544</td>\n",
       "    </tr>\n",
       "  </tbody>\n",
       "</table>\n",
       "</div>"
      ],
      "text/plain": [
       "    month  day  steps        RHR\n",
       "0       5    1    0.0  71.692771\n",
       "1       5    2    0.0  70.007457\n",
       "2       5    3    0.0  68.868651\n",
       "3       5    4    0.0  68.261910\n",
       "4       5    5    0.0  64.100455\n",
       "5       5    6    0.0  65.254764\n",
       "6       5    7    0.0  73.835447\n",
       "7       5    8    0.0  70.773444\n",
       "8       5    9    0.0  69.171677\n",
       "9       5   10    0.0  71.391128\n",
       "10      5   11    0.0  71.823286\n",
       "11      5   12    0.0  74.321495\n",
       "12      5   13    0.0  72.999724\n",
       "13      5   14    0.0  69.590893\n",
       "14      5   15    0.0  71.581307\n",
       "15      5   16    0.0  68.583006\n",
       "16      5   17    0.0  72.772195\n",
       "17      5   18    0.0  70.004010\n",
       "18      5   19    0.0  72.384887\n",
       "19      5   20    0.0  75.649744\n",
       "20      5   21    0.0  74.910152\n",
       "21      5   22    0.0  83.660640\n",
       "22      5   23    0.0  71.367515\n",
       "23      5   24    0.0  74.833491\n",
       "24      5   25    0.0  69.415585\n",
       "25      5   26    0.0  65.302108\n",
       "26      5   27    0.0  66.146591\n",
       "27      5   28    0.0  66.764749\n",
       "28      5   29    0.0  65.190000\n",
       "29      5   30    0.0  72.787204\n",
       "30      5   31    0.0  70.877544"
      ]
     },
     "execution_count": 5,
     "metadata": {},
     "output_type": "execute_result"
    }
   ],
   "source": [
    "#Calculate Resting Heart Rate per Minute (Month=05, Year=2022)[De-identified data]\n",
    "df_RHR = pd.read_sql(\"SELECT month, day, steps, avg(heartrate) as RHR FROM \"  \n",
    "+ \" (SELECT A.year, cast (A.month AS integer) AS month, cast (A.day AS integer) AS day, A.datetime, steps, heartrate FROM \"\n",
    "+ \" (SELECT *     FROM sid_00000.steps_minute_arfylmk  WHERE year='2022' AND month='5' ) AS A \"  \n",
    "+ \"JOIN (SELECT *  FROM sid_00000.hr_minute_arfylmk  WHERE year='2022' AND month='5') AS B \"      \n",
    "+ \"ON A.year=B.year AND A.day=B.day AND A.month=B.month AND A.datetime=B.datetime and steps=0.0 ORDER BY  day, A.datetime) GROUP BY month, day, steps order by month,day \", conn)\n",
    "df_RHR"
   ]
  },
  {
   "cell_type": "markdown",
   "metadata": {
    "id": "vEl_pacr-g2c"
   },
   "source": [
    "If you look closely at the \"ON\" keyword you'll notice that it specifies that the steps entry should be 0.0. This means we are only looking at the average heart rate of all participants who took zero steps. This is one way of calculating the resting heart rate.\n",
    "\n",
    "Try changing the value to 1.0, or 5.0. How does the heartrate change? \n",
    "\n",
    "If you're feeling adventurous try using logical operators. What does the table look like if you query for steps > 3.0?"
   ]
  },
  {
   "cell_type": "markdown",
   "metadata": {
    "id": "9hbqiY43FLxv"
   },
   "source": [
    "----"
   ]
  },
  {
   "cell_type": "markdown",
   "metadata": {
    "id": "1PpWlF4jFLxw"
   },
   "source": [
    "## 3.4 Calculate average resting heart rate per minute\n",
    "\n",
    "This query below returns the average."
   ]
  },
  {
   "cell_type": "code",
   "execution_count": 6,
   "metadata": {
    "id": "pwqHMjA_3D7L"
   },
   "outputs": [
    {
     "name": "stderr",
     "output_type": "stream",
     "text": [
      "/tmp/ipykernel_261/1297406707.py:2: UserWarning: pandas only supports SQLAlchemy connectable (engine/connection) or database string URI or sqlite3 DBAPI2 connection. Other DBAPI2 objects are not tested. Please consider using SQLAlchemy.\n",
      "  df_median_avgRHR = pd.read_sql(\"SELECT approx_percentile(avg_RHR, 0.5) as Median_Avg_RHR FROM (SELECT month, day, steps, avg(heartrate) AS avg_RHR FROM \"\n"
     ]
    },
    {
     "data": {
      "text/html": [
       "<div>\n",
       "<style scoped>\n",
       "    .dataframe tbody tr th:only-of-type {\n",
       "        vertical-align: middle;\n",
       "    }\n",
       "\n",
       "    .dataframe tbody tr th {\n",
       "        vertical-align: top;\n",
       "    }\n",
       "\n",
       "    .dataframe thead th {\n",
       "        text-align: right;\n",
       "    }\n",
       "</style>\n",
       "<table border=\"1\" class=\"dataframe\">\n",
       "  <thead>\n",
       "    <tr style=\"text-align: right;\">\n",
       "      <th></th>\n",
       "      <th>Median_Avg_RHR</th>\n",
       "    </tr>\n",
       "  </thead>\n",
       "  <tbody>\n",
       "    <tr>\n",
       "      <th>0</th>\n",
       "      <td>71.967066</td>\n",
       "    </tr>\n",
       "  </tbody>\n",
       "</table>\n",
       "</div>"
      ],
      "text/plain": [
       "   Median_Avg_RHR\n",
       "0       71.967066"
      ]
     },
     "execution_count": 6,
     "metadata": {},
     "output_type": "execute_result"
    }
   ],
   "source": [
    "#Calculate Median RHR (Year 2022)[De-identified data]:\n",
    "df_median_avgRHR = pd.read_sql(\"SELECT approx_percentile(avg_RHR, 0.5) as Median_Avg_RHR FROM (SELECT month, day, steps, avg(heartrate) AS avg_RHR FROM \"  \n",
    "+ \" (SELECT A.year, cast (A.month AS integer) AS month, cast (A.day AS integer) AS day, A.datetime, steps, heartrate FROM \"\n",
    "+ \" (SELECT *  FROM sid_00000.steps_minute_arfylmk  WHERE year='2022' ) AS A \"\n",
    "+ \" JOIN  (SELECT *   FROM sid_00000.hr_minute_arfylmk WHERE year='2022') AS B  ON A.year=B.year  AND A.day=B.day  AND A.month=B.month AND A.datetime=B.datetime AND steps=0.0 ) \"\n",
    "+ \" GROUP BY  month, day, steps ) \", conn)\n",
    "df_median_avgRHR"
   ]
  },
  {
   "cell_type": "markdown",
   "metadata": {
    "id": "3J-diEw1FLxx"
   },
   "source": [
    "---"
   ]
  },
  {
   "cell_type": "markdown",
   "metadata": {
    "id": "NRHdMjaXFLxx"
   },
   "source": [
    "## 3.5 Plot a graph for average resting heart rate per minute"
   ]
  },
  {
   "cell_type": "code",
   "execution_count": 7,
   "metadata": {
    "id": "WcWZ7zZs3Qk8"
   },
   "outputs": [
    {
     "data": {
      "image/png": "[encoded data removed]",
      "text/plain": [
       "<Figure size 640x480 with 1 Axes>"
      ]
     },
     "metadata": {},
     "output_type": "display_data"
    }
   ],
   "source": [
    "def get_results_RHR():\n",
    "    try:\n",
    "        med=71.89\n",
    "        # Plot data\n",
    "        from matplotlib import pyplot as plt\n",
    "        # create figure and axis objects with subplots()\n",
    "        fig,ax = plt.subplots()\n",
    "        # make a plot\n",
    "        ax.plot(df_RHR.day, df_RHR.RHR, color=\"red\", marker=\"o\")\n",
    "        # set x-axis label\n",
    "        ax.set_xlabel(\"day\",fontsize=10)\n",
    "        # set y-axis label\n",
    "        ax.set_ylabel(\"Daily Average Resting Heartrate per minute\",color=\"black\",fontsize=10)\n",
    "        plt.axhline(y=med, color='g', linestyle='-')\n",
    "        plt.show()\n",
    "    except Exception as e:\n",
    "        print(e)\n",
    "get_results_RHR() "
   ]
  },
  {
   "cell_type": "markdown",
   "metadata": {
    "id": "4DEFVkEFJWSM"
   },
   "source": [
    "Most of the code to graph the daily average resting heart is boilerplate, and can easily be reapplied to graph other values. \n",
    "\n",
    "The input data for the graph is df_RHR.day and df_RHR.RHR, where df_RHR is the big data table and the word after the \".\" indicates a column name. \n",
    "\n",
    "Try substituting in your own data table and columns to the code above and let it graph the results:\n",
    "1. Go back to the code block that made the df_RHR object and play around the SQL query. \n",
    "2. Change the step value from 0.0, look at different months, see how the data changes. "
   ]
  },
  {
   "cell_type": "markdown",
   "metadata": {
    "id": "T7gV8LT2FLxy"
   },
   "source": [
    "----"
   ]
  },
  {
   "cell_type": "markdown",
   "metadata": {
    "id": "MSAJzfaRFLx0"
   },
   "source": [
    "# Contributions & acknowledgement"
   ]
  },
  {
   "cell_type": "markdown",
   "metadata": {
    "id": "l_MNjJnnFLx0"
   },
   "source": [
    "Thank the following team to work on this module:\n",
    "\n",
    "- **Module Content:** Nicholas Anthony Midler, Amir Bahmani, Arash Alavi\n",
    "- **Engineering:** Amit Dixit\n",
    "- **UX/UI Design & Illustration:** Kexin Cha\n",
    "- **Video Production:** Francesca Goncalves\n",
    "- **Project Management:** Amir Bahmani, Kexin Cha"
   ]
  },
  {
   "cell_type": "markdown",
   "metadata": {
    "id": "TJSVaxJ1FLx1"
   },
   "source": [
    "----"
   ]
  },
  {
   "cell_type": "markdown",
   "metadata": {
    "id": "8d4q5GscFLx1"
   },
   "source": [
    "Copyright (c) 2022 Stanford Data Ocean (SDO)\n",
    "\n",
    "All rights reserved."
   ]
  }
 ],
 "metadata": {
  "colab": {
   "collapsed_sections": [],
   "provenance": []
  },
  "kernelspec": {
   "display_name": "Python 3 (ipykernel)",
   "language": "python",
   "name": "python3"
  },
  "language_info": {
   "codemirror_mode": {
    "name": "ipython",
    "version": 3
   },
   "file_extension": ".py",
   "mimetype": "text/x-python",
   "name": "python",
   "nbconvert_exporter": "python",
   "pygments_lexer": "ipython3",
   "version": "3.10.9"
  }
 },
 "nbformat": 4,
 "nbformat_minor": 1
}
