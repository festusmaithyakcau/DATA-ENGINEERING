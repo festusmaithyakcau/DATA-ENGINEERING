{
 "cells": [
  {
   "cell_type": "markdown",
   "metadata": {
    "id": "WXxk4PKzqi65"
   },
   "source": [
    "<img src=\"materials/images/introduction-to-python-cover.png\"/>"
   ]
  },
  {
   "cell_type": "markdown",
   "metadata": {
    "id": "JWRnIebF9Znw"
   },
   "source": [
    "\n",
    "# 👋 Welcome, before you start\n",
    "<br>\n",
    "\n",
    "### 📚 Module overview\n",
    "\n",
    "Python provides excellent functionality and extensibility to make working with data efficient and even fun! Python is very human-readable and can be picked up relatively quickly. We will go through three lessons with you:\n",
    "\n",
    "- [**Lesson 1: Python Data Types**](Lesson_1_Python_Data_Types.ipynb)\n",
    "    \n",
    "- [**Lesson 2: Python Data Structures**](Lesson_2_Python_Data_Structures.ipynb)\n",
    "\n",
    "- <font color=#E98300>**Lesson 3: Functions</font>**    `📍You are here.`\n",
    "\n",
    "</br>\n",
    "\n",
    "### ✅ Exercises\n",
    "We encourage you to try the exercise questions in this module, and use the [**solutions to the exercises**](Exercise_solutions.ipynb) to help you study.\n",
    "\n",
    "</br>\n",
    "\n",
    "<div class=\"alert alert-block alert-info\">\n",
    "<h3>⌨️ Keyboard shortcut</h3>\n",
    "\n",
    "These common shortcut could save your time going through this notebook:\n",
    "- Run the current cell: **`Enter + Shift`**.\n",
    "- Add a cell above the current cell: Press **`A`**.\n",
    "- Add a cell below the current cell: Press **`B`**.\n",
    "- Change a code cell to markdown cell: Select the cell, and then press **`M`**.\n",
    "- Delete a cell: Press **`D`** twice.\n",
    "\n",
    "Need more help with keyboard shortcut? Press **`H`** to look it up.\n",
    "</div>"
   ]
  },
  {
   "cell_type": "markdown",
   "metadata": {
    "id": "60g60q9ekC-y"
   },
   "source": [
    "---"
   ]
  },
  {
   "cell_type": "markdown",
   "metadata": {
    "id": "qSnosPPD9Zny"
   },
   "source": [
    "# Lesson 3: Functions"
   ]
  },
  {
   "cell_type": "markdown",
   "metadata": {
    "id": "v1EV0XtD9Znz"
   },
   "source": [
    "`🕒 This module should take about 30 minutes to complete.`\n",
    "\n",
    "`✍️ This notebook is written using Python.`"
   ]
  },
  {
   "cell_type": "markdown",
   "metadata": {
    "id": "QdKTBHXqkC-y"
   },
   "source": [
    "Functions are named blocks of code that enable you to perform a task again and again without needing to retype the code each time. \n",
    "\n",
    "Below shows the simplest structure of a function. You begin by using the keyword `def` to indicate to Python that you are defining a function. The function name will always be followed by parentheses within which you will provide any information the function needs to perform its job. The function definition then requires a colon. After the colon, you will indent the following line(s) of code (four spaces) to make up the body of the function -- the code that will enable it to perform its task."
   ]
  },
  {
   "cell_type": "markdown",
   "metadata": {
    "id": "OKP8ul-ckC-y"
   },
   "source": [
    "\n",
    "``` python\n",
    "\n",
    "def name_of_function():\n",
    "    block of code to be executed\n",
    "    more code here...\n",
    "```\n",
    "\n",
    "#### `Run` the following cell to define the function:"
   ]
  },
  {
   "cell_type": "code",
   "execution_count": null,
   "metadata": {
    "id": "3cnytfrDkC-y"
   },
   "outputs": [],
   "source": [
    "def say_hello():\n",
    "    print(\"Hello!\")"
   ]
  },
  {
   "cell_type": "markdown",
   "metadata": {
    "id": "6wPndiXikC-y"
   },
   "source": [
    "After defining the function, it can then be called. We call a function by typing its name and placing, within its parentheses, any information that it needs to perform its task.\n",
    "\n",
    "The above `say_hello()` function doesn't require any additional information to perform its task so we can leave its parentheses empty.\n",
    "\n",
    "#### `Run` the following cell to call the function:"
   ]
  },
  {
   "cell_type": "code",
   "execution_count": null,
   "metadata": {
    "id": "p6_AWB76kC-y"
   },
   "outputs": [],
   "source": [
    "say_hello()"
   ]
  },
  {
   "cell_type": "markdown",
   "metadata": {
    "id": "dzrVtJ1DkC-y"
   },
   "source": [
    "The say_hello() function prints \"Hello!\" as it was designed to do."
   ]
  },
  {
   "cell_type": "markdown",
   "metadata": {
    "id": "QOdOraRwkC-y"
   },
   "source": [
    "<div class=\"alert alert-block alert-warning\">\n",
    "<b>Alert:</b> Functions should have descriptive names, and these names should use lowercase letters and underscores. Descriptive names help you and others understand what your code is trying to do.\n",
    "</div>\n"
   ]
  },
  {
   "cell_type": "markdown",
   "metadata": {
    "id": "PHC5kd9VkC-z"
   },
   "source": [
    "### Passing information to a function\n",
    "\n",
    "We can modify the `say_hello()` function so that it prints \"Hello!\" a given number of times by passing it a number. The value passed into a function is known as a **parameter.**\n",
    "\n",
    "Using some of the skills that you've previously learned, you can add a `for loop` to the function and use the number passed in to determine the number of times \"Hello!\" will get printed:"
   ]
  },
  {
   "cell_type": "code",
   "execution_count": null,
   "metadata": {
    "id": "DFc0bBMEkC-z"
   },
   "outputs": [],
   "source": [
    "def say_hello(number_of_times):\n",
    "    for counter in range(number_of_times):\n",
    "        print(\"Hello!\")"
   ]
  },
  {
   "cell_type": "markdown",
   "metadata": {
    "id": "AOZzsBCC9Zn6"
   },
   "source": [
    "By adding the number_of_times _parameter_ within the parentheses, you're telling the `say_hello()` function to expect a value to be passed to it before it can run. (If a value is not passed to it, you will receive an error message.) When you call `say_hello()`, you can pass it a number that represents the number of times \"Hello!\" will be printed. The number that is passed in is assigned to the variable `number_of_times`, and the function is then run:"
   ]
  },
  {
   "cell_type": "code",
   "execution_count": null,
   "metadata": {
    "id": "n5jMRQm4kC-z"
   },
   "outputs": [],
   "source": [
    "say_hello(4)"
   ]
  },
  {
   "cell_type": "markdown",
   "metadata": {
    "id": "Kq9okxBskC-z"
   },
   "source": [
    "<div class=\"alert alert-block alert-warning\">\n",
    "<b>Alert:</b> Make sure that you run the cell that defines the function before calling the function, otherwise you will get an error message.\n",
    "</div>"
   ]
  },
  {
   "cell_type": "markdown",
   "metadata": {
    "id": "aYxURAsw9Zn6"
   },
   "source": [
    "In the above for loop, the variable \"counter\" is not actually being used in the function (see [Looping using the range() function](#Looping-using-the-range()-function) above). The for loop simply performs the given number of loops, executing its block of code each time. "
   ]
  },
  {
   "cell_type": "markdown",
   "metadata": {
    "id": "X9L5VK3K9Zn7"
   },
   "source": [
    "<div class=\"alert alert-block alert-info\">\n",
    "<b>Tip:</b> Typically, when a variable within a for loop is not going to be used, an underscore can clarify this, as shown below:\n",
    "</div>"
   ]
  },
  {
   "cell_type": "markdown",
   "metadata": {
    "id": "Y9l7Zgyu9Zn7"
   },
   "source": [
    "``` python\n",
    "\n",
    "def say_hello(number_of_times):\n",
    "    for _ in range(number_of_times):\n",
    "        print(\"Hello!\")\n",
    "```"
   ]
  },
  {
   "cell_type": "markdown",
   "metadata": {
    "id": "7amaXwIVkC-z"
   },
   "source": [
    "<div class=\"alert alert-block alert-success\">\n",
    "<b>Note:</b> When you define your function to require a value, that expected value is known as a <b>parameter</b> to the function definition. When you call a function and pass to it some required value, the passed-in value is known as an <b>argument</b> to the called function. \n",
    "</div>"
   ]
  },
  {
   "cell_type": "markdown",
   "metadata": {
    "id": "s18xE0FQkC-0"
   },
   "source": [
    "### Functions can return values\n",
    "\n",
    "A function doesn’t necessarily have to print its output directly. Instead, it can process some data and then return a value. To return a value, we use the keyword `return`. The return statement takes a value from inside a function and sends it back to the line that called the function. \n",
    "\n",
    "\n",
    "\n",
    "#### A simple example:\n",
    "\n",
    "We will **define a function** called `add_bonus()`. The function will add 1000 to the salary parameter and then return the sum."
   ]
  },
  {
   "cell_type": "code",
   "execution_count": null,
   "metadata": {
    "id": "Oiw9U_p2kC-0"
   },
   "outputs": [],
   "source": [
    "def add_bonus(salary):\n",
    "        return salary + 1000"
   ]
  },
  {
   "cell_type": "markdown",
   "metadata": {
    "id": "7Na26wWbkC-0"
   },
   "source": [
    "#### Call the function:\n",
    "\n",
    "In the cell below, when we call the previously defined function `add_bonus()`, it requires us to provide a salary. The function will add 1000 to the salary argument and then return the sum to the line that called it, where it is then assigned to the variable `new_salary`. We then print out the value of `new_salary`."
   ]
  },
  {
   "cell_type": "code",
   "execution_count": null,
   "metadata": {
    "id": "vlRqRKDZkC-0"
   },
   "outputs": [],
   "source": [
    "new_salary = add_bonus(50000)\n",
    "\n",
    "print(new_salary)"
   ]
  },
  {
   "cell_type": "markdown",
   "metadata": {
    "id": "slaI8GcmkC-0"
   },
   "source": [
    "#### Another example: \n",
    "\n",
    "Let's use your if-statement skills to write a function that helps to cheer on a team. The function should output the mascot associated with the name of the team passed in. However, instead of printing out the mascot, we will have the function return the mascot to the line that called it. For this example, the returned string will be composed with another string to output a cheer string. \n",
    "\n",
    "We'll first **define the cheer() function** which will expect a string representing the name of a team. We will name the required parameter team:"
   ]
  },
  {
   "cell_type": "code",
   "execution_count": null,
   "metadata": {
    "id": "g5LTSBHxkC-0"
   },
   "outputs": [],
   "source": [
    "def cheer(team):\n",
    "    if team == \"Stanford\":\n",
    "        return \"Cardinal!\"\n",
    "    elif team == \"USC\":\n",
    "        return \"Trojans!\"\n",
    "    elif team == \"Cal\":\n",
    "        return \"Bears!\"\n",
    "    elif team == \"UCLA\":\n",
    "        return \"Bruins!\"\n",
    "    else:\n",
    "        return \"team!\""
   ]
  },
  {
   "cell_type": "markdown",
   "metadata": {
    "id": "nw0lXA9SkC-0"
   },
   "source": [
    "After defining the function, we can then **call the `cheer()` function**. We will call `cheer()` from within a print function so that the print function can use the returned string. We will pass in the name of a team as an argument to the `cheer()` function. The argument will be assigned to the parameter team and then the function will run, returning the appropriate string. The `print()` function will then output the composed cheer string:"
   ]
  },
  {
   "cell_type": "code",
   "execution_count": null,
   "metadata": {
    "id": "P0Ij2P4ikC-1"
   },
   "outputs": [],
   "source": [
    "print(\"Go\", cheer(\"Stanford\"))"
   ]
  },
  {
   "cell_type": "code",
   "execution_count": null,
   "metadata": {
    "id": "BhE3kmvEkC-1"
   },
   "outputs": [],
   "source": [
    "print(\"Go\", cheer(\"USC\"))\n",
    "print(\"Go\", cheer(\"UCLA\"))\n",
    "print(\"Go\", cheer(\"Harvard\"))"
   ]
  },
  {
   "cell_type": "markdown",
   "metadata": {
    "id": "rF1RZ5DHkC-1"
   },
   "source": [
    "\n",
    "<div class=\"alert alert-block alert-success\">\n",
    "<b>Keep in mind:</b> Functions are a foundational part of programming. They allow you to write code once and then reuse that code as many times as you choose. When you need to modify a function’s behavior, you only have to modify the single function, and your change takes effect everywhere you call that function.    \n",
    "</div>\n"
   ]
  },
  {
   "cell_type": "markdown",
   "metadata": {
    "id": "mEJ8V1FkkC-1"
   },
   "source": [
    "### ✅ Exercise 8\n",
    "Create a function named `personal_info()` that requires a [dictionary](#Dictionaries), containing personal information about a person, to be passed in as a parameter.  Use the dictionary below.\n",
    "\n",
    "The function should neatly print out the details about the person. The output should look as follows:\n",
    "\n",
    "``` python\n",
    "Name: Alan Mills\n",
    "Age: 47\n",
    "Children: ['Carrie', 'Sara', 'Ben']\n",
    "```\n",
    "\n",
    "See [Print formatting](#Print-formatting) for help."
   ]
  },
  {
   "cell_type": "code",
   "execution_count": null,
   "metadata": {
    "id": "p5In2SfikC-1"
   },
   "outputs": [],
   "source": [
    "person = {\"Name\": \"Alan Mills\", \"Age\": 47, \"Children\": [\"Carrie\", \"Sara\", \"Ben\"]}"
   ]
  },
  {
   "cell_type": "markdown",
   "metadata": {
    "id": "EaCOq_UUTb5a"
   },
   "source": [
    "---"
   ]
  },
  {
   "cell_type": "markdown",
   "metadata": {
    "id": "kKxa0goIkC-1"
   },
   "source": [
    "# 🌟 You are done!\n",
    "<br>\n",
    "Review previous lessons often to consolidate the learnings.\n",
    "\n",
    "    \n",
    "- [**Lesson 1: Python Data Types**](Lesson_1_Python_Data_Types.ipynb)\n",
    "\n",
    "- [**Lesson 2: Python Data Structures**](Lesson_2_Python_Data_Structures.ipynb)"
   ]
  },
  {
   "cell_type": "markdown",
   "metadata": {
    "id": "Amn3f0PYkC-1"
   },
   "source": [
    "---"
   ]
  },
  {
   "cell_type": "markdown",
   "metadata": {
    "id": "CIkZWhEskC-1"
   },
   "source": [
    "# Contributions & Acknowledgement"
   ]
  },
  {
   "cell_type": "markdown",
   "metadata": {
    "id": "oCnQc3IlkC-2"
   },
   "source": [
    "Thanks Antony Ross for his diligent and thoughtful work in crafting the content for this notebook."
   ]
  },
  {
   "cell_type": "markdown",
   "metadata": {
    "id": "_1FW3MQjkC-2"
   },
   "source": [
    "-----"
   ]
  },
  {
   "cell_type": "markdown",
   "metadata": {
    "id": "ebw_8B3qkC-2"
   },
   "source": [
    "Copyright (c) 2022 Stanford Data Ocean (SDO)\n",
    "\n",
    "All rights reserved."
   ]
  }
 ],
 "metadata": {
  "colab": {
   "collapsed_sections": [
    "OKP8ul-ckC-y",
    "6wPndiXikC-y",
    "PHC5kd9VkC-z",
    "s18xE0FQkC-0",
    "7Na26wWbkC-0",
    "slaI8GcmkC-0"
   ],
   "provenance": []
  },
  "kernelspec": {
   "display_name": "Python 3 (ipykernel)",
   "language": "python",
   "name": "python3"
  },
  "language_info": {
   "codemirror_mode": {
    "name": "ipython",
    "version": 3
   },
   "file_extension": ".py",
   "mimetype": "text/x-python",
   "name": "python",
   "nbconvert_exporter": "python",
   "pygments_lexer": "ipython3",
   "version": "3.10.9"
  }
 },
 "nbformat": 4,
 "nbformat_minor": 0
}
