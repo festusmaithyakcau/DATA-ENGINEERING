{
 "cells": [
  {
   "cell_type": "markdown",
   "metadata": {
    "id": "WXxk4PKzqi65"
   },
   "source": [
    "<img src=\"materials/images/introduction-to-python-cover.png\"/>"
   ]
  },
  {
   "cell_type": "markdown",
   "metadata": {
    "id": "al94GLULX2N7"
   },
   "source": [
    "\n",
    "# 👋 Welcome, before you start\n",
    "<br>\n",
    "\n",
    "### 📚 Module overview\n",
    "\n",
    "Python provides excellent functionality and extensibility to make working with data efficient and even fun! Python is very human-readable and can be picked up relatively quickly. We will go through three lessons with you:\n",
    "\n",
    "- <font color=#E98300>**Lesson 1: Python Data Types**</font>    `📍You are here.`\n",
    "    \n",
    "- [**Lesson 2: Python Data Structures**](Lesson_2_Python_Data_Structures.ipynb)\n",
    "    \n",
    "- [**Lesson 3: Functions**](Lesson_3_Functions.ipynb)\n",
    "\n",
    "</br>\n",
    "\n",
    "### ✅ Exercises\n",
    "We encourage you to try the exercise questions in this module, and use the [**solutions to the exercises**](Exercise_solutions.ipynb) to help you study.\n",
    "\n",
    "</br>\n",
    "\n",
    "<div class=\"alert alert-block alert-info\">\n",
    "<h3>⌨️ Keyboard shortcut</h3>\n",
    "\n",
    "These common shortcut could save your time going through this notebook:\n",
    "- Run the current cell: **`Enter + Shift`**.\n",
    "- Add a cell above the current cell: Press **`A`**.\n",
    "- Add a cell below the current cell: Press **`B`**.\n",
    "- Change a code cell to markdown cell: Select the cell, and then press **`M`**.\n",
    "- Delete a cell: Press **`D`** twice.\n",
    "\n",
    "Need more help with keyboard shortcut? Press **`H`** to look it up.\n",
    "</div>"
   ]
  },
  {
   "cell_type": "markdown",
   "metadata": {
    "id": "fvpEtrTwX2N9"
   },
   "source": [
    "---"
   ]
  },
  {
   "cell_type": "markdown",
   "metadata": {
    "id": "YyLShtdqkC99"
   },
   "source": [
    "# Lesson 1: Python Data Types"
   ]
  },
  {
   "cell_type": "markdown",
   "metadata": {
    "id": "4dmUbC8-kC9_"
   },
   "source": [
    "In this lesson, you’ll learn about the different types of data you can work with in Python:\n",
    "\n",
    "- [Numbers](#Numbers-(Integers,-Floats))\n",
    "- [Comments](#Comments)\n",
    "- [Strings](#Strings)\n",
    "- [Variables](#Variables)\n",
    "- [Booleans](#Booleans)\n"
   ]
  },
  {
   "cell_type": "markdown",
   "metadata": {
    "id": "iUpDuOuGkC9-"
   },
   "source": [
    "`🕒 This module should take about 30 minutes to complete.`\n",
    "\n",
    "`✍️ This notebook is written using Python.`"
   ]
  },
  {
   "cell_type": "markdown",
   "metadata": {
    "id": "l8yyaDpQkC9_"
   },
   "source": [
    "---"
   ]
  },
  {
   "cell_type": "markdown",
   "metadata": {
    "id": "UQ7CC324kC-A"
   },
   "source": [
    "## Numbers (Integers, Floats)"
   ]
  },
  {
   "cell_type": "markdown",
   "metadata": {
    "id": "7nXxvMrCkC-B"
   },
   "source": [
    "- **Integers** are whole numbers.\n",
    "- **Floats** are decimal numbers.\n",
    "\n",
    "\n",
    "\n",
    "Expression |<p style='text-align:left'>Description</p> | Result\n",
    ":------------: |------------ | :-------------\n",
    "3 + 2 |<p style='text-align:left'>Addition</p> | <p style='text-align:center'>5</p>\n",
    "3 - 2 |<p style='text-align:left'>Subtraction</p> | <p style='text-align:center'>1</p>\n",
    "3 * 2|<p style='text-align:left'>Multiplication</p> | <p style='text-align:center'>6</p>\n",
    "3 / 2|<p style='text-align:left'>Division</p> | <p style='text-align:center'>1.5</p>\n",
    "3 // 2|<p style='text-align:left'>Floor Division</p> | <p style='text-align:center'>1</p>\n",
    "3 % 2|<p style='text-align:left'>Modulus/Remainder</p> | <p style='text-align:center'>1</p>\n",
    "3 ** 2|<p style='text-align:left'>Exponent</p>| <p style='text-align:center'>9</p>"
   ]
  },
  {
   "cell_type": "markdown",
   "metadata": {
    "id": "J-vzmgV4kC-B"
   },
   "source": [
    "<div class=\"alert alert-block alert-success\">\n",
    "<b>Keep in mind:</b> The spacing in these examples has no effect on how Python evaluates the expressions; it may simply help the code to be easier to read. \n",
    "</div>"
   ]
  },
  {
   "cell_type": "markdown",
   "metadata": {
    "id": "WsMSf5lykC-C"
   },
   "source": [
    "### ✅ `Run` each of the cells below:"
   ]
  },
  {
   "cell_type": "code",
   "execution_count": null,
   "metadata": {
    "id": "VnOCPjevkC-C"
   },
   "outputs": [],
   "source": [
    "3 + 2"
   ]
  },
  {
   "cell_type": "code",
   "execution_count": null,
   "metadata": {
    "id": "rEEQvvCBkC-D"
   },
   "outputs": [],
   "source": [
    "3 - 2"
   ]
  },
  {
   "cell_type": "code",
   "execution_count": null,
   "metadata": {
    "id": "X5y_rWkykC-E"
   },
   "outputs": [],
   "source": [
    "3 * 2"
   ]
  },
  {
   "cell_type": "code",
   "execution_count": null,
   "metadata": {
    "id": "nO8TkoSnkC-E"
   },
   "outputs": [],
   "source": [
    "3/2"
   ]
  },
  {
   "cell_type": "code",
   "execution_count": null,
   "metadata": {
    "id": "A5QnVwqfkC-F"
   },
   "outputs": [],
   "source": [
    "# Floor division: returns only the whole part following division\n",
    "\n",
    "3//2"
   ]
  },
  {
   "cell_type": "code",
   "execution_count": null,
   "metadata": {
    "id": "sIfpOnIykC-F"
   },
   "outputs": [],
   "source": [
    "# Modulus: returns the remainder after division\n",
    "\n",
    "3%2"
   ]
  },
  {
   "cell_type": "code",
   "execution_count": null,
   "metadata": {
    "id": "uROfc8lMkC-G"
   },
   "outputs": [],
   "source": [
    "# Exponent\n",
    "\n",
    "3**2"
   ]
  },
  {
   "cell_type": "markdown",
   "metadata": {
    "id": "dBSkYPsykC-G"
   },
   "source": [
    "When you divide any two numbers, even if they are integers that result in a whole number, you’ll always get a float:"
   ]
  },
  {
   "cell_type": "code",
   "execution_count": null,
   "metadata": {
    "id": "AEdGmBQckC-G"
   },
   "outputs": [],
   "source": [
    "4/2"
   ]
  },
  {
   "cell_type": "markdown",
   "metadata": {
    "id": "3NNeHUCjkC-H"
   },
   "source": [
    "When you mix an integer and a float in an operation, Python will always return a float:"
   ]
  },
  {
   "cell_type": "code",
   "execution_count": null,
   "metadata": {
    "id": "GQWW3mLWkC-H",
    "scrolled": true
   },
   "outputs": [],
   "source": [
    "4 + 2.0"
   ]
  },
  {
   "cell_type": "markdown",
   "metadata": {
    "id": "212EVrrpkC-H"
   },
   "source": [
    "### ✅ Add a new cell below this one, and `Run` the following mathematical operation: \n",
    "```5 times 6 divided by 3``` \n",
    "```The output should be: 10.0```"
   ]
  },
  {
   "cell_type": "markdown",
   "metadata": {
    "id": "3rwNlXPvkC-T"
   },
   "source": [
    "---"
   ]
  },
  {
   "cell_type": "markdown",
   "metadata": {
    "id": "eMiBJAL7kC-T"
   },
   "source": [
    "## Comments"
   ]
  },
  {
   "cell_type": "markdown",
   "metadata": {
    "id": "SyrLCniZkC-T"
   },
   "source": [
    "You may have noticed the use of comments above. A comment is text in a code cell that is to be ignored. A comment, in Python, is preceded by a hash symbol.\n",
    "\n",
    "### ✅ `Run` the code cell below, as is. Then, remove the hash symbol preceding the last line and rerun the cell."
   ]
  },
  {
   "cell_type": "code",
   "execution_count": null,
   "metadata": {
    "id": "9deBvM35kC-T"
   },
   "outputs": [],
   "source": [
    "# This line will be ignored. \n",
    "# The following line is code that is commented out so that it will be ignored, until uncommented:\n",
    "\n",
    "#3 + 2"
   ]
  },
  {
   "cell_type": "markdown",
   "metadata": {
    "id": "V6dJg-klkC-T"
   },
   "source": [
    "Comments are useful for annotating your code in plain English. It's a good habit to frequently add notes to your code that describe your thinking, your approach to solving a problem, or even as a TODO list. "
   ]
  },
  {
   "cell_type": "markdown",
   "metadata": {
    "id": "t0W1iIlxkC-U"
   },
   "source": [
    "<div class=\"alert alert-block alert-info\">\n",
    "<b>Tip:</b> As you're learning Python, use comments to take notes to remember key concepts \n",
    "    and to enhance your understanding.\n",
    "</div>"
   ]
  },
  {
   "cell_type": "markdown",
   "metadata": {
    "id": "aUYukAtdkC-I"
   },
   "source": [
    "---"
   ]
  },
  {
   "cell_type": "markdown",
   "metadata": {
    "id": "Vf9hlTn8kC-I"
   },
   "source": [
    "## Strings"
   ]
  },
  {
   "cell_type": "markdown",
   "metadata": {
    "id": "klB2B3KukC-I"
   },
   "source": [
    "A string is a sequence of characters. Anything inside quotes is considered a string in Python. You can use single or double quotes around strings."
   ]
  },
  {
   "cell_type": "code",
   "execution_count": null,
   "metadata": {
    "id": "V8iDKOz7kC-J"
   },
   "outputs": [],
   "source": [
    "# Single or double quotes are fine.\n",
    "\n",
    "'This is fun!'"
   ]
  },
  {
   "cell_type": "code",
   "execution_count": null,
   "metadata": {
    "id": "LiBOQr-TkC-J"
   },
   "outputs": [],
   "source": [
    "# If an apostrophe is used, then double quotes are required.\n",
    "\n",
    "\"Isn't this fun?\""
   ]
  },
  {
   "cell_type": "markdown",
   "metadata": {
    "id": "GemGBjJgkC-J"
   },
   "source": [
    "Strings can be combined (concatenated) by placing a \"+\" between them:"
   ]
  },
  {
   "cell_type": "code",
   "execution_count": null,
   "metadata": {
    "id": "sGiolf9OkC-K"
   },
   "outputs": [],
   "source": [
    "\"The wonderful world of \" + \"Python!\""
   ]
  },
  {
   "cell_type": "markdown",
   "metadata": {
    "id": "D5r8JuYbkC-K"
   },
   "source": [
    "---"
   ]
  },
  {
   "cell_type": "markdown",
   "metadata": {
    "id": "IvNz820akC-L"
   },
   "source": [
    "## Print\n",
    "So far, the result of the code that we've written was automatically returned as output for us to see. This is because Jupyter Notebook is an interactive environment and, by default, sends its results to the output to be viewed. However, as you write more code, there will be times when this won't be the case. That's when you can use the **print()** function to command it to \"print\" its contents to the screen."
   ]
  },
  {
   "cell_type": "code",
   "execution_count": null,
   "metadata": {
    "id": "IKqHNGNukC-L",
    "scrolled": true
   },
   "outputs": [],
   "source": [
    "print(4 + 2.0)"
   ]
  },
  {
   "cell_type": "code",
   "execution_count": null,
   "metadata": {
    "id": "LE_2xPk2kC-M"
   },
   "outputs": [],
   "source": [
    "print(\"Coding in Python...\")"
   ]
  },
  {
   "cell_type": "markdown",
   "metadata": {
    "id": "mrNpglVUkC-N"
   },
   "source": [
    "We'll discuss more about the use of the print function below."
   ]
  },
  {
   "cell_type": "markdown",
   "metadata": {
    "id": "5HOTjukdkC-N"
   },
   "source": [
    "---"
   ]
  },
  {
   "cell_type": "markdown",
   "metadata": {
    "id": "eZo5qnJYkC-O"
   },
   "source": [
    "## Variables\n",
    "A variable is a named value. In other words, if we assign the value \"Hello Python!\" to the variable **_greeting_**, we can type in **_greeting_** to have the value \"Hello Python!\" returned:"
   ]
  },
  {
   "cell_type": "code",
   "execution_count": null,
   "metadata": {
    "id": "q489xJakkC-O"
   },
   "outputs": [],
   "source": [
    "greeting = \"Hello Python!\"\n",
    "print(greeting)"
   ]
  },
  {
   "cell_type": "markdown",
   "metadata": {
    "id": "ftihWiHgkC-O"
   },
   "source": [
    "You can change the value of a variable at any time, and Python will always keep track of its current value."
   ]
  },
  {
   "cell_type": "code",
   "execution_count": null,
   "metadata": {
    "id": "bHdxw-M6kC-O"
   },
   "outputs": [],
   "source": [
    "greeting = \"Welcome to Jupyter Notebook!\"\n",
    "print(greeting)"
   ]
  },
  {
   "cell_type": "markdown",
   "metadata": {
    "id": "WLIFs1NPkC-P"
   },
   "source": [
    "### Naming variables\n",
    "\n",
    "When naming variables in Python you must keep a few rules and guidelines in mind:\n",
    "\n",
    "**Variables:**\n",
    "   - can only be one word\n",
    "   - can use only letters, numbers, and the underscore (_) character\n",
    "   - can’t begin with a number\n",
    "   - are case-sensitive (data, Data and DATA would be different variable names)\n",
    "   \n",
    "   For example:\n",
    "   \n",
    "   ``` python\n",
    "   first_month_of_year = \"January\"\n",
    "   id_007 = \"j_bond\"\n",
    "    \n",
    "    ```"
   ]
  },
  {
   "cell_type": "code",
   "execution_count": null,
   "metadata": {
    "id": "31ElqIVNkC-P"
   },
   "outputs": [],
   "source": [
    "# Using variables\n",
    "\n",
    "number_of_participants = 50\n",
    "cost_per_participant = 100\n",
    "study_expense = number_of_participants * cost_per_participant\n",
    "\n",
    "print(study_expense)"
   ]
  },
  {
   "cell_type": "markdown",
   "metadata": {
    "id": "1kd-QZiVkC-R"
   },
   "source": [
    "### Print formatting"
   ]
  },
  {
   "cell_type": "markdown",
   "metadata": {
    "id": "yukmScoZkC-Q"
   },
   "source": [
    "There will be times when you'll want to provide more context to your output than just the  value of a variable. In these instances, you can use what's known as **_print formatting_** to place the value within a larger string. Typically, the string will provide more context to the outputted variable.\n",
    "\n",
    "To use print formatting, insert the base string inside the print function. Place curly braces where you would like a variable's value to be placed. Add the dot format to the end of the string, with your variables in respective order within the format method, separated by a comma. Python will replace the curly braces with the respective variable's value and display the results."
   ]
  },
  {
   "cell_type": "code",
   "execution_count": null,
   "metadata": {
    "id": "sbEWEWwnkC-R"
   },
   "outputs": [],
   "source": [
    "apparatus = \"wearable device\"\n",
    "cost = 299\n",
    "\n",
    "print(\"The cost of the {} for each participant will be ${}.\".format(apparatus, cost))"
   ]
  },
  {
   "cell_type": "markdown",
   "metadata": {
    "id": "FZwSgCBYkC-Q"
   },
   "source": [
    "### f-string "
   ]
  },
  {
   "cell_type": "markdown",
   "metadata": {
    "id": "39Yr72l5X2OQ"
   },
   "source": [
    "Similar to print formattng, we can also use what's known as an **_f-string_** in Python (for formatted string) to include a variable's value inside of a string.\n",
    "\n",
    "To have a variable’s value inserted within a string, place the letter **_f_** immediately before the opening quotation mark of the string. Within the quotation marks, place curly braces where you would like for the variable  to appear within the string, and place the variable within the curly braces. Python will then replace the variable with its value when the string is displayed:"
   ]
  },
  {
   "cell_type": "code",
   "execution_count": null,
   "metadata": {
    "id": "rXYuXDvkkC-R"
   },
   "outputs": [],
   "source": [
    "f\"The cost of the study will be: ${study_expense}\""
   ]
  },
  {
   "cell_type": "markdown",
   "metadata": {
    "id": "1VEuPswFkC-R"
   },
   "source": [
    "### Multiple variable assignment (Unpacking)"
   ]
  },
  {
   "cell_type": "markdown",
   "metadata": {
    "id": "EiTrFheWkC-S"
   },
   "source": [
    "As a convenience in Python, you can assign values to multiple variables at the same time, using just one line of code. This is known in Python as \"unpacking\".\n",
    "\n",
    "For example:"
   ]
  },
  {
   "cell_type": "code",
   "execution_count": null,
   "metadata": {
    "id": "qD-xSoZGkC-S"
   },
   "outputs": [],
   "source": [
    "apples, bananas, oranges = 2, 3, 4\n",
    "print(bananas)"
   ]
  },
  {
   "cell_type": "markdown",
   "metadata": {
    "id": "yxxxAAnVkC-S"
   },
   "source": [
    "To use unpacking, be sure to separate the variable names with commas, and do the same with the values. Python will then assign each value to its respectively positioned variable. This will work as long as the number of values matches the number of variables."
   ]
  },
  {
   "cell_type": "markdown",
   "metadata": {
    "id": "WrQDkX9skC-S"
   },
   "source": [
    "### Constants\n",
    "A constant is a variable whose value should never change. In Python, use all capital letters to indicate that a variable should be treated as a constant and thus never be changed:\n",
    "\n",
    "```python\n",
    "MINUTES_IN_DAY = 1440\n",
    "```"
   ]
  },
  {
   "cell_type": "markdown",
   "metadata": {
    "id": "pz1zaabnkC-U"
   },
   "source": [
    "---"
   ]
  },
  {
   "cell_type": "markdown",
   "metadata": {
    "id": "DdqJO_TtkC-U"
   },
   "source": [
    "## Booleans"
   ]
  },
  {
   "cell_type": "markdown",
   "metadata": {
    "id": "yd8JPaP9kC-U"
   },
   "source": [
    "The Boolean data type can be either True or False. It is typically used  with conditional expressions which we will explore shortly.\n",
    "\n",
    "`True` and `False` are reserved words in Python of type Boolean."
   ]
  },
  {
   "cell_type": "code",
   "execution_count": null,
   "metadata": {
    "id": "JGRwMxaEkC-U"
   },
   "outputs": [],
   "source": [
    "True"
   ]
  },
  {
   "cell_type": "code",
   "execution_count": null,
   "metadata": {
    "id": "wpgh6quskC-U"
   },
   "outputs": [],
   "source": [
    "False"
   ]
  },
  {
   "cell_type": "markdown",
   "metadata": {
    "id": "x7kKKzJwkC-V"
   },
   "source": [
    "The numerical value of True is 1 and of False is 0."
   ]
  },
  {
   "cell_type": "code",
   "execution_count": null,
   "metadata": {
    "id": "2sZExINGkC-V"
   },
   "outputs": [],
   "source": [
    "int(True)"
   ]
  },
  {
   "cell_type": "code",
   "execution_count": null,
   "metadata": {
    "id": "R4Sg77KAkC-V"
   },
   "outputs": [],
   "source": [
    "int(False)"
   ]
  },
  {
   "cell_type": "markdown",
   "metadata": {
    "id": "zExLXeF2kC-V"
   },
   "source": [
    "<div class=\"alert alert-block alert-info\">\n",
    "<b>Tip:</b> You can convert a value to become an integer \n",
    "by wrapping the value inside the int() function. This is known as casting. This can be convenient when you'd like,\n",
    "for example, to convert the float 1.0 to the integer 1. Just cast it: int(1.0) will return the integer 1. It's also conveniently used to round a number down. For example, the value 12.304 can be cast to the integer 12 using int(12.304).\n",
    "</div>"
   ]
  },
  {
   "cell_type": "markdown",
   "metadata": {
    "id": "C3r6w0bIkC-V"
   },
   "source": [
    "### Boolean Operators (and, or, not)\n",
    "When working with compound conditions, if \"and\" is used, then both tests must be True for the statement to return True."
   ]
  },
  {
   "cell_type": "code",
   "execution_count": null,
   "metadata": {
    "id": "mEN7IcA2kC-W"
   },
   "outputs": [],
   "source": [
    "True and True"
   ]
  },
  {
   "cell_type": "code",
   "execution_count": null,
   "metadata": {
    "id": "Xyc3z9TykC-W"
   },
   "outputs": [],
   "source": [
    "True and False"
   ]
  },
  {
   "cell_type": "markdown",
   "metadata": {
    "id": "iBH1C3RMkC-W"
   },
   "source": [
    "If \"or\" is used in the compound statement, then only one condition needs to be True for the statement to return True."
   ]
  },
  {
   "cell_type": "code",
   "execution_count": null,
   "metadata": {
    "id": "tSwyqDe-kC-W"
   },
   "outputs": [],
   "source": [
    "True or False"
   ]
  },
  {
   "cell_type": "markdown",
   "metadata": {
    "id": "eDkfKYdMkC-W"
   },
   "source": [
    "If \"not\" is used, then the condition returns the opposite value."
   ]
  },
  {
   "cell_type": "code",
   "execution_count": null,
   "metadata": {
    "id": "F3f26cEJkC-X"
   },
   "outputs": [],
   "source": [
    "not False"
   ]
  },
  {
   "cell_type": "markdown",
   "metadata": {
    "id": "R9VZT9XCkC-X"
   },
   "source": [
    "### Comparison Operators\n",
    "\n",
    "Expression |<p style='text-align:left'>Description </p> | Result\n",
    ":------------: |------------ | :-------------\n",
    "1 < 2 |<p style='text-align:left'>Less Than </p> | True\n",
    "1 > 2 |<p style='text-align:left'>Greater Than </p> | False\n",
    "1 <= 2|<p style='text-align:left'> Less Than Or Equal To </p>| True\n",
    "1 >= 2|<p style='text-align:left'>Greater Than Or Equal To</p> | False\n",
    "1 == 2|<p style='text-align:left'>Equivalent To</p> | False\n",
    "1 != 2|<p style='text-align:left'>Not Equal To</p> | True"
   ]
  },
  {
   "cell_type": "markdown",
   "metadata": {
    "id": "G7f30wVZkC-X"
   },
   "source": [
    "### ✅ `Run` each of the cells below:"
   ]
  },
  {
   "cell_type": "markdown",
   "metadata": {
    "id": "aefc3X1HkC-X"
   },
   "source": [
    "Numerical comparison:"
   ]
  },
  {
   "cell_type": "code",
   "execution_count": null,
   "metadata": {
    "id": "u9Hu9CU1kC-X"
   },
   "outputs": [],
   "source": [
    "1 < 2"
   ]
  },
  {
   "cell_type": "code",
   "execution_count": null,
   "metadata": {
    "id": "2DlCT9j8kC-X"
   },
   "outputs": [],
   "source": [
    "1 > 2"
   ]
  },
  {
   "cell_type": "code",
   "execution_count": null,
   "metadata": {
    "id": "jiNOCBSxkC-X"
   },
   "outputs": [],
   "source": [
    "1 <= 2"
   ]
  },
  {
   "cell_type": "code",
   "execution_count": null,
   "metadata": {
    "id": "dcyIXDZxkC-Y"
   },
   "outputs": [],
   "source": [
    "1 >= 2"
   ]
  },
  {
   "cell_type": "code",
   "execution_count": null,
   "metadata": {
    "id": "5Ds6HftzkC-Y"
   },
   "outputs": [],
   "source": [
    "1 == 2"
   ]
  },
  {
   "cell_type": "code",
   "execution_count": null,
   "metadata": {
    "id": "Znh5REnMkC-Y"
   },
   "outputs": [],
   "source": [
    "1 != 2"
   ]
  },
  {
   "cell_type": "markdown",
   "metadata": {
    "id": "778dI5hPkC-Y"
   },
   "source": [
    "String comparison:"
   ]
  },
  {
   "cell_type": "code",
   "execution_count": null,
   "metadata": {
    "id": "2J8nvJBlkC-Z"
   },
   "outputs": [],
   "source": [
    "\"string\" == \"string\""
   ]
  },
  {
   "cell_type": "code",
   "execution_count": null,
   "metadata": {
    "id": "vKoB_KVgkC-Z"
   },
   "outputs": [],
   "source": [
    "\"string\" == 'spring'"
   ]
  },
  {
   "cell_type": "markdown",
   "metadata": {
    "id": "4uPSQ7B3kC-Z"
   },
   "source": [
    "\n",
    "<div class=\"alert alert-block alert-warning\">\n",
    "<b>Alert:</b> Note the use of the double equal sign above. Keep in mind that a double equal sign asks a question whereas a single equal sign is really a statement. Understanding this can avoid a common mistake.\n",
    "    \n",
    "The use of a double equal sign is for performing a comparison, to determine if what's on the right is equivalent to what's on the left. \n",
    "    \n",
    "The use of a single equal sign is for performing assignment which means that you need a variable on the left side to perform the assignment of the value on the right side. The use of a single equal sign in the above example would indicate assignment and result in an error message.  \n",
    "</div>\n"
   ]
  },
  {
   "cell_type": "markdown",
   "metadata": {
    "id": "4LEPSKy5kC-Z"
   },
   "source": [
    "<div class=\"alert alert-block alert-info\">\n",
    "<b>Tip:</b> String comparison can be useful, for example, when comparing if the text a person entered is equaivalent to the saved password.\n",
    "</div>"
   ]
  },
  {
   "cell_type": "markdown",
   "metadata": {
    "id": "Amn3f0PYkC-1"
   },
   "source": [
    "---"
   ]
  },
  {
   "cell_type": "markdown",
   "metadata": {
    "id": "UIl8JRahbfdF"
   },
   "source": [
    "\n",
    "\n",
    "---\n",
    "\n",
    "\n",
    "\n",
    "---\n",
    "\n"
   ]
  },
  {
   "cell_type": "markdown",
   "metadata": {
    "id": "8Eg-F85xX2OX"
   },
   "source": [
    "# 🌟 Ready for the next one?\n",
    "<br>\n",
    "\n",
    "- [**Lesson 2: Python Data Structures**](Lesson_2_Python_Data_Structures.ipynb)\n",
    "    \n",
    "- [**Lesson 3: Functions**](Lesson_3_Functions.ipynb)"
   ]
  },
  {
   "cell_type": "markdown",
   "metadata": {
    "id": "EfW_lcI1X2OY"
   },
   "source": [
    "---"
   ]
  },
  {
   "cell_type": "markdown",
   "metadata": {
    "id": "CIkZWhEskC-1"
   },
   "source": [
    "# Contributions & Acknowledgement"
   ]
  },
  {
   "cell_type": "markdown",
   "metadata": {
    "id": "oCnQc3IlkC-2"
   },
   "source": [
    "Thanks Antony Ross for his diligent and thoughtful work in crafting the content for this notebook."
   ]
  },
  {
   "cell_type": "markdown",
   "metadata": {
    "id": "_1FW3MQjkC-2"
   },
   "source": [
    "-----"
   ]
  },
  {
   "cell_type": "markdown",
   "metadata": {
    "id": "ebw_8B3qkC-2"
   },
   "source": [
    "Copyright (c) 2022 Stanford Data Ocean (SDO)\n",
    "\n",
    "All rights reserved."
   ]
  }
 ],
 "metadata": {
  "colab": {
   "collapsed_sections": [
    "212EVrrpkC-H",
    "eMiBJAL7kC-T",
    "SyrLCniZkC-T",
    "Vf9hlTn8kC-I",
    "IvNz820akC-L",
    "eZo5qnJYkC-O",
    "WLIFs1NPkC-P",
    "1kd-QZiVkC-R",
    "FZwSgCBYkC-Q",
    "1VEuPswFkC-R",
    "WrQDkX9skC-S",
    "DdqJO_TtkC-U",
    "C3r6w0bIkC-V",
    "R9VZT9XCkC-X",
    "G7f30wVZkC-X"
   ],
   "provenance": []
  },
  "kernelspec": {
   "display_name": "Python 3 (ipykernel)",
   "language": "python",
   "name": "python3"
  },
  "language_info": {
   "codemirror_mode": {
    "name": "ipython",
    "version": 3
   },
   "file_extension": ".py",
   "mimetype": "text/x-python",
   "name": "python",
   "nbconvert_exporter": "python",
   "pygments_lexer": "ipython3",
   "version": "3.10.9"
  }
 },
 "nbformat": 4,
 "nbformat_minor": 0
}
