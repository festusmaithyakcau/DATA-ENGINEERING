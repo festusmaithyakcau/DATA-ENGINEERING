{
 "cells": [
  {
   "cell_type": "markdown",
   "metadata": {
    "id": "WXxk4PKzqi65"
   },
   "source": [
    "<img src=\"materials/images/introduction-to-python-cover.png\"/>"
   ]
  },
  {
   "cell_type": "markdown",
   "metadata": {
    "id": "F302ZptM9Y0G"
   },
   "source": [
    "\n",
    "# 👋 Welcome, before you start\n",
    "<br>\n",
    "\n",
    "### 📚 Module overview\n",
    "\n",
    "Python provides excellent functionality and extensibility to make working with data efficient and even fun! Python is very human-readable and can be picked up relatively quickly. We will go through three lessons with you:\n",
    "\n",
    "- [**Lesson 1: Python Data Types**](Lesson_1_Python_Data_Types.ipynb)\n",
    "\n",
    "- <font color=#E98300>**Lesson 2: Python Data Structures**</font>    `📍You are here.`\n",
    "    \n",
    "- [**Lesson 3: Functions**](Lesson_3_Functions.ipynb)\n",
    "\n",
    "</br>\n",
    "\n",
    "### ✅ Exercises\n",
    "We encourage you to try the exercise questions in this module, and use the [**solutions to the exercises**](Exercise_solutions.ipynb) to help you study.\n",
    "\n",
    "</br>\n",
    "\n",
    "<div class=\"alert alert-block alert-info\">\n",
    "<h3>⌨️ Keyboard shortcut</h3>\n",
    "\n",
    "These common shortcut could save your time going through this notebook:\n",
    "- Run the current cell: **`Enter + Shift`**.\n",
    "- Add a cell above the current cell: Press **`A`**.\n",
    "- Add a cell below the current cell: Press **`B`**.\n",
    "- Change a code cell to markdown cell: Select the cell, and then press **`M`**.\n",
    "- Delete a cell: Press **`D`** twice.\n",
    "\n",
    "Need more help with keyboard shortcut? Press **`H`** to look it up.\n",
    "</div>"
   ]
  },
  {
   "cell_type": "markdown",
   "metadata": {
    "id": "t9saRh_d9Y0H"
   },
   "source": [
    "---"
   ]
  },
  {
   "cell_type": "markdown",
   "metadata": {
    "id": "484GAXpq9Y0I"
   },
   "source": [
    "# Lesson 2: Python Data Structures "
   ]
  },
  {
   "cell_type": "markdown",
   "metadata": {
    "id": "4dmUbC8-kC9_"
   },
   "source": [
    "We are going to go through these concepts in this module:\n",
    "\n",
    "- [Lists](#Lists)\n",
    "- [Tuples](#Tuples)\n",
    "- [If Statements](#If-Statements)\n",
    "- [Dictionaries](#Dictionaries)\n",
    "- [Sets](#Sets)"
   ]
  },
  {
   "cell_type": "markdown",
   "metadata": {
    "id": "tXXO9q959Y0J"
   },
   "source": [
    "`🕒 This module should take about 30 minutes to complete.`\n",
    "\n",
    "`✍️ This notebook is written using Python.`"
   ]
  },
  {
   "cell_type": "markdown",
   "metadata": {
    "id": "l8yyaDpQkC9_"
   },
   "source": [
    "---"
   ]
  },
  {
   "cell_type": "markdown",
   "metadata": {
    "id": "JJOkZlRKkC-a"
   },
   "source": [
    "## Lists\n",
    "A list is a collection of items in a particular order. You can make a list that includes numbers, strings, or even another list.\n",
    "\n",
    "To create a list, Python uses square brackets ``[ ]``. The individual elements in the list should be separated by commas."
   ]
  },
  {
   "cell_type": "code",
   "execution_count": null,
   "metadata": {
    "id": "CdCwn-V7kC-a"
   },
   "outputs": [],
   "source": [
    "# Create a list using square brackets with values separated by commas.\n",
    "\n",
    "a_list = [\"apple\", \"banana\", \"orange\"]"
   ]
  },
  {
   "cell_type": "markdown",
   "metadata": {
    "id": "xfaQW3D-kC-a"
   },
   "source": [
    "### Accessing elements in a list"
   ]
  },
  {
   "cell_type": "markdown",
   "metadata": {
    "id": "nw04OpQ0kC-a"
   },
   "source": [
    "To access the individual items in a list, we use the item's index position within the list. In Python, the index position begins from 0. So, the first item in a list is located at index position 0. \n",
    "\n",
    "```\n",
    "List:                [\"apple\", \"banana\", \"orange\"]\n",
    "Index position:          0         1         2\n",
    "```\n",
    "\n",
    "To access an element in a list, we use the variable name of the list followed by the index position of the item enclosed within square brackets:"
   ]
  },
  {
   "cell_type": "code",
   "execution_count": null,
   "metadata": {
    "id": "Dvm4V5nikC-a"
   },
   "outputs": [],
   "source": [
    "# Index 0 will access the first item in a list.\n",
    "\n",
    "print(a_list[0])"
   ]
  },
  {
   "cell_type": "markdown",
   "metadata": {
    "id": "5fXbg-TzkC-b"
   },
   "source": [
    "\n",
    "<div class=\"alert alert-block alert-warning\">\n",
    "<b>Alert:</b> Python considers the first item in a list to be at position 0, not position 1. \n",
    "    When accessing a list, if you're receiving unexpected results, \n",
    "    determine if you are making a simple \"off-by-one\" error.\n",
    "</div>\n"
   ]
  },
  {
   "cell_type": "markdown",
   "metadata": {
    "id": "TLNsd1OFkC-b"
   },
   "source": [
    "Python has a special syntax for accessing the last item in a list. Using -1 as the index position always returns the last item in a list:"
   ]
  },
  {
   "cell_type": "code",
   "execution_count": null,
   "metadata": {
    "id": "Ame7_PcIkC-b"
   },
   "outputs": [],
   "source": [
    "print(a_list[-1])"
   ]
  },
  {
   "cell_type": "markdown",
   "metadata": {
    "id": "q2CbZ1sAkC-c"
   },
   "source": [
    "<div class=\"alert alert-block alert-info\">\n",
    "<b>Tip:</b> This convention extends to other negative index values as well. \n",
    "    The index -2 returns the second item from the end of the list, \n",
    "    the index -3 returns the third item from the end, and so forth.\n",
    "    This syntax is quite useful, because you’ll often want to access the last items in a list \n",
    "    without knowing exactly how long the list is.\n",
    "</div>"
   ]
  },
  {
   "cell_type": "markdown",
   "metadata": {
    "id": "sDVFVch1kC-c"
   },
   "source": [
    "### Modifying elements in a list"
   ]
  },
  {
   "cell_type": "markdown",
   "metadata": {
    "id": "-LsCPstMkC-c"
   },
   "source": [
    "To modify an element in a list, we use square brackets with index notation and set it equal to a desired value. For example, to modify the second item in a_list, we would set index position 1 to a new value:"
   ]
  },
  {
   "cell_type": "code",
   "execution_count": null,
   "metadata": {
    "id": "WPDNsclCkC-c"
   },
   "outputs": [],
   "source": [
    "a_list = [\"apple\", \"banana\", \"orange\"]\n",
    "a_list[1] = \"strawberry\"\n",
    "print(a_list)"
   ]
  },
  {
   "cell_type": "markdown",
   "metadata": {
    "id": "naYegfclkC-d"
   },
   "source": [
    "### ✅ Exercise 1\n",
    "Try using indexing to replace the string \"two\" with the number 2 in the list below. \n",
    "Then `print` the list to display the results."
   ]
  },
  {
   "cell_type": "code",
   "execution_count": null,
   "metadata": {
    "id": "RP-YHIsMkC-d"
   },
   "outputs": [],
   "source": [
    "numbers = [1, \"two\", 3, 4]"
   ]
  },
  {
   "cell_type": "markdown",
   "metadata": {
    "id": "H598b1EvkC-d"
   },
   "source": [
    "### Appending elements to a list"
   ]
  },
  {
   "cell_type": "markdown",
   "metadata": {
    "id": "LpmhAKxikC-d"
   },
   "source": [
    "The simplest way to add a new element to a list is to use the append() method. When you append an item to a list, the new element is added to the end of the list. For example, each time you run the append method below, another 5 will be added to the end of the list."
   ]
  },
  {
   "cell_type": "code",
   "execution_count": null,
   "metadata": {
    "id": "IWw0-3BNkC-d"
   },
   "outputs": [],
   "source": [
    "numbers = [1, \"two\", 3, 4]"
   ]
  },
  {
   "cell_type": "code",
   "execution_count": null,
   "metadata": {
    "id": "_Iua37LNkC-e"
   },
   "outputs": [],
   "source": [
    "numbers.append(5)\n",
    "print(numbers)"
   ]
  },
  {
   "cell_type": "markdown",
   "metadata": {
    "id": "Fot3EOgpkC-e"
   },
   "source": [
    "### Finding how many elements are in a list (the length of a list)\n",
    "\n",
    "You can quickly find the length of a list by using the len() function. Just place the list that you would like to know the length of within the parentheses of the len() function and it will return the length (the number of elements in the list)."
   ]
  },
  {
   "cell_type": "code",
   "execution_count": null,
   "metadata": {
    "id": "mbT8B4SVkC-e"
   },
   "outputs": [],
   "source": [
    "numbers = [1, \"two\", 3, 4, 5]\n",
    "print(len(numbers))"
   ]
  },
  {
   "cell_type": "markdown",
   "metadata": {
    "id": "lkRhgWp3kC-e"
   },
   "source": [
    "### Removing  elements from a list"
   ]
  },
  {
   "cell_type": "markdown",
   "metadata": {
    "id": "f1Vm2tmAkC-f"
   },
   "source": [
    "You can remove an item from a list by using the del statement.  All del needs is the name of the list and the element's index position that you would like remove:"
   ]
  },
  {
   "cell_type": "code",
   "execution_count": null,
   "metadata": {
    "id": "X2UEZ4h1kC-f"
   },
   "outputs": [],
   "source": [
    "numbers = [1, \"two\", 3, 4, 5]\n",
    "del numbers[4]\n",
    "print(numbers)"
   ]
  },
  {
   "cell_type": "markdown",
   "metadata": {
    "id": "pwn6L1vAkC-f"
   },
   "source": [
    "<div class=\"alert alert-block alert-warning\">\n",
    "<b>Alert:</b> Remember, in the example above, that 4 in \"del numbers[4]\" indicates to delete the fifth element in the list (counting from the zeroth index position), and not the number 4 in the list. \n",
    "</div>"
   ]
  },
  {
   "cell_type": "markdown",
   "metadata": {
    "id": "Wcca8ZBwkC-f"
   },
   "source": [
    "### List concatenation\n",
    "\n",
    "Two lists can be combined (concatenated) into one by using the plus operator:"
   ]
  },
  {
   "cell_type": "code",
   "execution_count": null,
   "metadata": {
    "id": "tV4Vs4tVkC-f"
   },
   "outputs": [],
   "source": [
    "# List concatenation\n",
    "\n",
    "print([5, 10] + [15, 20])"
   ]
  },
  {
   "cell_type": "markdown",
   "metadata": {
    "id": "voEGSpnrkC-g"
   },
   "source": [
    "### List slicing\n",
    "\n",
    "List slicing is used when you want to access a subset of a list. To use list slicing, you insert a colon ``:`` inside the square brackets with the starting index position preceding the colon and the end index position placed after the colon. \n",
    "\n",
    "The slice that is returned will be from the start position through to the end position, but **not including the end position**. The end index position is exclusive, so it will not be included in the subset that is returned:"
   ]
  },
  {
   "cell_type": "code",
   "execution_count": null,
   "metadata": {
    "id": "TYua6h4ZkC-g"
   },
   "outputs": [],
   "source": [
    "states = [\"CA\", \"FL\", \"TX\", \"NY\", \"AZ\", \"HI\", \"OR\", \"NJ\"]\n",
    "print(states[0:4])"
   ]
  },
  {
   "cell_type": "code",
   "execution_count": null,
   "metadata": {
    "id": "oJnufCvLkC-g"
   },
   "outputs": [],
   "source": [
    "# Return the element at index position three through to the end of the list.\n",
    "\n",
    "print(states[3:8])"
   ]
  },
  {
   "cell_type": "markdown",
   "metadata": {
    "id": "OMXtcBBzkC-g"
   },
   "source": [
    "<div class=\"alert alert-block alert-warning\">\n",
    "<b>Alert:</b> Remember, the ending index position that you provide will not be included in what is returned.\n",
    "    So, in the example above, to get all elements including the last element, you should use the index position just beyond the length of the list (i.e., 8). Or you can think of it as using the number of elements in the list.\n",
    "</div>"
   ]
  },
  {
   "cell_type": "markdown",
   "metadata": {
    "id": "f0UY9pyskC-g"
   },
   "source": [
    "\n",
    "<div class=\"alert alert-block alert-info\">\n",
    "<b>Tip:</b> If you want values starting from the beginning of the list, the 0 index is optional. Providing no value preceding the colon implies to start from the beginning of the list. Similarly, no value following the colon implies to select values through to the end of the list, and it will include the value in the last index position. \n",
    "</div>\n"
   ]
  },
  {
   "cell_type": "code",
   "execution_count": null,
   "metadata": {
    "id": "P5IogO5NkC-g"
   },
   "outputs": [],
   "source": [
    "print(states[:4])"
   ]
  },
  {
   "cell_type": "code",
   "execution_count": null,
   "metadata": {
    "id": "NyLl9Zq9kC-h"
   },
   "outputs": [],
   "source": [
    "print(states[3:])"
   ]
  },
  {
   "cell_type": "markdown",
   "metadata": {
    "id": "Jiz5WNlvkC-h"
   },
   "source": [
    "#### Adding a step size to list slicing"
   ]
  },
  {
   "cell_type": "markdown",
   "metadata": {
    "id": "ZJXd5ga-kC-h"
   },
   "source": [
    "Adding another colon within the square brackets indicates the step size that you would like Python to take as it selects items from a list. For example, the code below indicates to select elements from index position 0 through to index position 5 (exclusive), but stepping through every second item:\n",
    "\n",
    "``` python\n",
    "states[0:5:2]\n",
    "```"
   ]
  },
  {
   "cell_type": "code",
   "execution_count": null,
   "metadata": {
    "id": "bmm_0H3ikC-h"
   },
   "outputs": [],
   "source": [
    "# A second colon (:) can be used to indicate step size. list[start:stop:stepsize]\n",
    "\n",
    "states = [\"CA\", \"FL\", \"TX\", \"NY\", \"AZ\", \"HI\", \"OR\", \"NJ\"]\n",
    "print(states[0:5:2])"
   ]
  },
  {
   "cell_type": "code",
   "execution_count": null,
   "metadata": {
    "id": "NcXrTmXtkC-h"
   },
   "outputs": [],
   "source": [
    "states = [\"CA\", \"FL\", \"TX\", \"NY\", \"AZ\", \"HI\", \"OR\", \"NJ\"]\n",
    "\n",
    "states[::2]    # This returns every other item in the list, from beginning to end."
   ]
  },
  {
   "cell_type": "markdown",
   "metadata": {
    "id": "Frnzmgr_kC-h"
   },
   "source": [
    "The below code will return every item in a list, starting from the end. In other words, it returns a reversed copy of the list:"
   ]
  },
  {
   "cell_type": "code",
   "execution_count": null,
   "metadata": {
    "id": "LcMroCOVkC-i"
   },
   "outputs": [],
   "source": [
    "states[::-1]     "
   ]
  },
  {
   "cell_type": "markdown",
   "metadata": {
    "id": "fVlEFKWekC-i"
   },
   "source": [
    "### Looping through the elements in a list\n",
    "\n",
    "You’ll often want to loop through all elements in a list, performing the same task with each item.\n",
    "\n",
    "We can use Python's `for loop` to run through successive items in a list.\n",
    "\n"
   ]
  },
  {
   "cell_type": "markdown",
   "metadata": {
    "id": "RoNfUJawkC-i"
   },
   "source": [
    "#### The basic structure of a for loop:\n",
    "\n",
    "``` python\n",
    "for item in some_list:\n",
    "    print(item)\n",
    "```\n",
    "In the code above, we have a list named `some_list`. We then define a variable (named ``item`` here) that will successively hold each element in ``some_list``. The first line tells Python to pull an element from the list `some_list` and associate it with the variable ``item``. \n",
    "\n",
    "After indenting four spaces, we then write the code that we would like to perform on `item`. In this case, we tell Python to simply print `item`. Python will cycle through the **for loop** for as many items are in `some_list`. The above **for loop** can be read as, “For every `item` in `some_list`, print the `item`.\""
   ]
  },
  {
   "cell_type": "markdown",
   "metadata": {
    "id": "oFQ5jvJKkC-i"
   },
   "source": [
    "#### The following for loop will take each number from the list by_two and print its value times 2:"
   ]
  },
  {
   "cell_type": "code",
   "execution_count": null,
   "metadata": {
    "id": "RpiNkNhQkC-i"
   },
   "outputs": [],
   "source": [
    "by_two = [2, 4, 6, 8, 10]\n",
    "\n",
    "for number in by_two:\n",
    "    print(number * 2)"
   ]
  },
  {
   "cell_type": "markdown",
   "metadata": {
    "id": "y8bzZg_4kC-i"
   },
   "source": [
    "\n",
    "<div class=\"alert alert-block alert-success\">\n",
    "<b>Keep in mind:</b> When writing your own for loops, you can choose any name you want for the temporary variable that will be associated with each value in the list. However, it’s helpful to choose a meaningful name that represents a single item from the list.\n",
    "</div>\n"
   ]
  },
  {
   "cell_type": "markdown",
   "metadata": {
    "id": "c2DAFx3FkC-i"
   },
   "source": [
    "<div class=\"alert alert-block alert-warning\">\n",
    "<b>Alert:</b> Python uses white space to identify code blocks, so be sure to indent the line(s) following the for statement. It's not mandatory but it's considered \"Pythonic\" to indent four spaces to identify the code block to be executed following a colon. Jupyter Notebook will automatically indent four spaces following a colon. \n",
    "\n",
    "Python disregards vertical spacing, so use vertical spacing primarily as a means to improve the readability of your code.\n",
    "</div>"
   ]
  },
  {
   "cell_type": "markdown",
   "metadata": {
    "id": "-2aUF4A3kC-j"
   },
   "source": [
    "### Doing more with a for loop\n",
    "\n",
    "Let's use [print formatting](#Print-formatting) to provide a more complete sentence regarding what we're doing with the values in our ``by_two`` list:"
   ]
  },
  {
   "cell_type": "code",
   "execution_count": null,
   "metadata": {
    "id": "EhdIW5C1kC-j"
   },
   "outputs": [],
   "source": [
    "by_two = [2, 4, 6, 8, 10]\n",
    "for number in by_two:\n",
    "    print(\"{} times 2 equals: {}.\".format(number, number*2))"
   ]
  },
  {
   "cell_type": "markdown",
   "metadata": {
    "id": "9UDrXyv_kC-j"
   },
   "source": [
    "### ✅ Exercise 2\n",
    "Loop through the following list of names, and use print formatting to print out the message \"Hello\" to each one. "
   ]
  },
  {
   "cell_type": "code",
   "execution_count": null,
   "metadata": {
    "id": "xWJc5rd6kC-j"
   },
   "outputs": [],
   "source": [
    "names = [\"Tim\", \"Kim\", \"Bill\", \"Jill\"]"
   ]
  },
  {
   "cell_type": "markdown",
   "metadata": {
    "id": "nWVbjiyKkC-j"
   },
   "source": [
    "#### Alternatively, you could use an [f-string](#f-string)  to say \"Hello\" to each person:"
   ]
  },
  {
   "cell_type": "code",
   "execution_count": null,
   "metadata": {
    "id": "NEimW5-ckC-j"
   },
   "outputs": [],
   "source": [
    "names = [\"Tim\", \"Kim\", \"Bill\", \"Jill\"]\n",
    "for name in names:\n",
    "    print(f\"Hello {name}\")"
   ]
  },
  {
   "cell_type": "markdown",
   "metadata": {
    "id": "jf6W2khMkC-k"
   },
   "source": [
    "#### Any lines of code, after the for loop, that are not indented are executed just once, after the conclusion of the for loop: "
   ]
  },
  {
   "cell_type": "code",
   "execution_count": null,
   "metadata": {
    "id": "9Em0qBTBkC-k"
   },
   "outputs": [],
   "source": [
    "names = [\"Tim\", \"Kim\", \"Bill\", \"Jill\"]\n",
    "\n",
    "for name in names:\n",
    "    print(f\"Hello {name}\")\n",
    "print(\"Nice to see each of you!\")"
   ]
  },
  {
   "cell_type": "markdown",
   "metadata": {
    "id": "DlHFXEiakC-k"
   },
   "source": [
    "### Looping using the ``range()`` function\n",
    "\n",
    "The ``range()`` function in Python generates a list of numbers. This list can then be looped through, as above.\n",
    "\n",
    "Providing a single number to ``range()`` will generate that many numbers, starting from 0 and excluding that number:"
   ]
  },
  {
   "cell_type": "code",
   "execution_count": null,
   "metadata": {
    "id": "9wG_6x3KkC-k"
   },
   "outputs": [],
   "source": [
    "for num in range(10):\n",
    "    print(num)"
   ]
  },
  {
   "cell_type": "markdown",
   "metadata": {
    "id": "KZLMMkYZkC-k"
   },
   "source": [
    "You can also provide a range of numbers, separated by a comma (e.g. range(start_number, end_number)). The end number is excluded:"
   ]
  },
  {
   "cell_type": "code",
   "execution_count": null,
   "metadata": {
    "id": "SxiGJd6zkC-k"
   },
   "outputs": [],
   "source": [
    "# Remember, in Python, the end of the range() is excluded.\n",
    "# So the value 5 will not be included in the generated values.\n",
    "\n",
    "for num in range(1, 5):\n",
    "    print(num)"
   ]
  },
  {
   "cell_type": "markdown",
   "metadata": {
    "id": "wof5MiB6kC-l"
   },
   "source": [
    "The ``range()`` function generates a list of numbers, but the numbers don't have to be used within the **for loop**. The list can be used simply as a counter, to perform a task a given number of times:"
   ]
  },
  {
   "cell_type": "code",
   "execution_count": null,
   "metadata": {
    "id": "ZyQeNYsjkC-l"
   },
   "outputs": [],
   "source": [
    "for num in range(1, 5):\n",
    "    print(\"Looping...\")"
   ]
  },
  {
   "cell_type": "markdown",
   "metadata": {
    "id": "0_igSt2-kC-l"
   },
   "source": [
    "### ✅ Exercise 3\n",
    "Use a for loop and the ``range()`` function to print the numbers 10 through 20. "
   ]
  },
  {
   "cell_type": "code",
   "execution_count": null,
   "metadata": {
    "id": "QE12XwFHkC-l"
   },
   "outputs": [],
   "source": []
  },
  {
   "cell_type": "markdown",
   "metadata": {
    "id": "cHiUjkUAkC-l"
   },
   "source": [
    "### ✅ Exercise 4\n",
    "Use a for loop and the ``range()`` function to print out your name 5 times.  "
   ]
  },
  {
   "cell_type": "code",
   "execution_count": null,
   "metadata": {
    "id": "4Q1OM8M_kC-l"
   },
   "outputs": [],
   "source": []
  },
  {
   "cell_type": "markdown",
   "metadata": {
    "id": "zwpw424LkC-l"
   },
   "source": [
    "### List comprehensions\n",
    "\n",
    "A list comprehension is a list that is created based upon an existing list. You loop through the existing list and, optionally, perform some operation on each successive value before adding that value to the new list:"
   ]
  },
  {
   "cell_type": "code",
   "execution_count": null,
   "metadata": {
    "id": "Z5iJIdKmkC-m"
   },
   "outputs": [],
   "source": [
    "first_list = [10, 20, 30, 40]\n",
    "\n",
    "# List comprehension (construction) based upon the elements in first_list\n",
    "new_list = [item*2 for item in first_list]\n",
    "\n",
    "print(new_list)"
   ]
  },
  {
   "cell_type": "markdown",
   "metadata": {
    "id": "W_Hc0_CSkC-m"
   },
   "source": [
    "With a list comprehension, you really are **placing a `for` loop within the square brackets of a list**, to construct a list. The operation begins at the `for` statement and ends with the optional operation that's at the beginning of the list comprehension (immediately preceding the **for** statement). The above list comprehension can be read as, \"`For` every item in `first_list`, multiply its value by two and then add it to this new list that's being constructed.\""
   ]
  },
  {
   "cell_type": "markdown",
   "metadata": {
    "id": "xWJRkVP7kC-m"
   },
   "source": [
    "### ✅ Exercise 5\n",
    "Use a list comprehension, based upon the following list, to concatenate \"Hello \" to each name before adding it to the new list being constructed. Print the new list."
   ]
  },
  {
   "cell_type": "code",
   "execution_count": null,
   "metadata": {
    "id": "YsM_wO3RkC-m"
   },
   "outputs": [],
   "source": [
    "names = [\"Tim\", \"Kim\", \"Bill\", \"Jill\"]"
   ]
  },
  {
   "cell_type": "markdown",
   "metadata": {
    "id": "TtaoYviukC-m"
   },
   "source": [
    "---"
   ]
  },
  {
   "cell_type": "markdown",
   "metadata": {
    "id": "7sppAxUHkC-m"
   },
   "source": [
    "## Tuples\n",
    "\n",
    "Sometimes you’ll want to create a list of items that cannot be changed. Tuples allow you to do just that. Python refers to values that cannot be changed as immutable. A tuple is identical to a list except it is immutable.\n",
    "\n",
    "A tuple looks just like a list except you use parentheses instead of square brackets:"
   ]
  },
  {
   "cell_type": "code",
   "execution_count": null,
   "metadata": {
    "id": "vFYUI-17kC-n"
   },
   "outputs": [],
   "source": [
    "tup = (1,2,3,4,5,6)"
   ]
  },
  {
   "cell_type": "markdown",
   "metadata": {
    "id": "Lhl9ckE7kC-n"
   },
   "source": [
    "Everything that you learned about a list applies to a tuple (e.g., indexing, slicing, looping)."
   ]
  },
  {
   "cell_type": "code",
   "execution_count": null,
   "metadata": {
    "id": "AuoJveXJkC-n"
   },
   "outputs": [],
   "source": [
    "tup[:2]"
   ]
  },
  {
   "cell_type": "code",
   "execution_count": null,
   "metadata": {
    "id": "PWg6ZIOMkC-n"
   },
   "outputs": [],
   "source": [
    "for item in tup:\n",
    "    print(item)"
   ]
  },
  {
   "cell_type": "markdown",
   "metadata": {
    "id": "_YEbk7C2kC-n"
   },
   "source": [
    " However, you will get an error message if you try to modify a tuple."
   ]
  },
  {
   "cell_type": "code",
   "execution_count": null,
   "metadata": {
    "id": "sajXQWkHkC-n"
   },
   "outputs": [],
   "source": [
    "#  A tuple is immutable, attempting to modify a tuple will result in an error message.\n",
    "\n",
    "tup[0] = 'one'     "
   ]
  },
  {
   "cell_type": "markdown",
   "metadata": {
    "id": "K4NE85PtkC-n"
   },
   "source": [
    "<div class=\"alert alert-block alert-info\">\n",
    "<b>Tip:</b> A tuple is a simple data structure but can be very useful when you want to store a set of values that should not be changed. \n",
    "</div>"
   ]
  },
  {
   "cell_type": "markdown",
   "metadata": {
    "id": "sHJBvsB7kC-o"
   },
   "source": [
    "<div class=\"alert alert-block alert-warning\">\n",
    "<b>Alert:</b> Tuples are technically defined by the presence of a comma; the parentheses make them look neater and more readable. If you want to define a tuple with one element, you need to include a trailing comma: single_element_tuple = (8,). Without the trailing comma, it would just be an integer, not a tuple.\n",
    "</div>"
   ]
  },
  {
   "cell_type": "markdown",
   "metadata": {
    "id": "KQeqC9ffkC-o"
   },
   "source": [
    "---"
   ]
  },
  {
   "cell_type": "markdown",
   "metadata": {
    "id": "NYSKarTIkC-o"
   },
   "source": [
    "## If Statements\n",
    "\n",
    "If statements enable you to write conditional tests and decide which action to take based upon the results of those conditions.\n"
   ]
  },
  {
   "cell_type": "markdown",
   "metadata": {
    "id": "an3fa9hHkC-o"
   },
   "source": [
    "#### Conditional tests\n",
    "\n",
    "At the heart of every if statement is an expression that can be evaluated as True or False (`Booleans`) and is called a conditional test. Python uses the values True and False to decide whether the code in an if statement should be executed. If a conditional test evaluates to True, Python executes the indented code block following the if statement. If the test evaluates to False, Python ignores the code following the if statement."
   ]
  },
  {
   "cell_type": "markdown",
   "metadata": {
    "id": "93GaWVlpkC-o"
   },
   "source": [
    "``` python\n",
    "\n",
    "if <condition>:\n",
    "    block of code\n",
    "    blocks begin and end with indentation, traditionally 4 spaces\n",
    "\n",
    "    if <condition>:\n",
    "        block of code\n",
    "        this is another if statement\n",
    "```\n",
    "\n",
    "For example:"
   ]
  },
  {
   "cell_type": "code",
   "execution_count": null,
   "metadata": {
    "id": "UcKoTex1kC-o"
   },
   "outputs": [],
   "source": [
    "user_email = \"jeff@amazon.com\"\n",
    "password = \"bezos\"\n",
    "\n",
    "if user_email == \"jeff@amazon.com\":\n",
    "    if password == \"bezos\":\n",
    "        print(\"Access granted.\")"
   ]
  },
  {
   "cell_type": "code",
   "execution_count": null,
   "metadata": {
    "id": "d6wR0LfrkC-o"
   },
   "outputs": [],
   "source": [
    "names = [\"Tim\", \"Kim\", \"Bill\", \"Jill\"]\n",
    "\n",
    "for name in names:\n",
    "    if len(name) == 3:\n",
    "        print(f\"Hey three-letter {name}\")"
   ]
  },
  {
   "cell_type": "markdown",
   "metadata": {
    "id": "vNCH3Q0Nrens"
   },
   "source": [
    "<div class=\"alert alert-block alert-warning\">\n",
    "<b>Alert:</b> When the variable inside len() is a string, len() returns the number of characters in the string.\n",
    "</div>"
   ]
  },
  {
   "cell_type": "markdown",
   "metadata": {
    "id": "976zC0WkkC-p"
   },
   "source": [
    "Each time through the for loop, an if statement is used to test the condition of whether the number of letters in the name is equivalent to 3. If the condition is `True`, it then looks for the indented code block to be executed. It the condition returns `False`, it steps to the next element in the list and repeats the process."
   ]
  },
  {
   "cell_type": "markdown",
   "metadata": {
    "id": "p80_zWw9kC-p"
   },
   "source": [
    "#### Checking multiple conditions using \"and\"\n",
    "\n",
    "To check whether two conditions are both True simultaneously, use the keyword `and` to combine the two conditional tests; if each test passes, the overall expression evaluates to True. If either test fails or if both tests fail, the expression evaluates to False.\n",
    "\n",
    "For example:"
   ]
  },
  {
   "cell_type": "code",
   "execution_count": null,
   "metadata": {
    "id": "5DLozO8RkC-p"
   },
   "outputs": [],
   "source": [
    "names = [\"Tim\", \"Kim\", \"Bill\", \"Jill\"]\n",
    "\n",
    "for name in names:\n",
    "    if len(name) == 3 and name != \"Kim\":\n",
    "        print(f\"Hi {name}. I thought that was you, Sir.\")"
   ]
  },
  {
   "cell_type": "markdown",
   "metadata": {
    "id": "5ao99NyJkC-p"
   },
   "source": [
    "#### Checking multiple conditions using \"or\"\n",
    "\n",
    "The keyword `or` can also be used to test multiple conditions. The keyword or passes when either or both of the individual tests return True. An `or` expression fails only when both individual tests are False.\n",
    "\n",
    "For example:"
   ]
  },
  {
   "cell_type": "code",
   "execution_count": null,
   "metadata": {
    "id": "IjVIK6cfkC-p"
   },
   "outputs": [],
   "source": [
    "names = [\"Tim\", \"Kim\", \"Bill\", \"Jill\"]\n",
    "\n",
    "for name in names:\n",
    "    if len(name) == 3 or name == \"Jill\":\n",
    "        print(f\"Welcome {name}.\")"
   ]
  },
  {
   "cell_type": "markdown",
   "metadata": {
    "id": "XsBaXmZrkC-p"
   },
   "source": [
    "#### Checking whether a value is in a list"
   ]
  },
  {
   "cell_type": "code",
   "execution_count": null,
   "metadata": {
    "id": "QdcsQ16GkC-p"
   },
   "outputs": [],
   "source": [
    "names = [\"Tim\", \"Kim\", \"Bill\", \"Jill\"]\n",
    "\n",
    "\"Jeff\" in names"
   ]
  },
  {
   "cell_type": "code",
   "execution_count": null,
   "metadata": {
    "id": "zvTiPidKkC-q"
   },
   "outputs": [],
   "source": [
    "names = [\"Tim\", \"Kim\", \"Bill\", \"Jill\"]\n",
    "\n",
    "\"Kim\" in names"
   ]
  },
  {
   "cell_type": "markdown",
   "metadata": {
    "id": "AFUHrWJSkC-q"
   },
   "source": [
    "#### Checking whether a value is not in a list"
   ]
  },
  {
   "cell_type": "code",
   "execution_count": null,
   "metadata": {
    "id": "lvOQLRmEkC-q"
   },
   "outputs": [],
   "source": [
    "names = [\"Tim\", \"Kim\", \"Bill\", \"Jill\"]\n",
    "\n",
    "\"Raju\" not in names"
   ]
  },
  {
   "cell_type": "markdown",
   "metadata": {
    "id": "4sWGvFSAkC-q"
   },
   "source": [
    "### ✅ Exercise 6\n",
    "Write a for loop, using the list in the cell below, that includes an if statement. Have the loop print \"Good!\" for these numbers: 40, 50, 80.  And not print anything for these numbers: 60, 70, 90."
   ]
  },
  {
   "cell_type": "code",
   "execution_count": null,
   "metadata": {
    "id": "0oWz2rCGkC-q"
   },
   "outputs": [],
   "source": [
    "list_of_numbers = [40, 50, 60, 70, 80, 90]"
   ]
  },
  {
   "cell_type": "markdown",
   "metadata": {
    "id": "MObsLFPRkC-q"
   },
   "source": [
    "## If-elif statement\n",
    "\n",
    "Often, you’ll desire to test multiple possible conditions. To accomplish this, you can use Python’s if-elif syntax. Python runs each conditional test in order until one passes. If no condition returns True, then nothing will be executed.\n",
    "\n",
    "``` python\n",
    "\n",
    "if <condition>:\n",
    "    block of code\n",
    "elif <condition>:\n",
    "    block of code\n",
    "```\n",
    "\n",
    "For example:"
   ]
  },
  {
   "cell_type": "code",
   "execution_count": null,
   "metadata": {
    "id": "tmBpBkABkC-q"
   },
   "outputs": [],
   "source": [
    "age = 9\n",
    "\n",
    "if age < 10:\n",
    "    print(\"Just a kid.\")\n",
    "elif age < 16:\n",
    "    print(\"Can't drive yet!\")\n",
    "elif age < 21:\n",
    "    print(\"No drinking for you!\")"
   ]
  },
  {
   "cell_type": "markdown",
   "metadata": {
    "id": "GSH-jzYikC-r"
   },
   "source": [
    "<div class=\"alert alert-block alert-success\">\n",
    "<b>Note:</b> Even though each condition above is actually True, only the first condition that returns True is executed; the code block is then exited. So, it's important to strategically order your conditions to achieve the expected result.\n",
    "    \n",
    "</div>"
   ]
  },
  {
   "cell_type": "markdown",
   "metadata": {
    "id": "VZMUZ5gZkC-r"
   },
   "source": [
    "## If-else statement\n",
    "\n",
    "Often, you’ll want to guarantee that some action is taken, regardless of the result of each condition. For example, if the age above was 25, no code block would get executed as each condition would return False. Adding an `else` statement allows you to define a default action or set of actions that are executed when the conditional tests fail.\n",
    "\n",
    "``` python\n",
    "if <condition>:\n",
    "    block of code\n",
    "elif <condition>:\n",
    "    block of code\n",
    "else:\n",
    "    block of code\n",
    "```\n",
    "\n",
    "For example:"
   ]
  },
  {
   "cell_type": "code",
   "execution_count": null,
   "metadata": {
    "id": "qRP3ZzM0kC-r"
   },
   "outputs": [],
   "source": [
    "age = 25\n",
    "\n",
    "if age < 10:\n",
    "    print(\"Just a kid.\")\n",
    "elif age < 16:\n",
    "    print(\"Can't drive yet!\")\n",
    "elif age < 21:\n",
    "    print(\"No drinking for you!\")\n",
    "else:\n",
    "    print(\"You're good to go!\")"
   ]
  },
  {
   "cell_type": "markdown",
   "metadata": {
    "id": "P8gJhbMYkC-r"
   },
   "source": [
    "### List Comprehensions \n",
    "\n",
    "We can now use what we know about if statements to enhance our [list comprehensions](#List-comprehensions) discussed earlier. We can add conditions to our list comprehensions:"
   ]
  },
  {
   "cell_type": "code",
   "execution_count": null,
   "metadata": {
    "id": "1AOn2JqwkC-r"
   },
   "outputs": [],
   "source": [
    "names_list = [\"Angela\", \"Vince\", \"Andy\", \"Mike\"]\n",
    "\n",
    "[name for name in names_list if name not in [\"Andy\", \"Mike\"]]"
   ]
  },
  {
   "cell_type": "markdown",
   "metadata": {
    "id": "rbWo74pGkC-r"
   },
   "source": [
    "The above list comprehension should read as, \"For each name in `names_list`, if the name is not in the given list, add the name to this list being constructed.\""
   ]
  },
  {
   "cell_type": "markdown",
   "metadata": {
    "id": "QYBiWveKkC-s"
   },
   "source": [
    "\n",
    "<div class=\"alert alert-block alert-success\">\n",
    "<b>Keep in mind:</b> When evaluating a list comprehension, always start reading from the for statement, and end at everything that precedes the for statement.\n",
    "</div>\n"
   ]
  },
  {
   "cell_type": "code",
   "execution_count": null,
   "metadata": {
    "id": "277mBzl8kC-s"
   },
   "outputs": [],
   "source": [
    "test_scores = [73, 92, 81, 62, 58, 89]\n",
    "\n",
    "[\"Pass\" if score > 75 else \"Fail\" for score in test_scores]"
   ]
  },
  {
   "cell_type": "markdown",
   "metadata": {
    "id": "lT4WL7xQkC-s"
   },
   "source": [
    "The above list comprehension should read as, \"For each score in test_scores, add \"Pass\" to this list being constructed if the score is greater than 75. Otherwise, add \"Fail\" to this list being constructed.\""
   ]
  },
  {
   "cell_type": "markdown",
   "metadata": {
    "id": "j7y5ql1HkC-s"
   },
   "source": [
    "---"
   ]
  },
  {
   "cell_type": "markdown",
   "metadata": {
    "id": "CW36BUdfkC-s"
   },
   "source": [
    "## Dictionaries\n",
    "\n",
    "A dictionary in Python is a collection of **key-value** pairs. We can access data using a key rather than using its index position as we do with lists. \n",
    "\n",
    "Each key, in a dictionary, is associated with a value, and you can use a key to access the value associated with that key. A key’s value can be a number, a string, a list, or even another dictionary. In fact, you can use any object that you can create in Python as a value in a dictionary.\n",
    "\n",
    "In Python, a dictionary is wrapped in curly braces `{}`, with a series of key-value pairs inside the braces. Every key is connected to its value by a colon, and individual key-value pairs are separated by commas. You can store as many key-value pairs as you desire in a dictionary."
   ]
  },
  {
   "cell_type": "code",
   "execution_count": null,
   "metadata": {
    "id": "NJ_Ioa4LkC-s"
   },
   "outputs": [],
   "source": [
    "person = {\"Name\": \"Alan Mills\", \"Age\": 47, \"Children\": [\"Carrie\", \"Sara\", \"Ben\"]}"
   ]
  },
  {
   "cell_type": "markdown",
   "metadata": {
    "id": "kYse0YgKkC-t"
   },
   "source": [
    "You can also compose a dictionary as below, broken into several lines. When you press ENTER/RETURN after the opening brace, Jupyter will automatically indent the subsequent lines four spaces for you so that they are aligned:"
   ]
  },
  {
   "cell_type": "code",
   "execution_count": null,
   "metadata": {
    "id": "hMlmMaNekC-t"
   },
   "outputs": [],
   "source": [
    "person = {\n",
    "    \"Name\": \"Alan Mills\", \n",
    "    \"Age\": 47, \n",
    "    \"Children\": [\"Carrie\", \"Sara\", \"Ben\"]\n",
    "}"
   ]
  },
  {
   "cell_type": "markdown",
   "metadata": {
    "id": "YS1DfKKokC-t"
   },
   "source": [
    "### Accessing values in a dictionary"
   ]
  },
  {
   "cell_type": "markdown",
   "metadata": {
    "id": "ocNTJkGYkC-t"
   },
   "source": [
    "To get the value associated with a key, give the name of the dictionary and then place the key inside a set of square brackets (as we did when accessing the data within lists). Python returns the value associated with that key:"
   ]
  },
  {
   "cell_type": "code",
   "execution_count": null,
   "metadata": {
    "id": "F3-2w-MjkC-t"
   },
   "outputs": [],
   "source": [
    "person[\"Name\"]"
   ]
  },
  {
   "cell_type": "code",
   "execution_count": null,
   "metadata": {
    "id": "77cVJ3Y7kC-t"
   },
   "outputs": [],
   "source": [
    "person[\"Children\"]"
   ]
  },
  {
   "cell_type": "markdown",
   "metadata": {
    "id": "PiCQqlzJkC-t"
   },
   "source": [
    "The key \"Children\" returns a list, so we can use what we know about how to access data within a list to display the name of the third child listed:"
   ]
  },
  {
   "cell_type": "code",
   "execution_count": null,
   "metadata": {
    "id": "RuvQeYOskC-t"
   },
   "outputs": [],
   "source": [
    "person[\"Children\"][2]"
   ]
  },
  {
   "cell_type": "markdown",
   "metadata": {
    "id": "7Y1J0iW5kC-u"
   },
   "source": [
    "### Adding data (key-value pairs) to a dictionary"
   ]
  },
  {
   "cell_type": "markdown",
   "metadata": {
    "id": "2OQEuQ_IkC-u"
   },
   "source": [
    "To add a new key-value pair to an existing dictionary, you would give the name of the dictionary followed by the new key in square brackets set equal to the new value:"
   ]
  },
  {
   "cell_type": "code",
   "execution_count": null,
   "metadata": {
    "id": "aaiKIt_AkC-u"
   },
   "outputs": [],
   "source": [
    "person = {\"Name\": \"Alan Mills\", \"Age\": 47, \"Children\": [\"Carrie\", \"Sara\", \"Ben\"]}\n",
    "\n",
    "person[\"Occupation\"] = \"Dentist\"\n",
    "print(person)"
   ]
  },
  {
   "cell_type": "markdown",
   "metadata": {
    "id": "q8b9-RhtkC-u"
   },
   "source": [
    "### Modifying values in a dictionary"
   ]
  },
  {
   "cell_type": "markdown",
   "metadata": {
    "id": "Z7kKwXyQkC-u"
   },
   "source": [
    "To modify a value in a dictionary, you would give the name of the dictionary with the key in square brackets. You would then set that equal to the new value that you want associated with that key:"
   ]
  },
  {
   "cell_type": "code",
   "execution_count": null,
   "metadata": {
    "id": "zPJIHFcGkC-u"
   },
   "outputs": [],
   "source": [
    "person = {\"Name\": \"Alan Mills\", \"Age\": 47, \"Children\": [\"Carrie\", \"Sara\", \"Ben\"]}\n",
    "\n",
    "person[\"Occupation\"] = \"Coder\"\n",
    "print(person)"
   ]
  },
  {
   "cell_type": "markdown",
   "metadata": {
    "id": "uEFvW84lkC-u"
   },
   "source": [
    "We can also access the person's list of children and modify the name in the second index position within the list:"
   ]
  },
  {
   "cell_type": "code",
   "execution_count": null,
   "metadata": {
    "id": "DiOossXwkC-u"
   },
   "outputs": [],
   "source": [
    "person = {\"Name\": \"Alan Mills\", \"Age\": 47, \"Children\": [\"Carrie\", \"Sara\", \"Ben\"]}\n",
    "\n",
    "person[\"Children\"][2] = \"Benjamin\"\n",
    "print(person)"
   ]
  },
  {
   "cell_type": "markdown",
   "metadata": {
    "id": "t8WRvqjYkC-v"
   },
   "source": [
    "### Removing key-value pairs from a dictionary"
   ]
  },
  {
   "cell_type": "markdown",
   "metadata": {
    "id": "6nrGRcS6kC-v"
   },
   "source": [
    "To delete a key-value pair from a dictionary, you can use the del statement. All del needs is the name of the dictionary and the key that you want to remove:"
   ]
  },
  {
   "cell_type": "code",
   "execution_count": null,
   "metadata": {
    "id": "vvfoglyukC-v"
   },
   "outputs": [],
   "source": [
    "person = {\"Name\": \"Alan Mills\", \"Age\": 47, \"Children\": [\"Carrie\", \"Sara\", \"Ben\"]}\n",
    "\n",
    "del person[\"Age\"]\n",
    "print(person)"
   ]
  },
  {
   "cell_type": "markdown",
   "metadata": {
    "id": "hd-yrM_TkC-v"
   },
   "source": [
    "### ✅ Exercise 7\n",
    "Create a dictionary associating each month of the year with the number the month is within the year (e.g., January's value would be 1, July's value would be 7). \n",
    "\n",
    "Access your dictionary to `print` December's value."
   ]
  },
  {
   "cell_type": "code",
   "execution_count": null,
   "metadata": {
    "id": "znPFTWQukC-v"
   },
   "outputs": [],
   "source": []
  },
  {
   "cell_type": "markdown",
   "metadata": {
    "id": "95QWpaePkC-v"
   },
   "source": [
    "### Looping through the key-value pairs in a dictionary"
   ]
  },
  {
   "cell_type": "markdown",
   "metadata": {
    "id": "7qiYhBCkkC-v"
   },
   "source": [
    "To loop through the key-value pairs in a dictionary, you will need to create a [for loop](#Looping-through-the-elements-in-a-list) as above, You'll need to  assign names for the two variables that will hold the key and value in each key-value pair. As always, you can choose any names that you want for these two variables. \n",
    "\n",
    "You will then include the name of the dictionary followed by the method `items()`, which returns the [tuple](#Tuples) of key-value pairs. "
   ]
  },
  {
   "cell_type": "code",
   "execution_count": null,
   "metadata": {
    "id": "OzQ6EjCQkC-v"
   },
   "outputs": [],
   "source": [
    "person = {\"Name\": \"Alan Mills\", \"Children\": [\"Carrie\", \"Sara\", \"Ben\"]}\n",
    "\n",
    "for key, value in person.items():\n",
    "    print(key)\n",
    "    print(value)"
   ]
  },
  {
   "cell_type": "markdown",
   "metadata": {
    "id": "_mk6rvrSkC-v"
   },
   "source": [
    "\n",
    "<div class=\"alert alert-block alert-success\">\n",
    "<b>Note:</b> Technically, items() is returning a tuple containing a key-value pair. By giving the for loop two variable names, Python unpacks the tuple and assigns the **key** to the first variable provided and the **value** to the second variable provided.. If you only give the for loop one variable, it returns a tuple containing a key-value pair:\n",
    "</div>\n"
   ]
  },
  {
   "cell_type": "code",
   "execution_count": null,
   "metadata": {
    "id": "LgE182WXkC-w"
   },
   "outputs": [],
   "source": [
    "# The method items() returns a tuple containing a key-value pair. \n",
    "# The tuple can be unpacked (assigned to individual variables) by giving the for loop two variables, as above.\n",
    "\n",
    "for key_value_pair in person.items():\n",
    "    print(key_value_pair)"
   ]
  },
  {
   "cell_type": "markdown",
   "metadata": {
    "id": "S7YaaKglkC-w"
   },
   "source": [
    "### Looping through all of the keys in a dictionary"
   ]
  },
  {
   "cell_type": "markdown",
   "metadata": {
    "id": "yrjR-KCakC-w"
   },
   "source": [
    "This is the default behavior, so to loop through just the keys in a dictionary, don't provide any method. (Or you can use the method `keys()` if it makes your code easier to understand). "
   ]
  },
  {
   "cell_type": "code",
   "execution_count": null,
   "metadata": {
    "id": "hPuYKuKQkC-w"
   },
   "outputs": [],
   "source": [
    "person = {\"Name\": \"Alan Mills\", \"Children\": [\"Carrie\", \"Sara\", \"Ben\"]}\n",
    "\n",
    "for key in person:\n",
    "    print(key)"
   ]
  },
  {
   "cell_type": "code",
   "execution_count": null,
   "metadata": {
    "id": "U0Bag2PwkC-w"
   },
   "outputs": [],
   "source": [
    "# Same result as above\n",
    "\n",
    "for key in person.keys():\n",
    "    print(key)"
   ]
  },
  {
   "cell_type": "markdown",
   "metadata": {
    "id": "190STGx0kC-w"
   },
   "source": [
    "You can also use the key to access the associated value: "
   ]
  },
  {
   "cell_type": "code",
   "execution_count": null,
   "metadata": {
    "id": "UnlgjU0PkC-w"
   },
   "outputs": [],
   "source": [
    "for key in person:\n",
    "    print(person[key])"
   ]
  },
  {
   "cell_type": "markdown",
   "metadata": {
    "id": "L_rLEyMMkC-x"
   },
   "source": [
    "### Looping through all of the values in a dictionary"
   ]
  },
  {
   "cell_type": "markdown",
   "metadata": {
    "id": "7uP1DTPkkC-x"
   },
   "source": [
    "You can use the key to access the associated values as demonstrated above, or you can add the `values()` method to the dictionary so that it just provides its values:"
   ]
  },
  {
   "cell_type": "code",
   "execution_count": null,
   "metadata": {
    "id": "n_3FrrgYkC-x"
   },
   "outputs": [],
   "source": [
    "person = {\"Name\": \"Alan Mills\", \"Children\": [\"Carrie\", \"Sara\", \"Ben\"]}\n",
    "\n",
    "for value in person.values():\n",
    "    print(value)"
   ]
  },
  {
   "cell_type": "markdown",
   "metadata": {
    "id": "I8RvSlzGkC-x"
   },
   "source": [
    "---"
   ]
  },
  {
   "cell_type": "markdown",
   "metadata": {
    "id": "u2BGQR2EkC-x"
   },
   "source": [
    "## Sets\n",
    "\n",
    "A set is a data structure that can only contain unique elements. A set can formally be created using curly braces and ensures that each item within it is unique. The elements are returned in alphabetical order."
   ]
  },
  {
   "cell_type": "code",
   "execution_count": null,
   "metadata": {
    "id": "9REXSZC1kC-x"
   },
   "outputs": [],
   "source": [
    "{\"Stanford\", \"USC\", \"UCLA\", \"UCLA\", \"Stanford\", \"USC\", \"Berkeley\", \"Berkeley\"}"
   ]
  },
  {
   "cell_type": "markdown",
   "metadata": {
    "id": "yARiZxz-kC-x"
   },
   "source": [
    "You will more commonly use the `set()` function to convert a series of elements (like a list) to a set."
   ]
  },
  {
   "cell_type": "code",
   "execution_count": null,
   "metadata": {
    "id": "YBVoXWEGkC-x"
   },
   "outputs": [],
   "source": [
    "a_list = [15, 100, 15, 10, 15, 15, 10, 5, 100, 5, 15, 15, 10, 5, 100, 5, 15, 100, 15, 10, 15, 15, 10, 5]\n",
    "\n",
    "a_set = set(a_list)\n",
    "\n",
    "print(a_set)"
   ]
  },
  {
   "cell_type": "markdown",
   "metadata": {
    "id": "zzqo1uHvren4"
   },
   "source": [
    "<div class=\"alert alert-block alert-warning\">\n",
    "<b>Alert:</b> A set is unordered so it can't be accessed using indexing.\n",
    "</div>"
   ]
  },
  {
   "cell_type": "markdown",
   "metadata": {
    "id": "QfNpbCd7kC-y"
   },
   "source": [
    "<div class=\"alert alert-block alert-success\">\n",
    "<b>Remember:</b> A set is very useful when you only care about the unique elements within a dataset.\n",
    "</div>"
   ]
  },
  {
   "cell_type": "markdown",
   "metadata": {
    "id": "EaCOq_UUTb5a"
   },
   "source": [
    "---"
   ]
  },
  {
   "cell_type": "markdown",
   "metadata": {
    "id": "kKxa0goIkC-1"
   },
   "source": [
    "# 🌟 Ready for the next one?\n",
    "<br>\n",
    "    \n",
    "- [**Lesson 3: Functions**](Lesson_3_Functions.ipynb)"
   ]
  },
  {
   "cell_type": "markdown",
   "metadata": {
    "id": "Amn3f0PYkC-1"
   },
   "source": [
    "---"
   ]
  },
  {
   "cell_type": "markdown",
   "metadata": {
    "id": "CIkZWhEskC-1"
   },
   "source": [
    "# Contributions & Acknowledgement"
   ]
  },
  {
   "cell_type": "markdown",
   "metadata": {
    "id": "oCnQc3IlkC-2"
   },
   "source": [
    "Thanks Antony Ross for his diligent and thoughtful work in crafting the content for this notebook."
   ]
  },
  {
   "cell_type": "markdown",
   "metadata": {
    "id": "_1FW3MQjkC-2"
   },
   "source": [
    "-----"
   ]
  },
  {
   "cell_type": "markdown",
   "metadata": {
    "id": "ebw_8B3qkC-2"
   },
   "source": [
    "Copyright (c) 2022 Stanford Data Ocean (SDO)\n",
    "\n",
    "All rights reserved."
   ]
  }
 ],
 "metadata": {
  "colab": {
   "collapsed_sections": [
    "JJOkZlRKkC-a",
    "xfaQW3D-kC-a",
    "sDVFVch1kC-c",
    "naYegfclkC-d",
    "H598b1EvkC-d",
    "Fot3EOgpkC-e",
    "lkRhgWp3kC-e",
    "Wcca8ZBwkC-f",
    "voEGSpnrkC-g",
    "Jiz5WNlvkC-h",
    "fVlEFKWekC-i",
    "RoNfUJawkC-i",
    "oFQ5jvJKkC-i",
    "-2aUF4A3kC-j",
    "9UDrXyv_kC-j",
    "nWVbjiyKkC-j",
    "jf6W2khMkC-k",
    "DlHFXEiakC-k",
    "0_igSt2-kC-l",
    "cHiUjkUAkC-l",
    "zwpw424LkC-l",
    "xWJRkVP7kC-m",
    "7sppAxUHkC-m",
    "NYSKarTIkC-o",
    "an3fa9hHkC-o",
    "p80_zWw9kC-p",
    "5ao99NyJkC-p",
    "XsBaXmZrkC-p",
    "AFUHrWJSkC-q",
    "4sWGvFSAkC-q",
    "MObsLFPRkC-q",
    "VZMUZ5gZkC-r",
    "P8gJhbMYkC-r",
    "CW36BUdfkC-s",
    "YS1DfKKokC-t",
    "7Y1J0iW5kC-u",
    "q8b9-RhtkC-u",
    "t8WRvqjYkC-v",
    "hd-yrM_TkC-v",
    "95QWpaePkC-v",
    "S7YaaKglkC-w",
    "L_rLEyMMkC-x",
    "u2BGQR2EkC-x"
   ],
   "provenance": []
  },
  "kernelspec": {
   "display_name": "Python 3 (ipykernel)",
   "language": "python",
   "name": "python3"
  },
  "language_info": {
   "codemirror_mode": {
    "name": "ipython",
    "version": 3
   },
   "file_extension": ".py",
   "mimetype": "text/x-python",
   "name": "python",
   "nbconvert_exporter": "python",
   "pygments_lexer": "ipython3",
   "version": "3.10.9"
  }
 },
 "nbformat": 4,
 "nbformat_minor": 0
}
