{
 "cells": [
  {
   "cell_type": "markdown",
   "id": "676e7213",
   "metadata": {
    "id": "676e7213",
    "vscode": {
     "languageId": "r"
    }
   },
   "source": [
    "<img src=\"materials/images/introduction-to-exposome-cover.png\"/>"
   ]
  },
  {
   "cell_type": "markdown",
   "id": "d4bda40c",
   "metadata": {
    "id": "d4bda40c"
   },
   "source": [
    "# Introduction to exposome data"
   ]
  },
  {
   "cell_type": "markdown",
   "id": "27bfc175",
   "metadata": {
    "id": "27bfc175"
   },
   "source": [
    "`🕒 This module should take 30 minutes to complete.`\n",
    "\n",
    "`✍️ This notebook is written using R.`"
   ]
  },
  {
   "cell_type": "markdown",
   "id": "88dd1aed",
   "metadata": {
    "id": "88dd1aed"
   },
   "source": [
    "Human health is affected by a diverse range of factors including genetics, environmental exposures, and their complex interactions. The exposome refers to everything a person is exposed to across one's lifetime. While intensive efforts have been made to measure and understand the impact of the genome on health, our knowledge about the exposome and its impact remains remarkably limited. \n",
    "\n",
    "Existing evidence suggests certain types of environmental exposures (e.g. exposure to broad classes of air pollutants such as particulate matter) greatly affects our health, and are directly associated with numerous respiratory diseases, allergies, infectious diseases, and even cancer. The component of the airborne exposome is highly diverse and dynamic. One person's exposome profile is different from others', and can vary based on geographical location and season.\n",
    "    \n",
    "To capture the complex exposome, we used a wearable device to capture the personal environmental exposures. The device contains an air pump that continuously pumps in air, mimicking human breath. To collect the airborne exposures, we added a filter to collect biological agents from the air, and zeolite absorbents to collect chemical agents. Each sampling session takes 2-5 days. After each sampling session, we collected the filter and absorbents and send them to next generation sequencing (NGS) and mass-spectrometry (MS) for biological and chemical analysis.\n",
    "\n",
    "In this module, you'll examine the diverse biological exposome components, and investigate **how a person's exposome varies based on geographical location**. The dataset contains samples collected at different locations, i.e. when the participant traveled to Montana and Texas, and his normal routine -- around Stanford campus. Background sample was collected in an office at Stanford Research Park. "
   ]
  },
  {
   "cell_type": "markdown",
   "id": "16a0b5bd",
   "metadata": {
    "id": "16a0b5bd"
   },
   "source": [
    "----"
   ]
  },
  {
   "cell_type": "markdown",
   "id": "d58105d2",
   "metadata": {
    "id": "d58105d2"
   },
   "source": [
    "**Referenced research:**\n",
    "\n",
    "- Jiang C, Wang X, Li X, Inlora J, Wang T, Liu Q, Snyder M. Dynamic Human Environmental Exposome Revealed by Longitudinal Personal Monitoring. Cell. 2018 Sep 20;175(1):277-291.e31. doi: 10.1016/j.cell.2018.08.060. PMID: 30241608; PMCID: PMC6472932\n",
    "- Jiang, C., Zhang, X., Gao, P. et al. Decoding personal biotic and abiotic airborne exposome. Nat Protoc 16, 1129–1151 (2021). https://doi.org/10.1038/s41596-020-00451-8"
   ]
  },
  {
   "cell_type": "markdown",
   "id": "cd003900",
   "metadata": {
    "id": "cd003900"
   },
   "source": [
    "**Source data:**\n",
    "\n",
    "genusData.RData\n",
    "    "
   ]
  },
  {
   "cell_type": "markdown",
   "id": "45321adf",
   "metadata": {
    "id": "45321adf"
   },
   "source": [
    "<div class=\"alert alert-block alert-info\">\n",
    "<h3>⌨️ Keyboard shortcut</h3>\n",
    "\n",
    "These common shortcut could save your time going through this notebook:\n",
    "- Run the current cell: **`Enter + Shift`**.\n",
    "- Add a cell above the current cell: Press **`A`**.\n",
    "- Add a cell below the current cell: Press **`B`**.\n",
    "- Change a code cell to markdown cell: Select the cell, and then press **`M`**.\n",
    "- Delete a cell: Press **`D`** twice.\n",
    "\n",
    "Need more help with keyboard shortcut? Press **`H`** to look it up.\n",
    "</div>"
   ]
  },
  {
   "cell_type": "markdown",
   "id": "8a13d80e",
   "metadata": {
    "id": "8a13d80e"
   },
   "source": [
    "----"
   ]
  },
  {
   "cell_type": "markdown",
   "id": "dea13fb7",
   "metadata": {
    "id": "dea13fb7"
   },
   "source": [
    "# 1. Setup"
   ]
  },
  {
   "cell_type": "code",
   "execution_count": 1,
   "id": "ffcbc364",
   "metadata": {
    "id": "ffcbc364",
    "vscode": {
     "languageId": "r"
    }
   },
   "outputs": [
    {
     "name": "stderr",
     "output_type": "stream",
     "text": [
      "── \u001b[1mAttaching packages\u001b[22m ─────────────────────────────────────── tidyverse 1.3.2 ──\n",
      "\u001b[32m✔\u001b[39m \u001b[34mggplot2\u001b[39m 3.4.1     \u001b[32m✔\u001b[39m \u001b[34mpurrr  \u001b[39m 1.0.1\n",
      "\u001b[32m✔\u001b[39m \u001b[34mtibble \u001b[39m 3.1.8     \u001b[32m✔\u001b[39m \u001b[34mdplyr  \u001b[39m 1.1.0\n",
      "\u001b[32m✔\u001b[39m \u001b[34mtidyr  \u001b[39m 1.3.0     \u001b[32m✔\u001b[39m \u001b[34mstringr\u001b[39m 1.5.0\n",
      "\u001b[32m✔\u001b[39m \u001b[34mreadr  \u001b[39m 2.1.4     \u001b[32m✔\u001b[39m \u001b[34mforcats\u001b[39m 1.0.0\n",
      "── \u001b[1mConflicts\u001b[22m ────────────────────────────────────────── tidyverse_conflicts() ──\n",
      "\u001b[31m✖\u001b[39m \u001b[34mdplyr\u001b[39m::\u001b[32mfilter()\u001b[39m masks \u001b[34mstats\u001b[39m::filter()\n",
      "\u001b[31m✖\u001b[39m \u001b[34mdplyr\u001b[39m::\u001b[32mlag()\u001b[39m    masks \u001b[34mstats\u001b[39m::lag()\n",
      "\n",
      "Attaching package: ‘FactoMineR’\n",
      "\n",
      "\n",
      "The following object is masked from ‘package:ade4’:\n",
      "\n",
      "    reconst\n",
      "\n",
      "\n",
      "Welcome! Want to learn more? See two factoextra-related books at https://goo.gl/ve3WBa\n",
      "\n",
      "\n",
      "Attaching package: ‘gplots’\n",
      "\n",
      "\n",
      "The following object is masked from ‘package:stats’:\n",
      "\n",
      "    lowess\n",
      "\n",
      "\n"
     ]
    }
   ],
   "source": [
    "# Load R packages.\n",
    "library(reshape2)\n",
    "library(tidyverse)\n",
    "library(ade4)\n",
    "library(FactoMineR)\n",
    "library(factoextra)\n",
    "library(\"gplots\")\n",
    "\n",
    "# Load data.\n",
    "load(\"data/genusData.RData\")"
   ]
  },
  {
   "cell_type": "markdown",
   "id": "38d374e9",
   "metadata": {
    "id": "38d374e9"
   },
   "source": [
    "----"
   ]
  },
  {
   "cell_type": "markdown",
   "id": "99fa9cbc",
   "metadata": {
    "id": "99fa9cbc"
   },
   "source": [
    "# 2. Overview of the diverse biological exposome"
   ]
  },
  {
   "cell_type": "markdown",
   "id": "6477844c",
   "metadata": {
    "id": "6477844c"
   },
   "source": [
    "### 2.1 Get a quick understanding of the data"
   ]
  },
  {
   "cell_type": "markdown",
   "id": "abb088b8",
   "metadata": {
    "id": "abb088b8"
   },
   "source": [
    "The biological exposome is highly diverse, it contains not only exposures from plants and animals, but also from microbes, such as fungi and bacteria. \n",
    "\n",
    "Examine the data table and see if you recognize some of the genera."
   ]
  },
  {
   "cell_type": "code",
   "execution_count": 2,
   "id": "3ad8dab3",
   "metadata": {
    "id": "3ad8dab3",
    "vscode": {
     "languageId": "r"
    }
   },
   "outputs": [
    {
     "data": {
      "text/html": [
       "<table class=\"dataframe\">\n",
       "<caption>A data.frame: 6 × 810</caption>\n",
       "<thead>\n",
       "\t<tr><th></th><th scope=col>Filter_No</th><th scope=col>location</th><th scope=col>ownership</th><th scope=col>date.month</th><th scope=col>date.start</th><th scope=col>date.end</th><th scope=col>season</th><th scope=col>Stereum</th><th scope=col>Trametes</th><th scope=col>Botrytis</th><th scope=col>⋯</th><th scope=col>Terribacillus</th><th scope=col>Dendroctonus</th><th scope=col>Ilumatobacter</th><th scope=col>Methylomonas</th><th scope=col>Arachis</th><th scope=col>Saccharomyces</th><th scope=col>Haemonchus</th><th scope=col>Salinimicrobium</th><th scope=col>Lewinella</th><th scope=col>Spinacia</th></tr>\n",
       "\t<tr><th></th><th scope=col>&lt;fct&gt;</th><th scope=col>&lt;fct&gt;</th><th scope=col>&lt;fct&gt;</th><th scope=col>&lt;int&gt;</th><th scope=col>&lt;fct&gt;</th><th scope=col>&lt;fct&gt;</th><th scope=col>&lt;fct&gt;</th><th scope=col>&lt;dbl&gt;</th><th scope=col>&lt;dbl&gt;</th><th scope=col>&lt;dbl&gt;</th><th scope=col>⋯</th><th scope=col>&lt;dbl&gt;</th><th scope=col>&lt;dbl&gt;</th><th scope=col>&lt;dbl&gt;</th><th scope=col>&lt;dbl&gt;</th><th scope=col>&lt;dbl&gt;</th><th scope=col>&lt;dbl&gt;</th><th scope=col>&lt;dbl&gt;</th><th scope=col>&lt;dbl&gt;</th><th scope=col>&lt;dbl&gt;</th><th scope=col>&lt;dbl&gt;</th></tr>\n",
       "</thead>\n",
       "<tbody>\n",
       "\t<tr><th scope=row>1</th><td>Filter202</td><td>Campus    </td><td>P1        </td><td>1</td><td>1/15/16</td><td>1/18/16</td><td>winter</td><td> 52129.10</td><td> 4177.315</td><td>5.866050e+03</td><td>⋯</td><td>0.0000000</td><td>0.113394</td><td>0.1058755</td><td>0.1045819</td><td>0.09894063</td><td>0.0886025</td><td>0.00000000</td><td>0.07485222</td><td>0.06815433</td><td>0.00000000</td></tr>\n",
       "\t<tr><th scope=row>2</th><td>Filter203</td><td>Campus    </td><td>P1        </td><td>1</td><td>1/18/16</td><td>1/22/16</td><td>winter</td><td>337139.80</td><td>19033.011</td><td>1.092994e+02</td><td>⋯</td><td>0.0000000</td><td>0.000000</td><td>0.0000000</td><td>0.0000000</td><td>0.00000000</td><td>0.0000000</td><td>0.08270964</td><td>0.00000000</td><td>0.00000000</td><td>0.00000000</td></tr>\n",
       "\t<tr><th scope=row>3</th><td>Filter205</td><td>Background</td><td>Background</td><td>1</td><td>1/19/16</td><td>1/22/16</td><td>winter</td><td>620137.03</td><td>40899.107</td><td>4.659014e+00</td><td>⋯</td><td>0.0000000</td><td>0.000000</td><td>0.0000000</td><td>0.0000000</td><td>0.00000000</td><td>0.0000000</td><td>0.00000000</td><td>0.00000000</td><td>0.00000000</td><td>0.00000000</td></tr>\n",
       "\t<tr><th scope=row>4</th><td>Filter206</td><td>Campus    </td><td>P1        </td><td>1</td><td>1/22/16</td><td>1/25/16</td><td>winter</td><td>404757.55</td><td>63985.294</td><td>3.412166e+04</td><td>⋯</td><td>0.0000000</td><td>0.000000</td><td>0.0000000</td><td>0.0000000</td><td>0.00000000</td><td>0.0000000</td><td>0.00000000</td><td>0.00000000</td><td>0.00000000</td><td>0.06735035</td></tr>\n",
       "\t<tr><th scope=row>5</th><td>Filter207</td><td>Campus    </td><td>P1        </td><td>1</td><td>1/25/16</td><td>1/28/16</td><td>winter</td><td> 79655.19</td><td>39586.087</td><td>0.000000e+00</td><td>⋯</td><td>0.1157193</td><td>0.000000</td><td>0.0000000</td><td>0.0000000</td><td>0.00000000</td><td>0.0000000</td><td>0.00000000</td><td>0.00000000</td><td>0.00000000</td><td>0.00000000</td></tr>\n",
       "\t<tr><th scope=row>6</th><td>Filter216</td><td>Campus    </td><td>P1        </td><td>2</td><td>2/19/16</td><td>2/21/16</td><td>winter</td><td>319508.27</td><td> 7886.542</td><td>2.447230e+05</td><td>⋯</td><td>0.0000000</td><td>0.000000</td><td>0.0000000</td><td>0.0000000</td><td>0.00000000</td><td>0.0000000</td><td>0.00000000</td><td>0.00000000</td><td>0.00000000</td><td>0.00000000</td></tr>\n",
       "</tbody>\n",
       "</table>\n"
      ],
      "text/latex": [
       "A data.frame: 6 × 810\n",
       "\\begin{tabular}{r|lllllllllllllllllllll}\n",
       "  & Filter\\_No & location & ownership & date.month & date.start & date.end & season & Stereum & Trametes & Botrytis & ⋯ & Terribacillus & Dendroctonus & Ilumatobacter & Methylomonas & Arachis & Saccharomyces & Haemonchus & Salinimicrobium & Lewinella & Spinacia\\\\\n",
       "  & <fct> & <fct> & <fct> & <int> & <fct> & <fct> & <fct> & <dbl> & <dbl> & <dbl> & ⋯ & <dbl> & <dbl> & <dbl> & <dbl> & <dbl> & <dbl> & <dbl> & <dbl> & <dbl> & <dbl>\\\\\n",
       "\\hline\n",
       "\t1 & Filter202 & Campus     & P1         & 1 & 1/15/16 & 1/18/16 & winter &  52129.10 &  4177.315 & 5.866050e+03 & ⋯ & 0.0000000 & 0.113394 & 0.1058755 & 0.1045819 & 0.09894063 & 0.0886025 & 0.00000000 & 0.07485222 & 0.06815433 & 0.00000000\\\\\n",
       "\t2 & Filter203 & Campus     & P1         & 1 & 1/18/16 & 1/22/16 & winter & 337139.80 & 19033.011 & 1.092994e+02 & ⋯ & 0.0000000 & 0.000000 & 0.0000000 & 0.0000000 & 0.00000000 & 0.0000000 & 0.08270964 & 0.00000000 & 0.00000000 & 0.00000000\\\\\n",
       "\t3 & Filter205 & Background & Background & 1 & 1/19/16 & 1/22/16 & winter & 620137.03 & 40899.107 & 4.659014e+00 & ⋯ & 0.0000000 & 0.000000 & 0.0000000 & 0.0000000 & 0.00000000 & 0.0000000 & 0.00000000 & 0.00000000 & 0.00000000 & 0.00000000\\\\\n",
       "\t4 & Filter206 & Campus     & P1         & 1 & 1/22/16 & 1/25/16 & winter & 404757.55 & 63985.294 & 3.412166e+04 & ⋯ & 0.0000000 & 0.000000 & 0.0000000 & 0.0000000 & 0.00000000 & 0.0000000 & 0.00000000 & 0.00000000 & 0.00000000 & 0.06735035\\\\\n",
       "\t5 & Filter207 & Campus     & P1         & 1 & 1/25/16 & 1/28/16 & winter &  79655.19 & 39586.087 & 0.000000e+00 & ⋯ & 0.1157193 & 0.000000 & 0.0000000 & 0.0000000 & 0.00000000 & 0.0000000 & 0.00000000 & 0.00000000 & 0.00000000 & 0.00000000\\\\\n",
       "\t6 & Filter216 & Campus     & P1         & 2 & 2/19/16 & 2/21/16 & winter & 319508.27 &  7886.542 & 2.447230e+05 & ⋯ & 0.0000000 & 0.000000 & 0.0000000 & 0.0000000 & 0.00000000 & 0.0000000 & 0.00000000 & 0.00000000 & 0.00000000 & 0.00000000\\\\\n",
       "\\end{tabular}\n"
      ],
      "text/markdown": [
       "\n",
       "A data.frame: 6 × 810\n",
       "\n",
       "| <!--/--> | Filter_No &lt;fct&gt; | location &lt;fct&gt; | ownership &lt;fct&gt; | date.month &lt;int&gt; | date.start &lt;fct&gt; | date.end &lt;fct&gt; | season &lt;fct&gt; | Stereum &lt;dbl&gt; | Trametes &lt;dbl&gt; | Botrytis &lt;dbl&gt; | ⋯ ⋯ | Terribacillus &lt;dbl&gt; | Dendroctonus &lt;dbl&gt; | Ilumatobacter &lt;dbl&gt; | Methylomonas &lt;dbl&gt; | Arachis &lt;dbl&gt; | Saccharomyces &lt;dbl&gt; | Haemonchus &lt;dbl&gt; | Salinimicrobium &lt;dbl&gt; | Lewinella &lt;dbl&gt; | Spinacia &lt;dbl&gt; |\n",
       "|---|---|---|---|---|---|---|---|---|---|---|---|---|---|---|---|---|---|---|---|---|---|\n",
       "| 1 | Filter202 | Campus     | P1         | 1 | 1/15/16 | 1/18/16 | winter |  52129.10 |  4177.315 | 5.866050e+03 | ⋯ | 0.0000000 | 0.113394 | 0.1058755 | 0.1045819 | 0.09894063 | 0.0886025 | 0.00000000 | 0.07485222 | 0.06815433 | 0.00000000 |\n",
       "| 2 | Filter203 | Campus     | P1         | 1 | 1/18/16 | 1/22/16 | winter | 337139.80 | 19033.011 | 1.092994e+02 | ⋯ | 0.0000000 | 0.000000 | 0.0000000 | 0.0000000 | 0.00000000 | 0.0000000 | 0.08270964 | 0.00000000 | 0.00000000 | 0.00000000 |\n",
       "| 3 | Filter205 | Background | Background | 1 | 1/19/16 | 1/22/16 | winter | 620137.03 | 40899.107 | 4.659014e+00 | ⋯ | 0.0000000 | 0.000000 | 0.0000000 | 0.0000000 | 0.00000000 | 0.0000000 | 0.00000000 | 0.00000000 | 0.00000000 | 0.00000000 |\n",
       "| 4 | Filter206 | Campus     | P1         | 1 | 1/22/16 | 1/25/16 | winter | 404757.55 | 63985.294 | 3.412166e+04 | ⋯ | 0.0000000 | 0.000000 | 0.0000000 | 0.0000000 | 0.00000000 | 0.0000000 | 0.00000000 | 0.00000000 | 0.00000000 | 0.06735035 |\n",
       "| 5 | Filter207 | Campus     | P1         | 1 | 1/25/16 | 1/28/16 | winter |  79655.19 | 39586.087 | 0.000000e+00 | ⋯ | 0.1157193 | 0.000000 | 0.0000000 | 0.0000000 | 0.00000000 | 0.0000000 | 0.00000000 | 0.00000000 | 0.00000000 | 0.00000000 |\n",
       "| 6 | Filter216 | Campus     | P1         | 2 | 2/19/16 | 2/21/16 | winter | 319508.27 |  7886.542 | 2.447230e+05 | ⋯ | 0.0000000 | 0.000000 | 0.0000000 | 0.0000000 | 0.00000000 | 0.0000000 | 0.00000000 | 0.00000000 | 0.00000000 | 0.00000000 |\n",
       "\n"
      ],
      "text/plain": [
       "  Filter_No location   ownership  date.month date.start date.end season\n",
       "1 Filter202 Campus     P1         1          1/15/16    1/18/16  winter\n",
       "2 Filter203 Campus     P1         1          1/18/16    1/22/16  winter\n",
       "3 Filter205 Background Background 1          1/19/16    1/22/16  winter\n",
       "4 Filter206 Campus     P1         1          1/22/16    1/25/16  winter\n",
       "5 Filter207 Campus     P1         1          1/25/16    1/28/16  winter\n",
       "6 Filter216 Campus     P1         2          2/19/16    2/21/16  winter\n",
       "  Stereum   Trametes  Botrytis     ⋯ Terribacillus Dendroctonus Ilumatobacter\n",
       "1  52129.10  4177.315 5.866050e+03 ⋯ 0.0000000     0.113394     0.1058755    \n",
       "2 337139.80 19033.011 1.092994e+02 ⋯ 0.0000000     0.000000     0.0000000    \n",
       "3 620137.03 40899.107 4.659014e+00 ⋯ 0.0000000     0.000000     0.0000000    \n",
       "4 404757.55 63985.294 3.412166e+04 ⋯ 0.0000000     0.000000     0.0000000    \n",
       "5  79655.19 39586.087 0.000000e+00 ⋯ 0.1157193     0.000000     0.0000000    \n",
       "6 319508.27  7886.542 2.447230e+05 ⋯ 0.0000000     0.000000     0.0000000    \n",
       "  Methylomonas Arachis    Saccharomyces Haemonchus Salinimicrobium Lewinella \n",
       "1 0.1045819    0.09894063 0.0886025     0.00000000 0.07485222      0.06815433\n",
       "2 0.0000000    0.00000000 0.0000000     0.08270964 0.00000000      0.00000000\n",
       "3 0.0000000    0.00000000 0.0000000     0.00000000 0.00000000      0.00000000\n",
       "4 0.0000000    0.00000000 0.0000000     0.00000000 0.00000000      0.00000000\n",
       "5 0.0000000    0.00000000 0.0000000     0.00000000 0.00000000      0.00000000\n",
       "6 0.0000000    0.00000000 0.0000000     0.00000000 0.00000000      0.00000000\n",
       "  Spinacia  \n",
       "1 0.00000000\n",
       "2 0.00000000\n",
       "3 0.00000000\n",
       "4 0.06735035\n",
       "5 0.00000000\n",
       "6 0.00000000"
      ]
     },
     "metadata": {},
     "output_type": "display_data"
    }
   ],
   "source": [
    "# Insert code\n",
    "head(genusData)"
   ]
  },
  {
   "cell_type": "markdown",
   "id": "fb563159",
   "metadata": {
    "id": "fb563159"
   },
   "source": [
    "In this dataset, each row represents data from one sample. This dataset combines metadata of the sample as well as biological data. \n",
    "\n",
    "The first seven columns are metadata of the samples, including:\n",
    "\n",
    "- `Filter_No`: name of the sample\n",
    "- `location`: where the sample is collected\n",
    "- `ownership`: which participant the sample belongs to\n",
    "- `date.month`: which month it is when the sample was collected\n",
    "- `date.start` and `date.end`: start and end day of the sampling period\n",
    "- `season`: during what season is the sample collected. \n",
    "\n",
    "Starting from Column 8, the column names are genus names, and the value are the abundance of the genus. \n",
    "\n",
    "4177.315 is the abundance of *Trametes*. This is a **normalized** reads count, 4177.315 of *Trametes* counts per million reads. This normalization helps **compare abundance across samples**."
   ]
  },
  {
   "cell_type": "code",
   "execution_count": 3,
   "id": "4d11cdf4",
   "metadata": {
    "id": "4d11cdf4",
    "vscode": {
     "languageId": "r"
    }
   },
   "outputs": [
    {
     "data": {
      "text/html": [
       "<style>\n",
       ".list-inline {list-style: none; margin:0; padding: 0}\n",
       ".list-inline>li {display: inline-block}\n",
       ".list-inline>li:not(:last-child)::after {content: \"\\00b7\"; padding: 0 .5ex}\n",
       "</style>\n",
       "<ol class=list-inline><li>'Trametes'</li><li>'Botrytis'</li><li>'Talaromyces'</li><li>'Penicillium'</li><li>'Melampsora'</li><li>'Preussia'</li><li>'Aureobasidium'</li><li>'Acinetobacter'</li><li>'Nostoc'</li><li>'Canis'</li><li>'Bacillus'</li><li>'Aspergillus'</li><li>'Phlebotomus'</li><li>'Trichoderma'</li><li>'Phlebiopsis'</li><li>'Psychrobacter'</li><li>'Betula'</li><li>'Phanerochaete'</li><li>'Byssochlamys'</li><li>'Pinus'</li><li>'Sistotremastrum'</li><li>'Schizopora'</li><li>'Propionibacterium'</li><li>'Picea'</li><li>'Fibulorhizoctonia'</li><li>'Clostridium'</li><li>'Phytophthora'</li><li>'Rhizopogon'</li><li>'Staphylococcus'</li><li>'Phialocephala'</li><li>'Gelatoporia'</li><li>'Cladosporium'</li><li>'Wolfiporia'</li><li>'Pseudogymnoascus'</li><li>'Pseudotsuga'</li><li>'Piloderma'</li><li>'Paracoccus'</li><li>'Ophiognomonia'</li><li>'Schizophyllum'</li><li>'Shiraia'</li><li>'Corynebacterium'</li><li>'Lactuca'</li><li>'Malassezia'</li><li>'Fomitiporia'</li><li>'Fusarium'</li><li>'Cronartium'</li><li>'Rhizoctonia'</li><li>'Humulus'</li><li>'Chrysoporthe'</li><li>'Stagonosporopsis'</li><li>'Phoma'</li><li>'Cylindrobasidium'</li><li>'Botryobasidium'</li><li>'Peniophora'</li><li>'Planomicrobium'</li><li>'Amorphotheca'</li><li>'Obba'</li><li>'Tulasnella'</li><li>'Hypsizygus'</li><li>'Planococcus'</li><li>'Grifola'</li><li>'Ephydra'</li><li>'Tricholoma'</li><li>'Niabella'</li><li>'Streptococcus'</li><li>'Amanita'</li><li>'Sanghuangporus'</li><li>'Beverwykella'</li><li>'Tilletiopsis'</li><li>'Malus'</li><li>'Lentinus'</li><li>'Hortaea'</li><li>'Sphingobacterium'</li><li>'Tolypothrix'</li><li>'Alternaria'</li><li>'Ganoderma'</li><li>'Niastella'</li><li>'Bulleromyces'</li><li>'Castanea'</li><li>'Segetibacter'</li><li>'Filobasidium'</li><li>'Enhydrobacter'</li><li>'Pleurotus'</li><li>'Cordyceps'</li><li>'Phellinus'</li><li>'Biatriospora'</li><li>'Zymoseptoria'</li><li>'Beauveria'</li><li>'Triops'</li><li>'Cryptococcus'</li><li>'Ricinus'</li><li>'Postia'</li><li>'Lucilia'</li><li>'Enterococcus'</li><li>'Chryseobacterium'</li><li>'Serendipita'</li><li>'Gallus'</li><li>'Calothrix'</li><li>'Paenibacillus'</li><li>'Heterobasidion'</li><li>'Pontibacter'</li><li>'Stemphylium'</li><li>'Hymenoscyphus'</li><li>'Glarea'</li><li>'Aegilops'</li><li>'Oidiodendron'</li><li>'Didymobotryum'</li><li>'Rosellinia'</li><li>'Hymenobacter'</li><li>'Agaricus'</li><li>'Ceraceosorus'</li><li>'Thermoactinomyces'</li><li>'Pedobacter'</li><li>'Rhizomucor'</li><li>'Dichomitus'</li><li>'Gymnopus'</li><li>'Arthrobacter'</li><li>'Taiwanofungus'</li><li>'Diaporthe'</li><li>'Neurospora'</li><li>'Fragaria'</li><li>'Baudoinia'</li><li>'Myceliophthora'</li><li>'Triticum'</li><li>'Sporosarcina'</li><li>'Veillonella'</li><li>'Corynespora'</li><li>'Punctularia'</li><li>'Ascochyta'</li><li>'Candida'</li><li>'Rhagoletis'</li><li>'Pyrus'</li><li>'Paraphoma'</li><li>'Citrus'</li><li>'Marssonina'</li><li>'Omphalotus'</li><li>'Dyadobacter'</li><li>'Venturia'</li><li>'Coprinopsis'</li><li>'Zea'</li><li>'Neolentinus'</li><li>'Mrakia'</li><li>'Flavobacterium'</li><li>'Exiguobacterium'</li><li>'Exophiala'</li><li>'Wallemia'</li><li>'Daedalea'</li><li>'Erythrobasidium'</li><li>'Plicaturopsis'</li><li>'Coniosporium'</li><li>'Gongronella'</li><li>'Fomitopsis'</li><li>'Isaria'</li><li>'Dioszegia'</li><li>'Actinidia'</li><li>'Galerina'</li><li>'Pyrenochaeta'</li><li>'Gillisia'</li><li>'Lentinula'</li><li>'Calocera'</li><li>'Leucoagaricus'</li><li>'Ustilago'</li><li>'Laccaria'</li><li>'Fibroporia'</li><li>'Sediminibacterium'</li><li>'Clavaria'</li><li>'Spirosoma'</li><li>'Exidia'</li><li>'Blautia'</li><li>'Gloeophyllum'</li><li>'Pseudomonas'</li><li>'Termitomyces'</li><li>'Sphingomonas'</li><li>'Baeospora'</li><li>'Mucilaginibacter'</li><li>'Jaapia'</li><li>'Taphrina'</li><li>'Piriformospora'</li><li>'Hypholoma'</li><li>'Laetiporus'</li><li>'Mycosphaerella'</li><li>'Lignosus'</li><li>'Acidomyces'</li><li>'Pantoea'</li><li>'Quercus'</li><li>'Auricularia'</li><li>'Ascocoryne'</li><li>'Oropetium'</li><li>'Hordeum'</li><li>'Juglans'</li><li>'Flammulina'</li><li>'Ochroconis'</li><li>'Colletotrichum'</li><li>'Lactobacillus'</li><li>'Columba'</li><li>'Crepidotus'</li><li>'Hebeloma'</li><li>'Valsa'</li><li>'Runella'</li><li>'Nodularia'</li><li>⋯</li><li>'Ziziphus'</li><li>'Mucor'</li><li>'Daldinia'</li><li>'Rhodopirellula'</li><li>'Populus'</li><li>'Syntrophaceticus'</li><li>'Opitutus'</li><li>'Tamlana'</li><li>'Knoxdaviesia'</li><li>'Sporolactobacillus'</li><li>'Cimex'</li><li>'Aptenodytes'</li><li>'Nonomuraea'</li><li>'Joostella'</li><li>'Globodera'</li><li>'Capsicum'</li><li>'Caldicoprobacter'</li><li>'Orchesella'</li><li>'Diachasma'</li><li>'Novosphingobium'</li><li>'Microvirga'</li><li>'Haloferula'</li><li>'Primula'</li><li>'Buchnera'</li><li>'Planctopirus'</li><li>'Alloascoidea'</li><li>'Opisthocomus'</li><li>'Catharanthus'</li><li>'Gemella'</li><li>'Myxococcus'</li><li>'Amphibacillus'</li><li>'Saccharina'</li><li>'Mangrovimonas'</li><li>'Singulisphaera'</li><li>'Aphanizomenon'</li><li>'Anaerovorax'</li><li>'Ureibacillus'</li><li>'Pseudoalteromonas'</li><li>'Alicyclobacillus'</li><li>'Desulfotomaculum'</li><li>'Delftia'</li><li>'Cronobacter'</li><li>'Shigella'</li><li>'Priapulus'</li><li>'Claviceps'</li><li>'Thermobaculum'</li><li>'Dactylellina'</li><li>'Penstemon'</li><li>'Streptobacillus'</li><li>'Aequorivita'</li><li>'Frankia'</li><li>'Tetranychus'</li><li>'Streptosporangium'</li><li>'Fusobacterium'</li><li>'Porphyromonas'</li><li>'Histoplasma'</li><li>'Microbacterium'</li><li>'Endocarpon'</li><li>'Sphaerobacter'</li><li>'Sneathia'</li><li>'Cladosiphon'</li><li>'Roseiflexus'</li><li>'Oscillatoria'</li><li>'Albophoma'</li><li>'Faecalicoccus'</li><li>'Hypochthonius'</li><li>'Anaerosalibacter'</li><li>'Meleagris'</li><li>'Rudanella'</li><li>'Chlorogloeopsis'</li><li>'Hyaloperonospora'</li><li>'Arabidopsis'</li><li>'Sordaria'</li><li>'Schlesneria'</li><li>'Agrobacterium'</li><li>'Erwinia'</li><li>'Ornithinibacillus'</li><li>'Thalassobacillus'</li><li>'Ancylostoma'</li><li>'Blumeria'</li><li>'Marinococcus'</li><li>'Virgibacillus'</li><li>'Elizabethkingia'</li><li>'Raffaelea'</li><li>'Chroococcidiopsis'</li><li>'Brugia'</li><li>'Belnapia'</li><li>'Wickerhamomyces'</li><li>'Butyrivibrio'</li><li>'Aethionema'</li><li>'Ethanoligenens'</li><li>'Phi29likevirus'</li><li>'Aureimonas'</li><li>'Escherichia'</li><li>'Cesiribacter'</li><li>'Cotesia'</li><li>'Kineococcus'</li><li>'Paludibacter'</li><li>'Rivularia'</li><li>'Roseomonas'</li><li>'Kalmanozyma'</li><li>'Methylocaldum'</li><li>'Theobroma'</li><li>'Mesorhizobium'</li><li>'Hungatella'</li><li>'Holdemanella'</li><li>'Pseudozyma'</li><li>'Holtermannia'</li><li>'Cyphomyrmex'</li><li>'Eurytemora'</li><li>'Devosia'</li><li>'Salinicoccus'</li><li>'Meiothermus'</li><li>'Candidatus.Microthrix'</li><li>'Ruminococcus'</li><li>'Batrachochytrium'</li><li>'Shewanella'</li><li>'Lyngbya'</li><li>'Halococcus'</li><li>'Microlunatus'</li><li>'Haliscomenobacter'</li><li>'Caulobacter'</li><li>'Terriglobus'</li><li>'Haloplasma'</li><li>'Skermanella'</li><li>'Yersinia'</li><li>'Chthoniobacter'</li><li>'Tetragenococcus'</li><li>'Actinobacillus'</li><li>'Candidatus.Solibacter'</li><li>'Frigoribacterium'</li><li>'Balansia'</li><li>'Morus'</li><li>'Deinococcus'</li><li>'Gemmata'</li><li>'Jeotgalibacillus'</li><li>'Marinomonas'</li><li>'Anaerobacillus'</li><li>'Amycolatopsis'</li><li>'Tepidanaerobacter'</li><li>'Thermobacillus'</li><li>'Achromobacter'</li><li>'Urostyla'</li><li>'Polaribacter'</li><li>'Brevibacterium'</li><li>'Arcobacter'</li><li>'Histophilus'</li><li>'Brevundimonas'</li><li>'Leptotrichia'</li><li>'Rhodococcus'</li><li>'Methanobacterium'</li><li>'Methylophilus'</li><li>'Acetonema'</li><li>'Alloiococcus'</li><li>'Acidovorax'</li><li>'Microcoleus'</li><li>'Frondihabitans'</li><li>'Colwellia'</li><li>'Aneurinibacillus'</li><li>'Rheinheimera'</li><li>'Mastigocladopsis'</li><li>'Noviherbaspirillum'</li><li>'Allofustis'</li><li>'Gilvimarinus'</li><li>'Emticicia'</li><li>'Silene'</li><li>'Magnaporthiopsis'</li><li>'Neochlamydia'</li><li>'Trebouxia'</li><li>'Viridibacillus'</li><li>'Linum'</li><li>'Catonella'</li><li>'Stenotrophomonas'</li><li>'Lunatimonas'</li><li>'Oryza'</li><li>'Neosynechococcus'</li><li>'Lysobacter'</li><li>'Mayetiola'</li><li>'Nosema'</li><li>'Hevea'</li><li>'Kytococcus'</li><li>'Apis'</li><li>'Rahnella'</li><li>'Dichanthelium'</li><li>'Fenollaria'</li><li>'Desulfitobacterium'</li><li>'Tannerella'</li><li>'Rhizobium'</li><li>'Mobiluncus'</li><li>'Nitrosospira'</li><li>'Terribacillus'</li><li>'Dendroctonus'</li><li>'Ilumatobacter'</li><li>'Methylomonas'</li><li>'Arachis'</li><li>'Saccharomyces'</li><li>'Haemonchus'</li><li>'Salinimicrobium'</li><li>'Lewinella'</li><li>'Spinacia'</li></ol>\n"
      ],
      "text/latex": [
       "\\begin{enumerate*}\n",
       "\\item 'Trametes'\n",
       "\\item 'Botrytis'\n",
       "\\item 'Talaromyces'\n",
       "\\item 'Penicillium'\n",
       "\\item 'Melampsora'\n",
       "\\item 'Preussia'\n",
       "\\item 'Aureobasidium'\n",
       "\\item 'Acinetobacter'\n",
       "\\item 'Nostoc'\n",
       "\\item 'Canis'\n",
       "\\item 'Bacillus'\n",
       "\\item 'Aspergillus'\n",
       "\\item 'Phlebotomus'\n",
       "\\item 'Trichoderma'\n",
       "\\item 'Phlebiopsis'\n",
       "\\item 'Psychrobacter'\n",
       "\\item 'Betula'\n",
       "\\item 'Phanerochaete'\n",
       "\\item 'Byssochlamys'\n",
       "\\item 'Pinus'\n",
       "\\item 'Sistotremastrum'\n",
       "\\item 'Schizopora'\n",
       "\\item 'Propionibacterium'\n",
       "\\item 'Picea'\n",
       "\\item 'Fibulorhizoctonia'\n",
       "\\item 'Clostridium'\n",
       "\\item 'Phytophthora'\n",
       "\\item 'Rhizopogon'\n",
       "\\item 'Staphylococcus'\n",
       "\\item 'Phialocephala'\n",
       "\\item 'Gelatoporia'\n",
       "\\item 'Cladosporium'\n",
       "\\item 'Wolfiporia'\n",
       "\\item 'Pseudogymnoascus'\n",
       "\\item 'Pseudotsuga'\n",
       "\\item 'Piloderma'\n",
       "\\item 'Paracoccus'\n",
       "\\item 'Ophiognomonia'\n",
       "\\item 'Schizophyllum'\n",
       "\\item 'Shiraia'\n",
       "\\item 'Corynebacterium'\n",
       "\\item 'Lactuca'\n",
       "\\item 'Malassezia'\n",
       "\\item 'Fomitiporia'\n",
       "\\item 'Fusarium'\n",
       "\\item 'Cronartium'\n",
       "\\item 'Rhizoctonia'\n",
       "\\item 'Humulus'\n",
       "\\item 'Chrysoporthe'\n",
       "\\item 'Stagonosporopsis'\n",
       "\\item 'Phoma'\n",
       "\\item 'Cylindrobasidium'\n",
       "\\item 'Botryobasidium'\n",
       "\\item 'Peniophora'\n",
       "\\item 'Planomicrobium'\n",
       "\\item 'Amorphotheca'\n",
       "\\item 'Obba'\n",
       "\\item 'Tulasnella'\n",
       "\\item 'Hypsizygus'\n",
       "\\item 'Planococcus'\n",
       "\\item 'Grifola'\n",
       "\\item 'Ephydra'\n",
       "\\item 'Tricholoma'\n",
       "\\item 'Niabella'\n",
       "\\item 'Streptococcus'\n",
       "\\item 'Amanita'\n",
       "\\item 'Sanghuangporus'\n",
       "\\item 'Beverwykella'\n",
       "\\item 'Tilletiopsis'\n",
       "\\item 'Malus'\n",
       "\\item 'Lentinus'\n",
       "\\item 'Hortaea'\n",
       "\\item 'Sphingobacterium'\n",
       "\\item 'Tolypothrix'\n",
       "\\item 'Alternaria'\n",
       "\\item 'Ganoderma'\n",
       "\\item 'Niastella'\n",
       "\\item 'Bulleromyces'\n",
       "\\item 'Castanea'\n",
       "\\item 'Segetibacter'\n",
       "\\item 'Filobasidium'\n",
       "\\item 'Enhydrobacter'\n",
       "\\item 'Pleurotus'\n",
       "\\item 'Cordyceps'\n",
       "\\item 'Phellinus'\n",
       "\\item 'Biatriospora'\n",
       "\\item 'Zymoseptoria'\n",
       "\\item 'Beauveria'\n",
       "\\item 'Triops'\n",
       "\\item 'Cryptococcus'\n",
       "\\item 'Ricinus'\n",
       "\\item 'Postia'\n",
       "\\item 'Lucilia'\n",
       "\\item 'Enterococcus'\n",
       "\\item 'Chryseobacterium'\n",
       "\\item 'Serendipita'\n",
       "\\item 'Gallus'\n",
       "\\item 'Calothrix'\n",
       "\\item 'Paenibacillus'\n",
       "\\item 'Heterobasidion'\n",
       "\\item 'Pontibacter'\n",
       "\\item 'Stemphylium'\n",
       "\\item 'Hymenoscyphus'\n",
       "\\item 'Glarea'\n",
       "\\item 'Aegilops'\n",
       "\\item 'Oidiodendron'\n",
       "\\item 'Didymobotryum'\n",
       "\\item 'Rosellinia'\n",
       "\\item 'Hymenobacter'\n",
       "\\item 'Agaricus'\n",
       "\\item 'Ceraceosorus'\n",
       "\\item 'Thermoactinomyces'\n",
       "\\item 'Pedobacter'\n",
       "\\item 'Rhizomucor'\n",
       "\\item 'Dichomitus'\n",
       "\\item 'Gymnopus'\n",
       "\\item 'Arthrobacter'\n",
       "\\item 'Taiwanofungus'\n",
       "\\item 'Diaporthe'\n",
       "\\item 'Neurospora'\n",
       "\\item 'Fragaria'\n",
       "\\item 'Baudoinia'\n",
       "\\item 'Myceliophthora'\n",
       "\\item 'Triticum'\n",
       "\\item 'Sporosarcina'\n",
       "\\item 'Veillonella'\n",
       "\\item 'Corynespora'\n",
       "\\item 'Punctularia'\n",
       "\\item 'Ascochyta'\n",
       "\\item 'Candida'\n",
       "\\item 'Rhagoletis'\n",
       "\\item 'Pyrus'\n",
       "\\item 'Paraphoma'\n",
       "\\item 'Citrus'\n",
       "\\item 'Marssonina'\n",
       "\\item 'Omphalotus'\n",
       "\\item 'Dyadobacter'\n",
       "\\item 'Venturia'\n",
       "\\item 'Coprinopsis'\n",
       "\\item 'Zea'\n",
       "\\item 'Neolentinus'\n",
       "\\item 'Mrakia'\n",
       "\\item 'Flavobacterium'\n",
       "\\item 'Exiguobacterium'\n",
       "\\item 'Exophiala'\n",
       "\\item 'Wallemia'\n",
       "\\item 'Daedalea'\n",
       "\\item 'Erythrobasidium'\n",
       "\\item 'Plicaturopsis'\n",
       "\\item 'Coniosporium'\n",
       "\\item 'Gongronella'\n",
       "\\item 'Fomitopsis'\n",
       "\\item 'Isaria'\n",
       "\\item 'Dioszegia'\n",
       "\\item 'Actinidia'\n",
       "\\item 'Galerina'\n",
       "\\item 'Pyrenochaeta'\n",
       "\\item 'Gillisia'\n",
       "\\item 'Lentinula'\n",
       "\\item 'Calocera'\n",
       "\\item 'Leucoagaricus'\n",
       "\\item 'Ustilago'\n",
       "\\item 'Laccaria'\n",
       "\\item 'Fibroporia'\n",
       "\\item 'Sediminibacterium'\n",
       "\\item 'Clavaria'\n",
       "\\item 'Spirosoma'\n",
       "\\item 'Exidia'\n",
       "\\item 'Blautia'\n",
       "\\item 'Gloeophyllum'\n",
       "\\item 'Pseudomonas'\n",
       "\\item 'Termitomyces'\n",
       "\\item 'Sphingomonas'\n",
       "\\item 'Baeospora'\n",
       "\\item 'Mucilaginibacter'\n",
       "\\item 'Jaapia'\n",
       "\\item 'Taphrina'\n",
       "\\item 'Piriformospora'\n",
       "\\item 'Hypholoma'\n",
       "\\item 'Laetiporus'\n",
       "\\item 'Mycosphaerella'\n",
       "\\item 'Lignosus'\n",
       "\\item 'Acidomyces'\n",
       "\\item 'Pantoea'\n",
       "\\item 'Quercus'\n",
       "\\item 'Auricularia'\n",
       "\\item 'Ascocoryne'\n",
       "\\item 'Oropetium'\n",
       "\\item 'Hordeum'\n",
       "\\item 'Juglans'\n",
       "\\item 'Flammulina'\n",
       "\\item 'Ochroconis'\n",
       "\\item 'Colletotrichum'\n",
       "\\item 'Lactobacillus'\n",
       "\\item 'Columba'\n",
       "\\item 'Crepidotus'\n",
       "\\item 'Hebeloma'\n",
       "\\item 'Valsa'\n",
       "\\item 'Runella'\n",
       "\\item 'Nodularia'\n",
       "\\item ⋯\n",
       "\\item 'Ziziphus'\n",
       "\\item 'Mucor'\n",
       "\\item 'Daldinia'\n",
       "\\item 'Rhodopirellula'\n",
       "\\item 'Populus'\n",
       "\\item 'Syntrophaceticus'\n",
       "\\item 'Opitutus'\n",
       "\\item 'Tamlana'\n",
       "\\item 'Knoxdaviesia'\n",
       "\\item 'Sporolactobacillus'\n",
       "\\item 'Cimex'\n",
       "\\item 'Aptenodytes'\n",
       "\\item 'Nonomuraea'\n",
       "\\item 'Joostella'\n",
       "\\item 'Globodera'\n",
       "\\item 'Capsicum'\n",
       "\\item 'Caldicoprobacter'\n",
       "\\item 'Orchesella'\n",
       "\\item 'Diachasma'\n",
       "\\item 'Novosphingobium'\n",
       "\\item 'Microvirga'\n",
       "\\item 'Haloferula'\n",
       "\\item 'Primula'\n",
       "\\item 'Buchnera'\n",
       "\\item 'Planctopirus'\n",
       "\\item 'Alloascoidea'\n",
       "\\item 'Opisthocomus'\n",
       "\\item 'Catharanthus'\n",
       "\\item 'Gemella'\n",
       "\\item 'Myxococcus'\n",
       "\\item 'Amphibacillus'\n",
       "\\item 'Saccharina'\n",
       "\\item 'Mangrovimonas'\n",
       "\\item 'Singulisphaera'\n",
       "\\item 'Aphanizomenon'\n",
       "\\item 'Anaerovorax'\n",
       "\\item 'Ureibacillus'\n",
       "\\item 'Pseudoalteromonas'\n",
       "\\item 'Alicyclobacillus'\n",
       "\\item 'Desulfotomaculum'\n",
       "\\item 'Delftia'\n",
       "\\item 'Cronobacter'\n",
       "\\item 'Shigella'\n",
       "\\item 'Priapulus'\n",
       "\\item 'Claviceps'\n",
       "\\item 'Thermobaculum'\n",
       "\\item 'Dactylellina'\n",
       "\\item 'Penstemon'\n",
       "\\item 'Streptobacillus'\n",
       "\\item 'Aequorivita'\n",
       "\\item 'Frankia'\n",
       "\\item 'Tetranychus'\n",
       "\\item 'Streptosporangium'\n",
       "\\item 'Fusobacterium'\n",
       "\\item 'Porphyromonas'\n",
       "\\item 'Histoplasma'\n",
       "\\item 'Microbacterium'\n",
       "\\item 'Endocarpon'\n",
       "\\item 'Sphaerobacter'\n",
       "\\item 'Sneathia'\n",
       "\\item 'Cladosiphon'\n",
       "\\item 'Roseiflexus'\n",
       "\\item 'Oscillatoria'\n",
       "\\item 'Albophoma'\n",
       "\\item 'Faecalicoccus'\n",
       "\\item 'Hypochthonius'\n",
       "\\item 'Anaerosalibacter'\n",
       "\\item 'Meleagris'\n",
       "\\item 'Rudanella'\n",
       "\\item 'Chlorogloeopsis'\n",
       "\\item 'Hyaloperonospora'\n",
       "\\item 'Arabidopsis'\n",
       "\\item 'Sordaria'\n",
       "\\item 'Schlesneria'\n",
       "\\item 'Agrobacterium'\n",
       "\\item 'Erwinia'\n",
       "\\item 'Ornithinibacillus'\n",
       "\\item 'Thalassobacillus'\n",
       "\\item 'Ancylostoma'\n",
       "\\item 'Blumeria'\n",
       "\\item 'Marinococcus'\n",
       "\\item 'Virgibacillus'\n",
       "\\item 'Elizabethkingia'\n",
       "\\item 'Raffaelea'\n",
       "\\item 'Chroococcidiopsis'\n",
       "\\item 'Brugia'\n",
       "\\item 'Belnapia'\n",
       "\\item 'Wickerhamomyces'\n",
       "\\item 'Butyrivibrio'\n",
       "\\item 'Aethionema'\n",
       "\\item 'Ethanoligenens'\n",
       "\\item 'Phi29likevirus'\n",
       "\\item 'Aureimonas'\n",
       "\\item 'Escherichia'\n",
       "\\item 'Cesiribacter'\n",
       "\\item 'Cotesia'\n",
       "\\item 'Kineococcus'\n",
       "\\item 'Paludibacter'\n",
       "\\item 'Rivularia'\n",
       "\\item 'Roseomonas'\n",
       "\\item 'Kalmanozyma'\n",
       "\\item 'Methylocaldum'\n",
       "\\item 'Theobroma'\n",
       "\\item 'Mesorhizobium'\n",
       "\\item 'Hungatella'\n",
       "\\item 'Holdemanella'\n",
       "\\item 'Pseudozyma'\n",
       "\\item 'Holtermannia'\n",
       "\\item 'Cyphomyrmex'\n",
       "\\item 'Eurytemora'\n",
       "\\item 'Devosia'\n",
       "\\item 'Salinicoccus'\n",
       "\\item 'Meiothermus'\n",
       "\\item 'Candidatus.Microthrix'\n",
       "\\item 'Ruminococcus'\n",
       "\\item 'Batrachochytrium'\n",
       "\\item 'Shewanella'\n",
       "\\item 'Lyngbya'\n",
       "\\item 'Halococcus'\n",
       "\\item 'Microlunatus'\n",
       "\\item 'Haliscomenobacter'\n",
       "\\item 'Caulobacter'\n",
       "\\item 'Terriglobus'\n",
       "\\item 'Haloplasma'\n",
       "\\item 'Skermanella'\n",
       "\\item 'Yersinia'\n",
       "\\item 'Chthoniobacter'\n",
       "\\item 'Tetragenococcus'\n",
       "\\item 'Actinobacillus'\n",
       "\\item 'Candidatus.Solibacter'\n",
       "\\item 'Frigoribacterium'\n",
       "\\item 'Balansia'\n",
       "\\item 'Morus'\n",
       "\\item 'Deinococcus'\n",
       "\\item 'Gemmata'\n",
       "\\item 'Jeotgalibacillus'\n",
       "\\item 'Marinomonas'\n",
       "\\item 'Anaerobacillus'\n",
       "\\item 'Amycolatopsis'\n",
       "\\item 'Tepidanaerobacter'\n",
       "\\item 'Thermobacillus'\n",
       "\\item 'Achromobacter'\n",
       "\\item 'Urostyla'\n",
       "\\item 'Polaribacter'\n",
       "\\item 'Brevibacterium'\n",
       "\\item 'Arcobacter'\n",
       "\\item 'Histophilus'\n",
       "\\item 'Brevundimonas'\n",
       "\\item 'Leptotrichia'\n",
       "\\item 'Rhodococcus'\n",
       "\\item 'Methanobacterium'\n",
       "\\item 'Methylophilus'\n",
       "\\item 'Acetonema'\n",
       "\\item 'Alloiococcus'\n",
       "\\item 'Acidovorax'\n",
       "\\item 'Microcoleus'\n",
       "\\item 'Frondihabitans'\n",
       "\\item 'Colwellia'\n",
       "\\item 'Aneurinibacillus'\n",
       "\\item 'Rheinheimera'\n",
       "\\item 'Mastigocladopsis'\n",
       "\\item 'Noviherbaspirillum'\n",
       "\\item 'Allofustis'\n",
       "\\item 'Gilvimarinus'\n",
       "\\item 'Emticicia'\n",
       "\\item 'Silene'\n",
       "\\item 'Magnaporthiopsis'\n",
       "\\item 'Neochlamydia'\n",
       "\\item 'Trebouxia'\n",
       "\\item 'Viridibacillus'\n",
       "\\item 'Linum'\n",
       "\\item 'Catonella'\n",
       "\\item 'Stenotrophomonas'\n",
       "\\item 'Lunatimonas'\n",
       "\\item 'Oryza'\n",
       "\\item 'Neosynechococcus'\n",
       "\\item 'Lysobacter'\n",
       "\\item 'Mayetiola'\n",
       "\\item 'Nosema'\n",
       "\\item 'Hevea'\n",
       "\\item 'Kytococcus'\n",
       "\\item 'Apis'\n",
       "\\item 'Rahnella'\n",
       "\\item 'Dichanthelium'\n",
       "\\item 'Fenollaria'\n",
       "\\item 'Desulfitobacterium'\n",
       "\\item 'Tannerella'\n",
       "\\item 'Rhizobium'\n",
       "\\item 'Mobiluncus'\n",
       "\\item 'Nitrosospira'\n",
       "\\item 'Terribacillus'\n",
       "\\item 'Dendroctonus'\n",
       "\\item 'Ilumatobacter'\n",
       "\\item 'Methylomonas'\n",
       "\\item 'Arachis'\n",
       "\\item 'Saccharomyces'\n",
       "\\item 'Haemonchus'\n",
       "\\item 'Salinimicrobium'\n",
       "\\item 'Lewinella'\n",
       "\\item 'Spinacia'\n",
       "\\end{enumerate*}\n"
      ],
      "text/markdown": [
       "1. 'Trametes'\n",
       "2. 'Botrytis'\n",
       "3. 'Talaromyces'\n",
       "4. 'Penicillium'\n",
       "5. 'Melampsora'\n",
       "6. 'Preussia'\n",
       "7. 'Aureobasidium'\n",
       "8. 'Acinetobacter'\n",
       "9. 'Nostoc'\n",
       "10. 'Canis'\n",
       "11. 'Bacillus'\n",
       "12. 'Aspergillus'\n",
       "13. 'Phlebotomus'\n",
       "14. 'Trichoderma'\n",
       "15. 'Phlebiopsis'\n",
       "16. 'Psychrobacter'\n",
       "17. 'Betula'\n",
       "18. 'Phanerochaete'\n",
       "19. 'Byssochlamys'\n",
       "20. 'Pinus'\n",
       "21. 'Sistotremastrum'\n",
       "22. 'Schizopora'\n",
       "23. 'Propionibacterium'\n",
       "24. 'Picea'\n",
       "25. 'Fibulorhizoctonia'\n",
       "26. 'Clostridium'\n",
       "27. 'Phytophthora'\n",
       "28. 'Rhizopogon'\n",
       "29. 'Staphylococcus'\n",
       "30. 'Phialocephala'\n",
       "31. 'Gelatoporia'\n",
       "32. 'Cladosporium'\n",
       "33. 'Wolfiporia'\n",
       "34. 'Pseudogymnoascus'\n",
       "35. 'Pseudotsuga'\n",
       "36. 'Piloderma'\n",
       "37. 'Paracoccus'\n",
       "38. 'Ophiognomonia'\n",
       "39. 'Schizophyllum'\n",
       "40. 'Shiraia'\n",
       "41. 'Corynebacterium'\n",
       "42. 'Lactuca'\n",
       "43. 'Malassezia'\n",
       "44. 'Fomitiporia'\n",
       "45. 'Fusarium'\n",
       "46. 'Cronartium'\n",
       "47. 'Rhizoctonia'\n",
       "48. 'Humulus'\n",
       "49. 'Chrysoporthe'\n",
       "50. 'Stagonosporopsis'\n",
       "51. 'Phoma'\n",
       "52. 'Cylindrobasidium'\n",
       "53. 'Botryobasidium'\n",
       "54. 'Peniophora'\n",
       "55. 'Planomicrobium'\n",
       "56. 'Amorphotheca'\n",
       "57. 'Obba'\n",
       "58. 'Tulasnella'\n",
       "59. 'Hypsizygus'\n",
       "60. 'Planococcus'\n",
       "61. 'Grifola'\n",
       "62. 'Ephydra'\n",
       "63. 'Tricholoma'\n",
       "64. 'Niabella'\n",
       "65. 'Streptococcus'\n",
       "66. 'Amanita'\n",
       "67. 'Sanghuangporus'\n",
       "68. 'Beverwykella'\n",
       "69. 'Tilletiopsis'\n",
       "70. 'Malus'\n",
       "71. 'Lentinus'\n",
       "72. 'Hortaea'\n",
       "73. 'Sphingobacterium'\n",
       "74. 'Tolypothrix'\n",
       "75. 'Alternaria'\n",
       "76. 'Ganoderma'\n",
       "77. 'Niastella'\n",
       "78. 'Bulleromyces'\n",
       "79. 'Castanea'\n",
       "80. 'Segetibacter'\n",
       "81. 'Filobasidium'\n",
       "82. 'Enhydrobacter'\n",
       "83. 'Pleurotus'\n",
       "84. 'Cordyceps'\n",
       "85. 'Phellinus'\n",
       "86. 'Biatriospora'\n",
       "87. 'Zymoseptoria'\n",
       "88. 'Beauveria'\n",
       "89. 'Triops'\n",
       "90. 'Cryptococcus'\n",
       "91. 'Ricinus'\n",
       "92. 'Postia'\n",
       "93. 'Lucilia'\n",
       "94. 'Enterococcus'\n",
       "95. 'Chryseobacterium'\n",
       "96. 'Serendipita'\n",
       "97. 'Gallus'\n",
       "98. 'Calothrix'\n",
       "99. 'Paenibacillus'\n",
       "100. 'Heterobasidion'\n",
       "101. 'Pontibacter'\n",
       "102. 'Stemphylium'\n",
       "103. 'Hymenoscyphus'\n",
       "104. 'Glarea'\n",
       "105. 'Aegilops'\n",
       "106. 'Oidiodendron'\n",
       "107. 'Didymobotryum'\n",
       "108. 'Rosellinia'\n",
       "109. 'Hymenobacter'\n",
       "110. 'Agaricus'\n",
       "111. 'Ceraceosorus'\n",
       "112. 'Thermoactinomyces'\n",
       "113. 'Pedobacter'\n",
       "114. 'Rhizomucor'\n",
       "115. 'Dichomitus'\n",
       "116. 'Gymnopus'\n",
       "117. 'Arthrobacter'\n",
       "118. 'Taiwanofungus'\n",
       "119. 'Diaporthe'\n",
       "120. 'Neurospora'\n",
       "121. 'Fragaria'\n",
       "122. 'Baudoinia'\n",
       "123. 'Myceliophthora'\n",
       "124. 'Triticum'\n",
       "125. 'Sporosarcina'\n",
       "126. 'Veillonella'\n",
       "127. 'Corynespora'\n",
       "128. 'Punctularia'\n",
       "129. 'Ascochyta'\n",
       "130. 'Candida'\n",
       "131. 'Rhagoletis'\n",
       "132. 'Pyrus'\n",
       "133. 'Paraphoma'\n",
       "134. 'Citrus'\n",
       "135. 'Marssonina'\n",
       "136. 'Omphalotus'\n",
       "137. 'Dyadobacter'\n",
       "138. 'Venturia'\n",
       "139. 'Coprinopsis'\n",
       "140. 'Zea'\n",
       "141. 'Neolentinus'\n",
       "142. 'Mrakia'\n",
       "143. 'Flavobacterium'\n",
       "144. 'Exiguobacterium'\n",
       "145. 'Exophiala'\n",
       "146. 'Wallemia'\n",
       "147. 'Daedalea'\n",
       "148. 'Erythrobasidium'\n",
       "149. 'Plicaturopsis'\n",
       "150. 'Coniosporium'\n",
       "151. 'Gongronella'\n",
       "152. 'Fomitopsis'\n",
       "153. 'Isaria'\n",
       "154. 'Dioszegia'\n",
       "155. 'Actinidia'\n",
       "156. 'Galerina'\n",
       "157. 'Pyrenochaeta'\n",
       "158. 'Gillisia'\n",
       "159. 'Lentinula'\n",
       "160. 'Calocera'\n",
       "161. 'Leucoagaricus'\n",
       "162. 'Ustilago'\n",
       "163. 'Laccaria'\n",
       "164. 'Fibroporia'\n",
       "165. 'Sediminibacterium'\n",
       "166. 'Clavaria'\n",
       "167. 'Spirosoma'\n",
       "168. 'Exidia'\n",
       "169. 'Blautia'\n",
       "170. 'Gloeophyllum'\n",
       "171. 'Pseudomonas'\n",
       "172. 'Termitomyces'\n",
       "173. 'Sphingomonas'\n",
       "174. 'Baeospora'\n",
       "175. 'Mucilaginibacter'\n",
       "176. 'Jaapia'\n",
       "177. 'Taphrina'\n",
       "178. 'Piriformospora'\n",
       "179. 'Hypholoma'\n",
       "180. 'Laetiporus'\n",
       "181. 'Mycosphaerella'\n",
       "182. 'Lignosus'\n",
       "183. 'Acidomyces'\n",
       "184. 'Pantoea'\n",
       "185. 'Quercus'\n",
       "186. 'Auricularia'\n",
       "187. 'Ascocoryne'\n",
       "188. 'Oropetium'\n",
       "189. 'Hordeum'\n",
       "190. 'Juglans'\n",
       "191. 'Flammulina'\n",
       "192. 'Ochroconis'\n",
       "193. 'Colletotrichum'\n",
       "194. 'Lactobacillus'\n",
       "195. 'Columba'\n",
       "196. 'Crepidotus'\n",
       "197. 'Hebeloma'\n",
       "198. 'Valsa'\n",
       "199. 'Runella'\n",
       "200. 'Nodularia'\n",
       "201. ⋯\n",
       "202. 'Ziziphus'\n",
       "203. 'Mucor'\n",
       "204. 'Daldinia'\n",
       "205. 'Rhodopirellula'\n",
       "206. 'Populus'\n",
       "207. 'Syntrophaceticus'\n",
       "208. 'Opitutus'\n",
       "209. 'Tamlana'\n",
       "210. 'Knoxdaviesia'\n",
       "211. 'Sporolactobacillus'\n",
       "212. 'Cimex'\n",
       "213. 'Aptenodytes'\n",
       "214. 'Nonomuraea'\n",
       "215. 'Joostella'\n",
       "216. 'Globodera'\n",
       "217. 'Capsicum'\n",
       "218. 'Caldicoprobacter'\n",
       "219. 'Orchesella'\n",
       "220. 'Diachasma'\n",
       "221. 'Novosphingobium'\n",
       "222. 'Microvirga'\n",
       "223. 'Haloferula'\n",
       "224. 'Primula'\n",
       "225. 'Buchnera'\n",
       "226. 'Planctopirus'\n",
       "227. 'Alloascoidea'\n",
       "228. 'Opisthocomus'\n",
       "229. 'Catharanthus'\n",
       "230. 'Gemella'\n",
       "231. 'Myxococcus'\n",
       "232. 'Amphibacillus'\n",
       "233. 'Saccharina'\n",
       "234. 'Mangrovimonas'\n",
       "235. 'Singulisphaera'\n",
       "236. 'Aphanizomenon'\n",
       "237. 'Anaerovorax'\n",
       "238. 'Ureibacillus'\n",
       "239. 'Pseudoalteromonas'\n",
       "240. 'Alicyclobacillus'\n",
       "241. 'Desulfotomaculum'\n",
       "242. 'Delftia'\n",
       "243. 'Cronobacter'\n",
       "244. 'Shigella'\n",
       "245. 'Priapulus'\n",
       "246. 'Claviceps'\n",
       "247. 'Thermobaculum'\n",
       "248. 'Dactylellina'\n",
       "249. 'Penstemon'\n",
       "250. 'Streptobacillus'\n",
       "251. 'Aequorivita'\n",
       "252. 'Frankia'\n",
       "253. 'Tetranychus'\n",
       "254. 'Streptosporangium'\n",
       "255. 'Fusobacterium'\n",
       "256. 'Porphyromonas'\n",
       "257. 'Histoplasma'\n",
       "258. 'Microbacterium'\n",
       "259. 'Endocarpon'\n",
       "260. 'Sphaerobacter'\n",
       "261. 'Sneathia'\n",
       "262. 'Cladosiphon'\n",
       "263. 'Roseiflexus'\n",
       "264. 'Oscillatoria'\n",
       "265. 'Albophoma'\n",
       "266. 'Faecalicoccus'\n",
       "267. 'Hypochthonius'\n",
       "268. 'Anaerosalibacter'\n",
       "269. 'Meleagris'\n",
       "270. 'Rudanella'\n",
       "271. 'Chlorogloeopsis'\n",
       "272. 'Hyaloperonospora'\n",
       "273. 'Arabidopsis'\n",
       "274. 'Sordaria'\n",
       "275. 'Schlesneria'\n",
       "276. 'Agrobacterium'\n",
       "277. 'Erwinia'\n",
       "278. 'Ornithinibacillus'\n",
       "279. 'Thalassobacillus'\n",
       "280. 'Ancylostoma'\n",
       "281. 'Blumeria'\n",
       "282. 'Marinococcus'\n",
       "283. 'Virgibacillus'\n",
       "284. 'Elizabethkingia'\n",
       "285. 'Raffaelea'\n",
       "286. 'Chroococcidiopsis'\n",
       "287. 'Brugia'\n",
       "288. 'Belnapia'\n",
       "289. 'Wickerhamomyces'\n",
       "290. 'Butyrivibrio'\n",
       "291. 'Aethionema'\n",
       "292. 'Ethanoligenens'\n",
       "293. 'Phi29likevirus'\n",
       "294. 'Aureimonas'\n",
       "295. 'Escherichia'\n",
       "296. 'Cesiribacter'\n",
       "297. 'Cotesia'\n",
       "298. 'Kineococcus'\n",
       "299. 'Paludibacter'\n",
       "300. 'Rivularia'\n",
       "301. 'Roseomonas'\n",
       "302. 'Kalmanozyma'\n",
       "303. 'Methylocaldum'\n",
       "304. 'Theobroma'\n",
       "305. 'Mesorhizobium'\n",
       "306. 'Hungatella'\n",
       "307. 'Holdemanella'\n",
       "308. 'Pseudozyma'\n",
       "309. 'Holtermannia'\n",
       "310. 'Cyphomyrmex'\n",
       "311. 'Eurytemora'\n",
       "312. 'Devosia'\n",
       "313. 'Salinicoccus'\n",
       "314. 'Meiothermus'\n",
       "315. 'Candidatus.Microthrix'\n",
       "316. 'Ruminococcus'\n",
       "317. 'Batrachochytrium'\n",
       "318. 'Shewanella'\n",
       "319. 'Lyngbya'\n",
       "320. 'Halococcus'\n",
       "321. 'Microlunatus'\n",
       "322. 'Haliscomenobacter'\n",
       "323. 'Caulobacter'\n",
       "324. 'Terriglobus'\n",
       "325. 'Haloplasma'\n",
       "326. 'Skermanella'\n",
       "327. 'Yersinia'\n",
       "328. 'Chthoniobacter'\n",
       "329. 'Tetragenococcus'\n",
       "330. 'Actinobacillus'\n",
       "331. 'Candidatus.Solibacter'\n",
       "332. 'Frigoribacterium'\n",
       "333. 'Balansia'\n",
       "334. 'Morus'\n",
       "335. 'Deinococcus'\n",
       "336. 'Gemmata'\n",
       "337. 'Jeotgalibacillus'\n",
       "338. 'Marinomonas'\n",
       "339. 'Anaerobacillus'\n",
       "340. 'Amycolatopsis'\n",
       "341. 'Tepidanaerobacter'\n",
       "342. 'Thermobacillus'\n",
       "343. 'Achromobacter'\n",
       "344. 'Urostyla'\n",
       "345. 'Polaribacter'\n",
       "346. 'Brevibacterium'\n",
       "347. 'Arcobacter'\n",
       "348. 'Histophilus'\n",
       "349. 'Brevundimonas'\n",
       "350. 'Leptotrichia'\n",
       "351. 'Rhodococcus'\n",
       "352. 'Methanobacterium'\n",
       "353. 'Methylophilus'\n",
       "354. 'Acetonema'\n",
       "355. 'Alloiococcus'\n",
       "356. 'Acidovorax'\n",
       "357. 'Microcoleus'\n",
       "358. 'Frondihabitans'\n",
       "359. 'Colwellia'\n",
       "360. 'Aneurinibacillus'\n",
       "361. 'Rheinheimera'\n",
       "362. 'Mastigocladopsis'\n",
       "363. 'Noviherbaspirillum'\n",
       "364. 'Allofustis'\n",
       "365. 'Gilvimarinus'\n",
       "366. 'Emticicia'\n",
       "367. 'Silene'\n",
       "368. 'Magnaporthiopsis'\n",
       "369. 'Neochlamydia'\n",
       "370. 'Trebouxia'\n",
       "371. 'Viridibacillus'\n",
       "372. 'Linum'\n",
       "373. 'Catonella'\n",
       "374. 'Stenotrophomonas'\n",
       "375. 'Lunatimonas'\n",
       "376. 'Oryza'\n",
       "377. 'Neosynechococcus'\n",
       "378. 'Lysobacter'\n",
       "379. 'Mayetiola'\n",
       "380. 'Nosema'\n",
       "381. 'Hevea'\n",
       "382. 'Kytococcus'\n",
       "383. 'Apis'\n",
       "384. 'Rahnella'\n",
       "385. 'Dichanthelium'\n",
       "386. 'Fenollaria'\n",
       "387. 'Desulfitobacterium'\n",
       "388. 'Tannerella'\n",
       "389. 'Rhizobium'\n",
       "390. 'Mobiluncus'\n",
       "391. 'Nitrosospira'\n",
       "392. 'Terribacillus'\n",
       "393. 'Dendroctonus'\n",
       "394. 'Ilumatobacter'\n",
       "395. 'Methylomonas'\n",
       "396. 'Arachis'\n",
       "397. 'Saccharomyces'\n",
       "398. 'Haemonchus'\n",
       "399. 'Salinimicrobium'\n",
       "400. 'Lewinella'\n",
       "401. 'Spinacia'\n",
       "\n",
       "\n"
      ],
      "text/plain": [
       "  [1] \"Trametes\"                   \"Botrytis\"                  \n",
       "  [3] \"Talaromyces\"                \"Penicillium\"               \n",
       "  [5] \"Melampsora\"                 \"Preussia\"                  \n",
       "  [7] \"Aureobasidium\"              \"Acinetobacter\"             \n",
       "  [9] \"Nostoc\"                     \"Canis\"                     \n",
       " [11] \"Bacillus\"                   \"Aspergillus\"               \n",
       " [13] \"Phlebotomus\"                \"Trichoderma\"               \n",
       " [15] \"Phlebiopsis\"                \"Psychrobacter\"             \n",
       " [17] \"Betula\"                     \"Phanerochaete\"             \n",
       " [19] \"Byssochlamys\"               \"Pinus\"                     \n",
       " [21] \"Sistotremastrum\"            \"Schizopora\"                \n",
       " [23] \"Propionibacterium\"          \"Picea\"                     \n",
       " [25] \"Fibulorhizoctonia\"          \"Clostridium\"               \n",
       " [27] \"Phytophthora\"               \"Rhizopogon\"                \n",
       " [29] \"Staphylococcus\"             \"Phialocephala\"             \n",
       " [31] \"Gelatoporia\"                \"Cladosporium\"              \n",
       " [33] \"Wolfiporia\"                 \"Pseudogymnoascus\"          \n",
       " [35] \"Pseudotsuga\"                \"Piloderma\"                 \n",
       " [37] \"Paracoccus\"                 \"Ophiognomonia\"             \n",
       " [39] \"Schizophyllum\"              \"Shiraia\"                   \n",
       " [41] \"Corynebacterium\"            \"Lactuca\"                   \n",
       " [43] \"Malassezia\"                 \"Fomitiporia\"               \n",
       " [45] \"Fusarium\"                   \"Cronartium\"                \n",
       " [47] \"Rhizoctonia\"                \"Humulus\"                   \n",
       " [49] \"Chrysoporthe\"               \"Stagonosporopsis\"          \n",
       " [51] \"Phoma\"                      \"Cylindrobasidium\"          \n",
       " [53] \"Botryobasidium\"             \"Peniophora\"                \n",
       " [55] \"Planomicrobium\"             \"Amorphotheca\"              \n",
       " [57] \"Obba\"                       \"Tulasnella\"                \n",
       " [59] \"Hypsizygus\"                 \"Planococcus\"               \n",
       " [61] \"Grifola\"                    \"Ephydra\"                   \n",
       " [63] \"Tricholoma\"                 \"Niabella\"                  \n",
       " [65] \"Streptococcus\"              \"Amanita\"                   \n",
       " [67] \"Sanghuangporus\"             \"Beverwykella\"              \n",
       " [69] \"Tilletiopsis\"               \"Malus\"                     \n",
       " [71] \"Lentinus\"                   \"Hortaea\"                   \n",
       " [73] \"Sphingobacterium\"           \"Tolypothrix\"               \n",
       " [75] \"Alternaria\"                 \"Ganoderma\"                 \n",
       " [77] \"Niastella\"                  \"Bulleromyces\"              \n",
       " [79] \"Castanea\"                   \"Segetibacter\"              \n",
       " [81] \"Filobasidium\"               \"Enhydrobacter\"             \n",
       " [83] \"Pleurotus\"                  \"Cordyceps\"                 \n",
       " [85] \"Phellinus\"                  \"Biatriospora\"              \n",
       " [87] \"Zymoseptoria\"               \"Beauveria\"                 \n",
       " [89] \"Triops\"                     \"Cryptococcus\"              \n",
       " [91] \"Ricinus\"                    \"Postia\"                    \n",
       " [93] \"Lucilia\"                    \"Enterococcus\"              \n",
       " [95] \"Chryseobacterium\"           \"Serendipita\"               \n",
       " [97] \"Gallus\"                     \"Calothrix\"                 \n",
       " [99] \"Paenibacillus\"              \"Heterobasidion\"            \n",
       "[101] \"Pontibacter\"                \"Stemphylium\"               \n",
       "[103] \"Hymenoscyphus\"              \"Glarea\"                    \n",
       "[105] \"Aegilops\"                   \"Oidiodendron\"              \n",
       "[107] \"Didymobotryum\"              \"Rosellinia\"                \n",
       "[109] \"Hymenobacter\"               \"Agaricus\"                  \n",
       "[111] \"Ceraceosorus\"               \"Thermoactinomyces\"         \n",
       "[113] \"Pedobacter\"                 \"Rhizomucor\"                \n",
       "[115] \"Dichomitus\"                 \"Gymnopus\"                  \n",
       "[117] \"Arthrobacter\"               \"Taiwanofungus\"             \n",
       "[119] \"Diaporthe\"                  \"Neurospora\"                \n",
       "[121] \"Fragaria\"                   \"Baudoinia\"                 \n",
       "[123] \"Myceliophthora\"             \"Triticum\"                  \n",
       "[125] \"Sporosarcina\"               \"Veillonella\"               \n",
       "[127] \"Corynespora\"                \"Punctularia\"               \n",
       "[129] \"Ascochyta\"                  \"Candida\"                   \n",
       "[131] \"Rhagoletis\"                 \"Pyrus\"                     \n",
       "[133] \"Paraphoma\"                  \"Citrus\"                    \n",
       "[135] \"Marssonina\"                 \"Omphalotus\"                \n",
       "[137] \"Dyadobacter\"                \"Venturia\"                  \n",
       "[139] \"Coprinopsis\"                \"Zea\"                       \n",
       "[141] \"Neolentinus\"                \"Mrakia\"                    \n",
       "[143] \"Flavobacterium\"             \"Exiguobacterium\"           \n",
       "[145] \"Exophiala\"                  \"Wallemia\"                  \n",
       "[147] \"Daedalea\"                   \"Erythrobasidium\"           \n",
       "[149] \"Plicaturopsis\"              \"Coniosporium\"              \n",
       "[151] \"Gongronella\"                \"Fomitopsis\"                \n",
       "[153] \"Isaria\"                     \"Dioszegia\"                 \n",
       "[155] \"Actinidia\"                  \"Galerina\"                  \n",
       "[157] \"Pyrenochaeta\"               \"Gillisia\"                  \n",
       "[159] \"Lentinula\"                  \"Calocera\"                  \n",
       "[161] \"Leucoagaricus\"              \"Ustilago\"                  \n",
       "[163] \"Laccaria\"                   \"Fibroporia\"                \n",
       "[165] \"Sediminibacterium\"          \"Clavaria\"                  \n",
       "[167] \"Spirosoma\"                  \"Exidia\"                    \n",
       "[169] \"Blautia\"                    \"Gloeophyllum\"              \n",
       "[171] \"Pseudomonas\"                \"Termitomyces\"              \n",
       "[173] \"Sphingomonas\"               \"Baeospora\"                 \n",
       "[175] \"Mucilaginibacter\"           \"Jaapia\"                    \n",
       "[177] \"Taphrina\"                   \"Piriformospora\"            \n",
       "[179] \"Hypholoma\"                  \"Laetiporus\"                \n",
       "[181] \"Mycosphaerella\"             \"Lignosus\"                  \n",
       "[183] \"Acidomyces\"                 \"Pantoea\"                   \n",
       "[185] \"Quercus\"                    \"Auricularia\"               \n",
       "[187] \"Ascocoryne\"                 \"Oropetium\"                 \n",
       "[189] \"Hordeum\"                    \"Juglans\"                   \n",
       "[191] \"Flammulina\"                 \"Ochroconis\"                \n",
       "[193] \"Colletotrichum\"             \"Lactobacillus\"             \n",
       "[195] \"Columba\"                    \"Crepidotus\"                \n",
       "[197] \"Hebeloma\"                   \"Valsa\"                     \n",
       "[199] \"Runella\"                    \"Nodularia\"                 \n",
       "[201] \"Rhodotorula\"                \"Mycena\"                    \n",
       "[203] \"Coniophora\"                 \"Lactococcus\"               \n",
       "[205] \"Sarocladium\"                \"Serpula\"                   \n",
       "[207] \"Pestalotiopsis\"             \"Cryomyces\"                 \n",
       "[209] \"Felis\"                      \"Ruminiclostridium\"         \n",
       "[211] \"Algoriphagus\"               \"Fraxinus\"                  \n",
       "[213] \"Sclerotinia\"                \"Neofusicoccum\"             \n",
       "[215] \"Flavihumibacter\"            \"Sphaerobolus\"              \n",
       "[217] \"Stagonospora\"               \"Botryosphaeria\"            \n",
       "[219] \"Onygena\"                    \"Geobacillus\"               \n",
       "[221] \"Hydnomerulius\"              \"Passalora\"                 \n",
       "[223] \"Meira\"                      \"Rasamsonia\"                \n",
       "[225] \"Curvularia\"                 \"Debaryomyces\"              \n",
       "[227] \"Acyrthosiphon\"              \"Eimeria\"                   \n",
       "[229] \"Acetivibrio\"                \"Lecanosticta\"              \n",
       "[231] \"Salegentibacter\"            \"Carnobacterium\"            \n",
       "[233] \"Paraphaeosphaeria\"          \"Rutstroemia\"               \n",
       "[235] \"Brassica\"                   \"Enterobacter\"              \n",
       "[237] \"Pyrenophora\"                \"Cenococcum\"                \n",
       "[239] \"Tremella\"                   \"Actinomyces\"               \n",
       "[241] \"Oceanobacillus\"             \"Lepidopterella\"            \n",
       "[243] \"Necator\"                    \"Puccinia\"                  \n",
       "[245] \"Paucisalibacillus\"          \"Bipolaris\"                 \n",
       "[247] \"Vaccinium\"                  \"Moniliophthora\"            \n",
       "[249] \"Cystobasidiopsis\"           \"Crinalium\"                 \n",
       "[251] \"Parastagonospora\"           \"Daucus\"                    \n",
       "[253] \"Micrococcus\"                \"Basipetospora\"             \n",
       "[255] \"Cyberlindnera\"              \"Aliterella\"                \n",
       "[257] \"Legionella\"                 \"Leucosporidium\"            \n",
       "[259] \"Leptoxyphium\"               \"Pisolithus\"                \n",
       "[261] \"Geotrichum\"                 \"Pedosphaera\"               \n",
       "[263] \"Volvariella\"                \"Solibacillus\"              \n",
       "[265] \"Gyalolechia\"                \"Dothistroma\"               \n",
       "[267] \"Kwoniella\"                  \"Tilletiaria\"               \n",
       "[269] \"Prunus\"                     \"Stachybotrys\"              \n",
       "[271] \"Pediculus\"                  \"Alkanindiges\"              \n",
       "[273] \"Haemophilus\"                \"Brevibacillus\"             \n",
       "[275] \"Jeotgalicoccus\"             \"Tolypocladium\"             \n",
       "[277] \"Methylobacterium\"           \"Prevotella\"                \n",
       "[279] \"Adhaeribacter\"              \"Syntrophomonas\"            \n",
       "[281] \"Terrimonas\"                 \"Trichosporon\"              \n",
       "[283] \"Desmospora\"                 \"Spizellomyces\"             \n",
       "[285] \"Cyphellophora\"              \"Thermoascus\"               \n",
       "[287] \"Verticillium\"               \"Dactylonectria\"            \n",
       "[289] \"Geobacter\"                  \"Tuberibacillus\"            \n",
       "[291] \"Medicago\"                   \"Empedobacter\"              \n",
       "[293] \"Paxillus\"                   \"Chenopodium\"               \n",
       "[295] \"Calycina\"                   \"Xylona\"                    \n",
       "[297] \"Suillus\"                    \"Thermomucor\"               \n",
       "[299] \"Diplodia\"                   \"Arcticibacter\"             \n",
       "[301] \"Alloprevotella\"             \"Pseudocercospora\"          \n",
       "[303] \"Hysterium\"                  \"Erysipelatoclostridium\"    \n",
       "[305] \"Epichloe\"                   \"Fistulina\"                 \n",
       "[307] \"Synechocystis\"              \"Campylobacter\"             \n",
       "[309] \"Hypoxylon\"                  \"Peptoclostridium\"          \n",
       "[311] \"Cystobasidium\"              \"Raoultella\"                \n",
       "[313] \"Phaeoacremonium\"            \"Athelia\"                   \n",
       "[315] \"Hirsutella\"                 \"Emmonsia\"                  \n",
       "[317] \"Ktedonobacter\"              \"Nicotiana\"                 \n",
       "[319] \"Silybum\"                    \"Reticulascus\"              \n",
       "[321] \"Filobasidiella\"             \"Bacteroides\"               \n",
       "[323] \"Glonium\"                    \"Citrobacter\"               \n",
       "[325] \"Rhytidhysteron\"             \"Eutypa\"                    \n",
       "[327] \"Macrocystidia\"              \"Cellvibrio\"                \n",
       "[329] \"Dorcoceras\"                 \"Roseivirga\"                \n",
       "[331] \"Phyllosticta\"               \"Gliomastix\"                \n",
       "[333] \"Finegoldia\"                 \"Rubrobacter\"               \n",
       "[335] \"Dolosigranulum\"             \"Laurentiella\"              \n",
       "[337] \"Arthroderma\"                \"Microdochium\"              \n",
       "[339] \"Armillaria\"                 \"Capronia\"                  \n",
       "[341] \"Marchantia\"                 \"Lachnoclostridium\"         \n",
       "[343] \"Plutella\"                   \"Basidioascus\"              \n",
       "[345] \"Leuconostoc\"                \"Moraxella\"                 \n",
       "[347] \"Scedosporium\"               \"Afipia\"                    \n",
       "[349] \"Solanum\"                    \"Cladonia\"                  \n",
       "[351] \"Physarum\"                   \"Brachypodium\"              \n",
       "[353] \"Phlebopus\"                  \"Bergeyella\"                \n",
       "[355] \"Acremonium\"                 \"Sporocytophaga\"            \n",
       "[357] \"Erysiphe\"                   \"Tilletia\"                  \n",
       "[359] \"Musa\"                       \"Chaetomium\"                \n",
       "[361] \"Verruconis\"                 \"Thielavia\"                 \n",
       "[363] \"Klebsiella\"                 \"Massilia\"                  \n",
       "[365] \"Fibrella\"                   \"Drechslerella\"             \n",
       "[367] \"Dendrobium\"                 \"Cladophialophora\"          \n",
       "[369] \"Aedes\"                      \"Phialophora\"               \n",
       "[371] \"Nelumbo\"                    \"Amborella\"                 \n",
       "[373] \"Lymnaea\"                    \"Thermogemmatispora\"        \n",
       "[375] \"Sphingobium\"                \"Pseudopedobacter\"          \n",
       "[377] \"Rhizopus\"                   \"Diuraphis\"                 \n",
       "[379] \"Arabis\"                     \"Xylaria\"                   \n",
       "[381] \"Xeromyces\"                  \"Tarenaya\"                  \n",
       "[383] \"Thiothrix\"                  \"Salmonella\"                \n",
       "[385] \"Macrophomina\"               \"Tsuchiyaea\"                \n",
       "[387] \"Leptolyngbya\"               \"Fictibacillus\"             \n",
       "[389] \"Bdellovibrio\"               \"Akkermansia\"               \n",
       "[391] \"Paraurostyla\"               \"Granulicatella\"            \n",
       "[393] \"Oscillibacter\"              \"Cercospora\"                \n",
       "[395] \"Actinoplanes\"               \"Lasallia\"                  \n",
       "[397] \"Byssoonygena\"               \"Leptosphaeria\"             \n",
       "[399] \"Hassallia\"                  \"Streptomyces\"              \n",
       "[401] \"Pochonia\"                   \"Anthracocystis\"            \n",
       "[403] \"Gloeocapsa\"                 \"Blastomyces\"               \n",
       "[405] \"Torrubiella\"                \"Teleopsis\"                 \n",
       "[407] \"Macrococcus\"                \"Trachymyrmex\"              \n",
       "[409] \"Mycobacterium\"              \"Paenisporosarcina\"         \n",
       "[411] \"Pontibacillus\"              \"Graphilbum\"                \n",
       "[413] \"Pseudonocardia\"             \"Microcystis\"               \n",
       "[415] \"Phoenix\"                    \"Helminthosporium\"          \n",
       "[417] \"Mortierella\"                \"Capsella\"                  \n",
       "[419] \"Chitinophaga\"               \"Lasioglossum\"              \n",
       "[421] \"Metarhizium\"                \"Aerococcus\"                \n",
       "[423] \"Proteiniphilum\"             \"Ictidomys\"                 \n",
       "[425] \"Phaeomoniella\"              \"Epilithonimonas\"           \n",
       "[427] \"Shimazuella\"                \"Tuber\"                     \n",
       "[429] \"Echinicola\"                 \"Cucumis\"                   \n",
       "[431] \"Liriomyza\"                  \"Sphaerulina\"               \n",
       "[433] \"Clonostachys\"               \"Anaerococcus\"              \n",
       "[435] \"Muricauda\"                  \"Glycomyces\"                \n",
       "[437] \"Trifolium\"                  \"Paramecium\"                \n",
       "[439] \"Treponema\"                  \"Endocalyx\"                 \n",
       "[441] \"Cytophaga\"                  \"Amaranthus\"                \n",
       "[443] \"Leptographium\"              \"Prorocentrum\"              \n",
       "[445] \"Sterkiella\"                 \"Azadirachta\"               \n",
       "[447] \"Halomonas\"                  \"Pseudobacteroides\"         \n",
       "[449] \"Desulfosporosinus\"          \"Domibacillus\"              \n",
       "[451] \"Risungbinella\"              \"Setosphaeria\"              \n",
       "[453] \"Madurella\"                  \"Nematostella\"              \n",
       "[455] \"Blattella\"                  \"Scytonema\"                 \n",
       "[457] \"Elaeis\"                     \"Herbinix\"                  \n",
       "[459] \"Sunxiuqinia\"                \"Verrucomicrobium\"          \n",
       "[461] \"Pasteurella\"                \"Fulvivirga\"                \n",
       "[463] \"Bradyrhizobium\"             \"Scleroderma\"               \n",
       "[465] \"Dermatophagoides\"           \"Leclercia\"                 \n",
       "[467] \"Falciphora\"                 \"Microchaete\"               \n",
       "[469] \"Salmo\"                      \"Purpureocillium\"           \n",
       "[471] \"Peptoniphilus\"              \"Gracilibacillus\"           \n",
       "[473] \"Neisseria\"                  \"Alkalibacterium\"           \n",
       "[475] \"Rhodnius\"                   \"Rothia\"                    \n",
       "[477] \"Biomphalaria\"               \"Symbiotaphrina\"            \n",
       "[479] \"Hibiscus\"                   \"Varibaculum\"               \n",
       "[481] \"Ananas\"                     \"Sporothrix\"                \n",
       "[483] \"Trichophyton\"               \"Granulicella\"              \n",
       "[485] \"Pelosinus\"                  \"Sporisorium\"               \n",
       "[487] \"Rickettsiella\"              \"Glycine\"                   \n",
       "[489] \"Peltaster\"                  \"Turicibacter\"              \n",
       "[491] \"Vitellibacter\"              \"Holtermanniella\"           \n",
       "[493] \"Ciborinia\"                  \"Fonsecaea\"                 \n",
       "[495] \"Solitalea\"                  \"Pleurobrachia\"             \n",
       "[497] \"Abiotrophia\"                \"Capnocytophaga\"            \n",
       "[499] \"Roseburia\"                  \"Nocardioides\"              \n",
       "[501] \"Eubacterium\"                \"Gaeumannomyces\"            \n",
       "[503] \"Eucalyptus\"                 \"Neonectria\"                \n",
       "[505] \"Rhinocladiella\"             \"Rosa\"                      \n",
       "[507] \"Nodosilinea\"                \"Umbilicaria\"               \n",
       "[509] \"Photorhabdus\"               \"Caligus\"                   \n",
       "[511] \"Citrullus\"                  \"Herbaspirillum\"            \n",
       "[513] \"Calonectria\"                \"Macrostomum\"               \n",
       "[515] \"Serratia\"                   \"Nitrosopumilus\"            \n",
       "[517] \"Candidatus.Nitrosoarchaeum\" \"Conchiformibius\"           \n",
       "[519] \"Moesziomyces\"               \"Caldilinea\"                \n",
       "[521] \"Pyrinomonas\"                \"Setaria\"                   \n",
       "[523] \"Stylonychia\"                \"Oribacterium\"              \n",
       "[525] \"Ixodes\"                     \"Austrofundulus\"            \n",
       "[527] \"Drosophila\"                 \"Hyphomicrobium\"            \n",
       "[529] \"Galbibacter\"                \"Lotus\"                     \n",
       "[531] \"Paecilomyces\"               \"Meyerozyma\"                \n",
       "[533] \"Weissella\"                  \"Anoxybacillus\"             \n",
       "[535] \"Vigna\"                      \"Acanthamoeba\"              \n",
       "[537] \"Amauroascus\"                \"Nitrospira\"                \n",
       "[539] \"Cylindrospermum\"            \"Tetmemena\"                 \n",
       "[541] \"Adineta\"                    \"Anabaena\"                  \n",
       "[543] \"Fischerella\"                \"Owenweeksia\"               \n",
       "[545] \"Clupea\"                     \"Porphyrobacter\"            \n",
       "[547] \"Gossypium\"                  \"Gardnerella\"               \n",
       "[549] \"Lysinibacillus\"             \"Thermosinus\"               \n",
       "[551] \"Podospora\"                  \"Bhargavaea\"                \n",
       "[553] \"Plasmodium\"                 \"Physcomitrella\"            \n",
       "[555] \"Alkaliphilus\"               \"Sporomusa\"                 \n",
       "[557] \"Clavispora\"                 \"Nitrosomonas\"              \n",
       "[559] \"Helicobacter\"               \"Micavibrio\"                \n",
       "[561] \"Rufibacter\"                 \"Moelleriella\"              \n",
       "[563] \"Vitis\"                      \"Burkholderia\"              \n",
       "[565] \"Janthinobacterium\"          \"Flexithrix\"                \n",
       "[567] \"Dysgonomonas\"               \"Fluviicola\"                \n",
       "[569] \"Sediminibacter\"             \"Aquilaria\"                 \n",
       "[571] \"Magnaporthe\"                \"Cyanothece\"                \n",
       "[573] \"Facklamia\"                  \"Mentha\"                    \n",
       "[575] \"Pelotomaculum\"              \"Fibrisoma\"                 \n",
       "[577] \"Pneumocystis\"               \"Aquimarina\"                \n",
       "[579] \"Lentibacillus\"              \"Belgica\"                   \n",
       "[581] \"Candidatus.Protochlamydia\"  \"Olivibacter\"               \n",
       "[583] \"Lacinutrix\"                 \"Marinifilum\"               \n",
       "[585] \"Homolaphlyctis\"             \"Ophiocordyceps\"            \n",
       "[587] \"Parasitella\"                \"Cannabis\"                  \n",
       "[589] \"Caldalkalibacillus\"         \"Halobacillus\"              \n",
       "[591] \"Eichhornia\"                 \"Kocuria\"                   \n",
       "[593] \"Phalaenopsis\"               \"Fagopyrum\"                 \n",
       "[595] \"Cohnella\"                   \"Steganacarus\"              \n",
       "[597] \"Daphnia\"                    \"Jiangella\"                 \n",
       "[599] \"Cicer\"                      \"Diaphorina\"                \n",
       "[601] \"Ophiostoma\"                 \"Edaphobacter\"              \n",
       "[603] \"Ziziphus\"                   \"Mucor\"                     \n",
       "[605] \"Daldinia\"                   \"Rhodopirellula\"            \n",
       "[607] \"Populus\"                    \"Syntrophaceticus\"          \n",
       "[609] \"Opitutus\"                   \"Tamlana\"                   \n",
       "[611] \"Knoxdaviesia\"               \"Sporolactobacillus\"        \n",
       "[613] \"Cimex\"                      \"Aptenodytes\"               \n",
       "[615] \"Nonomuraea\"                 \"Joostella\"                 \n",
       "[617] \"Globodera\"                  \"Capsicum\"                  \n",
       "[619] \"Caldicoprobacter\"           \"Orchesella\"                \n",
       "[621] \"Diachasma\"                  \"Novosphingobium\"           \n",
       "[623] \"Microvirga\"                 \"Haloferula\"                \n",
       "[625] \"Primula\"                    \"Buchnera\"                  \n",
       "[627] \"Planctopirus\"               \"Alloascoidea\"              \n",
       "[629] \"Opisthocomus\"               \"Catharanthus\"              \n",
       "[631] \"Gemella\"                    \"Myxococcus\"                \n",
       "[633] \"Amphibacillus\"              \"Saccharina\"                \n",
       "[635] \"Mangrovimonas\"              \"Singulisphaera\"            \n",
       "[637] \"Aphanizomenon\"              \"Anaerovorax\"               \n",
       "[639] \"Ureibacillus\"               \"Pseudoalteromonas\"         \n",
       "[641] \"Alicyclobacillus\"           \"Desulfotomaculum\"          \n",
       "[643] \"Delftia\"                    \"Cronobacter\"               \n",
       "[645] \"Shigella\"                   \"Priapulus\"                 \n",
       "[647] \"Claviceps\"                  \"Thermobaculum\"             \n",
       "[649] \"Dactylellina\"               \"Penstemon\"                 \n",
       "[651] \"Streptobacillus\"            \"Aequorivita\"               \n",
       "[653] \"Frankia\"                    \"Tetranychus\"               \n",
       "[655] \"Streptosporangium\"          \"Fusobacterium\"             \n",
       "[657] \"Porphyromonas\"              \"Histoplasma\"               \n",
       "[659] \"Microbacterium\"             \"Endocarpon\"                \n",
       "[661] \"Sphaerobacter\"              \"Sneathia\"                  \n",
       "[663] \"Cladosiphon\"                \"Roseiflexus\"               \n",
       "[665] \"Oscillatoria\"               \"Albophoma\"                 \n",
       "[667] \"Faecalicoccus\"              \"Hypochthonius\"             \n",
       "[669] \"Anaerosalibacter\"           \"Meleagris\"                 \n",
       "[671] \"Rudanella\"                  \"Chlorogloeopsis\"           \n",
       "[673] \"Hyaloperonospora\"           \"Arabidopsis\"               \n",
       "[675] \"Sordaria\"                   \"Schlesneria\"               \n",
       "[677] \"Agrobacterium\"              \"Erwinia\"                   \n",
       "[679] \"Ornithinibacillus\"          \"Thalassobacillus\"          \n",
       "[681] \"Ancylostoma\"                \"Blumeria\"                  \n",
       "[683] \"Marinococcus\"               \"Virgibacillus\"             \n",
       "[685] \"Elizabethkingia\"            \"Raffaelea\"                 \n",
       "[687] \"Chroococcidiopsis\"          \"Brugia\"                    \n",
       "[689] \"Belnapia\"                   \"Wickerhamomyces\"           \n",
       "[691] \"Butyrivibrio\"               \"Aethionema\"                \n",
       "[693] \"Ethanoligenens\"             \"Phi29likevirus\"            \n",
       "[695] \"Aureimonas\"                 \"Escherichia\"               \n",
       "[697] \"Cesiribacter\"               \"Cotesia\"                   \n",
       "[699] \"Kineococcus\"                \"Paludibacter\"              \n",
       "[701] \"Rivularia\"                  \"Roseomonas\"                \n",
       "[703] \"Kalmanozyma\"                \"Methylocaldum\"             \n",
       "[705] \"Theobroma\"                  \"Mesorhizobium\"             \n",
       "[707] \"Hungatella\"                 \"Holdemanella\"              \n",
       "[709] \"Pseudozyma\"                 \"Holtermannia\"              \n",
       "[711] \"Cyphomyrmex\"                \"Eurytemora\"                \n",
       "[713] \"Devosia\"                    \"Salinicoccus\"              \n",
       "[715] \"Meiothermus\"                \"Candidatus.Microthrix\"     \n",
       "[717] \"Ruminococcus\"               \"Batrachochytrium\"          \n",
       "[719] \"Shewanella\"                 \"Lyngbya\"                   \n",
       "[721] \"Halococcus\"                 \"Microlunatus\"              \n",
       "[723] \"Haliscomenobacter\"          \"Caulobacter\"               \n",
       "[725] \"Terriglobus\"                \"Haloplasma\"                \n",
       "[727] \"Skermanella\"                \"Yersinia\"                  \n",
       "[729] \"Chthoniobacter\"             \"Tetragenococcus\"           \n",
       "[731] \"Actinobacillus\"             \"Candidatus.Solibacter\"     \n",
       "[733] \"Frigoribacterium\"           \"Balansia\"                  \n",
       "[735] \"Morus\"                      \"Deinococcus\"               \n",
       "[737] \"Gemmata\"                    \"Jeotgalibacillus\"          \n",
       "[739] \"Marinomonas\"                \"Anaerobacillus\"            \n",
       "[741] \"Amycolatopsis\"              \"Tepidanaerobacter\"         \n",
       "[743] \"Thermobacillus\"             \"Achromobacter\"             \n",
       "[745] \"Urostyla\"                   \"Polaribacter\"              \n",
       "[747] \"Brevibacterium\"             \"Arcobacter\"                \n",
       "[749] \"Histophilus\"                \"Brevundimonas\"             \n",
       "[751] \"Leptotrichia\"               \"Rhodococcus\"               \n",
       "[753] \"Methanobacterium\"           \"Methylophilus\"             \n",
       "[755] \"Acetonema\"                  \"Alloiococcus\"              \n",
       "[757] \"Acidovorax\"                 \"Microcoleus\"               \n",
       "[759] \"Frondihabitans\"             \"Colwellia\"                 \n",
       "[761] \"Aneurinibacillus\"           \"Rheinheimera\"              \n",
       "[763] \"Mastigocladopsis\"           \"Noviherbaspirillum\"        \n",
       "[765] \"Allofustis\"                 \"Gilvimarinus\"              \n",
       "[767] \"Emticicia\"                  \"Silene\"                    \n",
       "[769] \"Magnaporthiopsis\"           \"Neochlamydia\"              \n",
       "[771] \"Trebouxia\"                  \"Viridibacillus\"            \n",
       "[773] \"Linum\"                      \"Catonella\"                 \n",
       "[775] \"Stenotrophomonas\"           \"Lunatimonas\"               \n",
       "[777] \"Oryza\"                      \"Neosynechococcus\"          \n",
       "[779] \"Lysobacter\"                 \"Mayetiola\"                 \n",
       "[781] \"Nosema\"                     \"Hevea\"                     \n",
       "[783] \"Kytococcus\"                 \"Apis\"                      \n",
       "[785] \"Rahnella\"                   \"Dichanthelium\"             \n",
       "[787] \"Fenollaria\"                 \"Desulfitobacterium\"        \n",
       "[789] \"Tannerella\"                 \"Rhizobium\"                 \n",
       "[791] \"Mobiluncus\"                 \"Nitrosospira\"              \n",
       "[793] \"Terribacillus\"              \"Dendroctonus\"              \n",
       "[795] \"Ilumatobacter\"              \"Methylomonas\"              \n",
       "[797] \"Arachis\"                    \"Saccharomyces\"             \n",
       "[799] \"Haemonchus\"                 \"Salinimicrobium\"           \n",
       "[801] \"Lewinella\"                  \"Spinacia\"                  "
      ]
     },
     "metadata": {},
     "output_type": "display_data"
    }
   ],
   "source": [
    "# Take a look at the genera\n",
    "colnames(genusData)[9:ncol(genusData)] # Display column names from column 9 to the last coloumn"
   ]
  },
  {
   "cell_type": "markdown",
   "id": "b6156eb3",
   "metadata": {
    "id": "b6156eb3"
   },
   "source": [
    "Starting from Column 9, the column names are genera detected in the exposome. They're very diverse and cover all domains of life. For example, *Stereum* (fungi), *Pinus* (pine/plants), *Canis* (dogs belong in this genera/animals), and *Clostridium* (human pathogen/bacteria)."
   ]
  },
  {
   "cell_type": "markdown",
   "id": "085c7bc5",
   "metadata": {
    "id": "085c7bc5"
   },
   "source": [
    "### 2.2 Visualize data with heatmap"
   ]
  },
  {
   "cell_type": "markdown",
   "id": "8dbe6ae8",
   "metadata": {
    "id": "8dbe6ae8"
   },
   "source": [
    "Since exposome composition is very diverse, we use heatmap to get a sense of what the data looks like. Below is an image of the heatmap we are going to generate.\n",
    "\n",
    "Typically, the x-axis of a heatmap is sample and y-axis is gene/microbe/characteristics of interest. The color of each intersecting tile represents the **relative expression of each characteristic**. It is useful in identifying the expression pattern of a set of samples. "
   ]
  },
  {
   "cell_type": "markdown",
   "id": "70df83c0",
   "metadata": {
    "id": "70df83c0"
   },
   "source": [
    "<img src=\"materials/images/heatmap.png\"/>"
   ]
  },
  {
   "cell_type": "markdown",
   "id": "91beadc5",
   "metadata": {
    "id": "91beadc5"
   },
   "source": [
    "The color of each tile represents the z-score, which are calculated by subtracting the mean from each cell, and then dividing the value by the standard deviation of the row.  \n",
    "\n",
    "Z-score represents the **relative abundance** of each genus -  how common or rare the genus is in comparison to other samples in this dataset."
   ]
  },
  {
   "cell_type": "code",
   "execution_count": 4,
   "id": "59f47808",
   "metadata": {
    "id": "59f47808",
    "vscode": {
     "languageId": "r"
    }
   },
   "outputs": [],
   "source": [
    "# Prepare the data.\n",
    "# Create a matrix with abundances of genera as columns, and names of samples as row names.\n",
    "m.genusData <- as.matrix(select(genusData, -c(\"Filter_No\",\"location\",\"ownership\",\"date.month\", \"date.start\", \"date.end\", \"season\")))\n",
    "rownames(m.genusData) <- genusData$Filter_No \n",
    "\n",
    "# Select the top 30 genera for presentation.\n",
    "var_genes <- apply(m.genusData, 2, mean) # Calculate mean of each genera.\n",
    "select_var <- names(sort(var_genes, decreasing=TRUE))[1:30] # Select 30 genera with the most abundance.\n",
    "highly_variable <- t(m.genusData)[select_var,] # Select data of these 30 genera."
   ]
  },
  {
   "cell_type": "code",
   "execution_count": 5,
   "id": "83dc8514",
   "metadata": {
    "id": "83dc8514",
    "vscode": {
     "languageId": "r"
    }
   },
   "outputs": [
    {
     "name": "stderr",
     "output_type": "stream",
     "text": [
      "Updating HTML index of packages in '.Library'\n",
      "\n",
      "Making 'packages.html' ...\n",
      " done\n",
      "\n"
     ]
    }
   ],
   "source": [
    "# Set up color palette for heatmap using RColorBrewer.\n",
    "# RColorBrewer package provides several palettes to visualize ordered gradient or categorical data.\n",
    "install.packages(\"RColorBrewer\")\n",
    "library(\"RColorBrewer\")"
   ]
  },
  {
   "cell_type": "code",
   "execution_count": 6,
   "id": "1935d0ce",
   "metadata": {
    "id": "1935d0ce",
    "vscode": {
     "languageId": "r"
    }
   },
   "outputs": [
    {
     "data": {
      "image/png": "[encoded data removed]",
      "text/plain": [
       "plot without title"
      ]
     },
     "metadata": {
      "image/png": {
       "height": 420,
       "width": 420
      }
     },
     "output_type": "display_data"
    }
   ],
   "source": [
    "display.brewer.all() # See all pallettes in the package."
   ]
  },
  {
   "cell_type": "code",
   "execution_count": 7,
   "id": "e5b6aaf9",
   "metadata": {
    "id": "e5b6aaf9",
    "vscode": {
     "languageId": "r"
    }
   },
   "outputs": [],
   "source": [
    "mypalette <- brewer.pal(11,\"RdYlBu\") # Select 11 different colors in RdYlBu (red yellow blue) pallette.\n",
    "morecols <- colorRampPalette(mypalette) # Generate a new color palette with these colors."
   ]
  },
  {
   "cell_type": "markdown",
   "id": "5da2a8b7",
   "metadata": {
    "id": "5da2a8b7"
   },
   "source": [
    "In the code above, we first select 11 colors from the pallette `RdYlBu`. Then, we generates new colors to interpolate the original palette so that small changes can be reflected in colors as well."
   ]
  },
  {
   "cell_type": "code",
   "execution_count": 8,
   "id": "7f104a92",
   "metadata": {
    "id": "7f104a92",
    "vscode": {
     "languageId": "r"
    }
   },
   "outputs": [
    {
     "data": {
      "image/png": "[encoded data removed]",
      "text/plain": [
       "Plot with title “Color Key”"
      ]
     },
     "metadata": {
      "image/png": {
       "height": 420,
       "width": 420
      }
     },
     "output_type": "display_data"
    }
   ],
   "source": [
    "# Plot the heatmap.\n",
    "heatmap.2(highly_variable,col=rev(morecols(25)), scale=\"row\", cexRow = 0.6, cexCol  = 0.8, dendrogram = 'none',\n",
    "          trace=\"none\", \n",
    "          margins = c(3,6), # add margin so lables don't get cropped\n",
    "          main=\"Top 30 most abundant genera\", Colv = FALSE,\n",
    "          srtCol = 45, offsetRow = 0,offsetCol = 0,\n",
    "          density.info = \"none\",lwid = c(3,9) ,lhei= c(3,9))"
   ]
  },
  {
   "cell_type": "markdown",
   "id": "959b66dc",
   "metadata": {
    "id": "959b66dc"
   },
   "source": [
    "**This is a recap in case you forget**:\n",
    "\n",
    "The color of each tile represents the z-score, which are calculated by subtracting the mean from each cell, and then dividing the value by the standard deviation of the row. \n",
    "\n",
    "Z-score represents the **relative abundance** of each genus -  how common or rare the genus is in comparison to other samples in this dataset. \n",
    "\n",
    "The function `heatmap.2` calculates z-score automatically. You could learn more about in R documentation: https://www.rdocumentation.org/packages/gplots/versions/3.1.3/topics/heatmap.2"
   ]
  },
  {
   "cell_type": "markdown",
   "id": "df3abcab",
   "metadata": {
    "id": "df3abcab"
   },
   "source": [
    "On the plot, dark red means the most abundant, and blue suggests the least abundance. \n",
    "\n",
    "In our samples, the exposome composition varies a lot. Some genera are specific to one sample, such as *Phlebotomus*, while some genera are found in all samples (but expression levels are different), such as *Stereum*."
   ]
  },
  {
   "cell_type": "markdown",
   "id": "8a911df4",
   "metadata": {
    "id": "8a911df4"
   },
   "source": [
    "----"
   ]
  },
  {
   "cell_type": "markdown",
   "id": "b1a6dc5d",
   "metadata": {
    "id": "b1a6dc5d"
   },
   "source": [
    "# 3. The exposome components vary based on geographical location"
   ]
  },
  {
   "cell_type": "markdown",
   "id": "934d61b7",
   "metadata": {
    "id": "934d61b7"
   },
   "source": [
    "**Principal Component Analysis (PCA)** is a dimensionality-reduction method in large datasets when there are a lot variations among data. PCA reduces dimensions by creating principal components (PCs). PCs describe variation and account for varied influences of the original characteristics. \n",
    "\n",
    "A **PCA plot** is commonly used to **show clusters of samples based on their similarity**. "
   ]
  },
  {
   "cell_type": "markdown",
   "id": "1b452678",
   "metadata": {
    "id": "1b452678"
   },
   "source": [
    "### 3.1 Identify principal components (PCs)"
   ]
  },
  {
   "cell_type": "markdown",
   "id": "6e6766c1",
   "metadata": {
    "id": "6e6766c1"
   },
   "source": [
    "As the first step to create a PCA plot, we need to find out the principal components (PCs) and the amount of variation they cover. \n",
    "\n",
    "A **scree plot** shows the PCs and their contribution. PCs are created in the order of variation they cover. "
   ]
  },
  {
   "cell_type": "code",
   "execution_count": 9,
   "id": "9c3d0494",
   "metadata": {
    "id": "9c3d0494",
    "vscode": {
     "languageId": "r"
    }
   },
   "outputs": [
    {
     "name": "stdout",
     "output_type": "stream",
     "text": [
      "Class: pca dudi\n",
      "Call: dudi.pca(df = m.genusData, scale = FALSE, scannf = FALSE, nf = 3)\n",
      "\n",
      "Total inertia: 6.701e+10\n",
      "\n",
      "Eigenvalues:\n",
      "      Ax1       Ax2       Ax3       Ax4       Ax5 \n",
      "4.251e+10 6.842e+09 5.627e+09 5.041e+09 3.878e+09 \n",
      "\n",
      "Projected inertia (%):\n",
      "    Ax1     Ax2     Ax3     Ax4     Ax5 \n",
      " 63.445  10.211   8.398   7.524   5.787 \n",
      "\n",
      "Cumulative projected inertia (%):\n",
      "    Ax1   Ax1:2   Ax1:3   Ax1:4   Ax1:5 \n",
      "  63.44   73.66   82.05   89.58   95.36 \n",
      "\n",
      "(Only 5 dimensions (out of 9) are shown)\n",
      "\n"
     ]
    },
    {
     "data": {
      "image/png": "[encoded data removed]",
      "text/plain": [
       "plot without title"
      ]
     },
     "metadata": {
      "image/png": {
       "height": 420,
       "width": 420
      }
     },
     "output_type": "display_data"
    }
   ],
   "source": [
    "# Perform a PCA on the data.\n",
    "pca <-  dudi.pca(m.genusData, scale=FALSE, scannf=FALSE, nf=3)\n",
    "\n",
    "# Create a summary of PCs and their contribution.\n",
    "summary(pca)\n",
    "\n",
    "# Create a scree plot to show PCs and their contribution\n",
    "fviz_screeplot(pca, addlabels = TRUE ) "
   ]
  },
  {
   "cell_type": "markdown",
   "id": "b7b1cf19",
   "metadata": {
    "id": "b7b1cf19"
   },
   "source": [
    "In our dataset, PC1 contributes the most, explaining 63.4% of variation among the samples, followed by PC2, explaining 10.2% and PC3 explaining 8.4%."
   ]
  },
  {
   "cell_type": "markdown",
   "id": "f48ee04a",
   "metadata": {
    "id": "f48ee04a"
   },
   "source": [
    "### 3.2 Create a Principal Component Analysis (PCA) plot"
   ]
  },
  {
   "cell_type": "markdown",
   "id": "6dc2e1c1",
   "metadata": {
    "id": "6dc2e1c1"
   },
   "source": [
    "Next, let's draw a PCA plot. In this plot:\n",
    "- **x-axis** is **PC1**, which explains 63.4% of variation as shown in the scree plot. \n",
    "- **y-axis** is the second most influential, **PC2**. It explains 10.2% of variation as shown in the scree plot. "
   ]
  },
  {
   "cell_type": "markdown",
   "id": "e9ba474d",
   "metadata": {
    "id": "e9ba474d"
   },
   "source": [
    "Since there are 800+ genera, it will get too crowded to visuzlize everything on one plot. We are going to choose the first 6 genera and last 6 genera in each PC, using `head()` and `tail()` in the code below:"
   ]
  },
  {
   "cell_type": "code",
   "execution_count": 10,
   "id": "81d67c56",
   "metadata": {
    "id": "81d67c56",
    "vscode": {
     "languageId": "r"
    }
   },
   "outputs": [
    {
     "name": "stderr",
     "output_type": "stream",
     "text": [
      "Warning message in (function (mapping = NULL, data = NULL, stat = \"identity\", position = \"identity\", :\n",
      "“\u001b[1m\u001b[22mIgnoring unknown parameters: `max.overlaps`”\n"
     ]
    },
    {
     "data": {
      "image/png": "[encoded data removed]",
      "text/plain": [
       "plot without title"
      ]
     },
     "metadata": {
      "image/png": {
       "height": 420,
       "width": 420
      }
     },
     "output_type": "display_data"
    }
   ],
   "source": [
    "\n",
    "# Select a subset of variables (genera) for better presentation.\n",
    "test.names = c(head(rownames(pca$c1)[order(pca$c1$CS1)]),tail(rownames(pca$c1)[order(pca$c1$CS1)]),\n",
    "               head(rownames(pca$c1)[order(pca$c1$CS2)]),tail(rownames(pca$c1)[order(pca$c1$CS2)]))\n",
    "\n",
    "# Create a PCA plot. \n",
    "fviz_pca_var(pca, col.var=\"contrib\", geom=c(\"point\",\"text\"), select.var = list(name=test.names),\n",
    "             gradient.cols = c(\"#00AFBB\", \"#E7B800\", \"#FC4E07\"),\n",
    "             repel = TRUE, max.overlaps = Inf) \n"
   ]
  },
  {
   "cell_type": "markdown",
   "id": "3ef8d662",
   "metadata": {
    "id": "3ef8d662"
   },
   "source": [
    "Here are some explanations on the code:\n",
    "\n",
    "- `col.var=\"contrib\"` assigns color based on the genera contribution to the pricipal components. Warmer color represents higher contribution, and colder color represents lower contribution. \n",
    "\n",
    "- `geom=c(\"point\",\"text\")` creates the genus label next to each dot."
   ]
  },
  {
   "cell_type": "markdown",
   "id": "52fba667",
   "metadata": {
    "id": "52fba667"
   },
   "source": [
    "As we can see in the plot, the colored dots represent the variables (genera) contributing to the variation:\n",
    "\n",
    "- the x-axis is dimension 1 (i.e. PC1)\n",
    "- the y-axis is dimension 2 (i.e. PC2)\n",
    "- the positive and negative values on the x or y axis indicates the direction of the correlations between the variables and the PCs. The positive or negative sign doesn’t have a biological meaning, and it can be flipped. We won't get too deep on PCA analysis in this module.\n",
    "- the two dark dash lines are 0s on dimension 1 and dimension 2.\n",
    "- the further away a genus is from the lines of 0, the more the genus contributes to the PC.\n",
    "\n",
    "Stereum contributes most to the variations in PC1 among these samples, and a small contribution to PC2."
   ]
  },
  {
   "cell_type": "markdown",
   "id": "a53f9f17",
   "metadata": {
    "id": "a53f9f17"
   },
   "source": [
    "<div class=\"alert alert-block alert-warning\">\n",
    "    <b>Alert:</b> It is always good to check if all the data is displayed on the plot. Usually, if some data points are missing when plotting, there is a warning message, then we can make adjustments from there. In our case, we should be expecting 24 data points, but we end up with less. There are repeated genera when we select head and tail from PC1 and PC2, so the total is not 24, but 20.\n",
    "    </div>"
   ]
  },
  {
   "cell_type": "markdown",
   "id": "a07c8a65",
   "metadata": {
    "id": "a07c8a65"
   },
   "source": [
    "Now, let's see how the samples vary based on geographical location. "
   ]
  },
  {
   "cell_type": "code",
   "execution_count": 11,
   "id": "73c336b6",
   "metadata": {
    "id": "73c336b6",
    "vscode": {
     "languageId": "r"
    }
   },
   "outputs": [
    {
     "data": {
      "image/png": "[encoded data removed]",
      "text/plain": [
       "plot without title"
      ]
     },
     "metadata": {
      "image/png": {
       "height": 420,
       "width": 420
      }
     },
     "output_type": "display_data"
    }
   ],
   "source": [
    "# Create PCA plot based on location.\n",
    "fviz_pca_ind(pca, label = \"none\",habillage=\"none\", pointsize=4.0, col.ind = genusData$location, mean.point = FALSE)"
   ]
  },
  {
   "cell_type": "markdown",
   "id": "aad499fe",
   "metadata": {
    "id": "aad499fe"
   },
   "source": [
    "Instead of genera, the dots now represents each sample, and the shape represents their location. On a PCA plot, similar samples are clusterd together. In our plot, samples collected at Stanford campus are cluster together whereas samples from MT, TX and background samples are located away from each other. This shows that MT, TX and background samples are different from campus samples, and they're different from each other.\n",
    "\n",
    "This tells us the exposome is dependent on location. \n",
    "\n",
    "Have you noticed the samples collected from the same person at Stanford campus have two clusters on the plot? There still are subtle compositional differences among these samples. Even though they were collected from the same person and at the same general location, they were collected on different days. Exposome is different than computer codes, it doesn’t guarantee the exact same results because the participant is unlikely to spend the same amount of time interacting with the same people with the same health conditions at the exact same location each time. This is why the field is pushing for precise, personal, and real-time measurement.\n",
    "\n",
    "The other observation you may have is that most locations have similar contributions to PC2. PC2 is not the PC that explains the most variance (i.e. only 10.2%). The samples are not hugely different in PC2, in comparison to PC1. "
   ]
  },
  {
   "cell_type": "markdown",
   "id": "e7ef9d69",
   "metadata": {
    "id": "e7ef9d69"
   },
   "source": [
    "----"
   ]
  },
  {
   "cell_type": "markdown",
   "id": "8acd8650",
   "metadata": {
    "id": "8acd8650"
   },
   "source": [
    "# Contributions & acknowledgment"
   ]
  },
  {
   "cell_type": "markdown",
   "id": "131a4693",
   "metadata": {
    "id": "131a4693"
   },
   "source": [
    "- **Module Content:** Xinyue Zhang\n",
    "- **Engineering:** Amit Dixit\n",
    "- **UX/UI Design & Illustration:** Kexin Cha\n",
    "- **Video Production:** Francesca Goncalves\n",
    "- **Project Management:** Amir Bahmani, Kexin Cha"
   ]
  },
  {
   "cell_type": "markdown",
   "id": "5794515b",
   "metadata": {
    "id": "5794515b"
   },
   "source": [
    "---"
   ]
  },
  {
   "cell_type": "markdown",
   "id": "1474303b",
   "metadata": {
    "id": "1474303b"
   },
   "source": [
    "Copyright (c) 2022 Stanford Data Ocean (SDO)\n",
    "\n",
    "All rights reserved."
   ]
  }
 ],
 "metadata": {
  "colab": {
   "provenance": []
  },
  "kernelspec": {
   "display_name": "R",
   "language": "R",
   "name": "ir"
  },
  "language_info": {
   "codemirror_mode": "r",
   "file_extension": ".r",
   "mimetype": "text/x-r-source",
   "name": "R",
   "pygments_lexer": "r",
   "version": "4.2.2"
  }
 },
 "nbformat": 4,
 "nbformat_minor": 5
}
