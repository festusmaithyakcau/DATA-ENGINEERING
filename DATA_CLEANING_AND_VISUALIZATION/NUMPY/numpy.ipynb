{
 "cells": [
  {
   "cell_type": "code",
   "execution_count": 2,
   "id": "f1d9f881-3eca-4685-a3da-08a3274e3c24",
   "metadata": {},
   "outputs": [],
   "source": [
    "import numpy as np"
   ]
  },
  {
   "cell_type": "code",
   "execution_count": 3,
   "id": "4edf5ecd-604b-44c3-8ce2-10f24aaeeaf2",
   "metadata": {},
   "outputs": [
    {
     "data": {
      "text/plain": [
       "array([1, 2, 3])"
      ]
     },
     "execution_count": 3,
     "metadata": {},
     "output_type": "execute_result"
    }
   ],
   "source": [
    "a = np.array([1, 2, 3])\n",
    "a"
   ]
  },
  {
   "cell_type": "code",
   "execution_count": 4,
   "id": "ef508825-602e-4621-aeb9-1db5976b4de8",
   "metadata": {},
   "outputs": [
    {
     "data": {
      "text/plain": [
       "numpy.ndarray"
      ]
     },
     "execution_count": 4,
     "metadata": {},
     "output_type": "execute_result"
    }
   ],
   "source": [
    "# You can easily check that a newly created object is an ndarray, passing the new variable to the type() function.\n",
    "type(a)"
   ]
  },
  {
   "cell_type": "code",
   "execution_count": 10,
   "id": "3f8efa0c-e7e9-4822-9191-e0326e8ae55b",
   "metadata": {},
   "outputs": [
    {
     "data": {
      "text/plain": [
       "dtype('int64')"
      ]
     },
     "execution_count": 10,
     "metadata": {},
     "output_type": "execute_result"
    }
   ],
   "source": [
    "# In order to know the associated dtype to the just created ndarray, you have to use the dtype attribute.\n",
    "a.dtype"
   ]
  },
  {
   "cell_type": "code",
   "execution_count": 19,
   "id": "7d084fe0-0fc1-4420-b066-5b811bee969a",
   "metadata": {},
   "outputs": [
    {
     "name": "stdout",
     "output_type": "stream",
     "text": [
      "Rank is : 1\n",
      "Size of array is: 3\n",
      "Shape of array is: (3,)\n"
     ]
    }
   ],
   "source": [
    "# The just-created array has one axis, and then its rank is 1, while its shape should be (3,1). To obtain\n",
    "# these values from the corresponding array it is sufficient to use the ndim attribute for getting the axes, the\n",
    "# size attribute to know the array length, and the shape attribute to get its shape.\n",
    "print(\"Rank is :\",a.ndim)\n",
    "print(\"Size of array is:\",a.size)\n",
    "print(\"Shape of array is:\",a.shape)"
   ]
  },
  {
   "cell_type": "code",
   "execution_count": null,
   "id": "1d58e460-8b72-43ef-a387-67d506e9476f",
   "metadata": {},
   "outputs": [],
   "source": [
    "b = np.array([[1.3, 2.4],[0.3, 4.1]])"
   ]
  },
  {
   "cell_type": "code",
   "execution_count": 21,
   "id": "a8f72402-1c04-4fa5-938e-ced972bea11d",
   "metadata": {},
   "outputs": [
    {
     "name": "stdout",
     "output_type": "stream",
     "text": [
      "The dtype is:  float64\n",
      "Rank is : 2\n",
      "Size of array is: 4\n",
      "Shape of array is: (2, 2)\n"
     ]
    }
   ],
   "source": [
    "print(\"The dtype is: \",b.dtype)\n",
    "print(\"Rank is :\",b.ndim)\n",
    "print(\"Size of array is:\",b.size)\n",
    "print(\"Shape of array is:\",b.shape)"
   ]
  },
  {
   "cell_type": "code",
   "execution_count": 26,
   "id": "13c8fa2f-0533-4da7-b3c3-225ab93abfb4",
   "metadata": {},
   "outputs": [
    {
     "name": "stdout",
     "output_type": "stream",
     "text": [
      "Size in bytes of each item in array is:  8\n",
      "The buffer containing the array is:  <memory at 0x71b3599a6740>\n"
     ]
    }
   ],
   "source": [
    "# This array has rank 2, since it has two axis, each of length 2.\n",
    "# Another important attribute is itemsize, which can be used with ndarray objects. It defines the size\n",
    "# in bytes of each item in the array, and data is the buffer containing the actual elements of the array. This\n",
    "# second attribute is still not generally used, since to access the data within the array you will use the indexing\n",
    "# mechanism that you will see in the next sections.\n",
    "print(\"Size in bytes of each item in array is: \",b.itemsize)\n",
    "print(\"The buffer containing the array is: \",b.data)"
   ]
  },
  {
   "cell_type": "code",
   "execution_count": 32,
   "id": "76636860-a545-42e0-b003-36c7dd6ea720",
   "metadata": {},
   "outputs": [],
   "source": [
    "# Create an Array\n",
    "# To create a new array you can follow different paths. The most common is the one you saw in the previous\n",
    "# section through a list or sequence of lists as arguments to the array() function.\n",
    "c = np.array([[1, 2, 3],[4, 5, 6]])"
   ]
  },
  {
   "cell_type": "code",
   "execution_count": 34,
   "id": "e3e9e2a5-dc4d-4298-b88e-aba544a0d6c5",
   "metadata": {},
   "outputs": [
    {
     "data": {
      "text/plain": [
       "array([[1, 2, 3],\n",
       "       [4, 5, 6]])"
      ]
     },
     "execution_count": 34,
     "metadata": {},
     "output_type": "execute_result"
    }
   ],
   "source": [
    "c"
   ]
  },
  {
   "cell_type": "code",
   "execution_count": 35,
   "id": "9fa04855-adac-446b-b544-85a4aebad49b",
   "metadata": {},
   "outputs": [],
   "source": [
    "# The array() function in addition to the lists can accept even tuples and sequences of tuples.\n",
    "d = np.array(((1, 2, 3),(4, 5, 6)))"
   ]
  },
  {
   "cell_type": "code",
   "execution_count": 36,
   "id": "3b7aa92c-916f-4bef-b444-e68b557c2bde",
   "metadata": {},
   "outputs": [
    {
     "data": {
      "text/plain": [
       "array([[1, 2, 3],\n",
       "       [4, 5, 6]])"
      ]
     },
     "execution_count": 36,
     "metadata": {},
     "output_type": "execute_result"
    }
   ],
   "source": [
    "d"
   ]
  },
  {
   "cell_type": "code",
   "execution_count": 37,
   "id": "17ffe570-05af-488e-9e0b-092319c49048",
   "metadata": {},
   "outputs": [],
   "source": [
    "# and also, even sequences of tuples and lists interconnected make no difference.\n",
    "e = np.array([(1, 2, 3), [4, 5, 6], (7, 8, 9)])"
   ]
  },
  {
   "cell_type": "code",
   "execution_count": 38,
   "id": "437292cf-9ebe-4583-8194-68c1026a2c4a",
   "metadata": {},
   "outputs": [
    {
     "data": {
      "text/plain": [
       "array([[1, 2, 3],\n",
       "       [4, 5, 6],\n",
       "       [7, 8, 9]])"
      ]
     },
     "execution_count": 38,
     "metadata": {},
     "output_type": "execute_result"
    }
   ],
   "source": [
    "e"
   ]
  },
  {
   "cell_type": "markdown",
   "id": "fa8030bb-f709-4233-945d-633cf8ef7798",
   "metadata": {},
   "source": [
    "Types of Data"
   ]
  },
  {
   "cell_type": "code",
   "execution_count": 39,
   "id": "95f3a9a9-2e12-4bf0-9e75-7b2a53897a93",
   "metadata": {},
   "outputs": [
    {
     "data": {
      "text/plain": [
       "array([['a', 'b'],\n",
       "       ['c', 'd']], dtype='<U1')"
      ]
     },
     "execution_count": 39,
     "metadata": {},
     "output_type": "execute_result"
    }
   ],
   "source": [
    "g = np.array([['a', 'b'],['c', 'd']])\n",
    "g"
   ]
  },
  {
   "cell_type": "code",
   "execution_count": 40,
   "id": "d12988ad-9711-465c-b62f-8d946f4437e7",
   "metadata": {},
   "outputs": [
    {
     "data": {
      "text/plain": [
       "dtype('<U1')"
      ]
     },
     "execution_count": 40,
     "metadata": {},
     "output_type": "execute_result"
    }
   ],
   "source": [
    "g.dtype"
   ]
  },
  {
   "cell_type": "code",
   "execution_count": 41,
   "id": "d25d3b6a-4d59-4bd7-8569-9da1843f486f",
   "metadata": {},
   "outputs": [
    {
     "data": {
      "text/plain": [
       "'str32'"
      ]
     },
     "execution_count": 41,
     "metadata": {},
     "output_type": "execute_result"
    }
   ],
   "source": [
    "g.dtype.name"
   ]
  },
  {
   "cell_type": "code",
   "execution_count": 42,
   "id": "1ac58d6e-93a9-40e8-a687-43e59bbc41c1",
   "metadata": {},
   "outputs": [
    {
     "data": {
      "text/plain": [
       "array([[1.+0.j, 2.+0.j, 3.+0.j],\n",
       "       [4.+0.j, 5.+0.j, 6.+0.j]])"
      ]
     },
     "execution_count": 42,
     "metadata": {},
     "output_type": "execute_result"
    }
   ],
   "source": [
    "# Actually, you can explicitly define the dtype using the dtype option as argument of the function.\n",
    "f = np.array([[1, 2, 3],[4, 5, 6]], dtype=complex)\n",
    "f"
   ]
  },
  {
   "cell_type": "markdown",
   "id": "bea358fe-0011-4ac2-82e5-b9dd13ff4e79",
   "metadata": {},
   "source": [
    "Intrinsic Creation of an Array"
   ]
  },
  {
   "cell_type": "code",
   "execution_count": 44,
   "id": "ea349dfe-50f9-49ab-9be1-74c08927395b",
   "metadata": {},
   "outputs": [
    {
     "data": {
      "text/plain": [
       "array([[0., 0., 0.],\n",
       "       [0., 0., 0.],\n",
       "       [0., 0., 0.]])"
      ]
     },
     "execution_count": 44,
     "metadata": {},
     "output_type": "execute_result"
    }
   ],
   "source": [
    "# The zeros() function, for example, creates a full array of zeros with dimensions defined by the shape argument. For example, to create a two-dimensional array 3x3:\n",
    "np.zeros((3,3))"
   ]
  },
  {
   "cell_type": "code",
   "execution_count": 45,
   "id": "36f87bc9-2fac-41d7-b750-3bc317196579",
   "metadata": {},
   "outputs": [
    {
     "data": {
      "text/plain": [
       "array([[1., 1., 1.],\n",
       "       [1., 1., 1.],\n",
       "       [1., 1., 1.]])"
      ]
     },
     "execution_count": 45,
     "metadata": {},
     "output_type": "execute_result"
    }
   ],
   "source": [
    "# while the ones() function creates an array full of ones in a very similar way.\n",
    "np.ones((3,3))"
   ]
  },
  {
   "cell_type": "code",
   "execution_count": 46,
   "id": "9ca6eecb-dbef-4b48-83e0-477b655bdb06",
   "metadata": {},
   "outputs": [
    {
     "data": {
      "text/plain": [
       "array([0, 1, 2, 3, 4, 5, 6, 7, 8, 9])"
      ]
     },
     "execution_count": 46,
     "metadata": {},
     "output_type": "execute_result"
    }
   ],
   "source": [
    "# By default, the two functions have created arrays with float64 data type. A feature that will be\n",
    "# particularly useful is arange(). This function generates NumPy arrays with numerical sequences that\n",
    "# respond to particular rules depending on the passed arguments. For example, if you want to generate a\n",
    "# sequence of values between 0 and 10, you will be passed only one argument to the function, that is the value\n",
    "# with which you want to end the sequence.\n",
    "np.arange(0, 10)"
   ]
  },
  {
   "cell_type": "code",
   "execution_count": 47,
   "id": "44a2f7cb-39c7-44f9-b08c-eff4f8db0b38",
   "metadata": {},
   "outputs": [
    {
     "data": {
      "text/plain": [
       "array([0, 3, 6, 9])"
      ]
     },
     "execution_count": 47,
     "metadata": {},
     "output_type": "execute_result"
    }
   ],
   "source": [
    "# It is also possible to generate a sequence of values with precise intervals between them. If the third\n",
    "# argument of the arange() function is specified, this will represent the gap between a value and the next one\n",
    "# in the sequence of values.\n",
    "np.arange(0, 12, 3)"
   ]
  },
  {
   "cell_type": "code",
   "execution_count": 48,
   "id": "9c815842-023e-466a-9e6c-9aa036147d30",
   "metadata": {},
   "outputs": [
    {
     "data": {
      "text/plain": [
       "array([0. , 0.6, 1.2, 1.8, 2.4, 3. , 3.6, 4.2, 4.8, 5.4])"
      ]
     },
     "execution_count": 48,
     "metadata": {},
     "output_type": "execute_result"
    }
   ],
   "source": [
    "# In addition, this third argument can also be a float.\n",
    "np.arange(0, 6, 0.6)"
   ]
  },
  {
   "cell_type": "code",
   "execution_count": 49,
   "id": "298c00fb-7f91-43a7-8a61-dae4286833e0",
   "metadata": {},
   "outputs": [
    {
     "data": {
      "text/plain": [
       "array([[ 0,  1,  2,  3],\n",
       "       [ 4,  5,  6,  7],\n",
       "       [ 8,  9, 10, 11]])"
      ]
     },
     "execution_count": 49,
     "metadata": {},
     "output_type": "execute_result"
    }
   ],
   "source": [
    "# But so far you have only created one-dimensional arrays. To generate two-dimensional arrays you can\n",
    "# still continue to use the arange() function but combined with the reshape() function. This function divides\n",
    "# a linear array in different parts in the manner specified by the shape argument.\n",
    "np.arange(0, 12).reshape(3, 4)"
   ]
  },
  {
   "cell_type": "code",
   "execution_count": 50,
   "id": "00fa8f63-8225-4827-874a-26ab52c15db9",
   "metadata": {},
   "outputs": [
    {
     "data": {
      "text/plain": [
       "array([ 0. ,  2.5,  5. ,  7.5, 10. ])"
      ]
     },
     "execution_count": 50,
     "metadata": {},
     "output_type": "execute_result"
    }
   ],
   "source": [
    "# Another function very similar to arange() is linspace(). This function still takes as its first two\n",
    "# arguments the initial and end values of the sequence, but the third argument, instead of specifying the\n",
    "# distance between one element and the next, defines the number of elements into which we want the interval to be split.\n",
    "np.linspace(0,10,5)"
   ]
  },
  {
   "cell_type": "code",
   "execution_count": 52,
   "id": "15db802f-89b7-4856-ac92-f52ad46363cd",
   "metadata": {},
   "outputs": [
    {
     "data": {
      "text/plain": [
       "array([0.90633792, 0.26877268, 0.89593281])"
      ]
     },
     "execution_count": 52,
     "metadata": {},
     "output_type": "execute_result"
    }
   ],
   "source": [
    "# Finally, another method to obtain arrays already containing values is to fill them with random values.\n",
    "# This is possible using the random() function of the numpy.random module. This function will generate an\n",
    "# array with many elements as specified in the argument.\n",
    "np.random.random(3)"
   ]
  },
  {
   "cell_type": "markdown",
   "id": "e7179be0-86b3-4b36-a279-6c2898a66f49",
   "metadata": {},
   "source": [
    "Basic Operations"
   ]
  },
  {
   "cell_type": "markdown",
   "id": "e32683cf-83dd-44e3-a0a4-11905c072137",
   "metadata": {},
   "source": [
    "Arithmetic Operators"
   ]
  },
  {
   "cell_type": "code",
   "execution_count": 3,
   "id": "02912051-0a57-4342-a231-92ce4682dc1b",
   "metadata": {},
   "outputs": [],
   "source": [
    "a = np.arange(4)"
   ]
  },
  {
   "cell_type": "code",
   "execution_count": 4,
   "id": "c8894bdb-0836-4a0b-bc65-16b8d07ab0b7",
   "metadata": {},
   "outputs": [
    {
     "data": {
      "text/plain": [
       "array([0, 1, 2, 3])"
      ]
     },
     "execution_count": 4,
     "metadata": {},
     "output_type": "execute_result"
    }
   ],
   "source": [
    "a"
   ]
  },
  {
   "cell_type": "code",
   "execution_count": 5,
   "id": "c572f3d0-290f-4baf-a3b8-c5c11a848d49",
   "metadata": {},
   "outputs": [
    {
     "data": {
      "text/plain": [
       "array([4, 5, 6, 7])"
      ]
     },
     "execution_count": 5,
     "metadata": {},
     "output_type": "execute_result"
    }
   ],
   "source": [
    "a+4"
   ]
  },
  {
   "cell_type": "code",
   "execution_count": 6,
   "id": "5da900d8-ad04-4e18-b813-d8d7857c208a",
   "metadata": {},
   "outputs": [
    {
     "data": {
      "text/plain": [
       "array([0, 2, 4, 6])"
      ]
     },
     "execution_count": 6,
     "metadata": {},
     "output_type": "execute_result"
    }
   ],
   "source": [
    "a*2"
   ]
  },
  {
   "cell_type": "markdown",
   "id": "a1929dd6-8ab1-44c1-8422-55e505e04580",
   "metadata": {},
   "source": [
    "In NumPy, these operations are element-wise,\n",
    "that is, the operators are applied only between corresponding elements, namely, that occupy the same\n",
    "position, so that at the end as a result there will be a new array containing the results in the same location of\n",
    "the operands"
   ]
  },
  {
   "cell_type": "code",
   "execution_count": 7,
   "id": "f2b55968-eefe-43da-bb14-669244f25526",
   "metadata": {},
   "outputs": [],
   "source": [
    "b = np.arange(4,8)"
   ]
  },
  {
   "cell_type": "code",
   "execution_count": 8,
   "id": "a66f99e5-37c2-4d4f-9bd1-2ea17cec0eaf",
   "metadata": {},
   "outputs": [
    {
     "data": {
      "text/plain": [
       "array([4, 5, 6, 7])"
      ]
     },
     "execution_count": 8,
     "metadata": {},
     "output_type": "execute_result"
    }
   ],
   "source": [
    "b"
   ]
  },
  {
   "cell_type": "code",
   "execution_count": 9,
   "id": "11f49260-397e-4fe7-8ead-3bdeac25e1ae",
   "metadata": {},
   "outputs": [
    {
     "data": {
      "text/plain": [
       "array([ 4,  6,  8, 10])"
      ]
     },
     "execution_count": 9,
     "metadata": {},
     "output_type": "execute_result"
    }
   ],
   "source": [
    "a+b"
   ]
  },
  {
   "cell_type": "code",
   "execution_count": 10,
   "id": "bd00f57d-32be-4bb8-ab9d-63ffcf1eeee1",
   "metadata": {},
   "outputs": [
    {
     "data": {
      "text/plain": [
       "array([-4, -4, -4, -4])"
      ]
     },
     "execution_count": 10,
     "metadata": {},
     "output_type": "execute_result"
    }
   ],
   "source": [
    "a-b"
   ]
  },
  {
   "cell_type": "code",
   "execution_count": 11,
   "id": "2ed45c06-c8af-4d35-9a1e-8693734f45da",
   "metadata": {},
   "outputs": [
    {
     "data": {
      "text/plain": [
       "array([ 0,  5, 12, 21])"
      ]
     },
     "execution_count": 11,
     "metadata": {},
     "output_type": "execute_result"
    }
   ],
   "source": [
    "a*b"
   ]
  },
  {
   "cell_type": "markdown",
   "id": "c70a389e-d107-41cd-9089-55ecee77a3b2",
   "metadata": {},
   "source": [
    "Moreover, these operators are also available for functions, provided that the value returned is a NumPy\n",
    "array. For example, you can multiply the array with the sine or the square root of the elements of the array b."
   ]
  },
  {
   "cell_type": "code",
   "execution_count": 12,
   "id": "92d17c8c-ed28-42b8-9410-8f023d0a0ede",
   "metadata": {},
   "outputs": [
    {
     "data": {
      "text/plain": [
       "array([-0.        , -0.95892427, -0.558831  ,  1.9709598 ])"
      ]
     },
     "execution_count": 12,
     "metadata": {},
     "output_type": "execute_result"
    }
   ],
   "source": [
    "a * np.sin(b)"
   ]
  },
  {
   "cell_type": "code",
   "execution_count": 13,
   "id": "64946a73-6b2f-43a1-a512-e7b30efdfba0",
   "metadata": {},
   "outputs": [
    {
     "data": {
      "text/plain": [
       "array([0.        , 2.23606798, 4.89897949, 7.93725393])"
      ]
     },
     "execution_count": 13,
     "metadata": {},
     "output_type": "execute_result"
    }
   ],
   "source": [
    "a * np.sqrt(b)"
   ]
  },
  {
   "cell_type": "markdown",
   "id": "aff41e82-89ce-4bdd-9657-42725fbe8d4e",
   "metadata": {},
   "source": [
    "Moving on to the multidimensional case, even here the arithmetic operators continue to operate\n",
    "element-wise."
   ]
  },
  {
   "cell_type": "code",
   "execution_count": 14,
   "id": "5d2f00e3-9742-4ae2-9180-1b08c933cad3",
   "metadata": {},
   "outputs": [],
   "source": [
    "A = np.arange(0, 9).reshape(3, 3)"
   ]
  },
  {
   "cell_type": "code",
   "execution_count": 15,
   "id": "2f38c340-c781-403c-8d2a-80f28e157fa9",
   "metadata": {},
   "outputs": [
    {
     "data": {
      "text/plain": [
       "array([[0, 1, 2],\n",
       "       [3, 4, 5],\n",
       "       [6, 7, 8]])"
      ]
     },
     "execution_count": 15,
     "metadata": {},
     "output_type": "execute_result"
    }
   ],
   "source": [
    "A"
   ]
  },
  {
   "cell_type": "code",
   "execution_count": 16,
   "id": "064cc382-e525-47b2-b8f8-c761e2ab3d13",
   "metadata": {},
   "outputs": [],
   "source": [
    "B = np.ones((3, 3))"
   ]
  },
  {
   "cell_type": "code",
   "execution_count": 17,
   "id": "8a5a6f0d-f8d9-4c19-8fdb-8c02f86e64cf",
   "metadata": {},
   "outputs": [
    {
     "data": {
      "text/plain": [
       "array([[1., 1., 1.],\n",
       "       [1., 1., 1.],\n",
       "       [1., 1., 1.]])"
      ]
     },
     "execution_count": 17,
     "metadata": {},
     "output_type": "execute_result"
    }
   ],
   "source": [
    "B"
   ]
  },
  {
   "cell_type": "code",
   "execution_count": 18,
   "id": "ae75becf-663e-4c4d-9d37-03f647657b40",
   "metadata": {},
   "outputs": [
    {
     "data": {
      "text/plain": [
       "array([[0., 1., 2.],\n",
       "       [3., 4., 5.],\n",
       "       [6., 7., 8.]])"
      ]
     },
     "execution_count": 18,
     "metadata": {},
     "output_type": "execute_result"
    }
   ],
   "source": [
    "A * B"
   ]
  },
  {
   "cell_type": "markdown",
   "id": "3c81891f-e6a3-497c-9235-b7bde1db42ae",
   "metadata": {},
   "source": [
    "The Matrix Product"
   ]
  },
  {
   "cell_type": "markdown",
   "id": "d4c2f0dc-1120-4daf-967d-a86fd21167c7",
   "metadata": {},
   "source": [
    "The choice of operating element-wise is a peculiar aspect of the NumPy library. In fact in many other tools\n",
    "for data analysis, the * operator is understood as matrix product when it is applied to two matrices. Using\n",
    "NumPy, this kind of product is instead indicated by the dot() function. This operation is not element-wise."
   ]
  },
  {
   "cell_type": "code",
   "execution_count": 19,
   "id": "d96a04f4-bd09-45d4-bae8-5315e5935c88",
   "metadata": {},
   "outputs": [
    {
     "data": {
      "text/plain": [
       "array([[ 3.,  3.,  3.],\n",
       "       [12., 12., 12.],\n",
       "       [21., 21., 21.]])"
      ]
     },
     "execution_count": 19,
     "metadata": {},
     "output_type": "execute_result"
    }
   ],
   "source": [
    "np.dot(A,B)"
   ]
  },
  {
   "cell_type": "markdown",
   "id": "b6e54a09-7bd3-4a7b-ad7f-bbc13699c035",
   "metadata": {},
   "source": [
    "The result at each position is the sum of the products between each element of the corresponding\n",
    "row of the first matrix with the corresponding element of the corresponding column of the second matrix."
   ]
  },
  {
   "cell_type": "markdown",
   "id": "0f289f12-ea1c-4c5e-bd45-3ec9351c74fe",
   "metadata": {},
   "source": [
    "An alternative way to write the matrix product is to see the dot() function as an object’s function of one\n",
    "of the two matrices."
   ]
  },
  {
   "cell_type": "code",
   "execution_count": 20,
   "id": "5dc77152-02d8-45f7-81a5-4fc3d73acd6a",
   "metadata": {},
   "outputs": [
    {
     "data": {
      "text/plain": [
       "array([[ 3.,  3.,  3.],\n",
       "       [12., 12., 12.],\n",
       "       [21., 21., 21.]])"
      ]
     },
     "execution_count": 20,
     "metadata": {},
     "output_type": "execute_result"
    }
   ],
   "source": [
    "A.dot(B)"
   ]
  },
  {
   "cell_type": "markdown",
   "id": "56d642b2-8e50-47bc-9d26-3437156fdeb5",
   "metadata": {},
   "source": [
    "I want to add that since the matrix product is not a commutative operation, then the order of the\n",
    "operands is important. Indeed A * B is not equal to B * A."
   ]
  },
  {
   "cell_type": "code",
   "execution_count": 21,
   "id": "f1df6776-7bee-480a-bbed-6d8dd7ce6abf",
   "metadata": {},
   "outputs": [
    {
     "data": {
      "text/plain": [
       "array([[ 9., 12., 15.],\n",
       "       [ 9., 12., 15.],\n",
       "       [ 9., 12., 15.]])"
      ]
     },
     "execution_count": 21,
     "metadata": {},
     "output_type": "execute_result"
    }
   ],
   "source": [
    "np.dot(B,A)"
   ]
  },
  {
   "cell_type": "markdown",
   "id": "5e821c75-323e-456c-a243-cb470b802ace",
   "metadata": {},
   "source": [
    "Increment and Decrement Operators"
   ]
  },
  {
   "cell_type": "code",
   "execution_count": 5,
   "id": "cbe9feea-1670-4573-b782-0c470fae2f5a",
   "metadata": {},
   "outputs": [],
   "source": [
    "a = np.arange(4)"
   ]
  },
  {
   "cell_type": "code",
   "execution_count": 6,
   "id": "f566fb2e-bac7-480f-ad58-a74751f954af",
   "metadata": {},
   "outputs": [
    {
     "data": {
      "text/plain": [
       "array([0, 1, 2, 3])"
      ]
     },
     "execution_count": 6,
     "metadata": {},
     "output_type": "execute_result"
    }
   ],
   "source": [
    "a"
   ]
  },
  {
   "cell_type": "code",
   "execution_count": 7,
   "id": "a3ca9aaf-4926-4bd1-9fde-328b51bce5f4",
   "metadata": {},
   "outputs": [],
   "source": [
    "a += 1"
   ]
  },
  {
   "cell_type": "code",
   "execution_count": 8,
   "id": "50c9a799-95fc-46f5-ba85-90a88e08497b",
   "metadata": {},
   "outputs": [
    {
     "data": {
      "text/plain": [
       "array([1, 2, 3, 4])"
      ]
     },
     "execution_count": 8,
     "metadata": {},
     "output_type": "execute_result"
    }
   ],
   "source": [
    "a"
   ]
  },
  {
   "cell_type": "code",
   "execution_count": 10,
   "id": "206e0c93-012d-4ef6-9616-d0862a5560af",
   "metadata": {},
   "outputs": [],
   "source": [
    "a -= 1"
   ]
  },
  {
   "cell_type": "code",
   "execution_count": 11,
   "id": "46e444ce-85a8-40e3-a026-25e67db03fe0",
   "metadata": {},
   "outputs": [
    {
     "data": {
      "text/plain": [
       "array([0, 1, 2, 3])"
      ]
     },
     "execution_count": 11,
     "metadata": {},
     "output_type": "execute_result"
    }
   ],
   "source": [
    "a"
   ]
  },
  {
   "cell_type": "markdown",
   "id": "bdd78260-02d2-4cb2-9ef1-115d090ef77d",
   "metadata": {},
   "source": [
    "Actually, there is no such operators in Python, since there are no operators ++ or ––. To increase or decrease\n",
    "the values you have to use operators such as += or –=. These operators are not different from those that we\n",
    "saw earlier, except that instead of creating a new array with the results, they will reassign the results to the\n",
    "same array."
   ]
  },
  {
   "cell_type": "code",
   "execution_count": 13,
   "id": "890a13f3-0e81-494b-aeca-32d09131a4cf",
   "metadata": {},
   "outputs": [],
   "source": [
    "# array([0, 1, 2, 3])\n",
    "a+=4"
   ]
  },
  {
   "cell_type": "code",
   "execution_count": 14,
   "id": "36e71286-8cf8-44ed-a4fb-28c30123ddc3",
   "metadata": {},
   "outputs": [
    {
     "data": {
      "text/plain": [
       "array([4, 5, 6, 7])"
      ]
     },
     "execution_count": 14,
     "metadata": {},
     "output_type": "execute_result"
    }
   ],
   "source": [
    "a"
   ]
  },
  {
   "cell_type": "code",
   "execution_count": 15,
   "id": "1a7f42ac-1a63-4622-8c0f-d1bf9e4141e6",
   "metadata": {},
   "outputs": [],
   "source": [
    "a *= 2"
   ]
  },
  {
   "cell_type": "code",
   "execution_count": 16,
   "id": "ffe9c470-ed03-4ac4-8d0d-e24dc0892d86",
   "metadata": {},
   "outputs": [
    {
     "data": {
      "text/plain": [
       "array([ 8, 10, 12, 14])"
      ]
     },
     "execution_count": 16,
     "metadata": {},
     "output_type": "execute_result"
    }
   ],
   "source": [
    "a"
   ]
  },
  {
   "cell_type": "markdown",
   "id": "fd0b5dba-5b5d-45e4-922c-39200ba790ae",
   "metadata": {},
   "source": [
    "Universal Functions (ufunc)"
   ]
  },
  {
   "cell_type": "markdown",
   "id": "55e9f18c-27fa-4306-b926-72471d10468b",
   "metadata": {},
   "source": [
    "A universal function, generally called ufunc, is a function operating of an array in an element-by-element\n",
    "fashion. This means that it is a function that acts individually on each single element of the input array to\n",
    "generate a corresponding result in a new output array. At the end, you will obtain an array of the same size of\n",
    "the input.\n",
    "There are many mathematical and trigonometric operations that meet this definition, for example, the\n",
    "calculation of the square root with sqrt(), the logarithm with log(), or the sin with sin()."
   ]
  },
  {
   "cell_type": "code",
   "execution_count": 17,
   "id": "3362f91d-c200-4fa3-9b24-03f85bdccf2d",
   "metadata": {},
   "outputs": [
    {
     "data": {
      "text/plain": [
       "array([1, 2, 3, 4])"
      ]
     },
     "execution_count": 17,
     "metadata": {},
     "output_type": "execute_result"
    }
   ],
   "source": [
    "a = np.arange(1, 5)\n",
    "a"
   ]
  },
  {
   "cell_type": "code",
   "execution_count": 18,
   "id": "dc26dc47-76a5-4426-9dd5-9ca1b252a7a1",
   "metadata": {},
   "outputs": [
    {
     "data": {
      "text/plain": [
       "array([1.        , 1.41421356, 1.73205081, 2.        ])"
      ]
     },
     "execution_count": 18,
     "metadata": {},
     "output_type": "execute_result"
    }
   ],
   "source": [
    "np.sqrt(a)"
   ]
  },
  {
   "cell_type": "code",
   "execution_count": 19,
   "id": "9ca89b99-7fc6-469d-b8d9-9dd142e5f657",
   "metadata": {},
   "outputs": [
    {
     "data": {
      "text/plain": [
       "array([0.        , 0.69314718, 1.09861229, 1.38629436])"
      ]
     },
     "execution_count": 19,
     "metadata": {},
     "output_type": "execute_result"
    }
   ],
   "source": [
    "np.log(a)"
   ]
  },
  {
   "cell_type": "code",
   "execution_count": 20,
   "id": "a388d63f-9059-43b6-a9fe-7c4a92d2dc04",
   "metadata": {},
   "outputs": [
    {
     "data": {
      "text/plain": [
       "array([ 0.84147098,  0.90929743,  0.14112001, -0.7568025 ])"
      ]
     },
     "execution_count": 20,
     "metadata": {},
     "output_type": "execute_result"
    }
   ],
   "source": [
    "np.sin(a)"
   ]
  },
  {
   "cell_type": "code",
   "execution_count": 21,
   "id": "2acb88f4-b379-4ba2-9586-30889915e0f7",
   "metadata": {},
   "outputs": [
    {
     "data": {
      "text/plain": [
       "array([ 1.55740772, -2.18503986, -0.14254654,  1.15782128])"
      ]
     },
     "execution_count": 21,
     "metadata": {},
     "output_type": "execute_result"
    }
   ],
   "source": [
    "np.tan(a)"
   ]
  },
  {
   "cell_type": "code",
   "execution_count": 22,
   "id": "11e26227-d7f4-4a48-814f-cc0d3f76e04d",
   "metadata": {},
   "outputs": [
    {
     "data": {
      "text/plain": [
       "array([ 0.54030231, -0.41614684, -0.9899925 , -0.65364362])"
      ]
     },
     "execution_count": 22,
     "metadata": {},
     "output_type": "execute_result"
    }
   ],
   "source": [
    "np.cos(a)"
   ]
  },
  {
   "cell_type": "markdown",
   "id": "49d096a3-b923-4323-88ca-26df9062188a",
   "metadata": {},
   "source": [
    "Aggregate Functions"
   ]
  },
  {
   "cell_type": "markdown",
   "id": "503766e6-aae3-4688-ac1c-6c6156d5504e",
   "metadata": {},
   "source": [
    "Aggregate functions are those functions that perform an operation on a set of values, an array for example,\n",
    "and produce a single result. Therefore, the sum of all the elements in an array is an aggregate function. Many\n",
    "functions of this kind are implemented within the class ndarray."
   ]
  },
  {
   "cell_type": "code",
   "execution_count": 23,
   "id": "877b4a9c-bf71-4f95-a7c6-04a7325c32ea",
   "metadata": {},
   "outputs": [],
   "source": [
    "a = np.array([3.3, 4.5, 1.2, 5.7, 0.3])"
   ]
  },
  {
   "cell_type": "code",
   "execution_count": 24,
   "id": "fc3020d6-15f8-4187-8af7-f5da8c1dd519",
   "metadata": {},
   "outputs": [
    {
     "data": {
      "text/plain": [
       "15.0"
      ]
     },
     "execution_count": 24,
     "metadata": {},
     "output_type": "execute_result"
    }
   ],
   "source": [
    "a.sum()"
   ]
  },
  {
   "cell_type": "code",
   "execution_count": 25,
   "id": "437d69f9-2368-4d48-b414-bdc0b337fb38",
   "metadata": {},
   "outputs": [
    {
     "data": {
      "text/plain": [
       "0.3"
      ]
     },
     "execution_count": 25,
     "metadata": {},
     "output_type": "execute_result"
    }
   ],
   "source": [
    "a.min()"
   ]
  },
  {
   "cell_type": "code",
   "execution_count": 26,
   "id": "b3c5ce53-8dcb-45a4-92e0-50ccffb8f993",
   "metadata": {},
   "outputs": [
    {
     "data": {
      "text/plain": [
       "5.7"
      ]
     },
     "execution_count": 26,
     "metadata": {},
     "output_type": "execute_result"
    }
   ],
   "source": [
    "a.max()"
   ]
  },
  {
   "cell_type": "code",
   "execution_count": 27,
   "id": "75bf96e5-d392-42e2-9fad-ea9fd3a85df9",
   "metadata": {},
   "outputs": [
    {
     "data": {
      "text/plain": [
       "3.0"
      ]
     },
     "execution_count": 27,
     "metadata": {},
     "output_type": "execute_result"
    }
   ],
   "source": [
    "a.mean()"
   ]
  },
  {
   "cell_type": "code",
   "execution_count": 28,
   "id": "ace3e1b1-cec3-42cc-b468-fe19f0d4cd80",
   "metadata": {},
   "outputs": [
    {
     "data": {
      "text/plain": [
       "2.0079840636817816"
      ]
     },
     "execution_count": 28,
     "metadata": {},
     "output_type": "execute_result"
    }
   ],
   "source": [
    "a.std()"
   ]
  },
  {
   "cell_type": "markdown",
   "id": "ec296de8-33ec-4214-8dfb-bc9e8a893e4a",
   "metadata": {},
   "source": [
    "Indexing, Slicing, and Iterating"
   ]
  },
  {
   "cell_type": "code",
   "execution_count": null,
   "id": "4d8140aa-e978-4182-ab67-94ce4ba8cad8",
   "metadata": {},
   "outputs": [],
   "source": []
  }
 ],
 "metadata": {
  "kernelspec": {
   "display_name": "Python 3 (ipykernel)",
   "language": "python",
   "name": "python3"
  },
  "language_info": {
   "codemirror_mode": {
    "name": "ipython",
    "version": 3
   },
   "file_extension": ".py",
   "mimetype": "text/x-python",
   "name": "python",
   "nbconvert_exporter": "python",
   "pygments_lexer": "ipython3",
   "version": "3.12.3"
  }
 },
 "nbformat": 4,
 "nbformat_minor": 5
}
