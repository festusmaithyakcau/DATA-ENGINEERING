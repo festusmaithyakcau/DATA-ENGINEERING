{
 "cells": [
  {
   "cell_type": "code",
   "execution_count": 1,
   "id": "f1d9f881-3eca-4685-a3da-08a3274e3c24",
   "metadata": {},
   "outputs": [],
   "source": [
    "import numpy as np"
   ]
  },
  {
   "cell_type": "code",
   "execution_count": 2,
   "id": "4edf5ecd-604b-44c3-8ce2-10f24aaeeaf2",
   "metadata": {},
   "outputs": [
    {
     "data": {
      "text/plain": [
       "array([1, 2, 3])"
      ]
     },
     "execution_count": 2,
     "metadata": {},
     "output_type": "execute_result"
    }
   ],
   "source": [
    "a = np.array([1, 2, 3])\n",
    "a"
   ]
  },
  {
   "cell_type": "code",
   "execution_count": 4,
   "id": "ef508825-602e-4621-aeb9-1db5976b4de8",
   "metadata": {},
   "outputs": [
    {
     "data": {
      "text/plain": [
       "numpy.ndarray"
      ]
     },
     "execution_count": 4,
     "metadata": {},
     "output_type": "execute_result"
    }
   ],
   "source": [
    "# You can easily check that a newly created object is an ndarray, passing the new variable to the type() function.\n",
    "type(a)"
   ]
  },
  {
   "cell_type": "code",
   "execution_count": 10,
   "id": "3f8efa0c-e7e9-4822-9191-e0326e8ae55b",
   "metadata": {},
   "outputs": [
    {
     "data": {
      "text/plain": [
       "dtype('int64')"
      ]
     },
     "execution_count": 10,
     "metadata": {},
     "output_type": "execute_result"
    }
   ],
   "source": [
    "# In order to know the associated dtype to the just created ndarray, you have to use the dtype attribute.\n",
    "a.dtype"
   ]
  },
  {
   "cell_type": "code",
   "execution_count": 19,
   "id": "7d084fe0-0fc1-4420-b066-5b811bee969a",
   "metadata": {},
   "outputs": [
    {
     "name": "stdout",
     "output_type": "stream",
     "text": [
      "Rank is : 1\n",
      "Size of array is: 3\n",
      "Shape of array is: (3,)\n"
     ]
    }
   ],
   "source": [
    "# The just-created array has one axis, and then its rank is 1, while its shape should be (3,1). To obtain\n",
    "# these values from the corresponding array it is sufficient to use the ndim attribute for getting the axes, the\n",
    "# size attribute to know the array length, and the shape attribute to get its shape.\n",
    "print(\"Rank is :\",a.ndim)\n",
    "print(\"Size of array is:\",a.size)\n",
    "print(\"Shape of array is:\",a.shape)"
   ]
  },
  {
   "cell_type": "code",
   "execution_count": null,
   "id": "1d58e460-8b72-43ef-a387-67d506e9476f",
   "metadata": {},
   "outputs": [],
   "source": [
    "b = np.array([[1.3, 2.4],[0.3, 4.1]])"
   ]
  },
  {
   "cell_type": "code",
   "execution_count": 21,
   "id": "a8f72402-1c04-4fa5-938e-ced972bea11d",
   "metadata": {},
   "outputs": [
    {
     "name": "stdout",
     "output_type": "stream",
     "text": [
      "The dtype is:  float64\n",
      "Rank is : 2\n",
      "Size of array is: 4\n",
      "Shape of array is: (2, 2)\n"
     ]
    }
   ],
   "source": [
    "print(\"The dtype is: \",b.dtype)\n",
    "print(\"Rank is :\",b.ndim)\n",
    "print(\"Size of array is:\",b.size)\n",
    "print(\"Shape of array is:\",b.shape)"
   ]
  },
  {
   "cell_type": "code",
   "execution_count": 26,
   "id": "13c8fa2f-0533-4da7-b3c3-225ab93abfb4",
   "metadata": {},
   "outputs": [
    {
     "name": "stdout",
     "output_type": "stream",
     "text": [
      "Size in bytes of each item in array is:  8\n",
      "The buffer containing the array is:  <memory at 0x71b3599a6740>\n"
     ]
    }
   ],
   "source": [
    "# This array has rank 2, since it has two axis, each of length 2.\n",
    "# Another important attribute is itemsize, which can be used with ndarray objects. It defines the size\n",
    "# in bytes of each item in the array, and data is the buffer containing the actual elements of the array. This\n",
    "# second attribute is still not generally used, since to access the data within the array you will use the indexing\n",
    "# mechanism that you will see in the next sections.\n",
    "print(\"Size in bytes of each item in array is: \",b.itemsize)\n",
    "print(\"The buffer containing the array is: \",b.data)"
   ]
  },
  {
   "cell_type": "code",
   "execution_count": 32,
   "id": "76636860-a545-42e0-b003-36c7dd6ea720",
   "metadata": {},
   "outputs": [],
   "source": [
    "# Create an Array\n",
    "# To create a new array you can follow different paths. The most common is the one you saw in the previous\n",
    "# section through a list or sequence of lists as arguments to the array() function.\n",
    "c = np.array([[1, 2, 3],[4, 5, 6]])"
   ]
  },
  {
   "cell_type": "code",
   "execution_count": 34,
   "id": "e3e9e2a5-dc4d-4298-b88e-aba544a0d6c5",
   "metadata": {},
   "outputs": [
    {
     "data": {
      "text/plain": [
       "array([[1, 2, 3],\n",
       "       [4, 5, 6]])"
      ]
     },
     "execution_count": 34,
     "metadata": {},
     "output_type": "execute_result"
    }
   ],
   "source": [
    "c"
   ]
  },
  {
   "cell_type": "code",
   "execution_count": 35,
   "id": "9fa04855-adac-446b-b544-85a4aebad49b",
   "metadata": {},
   "outputs": [],
   "source": [
    "# The array() function in addition to the lists can accept even tuples and sequences of tuples.\n",
    "d = np.array(((1, 2, 3),(4, 5, 6)))"
   ]
  },
  {
   "cell_type": "code",
   "execution_count": 36,
   "id": "3b7aa92c-916f-4bef-b444-e68b557c2bde",
   "metadata": {},
   "outputs": [
    {
     "data": {
      "text/plain": [
       "array([[1, 2, 3],\n",
       "       [4, 5, 6]])"
      ]
     },
     "execution_count": 36,
     "metadata": {},
     "output_type": "execute_result"
    }
   ],
   "source": [
    "d"
   ]
  },
  {
   "cell_type": "code",
   "execution_count": 37,
   "id": "17ffe570-05af-488e-9e0b-092319c49048",
   "metadata": {},
   "outputs": [],
   "source": [
    "# and also, even sequences of tuples and lists interconnected make no difference.\n",
    "e = np.array([(1, 2, 3), [4, 5, 6], (7, 8, 9)])"
   ]
  },
  {
   "cell_type": "code",
   "execution_count": 38,
   "id": "437292cf-9ebe-4583-8194-68c1026a2c4a",
   "metadata": {},
   "outputs": [
    {
     "data": {
      "text/plain": [
       "array([[1, 2, 3],\n",
       "       [4, 5, 6],\n",
       "       [7, 8, 9]])"
      ]
     },
     "execution_count": 38,
     "metadata": {},
     "output_type": "execute_result"
    }
   ],
   "source": [
    "e"
   ]
  },
  {
   "cell_type": "markdown",
   "id": "fa8030bb-f709-4233-945d-633cf8ef7798",
   "metadata": {},
   "source": [
    "Types of Data"
   ]
  },
  {
   "cell_type": "code",
   "execution_count": 39,
   "id": "95f3a9a9-2e12-4bf0-9e75-7b2a53897a93",
   "metadata": {},
   "outputs": [
    {
     "data": {
      "text/plain": [
       "array([['a', 'b'],\n",
       "       ['c', 'd']], dtype='<U1')"
      ]
     },
     "execution_count": 39,
     "metadata": {},
     "output_type": "execute_result"
    }
   ],
   "source": [
    "g = np.array([['a', 'b'],['c', 'd']])\n",
    "g"
   ]
  },
  {
   "cell_type": "code",
   "execution_count": 40,
   "id": "d12988ad-9711-465c-b62f-8d946f4437e7",
   "metadata": {},
   "outputs": [
    {
     "data": {
      "text/plain": [
       "dtype('<U1')"
      ]
     },
     "execution_count": 40,
     "metadata": {},
     "output_type": "execute_result"
    }
   ],
   "source": [
    "g.dtype"
   ]
  },
  {
   "cell_type": "code",
   "execution_count": 41,
   "id": "d25d3b6a-4d59-4bd7-8569-9da1843f486f",
   "metadata": {},
   "outputs": [
    {
     "data": {
      "text/plain": [
       "'str32'"
      ]
     },
     "execution_count": 41,
     "metadata": {},
     "output_type": "execute_result"
    }
   ],
   "source": [
    "g.dtype.name"
   ]
  },
  {
   "cell_type": "code",
   "execution_count": 42,
   "id": "1ac58d6e-93a9-40e8-a687-43e59bbc41c1",
   "metadata": {},
   "outputs": [
    {
     "data": {
      "text/plain": [
       "array([[1.+0.j, 2.+0.j, 3.+0.j],\n",
       "       [4.+0.j, 5.+0.j, 6.+0.j]])"
      ]
     },
     "execution_count": 42,
     "metadata": {},
     "output_type": "execute_result"
    }
   ],
   "source": [
    "# Actually, you can explicitly define the dtype using the dtype option as argument of the function.\n",
    "f = np.array([[1, 2, 3],[4, 5, 6]], dtype=complex)\n",
    "f"
   ]
  },
  {
   "cell_type": "markdown",
   "id": "bea358fe-0011-4ac2-82e5-b9dd13ff4e79",
   "metadata": {},
   "source": [
    "Intrinsic Creation of an Array"
   ]
  },
  {
   "cell_type": "code",
   "execution_count": 44,
   "id": "ea349dfe-50f9-49ab-9be1-74c08927395b",
   "metadata": {},
   "outputs": [
    {
     "data": {
      "text/plain": [
       "array([[0., 0., 0.],\n",
       "       [0., 0., 0.],\n",
       "       [0., 0., 0.]])"
      ]
     },
     "execution_count": 44,
     "metadata": {},
     "output_type": "execute_result"
    }
   ],
   "source": [
    "# The zeros() function, for example, creates a full array of zeros with dimensions defined by the shape argument. For example, to create a two-dimensional array 3x3:\n",
    "np.zeros((3,3))"
   ]
  },
  {
   "cell_type": "code",
   "execution_count": 45,
   "id": "36f87bc9-2fac-41d7-b750-3bc317196579",
   "metadata": {},
   "outputs": [
    {
     "data": {
      "text/plain": [
       "array([[1., 1., 1.],\n",
       "       [1., 1., 1.],\n",
       "       [1., 1., 1.]])"
      ]
     },
     "execution_count": 45,
     "metadata": {},
     "output_type": "execute_result"
    }
   ],
   "source": [
    "# while the ones() function creates an array full of ones in a very similar way.\n",
    "np.ones((3,3))"
   ]
  },
  {
   "cell_type": "code",
   "execution_count": 46,
   "id": "9ca6eecb-dbef-4b48-83e0-477b655bdb06",
   "metadata": {},
   "outputs": [
    {
     "data": {
      "text/plain": [
       "array([0, 1, 2, 3, 4, 5, 6, 7, 8, 9])"
      ]
     },
     "execution_count": 46,
     "metadata": {},
     "output_type": "execute_result"
    }
   ],
   "source": [
    "# By default, the two functions have created arrays with float64 data type. A feature that will be\n",
    "# particularly useful is arange(). This function generates NumPy arrays with numerical sequences that\n",
    "# respond to particular rules depending on the passed arguments. For example, if you want to generate a\n",
    "# sequence of values between 0 and 10, you will be passed only one argument to the function, that is the value\n",
    "# with which you want to end the sequence.\n",
    "np.arange(0, 10)"
   ]
  },
  {
   "cell_type": "code",
   "execution_count": 47,
   "id": "44a2f7cb-39c7-44f9-b08c-eff4f8db0b38",
   "metadata": {},
   "outputs": [
    {
     "data": {
      "text/plain": [
       "array([0, 3, 6, 9])"
      ]
     },
     "execution_count": 47,
     "metadata": {},
     "output_type": "execute_result"
    }
   ],
   "source": [
    "# It is also possible to generate a sequence of values with precise intervals between them. If the third\n",
    "# argument of the arange() function is specified, this will represent the gap between a value and the next one\n",
    "# in the sequence of values.\n",
    "np.arange(0, 12, 3)"
   ]
  },
  {
   "cell_type": "code",
   "execution_count": 48,
   "id": "9c815842-023e-466a-9e6c-9aa036147d30",
   "metadata": {},
   "outputs": [
    {
     "data": {
      "text/plain": [
       "array([0. , 0.6, 1.2, 1.8, 2.4, 3. , 3.6, 4.2, 4.8, 5.4])"
      ]
     },
     "execution_count": 48,
     "metadata": {},
     "output_type": "execute_result"
    }
   ],
   "source": [
    "# In addition, this third argument can also be a float.\n",
    "np.arange(0, 6, 0.6)"
   ]
  },
  {
   "cell_type": "code",
   "execution_count": 49,
   "id": "298c00fb-7f91-43a7-8a61-dae4286833e0",
   "metadata": {},
   "outputs": [
    {
     "data": {
      "text/plain": [
       "array([[ 0,  1,  2,  3],\n",
       "       [ 4,  5,  6,  7],\n",
       "       [ 8,  9, 10, 11]])"
      ]
     },
     "execution_count": 49,
     "metadata": {},
     "output_type": "execute_result"
    }
   ],
   "source": [
    "# But so far you have only created one-dimensional arrays. To generate two-dimensional arrays you can\n",
    "# still continue to use the arange() function but combined with the reshape() function. This function divides\n",
    "# a linear array in different parts in the manner specified by the shape argument.\n",
    "np.arange(0, 12).reshape(3, 4)"
   ]
  },
  {
   "cell_type": "code",
   "execution_count": 50,
   "id": "00fa8f63-8225-4827-874a-26ab52c15db9",
   "metadata": {},
   "outputs": [
    {
     "data": {
      "text/plain": [
       "array([ 0. ,  2.5,  5. ,  7.5, 10. ])"
      ]
     },
     "execution_count": 50,
     "metadata": {},
     "output_type": "execute_result"
    }
   ],
   "source": [
    "# Another function very similar to arange() is linspace(). This function still takes as its first two\n",
    "# arguments the initial and end values of the sequence, but the third argument, instead of specifying the\n",
    "# distance between one element and the next, defines the number of elements into which we want the interval to be split.\n",
    "np.linspace(0,10,5)"
   ]
  },
  {
   "cell_type": "code",
   "execution_count": 52,
   "id": "15db802f-89b7-4856-ac92-f52ad46363cd",
   "metadata": {},
   "outputs": [
    {
     "data": {
      "text/plain": [
       "array([0.90633792, 0.26877268, 0.89593281])"
      ]
     },
     "execution_count": 52,
     "metadata": {},
     "output_type": "execute_result"
    }
   ],
   "source": [
    "# Finally, another method to obtain arrays already containing values is to fill them with random values.\n",
    "# This is possible using the random() function of the numpy.random module. This function will generate an\n",
    "# array with many elements as specified in the argument.\n",
    "np.random.random(3)"
   ]
  },
  {
   "cell_type": "markdown",
   "id": "e7179be0-86b3-4b36-a279-6c2898a66f49",
   "metadata": {},
   "source": [
    "Basic Operations"
   ]
  },
  {
   "cell_type": "code",
   "execution_count": null,
   "id": "ac9a8359-e3cf-4207-b118-50c75587abd8",
   "metadata": {},
   "outputs": [],
   "source": []
  }
 ],
 "metadata": {
  "kernelspec": {
   "display_name": "Python 3 (ipykernel)",
   "language": "python",
   "name": "python3"
  },
  "language_info": {
   "codemirror_mode": {
    "name": "ipython",
    "version": 3
   },
   "file_extension": ".py",
   "mimetype": "text/x-python",
   "name": "python",
   "nbconvert_exporter": "python",
   "pygments_lexer": "ipython3",
   "version": "3.12.3"
  }
 },
 "nbformat": 4,
 "nbformat_minor": 5
}
