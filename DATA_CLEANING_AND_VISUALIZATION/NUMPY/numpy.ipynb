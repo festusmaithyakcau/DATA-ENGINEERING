{
 "cells": [
  {
   "cell_type": "code",
   "execution_count": 1,
   "id": "f1d9f881-3eca-4685-a3da-08a3274e3c24",
   "metadata": {},
   "outputs": [],
   "source": [
    "import numpy as np"
   ]
  },
  {
   "cell_type": "code",
   "execution_count": 2,
   "id": "4edf5ecd-604b-44c3-8ce2-10f24aaeeaf2",
   "metadata": {},
   "outputs": [
    {
     "data": {
      "text/plain": [
       "array([1, 2, 3])"
      ]
     },
     "execution_count": 2,
     "metadata": {},
     "output_type": "execute_result"
    }
   ],
   "source": [
    "a = np.array([1, 2, 3])\n",
    "a"
   ]
  },
  {
   "cell_type": "code",
   "execution_count": 4,
   "id": "ef508825-602e-4621-aeb9-1db5976b4de8",
   "metadata": {},
   "outputs": [
    {
     "data": {
      "text/plain": [
       "numpy.ndarray"
      ]
     },
     "execution_count": 4,
     "metadata": {},
     "output_type": "execute_result"
    }
   ],
   "source": [
    "# You can easily check that a newly created object is an ndarray, passing the new variable to the type() function.\n",
    "type(a)"
   ]
  },
  {
   "cell_type": "code",
   "execution_count": 10,
   "id": "3f8efa0c-e7e9-4822-9191-e0326e8ae55b",
   "metadata": {},
   "outputs": [
    {
     "data": {
      "text/plain": [
       "dtype('int64')"
      ]
     },
     "execution_count": 10,
     "metadata": {},
     "output_type": "execute_result"
    }
   ],
   "source": [
    "# In order to know the associated dtype to the just created ndarray, you have to use the dtype attribute.\n",
    "a.dtype"
   ]
  },
  {
   "cell_type": "code",
   "execution_count": 19,
   "id": "7d084fe0-0fc1-4420-b066-5b811bee969a",
   "metadata": {},
   "outputs": [
    {
     "name": "stdout",
     "output_type": "stream",
     "text": [
      "Rank is : 1\n",
      "Size of array is: 3\n",
      "Shape of array is: (3,)\n"
     ]
    }
   ],
   "source": [
    "# The just-created array has one axis, and then its rank is 1, while its shape should be (3,1). To obtain\n",
    "# these values from the corresponding array it is sufficient to use the ndim attribute for getting the axes, the\n",
    "# size attribute to know the array length, and the shape attribute to get its shape.\n",
    "print(\"Rank is :\",a.ndim)\n",
    "print(\"Size of array is:\",a.size)\n",
    "print(\"Shape of array is:\",a.shape)"
   ]
  },
  {
   "cell_type": "code",
   "execution_count": null,
   "id": "1d58e460-8b72-43ef-a387-67d506e9476f",
   "metadata": {},
   "outputs": [],
   "source": [
    "b = np.array([[1.3, 2.4],[0.3, 4.1]])"
   ]
  },
  {
   "cell_type": "code",
   "execution_count": 21,
   "id": "a8f72402-1c04-4fa5-938e-ced972bea11d",
   "metadata": {},
   "outputs": [
    {
     "name": "stdout",
     "output_type": "stream",
     "text": [
      "The dtype is:  float64\n",
      "Rank is : 2\n",
      "Size of array is: 4\n",
      "Shape of array is: (2, 2)\n"
     ]
    }
   ],
   "source": [
    "print(\"The dtype is: \",b.dtype)\n",
    "print(\"Rank is :\",b.ndim)\n",
    "print(\"Size of array is:\",b.size)\n",
    "print(\"Shape of array is:\",b.shape)"
   ]
  },
  {
   "cell_type": "code",
   "execution_count": 26,
   "id": "13c8fa2f-0533-4da7-b3c3-225ab93abfb4",
   "metadata": {},
   "outputs": [
    {
     "name": "stdout",
     "output_type": "stream",
     "text": [
      "Size in bytes of each item in array is:  8\n",
      "The buffer containing the array is:  <memory at 0x71b3599a6740>\n"
     ]
    }
   ],
   "source": [
    "# This array has rank 2, since it has two axis, each of length 2.\n",
    "# Another important attribute is itemsize, which can be used with ndarray objects. It defines the size\n",
    "# in bytes of each item in the array, and data is the buffer containing the actual elements of the array. This\n",
    "# second attribute is still not generally used, since to access the data within the array you will use the indexing\n",
    "# mechanism that you will see in the next sections.\n",
    "print(\"Size in bytes of each item in array is: \",b.itemsize)\n",
    "print(\"The buffer containing the array is: \",b.data)"
   ]
  },
  {
   "cell_type": "code",
   "execution_count": 32,
   "id": "76636860-a545-42e0-b003-36c7dd6ea720",
   "metadata": {},
   "outputs": [],
   "source": [
    "# Create an Array\n",
    "# To create a new array you can follow different paths. The most common is the one you saw in the previous\n",
    "# section through a list or sequence of lists as arguments to the array() function.\n",
    "c = np.array([[1, 2, 3],[4, 5, 6]])"
   ]
  },
  {
   "cell_type": "code",
   "execution_count": 34,
   "id": "e3e9e2a5-dc4d-4298-b88e-aba544a0d6c5",
   "metadata": {},
   "outputs": [
    {
     "data": {
      "text/plain": [
       "array([[1, 2, 3],\n",
       "       [4, 5, 6]])"
      ]
     },
     "execution_count": 34,
     "metadata": {},
     "output_type": "execute_result"
    }
   ],
   "source": [
    "c"
   ]
  },
  {
   "cell_type": "code",
   "execution_count": 35,
   "id": "9fa04855-adac-446b-b544-85a4aebad49b",
   "metadata": {},
   "outputs": [],
   "source": [
    "# The array() function in addition to the lists can accept even tuples and sequences of tuples.\n",
    "d = np.array(((1, 2, 3),(4, 5, 6)))"
   ]
  },
  {
   "cell_type": "code",
   "execution_count": 36,
   "id": "3b7aa92c-916f-4bef-b444-e68b557c2bde",
   "metadata": {},
   "outputs": [
    {
     "data": {
      "text/plain": [
       "array([[1, 2, 3],\n",
       "       [4, 5, 6]])"
      ]
     },
     "execution_count": 36,
     "metadata": {},
     "output_type": "execute_result"
    }
   ],
   "source": [
    "d"
   ]
  },
  {
   "cell_type": "code",
   "execution_count": 37,
   "id": "17ffe570-05af-488e-9e0b-092319c49048",
   "metadata": {},
   "outputs": [],
   "source": [
    "# and also, even sequences of tuples and lists interconnected make no difference.\n",
    "e = np.array([(1, 2, 3), [4, 5, 6], (7, 8, 9)])"
   ]
  },
  {
   "cell_type": "code",
   "execution_count": 38,
   "id": "437292cf-9ebe-4583-8194-68c1026a2c4a",
   "metadata": {},
   "outputs": [
    {
     "data": {
      "text/plain": [
       "array([[1, 2, 3],\n",
       "       [4, 5, 6],\n",
       "       [7, 8, 9]])"
      ]
     },
     "execution_count": 38,
     "metadata": {},
     "output_type": "execute_result"
    }
   ],
   "source": [
    "e"
   ]
  },
  {
   "cell_type": "markdown",
   "id": "fa8030bb-f709-4233-945d-633cf8ef7798",
   "metadata": {},
   "source": [
    "Types of Data"
   ]
  },
  {
   "cell_type": "code",
   "execution_count": 39,
   "id": "95f3a9a9-2e12-4bf0-9e75-7b2a53897a93",
   "metadata": {},
   "outputs": [
    {
     "data": {
      "text/plain": [
       "array([['a', 'b'],\n",
       "       ['c', 'd']], dtype='<U1')"
      ]
     },
     "execution_count": 39,
     "metadata": {},
     "output_type": "execute_result"
    }
   ],
   "source": [
    "g = np.array([['a', 'b'],['c', 'd']])\n",
    "g"
   ]
  },
  {
   "cell_type": "code",
   "execution_count": 40,
   "id": "d12988ad-9711-465c-b62f-8d946f4437e7",
   "metadata": {},
   "outputs": [
    {
     "data": {
      "text/plain": [
       "dtype('<U1')"
      ]
     },
     "execution_count": 40,
     "metadata": {},
     "output_type": "execute_result"
    }
   ],
   "source": [
    "g.dtype"
   ]
  },
  {
   "cell_type": "code",
   "execution_count": 41,
   "id": "d25d3b6a-4d59-4bd7-8569-9da1843f486f",
   "metadata": {},
   "outputs": [
    {
     "data": {
      "text/plain": [
       "'str32'"
      ]
     },
     "execution_count": 41,
     "metadata": {},
     "output_type": "execute_result"
    }
   ],
   "source": [
    "g.dtype.name"
   ]
  },
  {
   "cell_type": "code",
   "execution_count": 42,
   "id": "1ac58d6e-93a9-40e8-a687-43e59bbc41c1",
   "metadata": {},
   "outputs": [
    {
     "data": {
      "text/plain": [
       "array([[1.+0.j, 2.+0.j, 3.+0.j],\n",
       "       [4.+0.j, 5.+0.j, 6.+0.j]])"
      ]
     },
     "execution_count": 42,
     "metadata": {},
     "output_type": "execute_result"
    }
   ],
   "source": [
    "# Actually, you can explicitly define the dtype using the dtype option as argument of the function.\n",
    "f = np.array([[1, 2, 3],[4, 5, 6]], dtype=complex)\n",
    "f"
   ]
  },
  {
   "cell_type": "markdown",
   "id": "bea358fe-0011-4ac2-82e5-b9dd13ff4e79",
   "metadata": {},
   "source": [
    "Intrinsic Creation of an Array"
   ]
  },
  {
   "cell_type": "code",
   "execution_count": 44,
   "id": "ea349dfe-50f9-49ab-9be1-74c08927395b",
   "metadata": {},
   "outputs": [
    {
     "data": {
      "text/plain": [
       "array([[0., 0., 0.],\n",
       "       [0., 0., 0.],\n",
       "       [0., 0., 0.]])"
      ]
     },
     "execution_count": 44,
     "metadata": {},
     "output_type": "execute_result"
    }
   ],
   "source": [
    "# The zeros() function, for example, creates a full array of zeros with dimensions defined by the shape argument. For example, to create a two-dimensional array 3x3:\n",
    "np.zeros((3,3))"
   ]
  },
  {
   "cell_type": "code",
   "execution_count": 45,
   "id": "36f87bc9-2fac-41d7-b750-3bc317196579",
   "metadata": {},
   "outputs": [
    {
     "data": {
      "text/plain": [
       "array([[1., 1., 1.],\n",
       "       [1., 1., 1.],\n",
       "       [1., 1., 1.]])"
      ]
     },
     "execution_count": 45,
     "metadata": {},
     "output_type": "execute_result"
    }
   ],
   "source": [
    "# while the ones() function creates an array full of ones in a very similar way.\n",
    "np.ones((3,3))"
   ]
  },
  {
   "cell_type": "code",
   "execution_count": 46,
   "id": "9ca6eecb-dbef-4b48-83e0-477b655bdb06",
   "metadata": {},
   "outputs": [
    {
     "data": {
      "text/plain": [
       "array([0, 1, 2, 3, 4, 5, 6, 7, 8, 9])"
      ]
     },
     "execution_count": 46,
     "metadata": {},
     "output_type": "execute_result"
    }
   ],
   "source": [
    "# By default, the two functions have created arrays with float64 data type. A feature that will be\n",
    "# particularly useful is arange(). This function generates NumPy arrays with numerical sequences that\n",
    "# respond to particular rules depending on the passed arguments. For example, if you want to generate a\n",
    "# sequence of values between 0 and 10, you will be passed only one argument to the function, that is the value\n",
    "# with which you want to end the sequence.\n",
    "np.arange(0, 10)"
   ]
  },
  {
   "cell_type": "code",
   "execution_count": 47,
   "id": "44a2f7cb-39c7-44f9-b08c-eff4f8db0b38",
   "metadata": {},
   "outputs": [
    {
     "data": {
      "text/plain": [
       "array([0, 3, 6, 9])"
      ]
     },
     "execution_count": 47,
     "metadata": {},
     "output_type": "execute_result"
    }
   ],
   "source": [
    "# It is also possible to generate a sequence of values with precise intervals between them. If the third\n",
    "# argument of the arange() function is specified, this will represent the gap between a value and the next one\n",
    "# in the sequence of values.\n",
    "np.arange(0, 12, 3)"
   ]
  },
  {
   "cell_type": "code",
   "execution_count": 48,
   "id": "9c815842-023e-466a-9e6c-9aa036147d30",
   "metadata": {},
   "outputs": [
    {
     "data": {
      "text/plain": [
       "array([0. , 0.6, 1.2, 1.8, 2.4, 3. , 3.6, 4.2, 4.8, 5.4])"
      ]
     },
     "execution_count": 48,
     "metadata": {},
     "output_type": "execute_result"
    }
   ],
   "source": [
    "# In addition, this third argument can also be a float.\n",
    "np.arange(0, 6, 0.6)"
   ]
  },
  {
   "cell_type": "code",
   "execution_count": 49,
   "id": "298c00fb-7f91-43a7-8a61-dae4286833e0",
   "metadata": {},
   "outputs": [
    {
     "data": {
      "text/plain": [
       "array([[ 0,  1,  2,  3],\n",
       "       [ 4,  5,  6,  7],\n",
       "       [ 8,  9, 10, 11]])"
      ]
     },
     "execution_count": 49,
     "metadata": {},
     "output_type": "execute_result"
    }
   ],
   "source": [
    "# But so far you have only created one-dimensional arrays. To generate two-dimensional arrays you can\n",
    "# still continue to use the arange() function but combined with the reshape() function. This function divides\n",
    "# a linear array in different parts in the manner specified by the shape argument.\n",
    "np.arange(0, 12).reshape(3, 4)"
   ]
  },
  {
   "cell_type": "code",
   "execution_count": 50,
   "id": "00fa8f63-8225-4827-874a-26ab52c15db9",
   "metadata": {},
   "outputs": [
    {
     "data": {
      "text/plain": [
       "array([ 0. ,  2.5,  5. ,  7.5, 10. ])"
      ]
     },
     "execution_count": 50,
     "metadata": {},
     "output_type": "execute_result"
    }
   ],
   "source": [
    "# Another function very similar to arange() is linspace(). This function still takes as its first two\n",
    "# arguments the initial and end values of the sequence, but the third argument, instead of specifying the\n",
    "# distance between one element and the next, defines the number of elements into which we want the interval to be split.\n",
    "np.linspace(0,10,5)"
   ]
  },
  {
   "cell_type": "code",
   "execution_count": 52,
   "id": "15db802f-89b7-4856-ac92-f52ad46363cd",
   "metadata": {},
   "outputs": [
    {
     "data": {
      "text/plain": [
       "array([0.90633792, 0.26877268, 0.89593281])"
      ]
     },
     "execution_count": 52,
     "metadata": {},
     "output_type": "execute_result"
    }
   ],
   "source": [
    "# Finally, another method to obtain arrays already containing values is to fill them with random values.\n",
    "# This is possible using the random() function of the numpy.random module. This function will generate an\n",
    "# array with many elements as specified in the argument.\n",
    "np.random.random(3)"
   ]
  },
  {
   "cell_type": "markdown",
   "id": "e7179be0-86b3-4b36-a279-6c2898a66f49",
   "metadata": {},
   "source": [
    "Basic Operations"
   ]
  },
  {
   "cell_type": "markdown",
   "id": "e32683cf-83dd-44e3-a0a4-11905c072137",
   "metadata": {},
   "source": [
    "Arithmetic Operators"
   ]
  },
  {
   "cell_type": "code",
   "execution_count": 3,
   "id": "02912051-0a57-4342-a231-92ce4682dc1b",
   "metadata": {},
   "outputs": [],
   "source": [
    "a = np.arange(4)"
   ]
  },
  {
   "cell_type": "code",
   "execution_count": 4,
   "id": "c8894bdb-0836-4a0b-bc65-16b8d07ab0b7",
   "metadata": {},
   "outputs": [
    {
     "data": {
      "text/plain": [
       "array([0, 1, 2, 3])"
      ]
     },
     "execution_count": 4,
     "metadata": {},
     "output_type": "execute_result"
    }
   ],
   "source": [
    "a"
   ]
  },
  {
   "cell_type": "code",
   "execution_count": 5,
   "id": "c572f3d0-290f-4baf-a3b8-c5c11a848d49",
   "metadata": {},
   "outputs": [
    {
     "data": {
      "text/plain": [
       "array([4, 5, 6, 7])"
      ]
     },
     "execution_count": 5,
     "metadata": {},
     "output_type": "execute_result"
    }
   ],
   "source": [
    "a+4"
   ]
  },
  {
   "cell_type": "code",
   "execution_count": 6,
   "id": "5da900d8-ad04-4e18-b813-d8d7857c208a",
   "metadata": {},
   "outputs": [
    {
     "data": {
      "text/plain": [
       "array([0, 2, 4, 6])"
      ]
     },
     "execution_count": 6,
     "metadata": {},
     "output_type": "execute_result"
    }
   ],
   "source": [
    "a*2"
   ]
  },
  {
   "cell_type": "markdown",
   "id": "a1929dd6-8ab1-44c1-8422-55e505e04580",
   "metadata": {},
   "source": [
    "In NumPy, these operations are element-wise,\n",
    "that is, the operators are applied only between corresponding elements, namely, that occupy the same\n",
    "position, so that at the end as a result there will be a new array containing the results in the same location of\n",
    "the operands"
   ]
  },
  {
   "cell_type": "code",
   "execution_count": 7,
   "id": "f2b55968-eefe-43da-bb14-669244f25526",
   "metadata": {},
   "outputs": [],
   "source": [
    "b = np.arange(4,8)"
   ]
  },
  {
   "cell_type": "code",
   "execution_count": 8,
   "id": "a66f99e5-37c2-4d4f-9bd1-2ea17cec0eaf",
   "metadata": {},
   "outputs": [
    {
     "data": {
      "text/plain": [
       "array([4, 5, 6, 7])"
      ]
     },
     "execution_count": 8,
     "metadata": {},
     "output_type": "execute_result"
    }
   ],
   "source": [
    "b"
   ]
  },
  {
   "cell_type": "code",
   "execution_count": 9,
   "id": "11f49260-397e-4fe7-8ead-3bdeac25e1ae",
   "metadata": {},
   "outputs": [
    {
     "data": {
      "text/plain": [
       "array([ 4,  6,  8, 10])"
      ]
     },
     "execution_count": 9,
     "metadata": {},
     "output_type": "execute_result"
    }
   ],
   "source": [
    "a+b"
   ]
  },
  {
   "cell_type": "code",
   "execution_count": 10,
   "id": "bd00f57d-32be-4bb8-ab9d-63ffcf1eeee1",
   "metadata": {},
   "outputs": [
    {
     "data": {
      "text/plain": [
       "array([-4, -4, -4, -4])"
      ]
     },
     "execution_count": 10,
     "metadata": {},
     "output_type": "execute_result"
    }
   ],
   "source": [
    "a-b"
   ]
  },
  {
   "cell_type": "code",
   "execution_count": 11,
   "id": "2ed45c06-c8af-4d35-9a1e-8693734f45da",
   "metadata": {},
   "outputs": [
    {
     "data": {
      "text/plain": [
       "array([ 0,  5, 12, 21])"
      ]
     },
     "execution_count": 11,
     "metadata": {},
     "output_type": "execute_result"
    }
   ],
   "source": [
    "a*b"
   ]
  },
  {
   "cell_type": "markdown",
   "id": "c70a389e-d107-41cd-9089-55ecee77a3b2",
   "metadata": {},
   "source": [
    "Moreover, these operators are also available for functions, provided that the value returned is a NumPy\n",
    "array. For example, you can multiply the array with the sine or the square root of the elements of the array b."
   ]
  },
  {
   "cell_type": "code",
   "execution_count": 12,
   "id": "92d17c8c-ed28-42b8-9410-8f023d0a0ede",
   "metadata": {},
   "outputs": [
    {
     "data": {
      "text/plain": [
       "array([-0.        , -0.95892427, -0.558831  ,  1.9709598 ])"
      ]
     },
     "execution_count": 12,
     "metadata": {},
     "output_type": "execute_result"
    }
   ],
   "source": [
    "a * np.sin(b)"
   ]
  },
  {
   "cell_type": "code",
   "execution_count": 13,
   "id": "64946a73-6b2f-43a1-a512-e7b30efdfba0",
   "metadata": {},
   "outputs": [
    {
     "data": {
      "text/plain": [
       "array([0.        , 2.23606798, 4.89897949, 7.93725393])"
      ]
     },
     "execution_count": 13,
     "metadata": {},
     "output_type": "execute_result"
    }
   ],
   "source": [
    "a * np.sqrt(b)"
   ]
  },
  {
   "cell_type": "markdown",
   "id": "aff41e82-89ce-4bdd-9657-42725fbe8d4e",
   "metadata": {},
   "source": [
    "Moving on to the multidimensional case, even here the arithmetic operators continue to operate\n",
    "element-wise."
   ]
  },
  {
   "cell_type": "code",
   "execution_count": 14,
   "id": "5d2f00e3-9742-4ae2-9180-1b08c933cad3",
   "metadata": {},
   "outputs": [],
   "source": [
    "A = np.arange(0, 9).reshape(3, 3)"
   ]
  },
  {
   "cell_type": "code",
   "execution_count": 15,
   "id": "2f38c340-c781-403c-8d2a-80f28e157fa9",
   "metadata": {},
   "outputs": [
    {
     "data": {
      "text/plain": [
       "array([[0, 1, 2],\n",
       "       [3, 4, 5],\n",
       "       [6, 7, 8]])"
      ]
     },
     "execution_count": 15,
     "metadata": {},
     "output_type": "execute_result"
    }
   ],
   "source": [
    "A"
   ]
  },
  {
   "cell_type": "code",
   "execution_count": 16,
   "id": "064cc382-e525-47b2-b8f8-c761e2ab3d13",
   "metadata": {},
   "outputs": [],
   "source": [
    "B = np.ones((3, 3))"
   ]
  },
  {
   "cell_type": "code",
   "execution_count": 17,
   "id": "8a5a6f0d-f8d9-4c19-8fdb-8c02f86e64cf",
   "metadata": {},
   "outputs": [
    {
     "data": {
      "text/plain": [
       "array([[1., 1., 1.],\n",
       "       [1., 1., 1.],\n",
       "       [1., 1., 1.]])"
      ]
     },
     "execution_count": 17,
     "metadata": {},
     "output_type": "execute_result"
    }
   ],
   "source": [
    "B"
   ]
  },
  {
   "cell_type": "code",
   "execution_count": 18,
   "id": "ae75becf-663e-4c4d-9d37-03f647657b40",
   "metadata": {},
   "outputs": [
    {
     "data": {
      "text/plain": [
       "array([[0., 1., 2.],\n",
       "       [3., 4., 5.],\n",
       "       [6., 7., 8.]])"
      ]
     },
     "execution_count": 18,
     "metadata": {},
     "output_type": "execute_result"
    }
   ],
   "source": [
    "A * B"
   ]
  },
  {
   "cell_type": "markdown",
   "id": "3c81891f-e6a3-497c-9235-b7bde1db42ae",
   "metadata": {},
   "source": [
    "The Matrix Product"
   ]
  },
  {
   "cell_type": "markdown",
   "id": "d4c2f0dc-1120-4daf-967d-a86fd21167c7",
   "metadata": {},
   "source": [
    "The choice of operating element-wise is a peculiar aspect of the NumPy library. In fact in many other tools\n",
    "for data analysis, the * operator is understood as matrix product when it is applied to two matrices. Using\n",
    "NumPy, this kind of product is instead indicated by the dot() function. This operation is not element-wise."
   ]
  },
  {
   "cell_type": "code",
   "execution_count": 19,
   "id": "d96a04f4-bd09-45d4-bae8-5315e5935c88",
   "metadata": {},
   "outputs": [
    {
     "data": {
      "text/plain": [
       "array([[ 3.,  3.,  3.],\n",
       "       [12., 12., 12.],\n",
       "       [21., 21., 21.]])"
      ]
     },
     "execution_count": 19,
     "metadata": {},
     "output_type": "execute_result"
    }
   ],
   "source": [
    "np.dot(A,B)"
   ]
  },
  {
   "cell_type": "markdown",
   "id": "b6e54a09-7bd3-4a7b-ad7f-bbc13699c035",
   "metadata": {},
   "source": [
    "The result at each position is the sum of the products between each element of the corresponding\n",
    "row of the first matrix with the corresponding element of the corresponding column of the second matrix."
   ]
  },
  {
   "cell_type": "markdown",
   "id": "0f289f12-ea1c-4c5e-bd45-3ec9351c74fe",
   "metadata": {},
   "source": [
    "An alternative way to write the matrix product is to see the dot() function as an object’s function of one\n",
    "of the two matrices."
   ]
  },
  {
   "cell_type": "code",
   "execution_count": 20,
   "id": "5dc77152-02d8-45f7-81a5-4fc3d73acd6a",
   "metadata": {},
   "outputs": [
    {
     "data": {
      "text/plain": [
       "array([[ 3.,  3.,  3.],\n",
       "       [12., 12., 12.],\n",
       "       [21., 21., 21.]])"
      ]
     },
     "execution_count": 20,
     "metadata": {},
     "output_type": "execute_result"
    }
   ],
   "source": [
    "A.dot(B)"
   ]
  },
  {
   "cell_type": "markdown",
   "id": "56d642b2-8e50-47bc-9d26-3437156fdeb5",
   "metadata": {},
   "source": [
    "I want to add that since the matrix product is not a commutative operation, then the order of the\n",
    "operands is important. Indeed A * B is not equal to B * A."
   ]
  },
  {
   "cell_type": "code",
   "execution_count": 21,
   "id": "f1df6776-7bee-480a-bbed-6d8dd7ce6abf",
   "metadata": {},
   "outputs": [
    {
     "data": {
      "text/plain": [
       "array([[ 9., 12., 15.],\n",
       "       [ 9., 12., 15.],\n",
       "       [ 9., 12., 15.]])"
      ]
     },
     "execution_count": 21,
     "metadata": {},
     "output_type": "execute_result"
    }
   ],
   "source": [
    "np.dot(B,A)"
   ]
  },
  {
   "cell_type": "markdown",
   "id": "5e821c75-323e-456c-a243-cb470b802ace",
   "metadata": {},
   "source": [
    "Increment and Decrement Operators"
   ]
  },
  {
   "cell_type": "code",
   "execution_count": 5,
   "id": "cbe9feea-1670-4573-b782-0c470fae2f5a",
   "metadata": {},
   "outputs": [],
   "source": [
    "a = np.arange(4)"
   ]
  },
  {
   "cell_type": "code",
   "execution_count": 6,
   "id": "f566fb2e-bac7-480f-ad58-a74751f954af",
   "metadata": {},
   "outputs": [
    {
     "data": {
      "text/plain": [
       "array([0, 1, 2, 3])"
      ]
     },
     "execution_count": 6,
     "metadata": {},
     "output_type": "execute_result"
    }
   ],
   "source": [
    "a"
   ]
  },
  {
   "cell_type": "code",
   "execution_count": 7,
   "id": "a3ca9aaf-4926-4bd1-9fde-328b51bce5f4",
   "metadata": {},
   "outputs": [],
   "source": [
    "a += 1"
   ]
  },
  {
   "cell_type": "code",
   "execution_count": 8,
   "id": "50c9a799-95fc-46f5-ba85-90a88e08497b",
   "metadata": {},
   "outputs": [
    {
     "data": {
      "text/plain": [
       "array([1, 2, 3, 4])"
      ]
     },
     "execution_count": 8,
     "metadata": {},
     "output_type": "execute_result"
    }
   ],
   "source": [
    "a"
   ]
  },
  {
   "cell_type": "code",
   "execution_count": 10,
   "id": "206e0c93-012d-4ef6-9616-d0862a5560af",
   "metadata": {},
   "outputs": [],
   "source": [
    "a -= 1"
   ]
  },
  {
   "cell_type": "code",
   "execution_count": 11,
   "id": "46e444ce-85a8-40e3-a026-25e67db03fe0",
   "metadata": {},
   "outputs": [
    {
     "data": {
      "text/plain": [
       "array([0, 1, 2, 3])"
      ]
     },
     "execution_count": 11,
     "metadata": {},
     "output_type": "execute_result"
    }
   ],
   "source": [
    "a"
   ]
  },
  {
   "cell_type": "markdown",
   "id": "bdd78260-02d2-4cb2-9ef1-115d090ef77d",
   "metadata": {},
   "source": [
    "Actually, there is no such operators in Python, since there are no operators ++ or ––. To increase or decrease\n",
    "the values you have to use operators such as += or –=. These operators are not different from those that we\n",
    "saw earlier, except that instead of creating a new array with the results, they will reassign the results to the\n",
    "same array."
   ]
  },
  {
   "cell_type": "code",
   "execution_count": 13,
   "id": "890a13f3-0e81-494b-aeca-32d09131a4cf",
   "metadata": {},
   "outputs": [],
   "source": [
    "# array([0, 1, 2, 3])\n",
    "a+=4"
   ]
  },
  {
   "cell_type": "code",
   "execution_count": 14,
   "id": "36e71286-8cf8-44ed-a4fb-28c30123ddc3",
   "metadata": {},
   "outputs": [
    {
     "data": {
      "text/plain": [
       "array([4, 5, 6, 7])"
      ]
     },
     "execution_count": 14,
     "metadata": {},
     "output_type": "execute_result"
    }
   ],
   "source": [
    "a"
   ]
  },
  {
   "cell_type": "code",
   "execution_count": 15,
   "id": "1a7f42ac-1a63-4622-8c0f-d1bf9e4141e6",
   "metadata": {},
   "outputs": [],
   "source": [
    "a *= 2"
   ]
  },
  {
   "cell_type": "code",
   "execution_count": 16,
   "id": "ffe9c470-ed03-4ac4-8d0d-e24dc0892d86",
   "metadata": {},
   "outputs": [
    {
     "data": {
      "text/plain": [
       "array([ 8, 10, 12, 14])"
      ]
     },
     "execution_count": 16,
     "metadata": {},
     "output_type": "execute_result"
    }
   ],
   "source": [
    "a"
   ]
  },
  {
   "cell_type": "markdown",
   "id": "fd0b5dba-5b5d-45e4-922c-39200ba790ae",
   "metadata": {},
   "source": [
    "Universal Functions (ufunc)"
   ]
  },
  {
   "cell_type": "markdown",
   "id": "55e9f18c-27fa-4306-b926-72471d10468b",
   "metadata": {},
   "source": [
    "A universal function, generally called ufunc, is a function operating of an array in an element-by-element\n",
    "fashion. This means that it is a function that acts individually on each single element of the input array to\n",
    "generate a corresponding result in a new output array. At the end, you will obtain an array of the same size of\n",
    "the input.\n",
    "There are many mathematical and trigonometric operations that meet this definition, for example, the\n",
    "calculation of the square root with sqrt(), the logarithm with log(), or the sin with sin()."
   ]
  },
  {
   "cell_type": "code",
   "execution_count": 17,
   "id": "3362f91d-c200-4fa3-9b24-03f85bdccf2d",
   "metadata": {},
   "outputs": [
    {
     "data": {
      "text/plain": [
       "array([1, 2, 3, 4])"
      ]
     },
     "execution_count": 17,
     "metadata": {},
     "output_type": "execute_result"
    }
   ],
   "source": [
    "a = np.arange(1, 5)\n",
    "a"
   ]
  },
  {
   "cell_type": "code",
   "execution_count": 18,
   "id": "dc26dc47-76a5-4426-9dd5-9ca1b252a7a1",
   "metadata": {},
   "outputs": [
    {
     "data": {
      "text/plain": [
       "array([1.        , 1.41421356, 1.73205081, 2.        ])"
      ]
     },
     "execution_count": 18,
     "metadata": {},
     "output_type": "execute_result"
    }
   ],
   "source": [
    "np.sqrt(a)"
   ]
  },
  {
   "cell_type": "code",
   "execution_count": 19,
   "id": "9ca89b99-7fc6-469d-b8d9-9dd142e5f657",
   "metadata": {},
   "outputs": [
    {
     "data": {
      "text/plain": [
       "array([0.        , 0.69314718, 1.09861229, 1.38629436])"
      ]
     },
     "execution_count": 19,
     "metadata": {},
     "output_type": "execute_result"
    }
   ],
   "source": [
    "np.log(a)"
   ]
  },
  {
   "cell_type": "code",
   "execution_count": 20,
   "id": "a388d63f-9059-43b6-a9fe-7c4a92d2dc04",
   "metadata": {},
   "outputs": [
    {
     "data": {
      "text/plain": [
       "array([ 0.84147098,  0.90929743,  0.14112001, -0.7568025 ])"
      ]
     },
     "execution_count": 20,
     "metadata": {},
     "output_type": "execute_result"
    }
   ],
   "source": [
    "np.sin(a)"
   ]
  },
  {
   "cell_type": "code",
   "execution_count": 21,
   "id": "2acb88f4-b379-4ba2-9586-30889915e0f7",
   "metadata": {},
   "outputs": [
    {
     "data": {
      "text/plain": [
       "array([ 1.55740772, -2.18503986, -0.14254654,  1.15782128])"
      ]
     },
     "execution_count": 21,
     "metadata": {},
     "output_type": "execute_result"
    }
   ],
   "source": [
    "np.tan(a)"
   ]
  },
  {
   "cell_type": "code",
   "execution_count": 22,
   "id": "11e26227-d7f4-4a48-814f-cc0d3f76e04d",
   "metadata": {},
   "outputs": [
    {
     "data": {
      "text/plain": [
       "array([ 0.54030231, -0.41614684, -0.9899925 , -0.65364362])"
      ]
     },
     "execution_count": 22,
     "metadata": {},
     "output_type": "execute_result"
    }
   ],
   "source": [
    "np.cos(a)"
   ]
  },
  {
   "cell_type": "markdown",
   "id": "49d096a3-b923-4323-88ca-26df9062188a",
   "metadata": {},
   "source": [
    "Aggregate Functions"
   ]
  },
  {
   "cell_type": "markdown",
   "id": "503766e6-aae3-4688-ac1c-6c6156d5504e",
   "metadata": {},
   "source": [
    "Aggregate functions are those functions that perform an operation on a set of values, an array for example,\n",
    "and produce a single result. Therefore, the sum of all the elements in an array is an aggregate function. Many\n",
    "functions of this kind are implemented within the class ndarray."
   ]
  },
  {
   "cell_type": "code",
   "execution_count": 23,
   "id": "877b4a9c-bf71-4f95-a7c6-04a7325c32ea",
   "metadata": {},
   "outputs": [],
   "source": [
    "a = np.array([3.3, 4.5, 1.2, 5.7, 0.3])"
   ]
  },
  {
   "cell_type": "code",
   "execution_count": 24,
   "id": "fc3020d6-15f8-4187-8af7-f5da8c1dd519",
   "metadata": {},
   "outputs": [
    {
     "data": {
      "text/plain": [
       "15.0"
      ]
     },
     "execution_count": 24,
     "metadata": {},
     "output_type": "execute_result"
    }
   ],
   "source": [
    "a.sum()"
   ]
  },
  {
   "cell_type": "code",
   "execution_count": 25,
   "id": "437d69f9-2368-4d48-b414-bdc0b337fb38",
   "metadata": {},
   "outputs": [
    {
     "data": {
      "text/plain": [
       "0.3"
      ]
     },
     "execution_count": 25,
     "metadata": {},
     "output_type": "execute_result"
    }
   ],
   "source": [
    "a.min()"
   ]
  },
  {
   "cell_type": "code",
   "execution_count": 26,
   "id": "b3c5ce53-8dcb-45a4-92e0-50ccffb8f993",
   "metadata": {},
   "outputs": [
    {
     "data": {
      "text/plain": [
       "5.7"
      ]
     },
     "execution_count": 26,
     "metadata": {},
     "output_type": "execute_result"
    }
   ],
   "source": [
    "a.max()"
   ]
  },
  {
   "cell_type": "code",
   "execution_count": 27,
   "id": "75bf96e5-d392-42e2-9fad-ea9fd3a85df9",
   "metadata": {},
   "outputs": [
    {
     "data": {
      "text/plain": [
       "3.0"
      ]
     },
     "execution_count": 27,
     "metadata": {},
     "output_type": "execute_result"
    }
   ],
   "source": [
    "a.mean()"
   ]
  },
  {
   "cell_type": "code",
   "execution_count": 28,
   "id": "ace3e1b1-cec3-42cc-b468-fe19f0d4cd80",
   "metadata": {},
   "outputs": [
    {
     "data": {
      "text/plain": [
       "2.0079840636817816"
      ]
     },
     "execution_count": 28,
     "metadata": {},
     "output_type": "execute_result"
    }
   ],
   "source": [
    "a.std()"
   ]
  },
  {
   "cell_type": "markdown",
   "id": "ec296de8-33ec-4214-8dfb-bc9e8a893e4a",
   "metadata": {},
   "source": [
    "Indexing, Slicing, and Iterating"
   ]
  },
  {
   "cell_type": "markdown",
   "id": "18c7bc62-5ea9-46bb-9df4-7f83c5d2c678",
   "metadata": {},
   "source": [
    "Indexing\n",
    "\n",
    "Array indexing always refers to the use of square brackets (‘[ ]’) to index the elements of the array so that\n",
    "it can then be referred individually for various uses such as extracting a value, selecting items, or even\n",
    "assigning a new value."
   ]
  },
  {
   "cell_type": "code",
   "execution_count": 30,
   "id": "49222b25-cbd2-42c3-acbe-ce48f1e337c3",
   "metadata": {},
   "outputs": [
    {
     "data": {
      "text/plain": [
       "array([10, 11, 12, 13, 14, 15])"
      ]
     },
     "execution_count": 30,
     "metadata": {},
     "output_type": "execute_result"
    }
   ],
   "source": [
    "a = np.arange(10, 16)\n",
    "a"
   ]
  },
  {
   "cell_type": "code",
   "execution_count": 31,
   "id": "9eb71063-4f2e-46b2-b91d-8e9a4e91f164",
   "metadata": {},
   "outputs": [
    {
     "data": {
      "text/plain": [
       "14"
      ]
     },
     "execution_count": 31,
     "metadata": {},
     "output_type": "execute_result"
    }
   ],
   "source": [
    "a[4]"
   ]
  },
  {
   "cell_type": "code",
   "execution_count": 32,
   "id": "4438bc9c-8045-4cee-b61a-db98f28e2108",
   "metadata": {},
   "outputs": [
    {
     "data": {
      "text/plain": [
       "15"
      ]
     },
     "execution_count": 32,
     "metadata": {},
     "output_type": "execute_result"
    }
   ],
   "source": [
    "a[-1]"
   ]
  },
  {
   "cell_type": "code",
   "execution_count": 33,
   "id": "722ec235-c962-40fc-8c2d-ebb3e6b3caeb",
   "metadata": {},
   "outputs": [
    {
     "data": {
      "text/plain": [
       "10"
      ]
     },
     "execution_count": 33,
     "metadata": {},
     "output_type": "execute_result"
    }
   ],
   "source": [
    "a[-6]"
   ]
  },
  {
   "cell_type": "markdown",
   "id": "dd5be2cd-fa7e-44f1-b317-0d503e614ae2",
   "metadata": {},
   "source": [
    "To select multiple items at once, you can pass array of indexes within the square brackets."
   ]
  },
  {
   "cell_type": "code",
   "execution_count": 34,
   "id": "04375db1-6d73-4e11-a4b8-e041c5c863d3",
   "metadata": {},
   "outputs": [
    {
     "data": {
      "text/plain": [
       "array([11, 13, 14])"
      ]
     },
     "execution_count": 34,
     "metadata": {},
     "output_type": "execute_result"
    }
   ],
   "source": [
    "a[[1, 3, 4]]"
   ]
  },
  {
   "cell_type": "code",
   "execution_count": 35,
   "id": "2d7e89e7-95cf-4d92-8f80-16a432f3dba4",
   "metadata": {},
   "outputs": [
    {
     "data": {
      "text/plain": [
       "array([[10, 11, 12],\n",
       "       [13, 14, 15],\n",
       "       [16, 17, 18]])"
      ]
     },
     "execution_count": 35,
     "metadata": {},
     "output_type": "execute_result"
    }
   ],
   "source": [
    "A = np.arange(10, 19).reshape((3, 3))\n",
    "A"
   ]
  },
  {
   "cell_type": "raw",
   "id": "1ab29d29-50ed-4f51-b0ca-9a702b4c7e7e",
   "metadata": {},
   "source": [
    "So if you want to remove the element of the third column in the second row, you have to insert the\n",
    "pair [1, 2]."
   ]
  },
  {
   "cell_type": "code",
   "execution_count": 36,
   "id": "8f7e5ec2-015a-425a-b468-225717c91367",
   "metadata": {},
   "outputs": [
    {
     "data": {
      "text/plain": [
       "15"
      ]
     },
     "execution_count": 36,
     "metadata": {},
     "output_type": "execute_result"
    }
   ],
   "source": [
    "A[1, 2]"
   ]
  },
  {
   "cell_type": "markdown",
   "id": "7f5d8e44-256d-44b2-9dc7-ed46b1297866",
   "metadata": {},
   "source": [
    "Slicing\n",
    "\n",
    "\n",
    "Slicing is the operation which allows you to extract portions of an array to generate new ones. Whereas\n",
    "using the Python lists the arrays obtained by slicing are copies, in NumPy, arrays are views onto the same\n",
    "underlying buffer.\n",
    "Depending on the portion of the array that you want to extract (or view) you must make use of the slice\n",
    "syntax; that is, you will use a sequence of numbers separated by colons (‘:’) within the square brackets.\n",
    "\n",
    "If you want to extract a portion of the array, for example one that goes from the second to the sixth\n",
    "element, then you have to insert the index of the starting element, that is 1, and the index of the final\n",
    "element, that is 5, separated by ‘:’."
   ]
  },
  {
   "cell_type": "code",
   "execution_count": 37,
   "id": "af67ae49-77a7-4e00-b9b7-8116010e3291",
   "metadata": {},
   "outputs": [
    {
     "data": {
      "text/plain": [
       "array([10, 11, 12, 13, 14, 15])"
      ]
     },
     "execution_count": 37,
     "metadata": {},
     "output_type": "execute_result"
    }
   ],
   "source": [
    "a = np.arange(10, 16)\n",
    "a"
   ]
  },
  {
   "cell_type": "code",
   "execution_count": 38,
   "id": "2f9af352-4476-4b23-9a45-69a6290eb743",
   "metadata": {},
   "outputs": [
    {
     "data": {
      "text/plain": [
       "array([11, 12, 13, 14])"
      ]
     },
     "execution_count": 38,
     "metadata": {},
     "output_type": "execute_result"
    }
   ],
   "source": [
    "a[1:5]"
   ]
  },
  {
   "cell_type": "raw",
   "id": "4d05aa30-059f-4746-837f-1c19d69c9ea8",
   "metadata": {},
   "source": [
    "Now if you want to extract from the previous portion an item, skip a specific number of following items,\n",
    "then extract the next, and skip again ..., you can use a third number that defines the gap in the sequence of\n",
    "the elements between one element and the next one to take. For example, with a value of 2, the array will\n",
    "take the elements in an alternating fashion."
   ]
  },
  {
   "cell_type": "code",
   "execution_count": 39,
   "id": "bb9e7b8b-4f97-409a-b9f1-f6767b660135",
   "metadata": {},
   "outputs": [
    {
     "data": {
      "text/plain": [
       "array([11, 13])"
      ]
     },
     "execution_count": 39,
     "metadata": {},
     "output_type": "execute_result"
    }
   ],
   "source": [
    "a[1:5:2]"
   ]
  },
  {
   "cell_type": "markdown",
   "id": "dd3b26d7-a1e9-4596-a4b6-2e94788ccb53",
   "metadata": {},
   "source": [
    "To better understand the slice syntax, you also should look at cases where you do not use explicit\n",
    "numerical values. If you omit the first number, then implicitly NumPy interprets this number as 0 (i.e., the\n",
    "initial element of the array); if you omit the second number, this will be interpreted as the maximum index\n",
    "of the array; and if you omit the last number this will be interpreted as 1, and then all elements will be\n",
    "considered without intervals."
   ]
  },
  {
   "cell_type": "code",
   "execution_count": 41,
   "id": "c1668c45-84bd-4c57-93bd-4e7079afe9b5",
   "metadata": {},
   "outputs": [
    {
     "data": {
      "text/plain": [
       "array([10, 12, 14])"
      ]
     },
     "execution_count": 41,
     "metadata": {},
     "output_type": "execute_result"
    }
   ],
   "source": [
    "a[::2]"
   ]
  },
  {
   "cell_type": "code",
   "execution_count": 42,
   "id": "74597ca3-913b-47ec-8701-9f196d08ba1d",
   "metadata": {},
   "outputs": [
    {
     "data": {
      "text/plain": [
       "array([10, 12, 14])"
      ]
     },
     "execution_count": 42,
     "metadata": {},
     "output_type": "execute_result"
    }
   ],
   "source": [
    "a[:5:2]"
   ]
  },
  {
   "cell_type": "code",
   "execution_count": 43,
   "id": "b530e999-c2c8-473d-9ce5-fef8db43672c",
   "metadata": {},
   "outputs": [
    {
     "data": {
      "text/plain": [
       "array([10, 11, 12, 13, 14])"
      ]
     },
     "execution_count": 43,
     "metadata": {},
     "output_type": "execute_result"
    }
   ],
   "source": [
    "a[:5:]"
   ]
  },
  {
   "cell_type": "markdown",
   "id": "ee3e5f6b-86bc-4fc4-982c-11c75f6a3399",
   "metadata": {},
   "source": [
    "As regards the case of two-dimensional array, the slicing syntax still applies, but it is separately defined\n",
    "both for the rows and for the columns. For example if you want to extract only the first row:"
   ]
  },
  {
   "cell_type": "code",
   "execution_count": 44,
   "id": "b877c941-23bd-4b9f-a453-fc7bbeb3960b",
   "metadata": {},
   "outputs": [
    {
     "data": {
      "text/plain": [
       "array([[10, 11, 12],\n",
       "       [13, 14, 15],\n",
       "       [16, 17, 18]])"
      ]
     },
     "execution_count": 44,
     "metadata": {},
     "output_type": "execute_result"
    }
   ],
   "source": [
    "A = np.arange(10, 19).reshape((3, 3))\n",
    "A"
   ]
  },
  {
   "cell_type": "code",
   "execution_count": 45,
   "id": "d22d157e-8c81-47a1-9da1-6980dec69494",
   "metadata": {},
   "outputs": [
    {
     "data": {
      "text/plain": [
       "array([10, 11, 12])"
      ]
     },
     "execution_count": 45,
     "metadata": {},
     "output_type": "execute_result"
    }
   ],
   "source": [
    "A[0,:]"
   ]
  },
  {
   "cell_type": "markdown",
   "id": "fbb7bee0-0f16-4ee8-9b33-5669eb287db9",
   "metadata": {},
   "source": [
    "As you can see in the second index, if you leave only the colon without defining any number, then you\n",
    "will select all the columns. Instead, if you want to extract all the values of the first column, you have to write\n",
    "the inverse."
   ]
  },
  {
   "cell_type": "code",
   "execution_count": 46,
   "id": "ad4b2cc9-5c89-4f4b-85d4-c16cc92309d5",
   "metadata": {},
   "outputs": [
    {
     "data": {
      "text/plain": [
       "array([10, 13, 16])"
      ]
     },
     "execution_count": 46,
     "metadata": {},
     "output_type": "execute_result"
    }
   ],
   "source": [
    "A[:,0]"
   ]
  },
  {
   "cell_type": "raw",
   "id": "3804ac7b-350c-496a-b4c7-4738975bb9e7",
   "metadata": {},
   "source": [
    "Instead, if you want to extract a smaller matrix then you need to explicitly define all intervals with\n",
    "indexes that define them."
   ]
  },
  {
   "cell_type": "code",
   "execution_count": 47,
   "id": "f6192e82-be32-43b9-be11-4efe3a22c829",
   "metadata": {},
   "outputs": [
    {
     "data": {
      "text/plain": [
       "array([[10, 11],\n",
       "       [13, 14]])"
      ]
     },
     "execution_count": 47,
     "metadata": {},
     "output_type": "execute_result"
    }
   ],
   "source": [
    "A[0:2, 0:2]"
   ]
  },
  {
   "cell_type": "markdown",
   "id": "d6ae0b91-e68c-44e2-a133-770c877c5036",
   "metadata": {},
   "source": [
    "If the indexes of the rows or columns to be extracted are not contiguous, you can specify an array of\n",
    "indexes."
   ]
  },
  {
   "cell_type": "code",
   "execution_count": 48,
   "id": "cc0029c5-b8a5-440c-8059-cc1838d3e16c",
   "metadata": {},
   "outputs": [
    {
     "data": {
      "text/plain": [
       "array([[10, 11],\n",
       "       [16, 17]])"
      ]
     },
     "execution_count": 48,
     "metadata": {},
     "output_type": "execute_result"
    }
   ],
   "source": [
    "A[[0,2], 0:2]"
   ]
  },
  {
   "cell_type": "markdown",
   "id": "ccb13fa6-9275-4e81-b7bb-92baa43533b5",
   "metadata": {},
   "source": [
    "Iterating an Array"
   ]
  },
  {
   "cell_type": "raw",
   "id": "b6f0cb46-9cd1-4450-b122-1478946570d8",
   "metadata": {},
   "source": [
    "In Python, the iteration of the items in an array is really very simple; you just need to use the for construct."
   ]
  },
  {
   "cell_type": "code",
   "execution_count": 49,
   "id": "572f2bfb-0ff4-4b27-87aa-89b0650663e1",
   "metadata": {},
   "outputs": [
    {
     "name": "stdout",
     "output_type": "stream",
     "text": [
      "10,11,12,13,14,15,"
     ]
    }
   ],
   "source": [
    "for element in a:\n",
    "    print(element, end = \",\")"
   ]
  },
  {
   "cell_type": "markdown",
   "id": "32d5c842-60cf-4bca-bb90-56ff50ffb75c",
   "metadata": {},
   "source": [
    "Of course, even here, moving to the two-dimensional case, you could think of applying the solution of\n",
    "two nested loops with the for construct. The first loop will scan the rows of the array, and the second loop\n",
    "will scan the columns. Actually, if you apply the for loop to a matrix, you will find out that it will always\n",
    "perform a scan according to the first axis."
   ]
  },
  {
   "cell_type": "code",
   "execution_count": 51,
   "id": "1794acf9-0882-4819-99d7-bfef0ae441a1",
   "metadata": {},
   "outputs": [
    {
     "name": "stdout",
     "output_type": "stream",
     "text": [
      "[10 11 12]\n",
      "[13 14 15]\n",
      "[16 17 18]\n"
     ]
    }
   ],
   "source": [
    "for row in A:\n",
    "    print (row)"
   ]
  },
  {
   "cell_type": "markdown",
   "id": "b3dee5fc-a22b-4cdd-9efd-87683898dfec",
   "metadata": {},
   "source": [
    "If you want to make an iteration element by element you may use the following construct, using the for\n",
    "loop on A.flat."
   ]
  },
  {
   "cell_type": "code",
   "execution_count": 52,
   "id": "054a749f-d6db-444f-b0be-feee2d0a1e59",
   "metadata": {},
   "outputs": [
    {
     "name": "stdout",
     "output_type": "stream",
     "text": [
      "10,11,12,13,14,15,16,17,18,"
     ]
    }
   ],
   "source": [
    "for item in A.flat:\n",
    "    print(item, end= \",\")"
   ]
  },
  {
   "cell_type": "markdown",
   "id": "e6cca447-7b50-4eac-ac07-1b97624bc24e",
   "metadata": {},
   "source": [
    "However, despite all this, NumPy offers us an alternative and more elegant solution than the for\n",
    "loop. Generally, you need to apply an iteration to apply a function on the rows or on the columns or on an\n",
    "individual item. If you want to launch an aggregate function that returns a value calculated for every single\n",
    "column or on every single row, there is an optimal way to makes that it will be entirely NumPy to manage the\n",
    "iteration: the apply_along_axis() function.\n",
    "This function takes three arguments: the aggregate function, the axis on which to apply the iteration,\n",
    "and finally the array. If the option axis equals 0, then the iteration evaluates the elements column by\n",
    "column, whereas if the axis equals 1 then the iteration evaluates the elements row by row. For example, you\n",
    "can calculate the average of the values for the first by column and then by row."
   ]
  },
  {
   "cell_type": "code",
   "execution_count": 53,
   "id": "cd199d9c-93de-4bb7-a5a4-0a299de5d45b",
   "metadata": {},
   "outputs": [
    {
     "data": {
      "text/plain": [
       "array([13., 14., 15.])"
      ]
     },
     "execution_count": 53,
     "metadata": {},
     "output_type": "execute_result"
    }
   ],
   "source": [
    "np.apply_along_axis(np.mean, axis=0, arr=A)"
   ]
  },
  {
   "cell_type": "code",
   "execution_count": 54,
   "id": "e4aa8b60-b5a4-420a-834b-f0359772e362",
   "metadata": {},
   "outputs": [
    {
     "data": {
      "text/plain": [
       "array([11., 14., 17.])"
      ]
     },
     "execution_count": 54,
     "metadata": {},
     "output_type": "execute_result"
    }
   ],
   "source": [
    "np.apply_along_axis(np.mean, axis=1, arr=A)"
   ]
  },
  {
   "cell_type": "raw",
   "id": "4878e9a2-573f-47b5-8f34-a01e96b404fc",
   "metadata": {},
   "source": [
    "In the previous case, you used a function already defined within the NumPy library, but nothing\n",
    "prevents you from defining functions on their own. You also used an aggregate function. However, nothing\n",
    "forbids us from using an ufunc. In this case, using the iteration both by column and by row, the end result is\n",
    "the same. In fact, using a ufunc is how to perform one iteration element-by-element."
   ]
  },
  {
   "cell_type": "code",
   "execution_count": 55,
   "id": "ea8955c4-81f4-4628-9a4a-e3c6d81083d4",
   "metadata": {},
   "outputs": [],
   "source": [
    "def foo(x):\n",
    "    return x/2"
   ]
  },
  {
   "cell_type": "code",
   "execution_count": 56,
   "id": "08b96e9b-8746-4676-ab20-e40e46dc4bd3",
   "metadata": {},
   "outputs": [
    {
     "data": {
      "text/plain": [
       "array([[5. , 5.5, 6. ],\n",
       "       [6.5, 7. , 7.5],\n",
       "       [8. , 8.5, 9. ]])"
      ]
     },
     "execution_count": 56,
     "metadata": {},
     "output_type": "execute_result"
    }
   ],
   "source": [
    "np.apply_along_axis(foo, axis=1, arr=A)"
   ]
  },
  {
   "cell_type": "code",
   "execution_count": 57,
   "id": "eff9d7e5-ec6b-4c65-b679-d0f9ba4a1099",
   "metadata": {},
   "outputs": [
    {
     "data": {
      "text/plain": [
       "array([[5. , 5.5, 6. ],\n",
       "       [6.5, 7. , 7.5],\n",
       "       [8. , 8.5, 9. ]])"
      ]
     },
     "execution_count": 57,
     "metadata": {},
     "output_type": "execute_result"
    }
   ],
   "source": [
    "np.apply_along_axis(foo, axis=0, arr=A)"
   ]
  },
  {
   "cell_type": "raw",
   "id": "107ef13b-c011-442c-aa35-f10870f976af",
   "metadata": {},
   "source": [
    "As you can see, the ufunc function halves the value of each element of the input array regardless of\n",
    "whether the iteration is performed by row or by column."
   ]
  },
  {
   "cell_type": "markdown",
   "id": "14240b4f-e472-4fa4-a7a4-a857281060e9",
   "metadata": {},
   "source": [
    "Conditions and Boolean Arrays"
   ]
  },
  {
   "cell_type": "code",
   "execution_count": 3,
   "id": "77ea1578-6ad3-4af7-94ce-08246a775b1f",
   "metadata": {
    "collapsed": true,
    "jupyter": {
     "outputs_hidden": true
    }
   },
   "outputs": [
    {
     "data": {
      "text/plain": [
       "array([[0.51032924, 0.0684477 , 0.71656995, 0.35405181],\n",
       "       [0.18962551, 0.21846527, 0.53776077, 0.59268774],\n",
       "       [0.32860937, 0.77005454, 0.98152283, 0.13050823],\n",
       "       [0.6374999 , 0.97008015, 0.78033058, 0.50675872]])"
      ]
     },
     "execution_count": 3,
     "metadata": {},
     "output_type": "execute_result"
    }
   ],
   "source": [
    "A = np.random.random((4, 4))\n",
    "A"
   ]
  },
  {
   "cell_type": "raw",
   "id": "215b2471-ae02-445b-8f9c-dd69fd0e8a14",
   "metadata": {},
   "source": [
    "Suppose you want to select all the values less than 0.5\n",
    "in a 4x4 matrix containing random numbers between 0 and 1.\n",
    "Once a matrix of random numbers is defined, if you apply an operator condition, that is, as we said the\n",
    "operator greater, you will receive as a return value Boolean array containing True values in the positions in\n",
    "which the condition is satisfied, that is, all the positions in which the values are less than 0.5."
   ]
  },
  {
   "cell_type": "code",
   "execution_count": 4,
   "id": "296875e2-1b60-4e46-aa92-27b4927669c7",
   "metadata": {},
   "outputs": [
    {
     "data": {
      "text/plain": [
       "array([[False,  True, False,  True],\n",
       "       [ True,  True, False, False],\n",
       "       [ True, False, False,  True],\n",
       "       [False, False, False, False]])"
      ]
     },
     "execution_count": 4,
     "metadata": {},
     "output_type": "execute_result"
    }
   ],
   "source": [
    "A < 0.5"
   ]
  },
  {
   "cell_type": "markdown",
   "id": "cde51597-93a0-410e-b1d8-1850887fa9a5",
   "metadata": {},
   "source": [
    "Actually, the Boolean arrays are used implicitly for making selections of parts of arrays. In fact, by\n",
    "inserting the previous condition directly inside the square brackets, you will extract all elements smaller\n",
    "than 0.5, so as to obtain a new array."
   ]
  },
  {
   "cell_type": "code",
   "execution_count": 5,
   "id": "aba8c5d1-71fb-45f1-be5e-a6c5b4265e9f",
   "metadata": {},
   "outputs": [
    {
     "data": {
      "text/plain": [
       "array([0.0684477 , 0.35405181, 0.18962551, 0.21846527, 0.32860937,\n",
       "       0.13050823])"
      ]
     },
     "execution_count": 5,
     "metadata": {},
     "output_type": "execute_result"
    }
   ],
   "source": [
    "A[A < 0.5]"
   ]
  },
  {
   "cell_type": "markdown",
   "id": "74b8f97d-b1c6-4cd0-936d-c3ad35585fb3",
   "metadata": {},
   "source": [
    "Shape Manipulation"
   ]
  },
  {
   "cell_type": "raw",
   "id": "b5df719c-6782-452c-b526-96533363dfc4",
   "metadata": {},
   "source": [
    "You have already seen during the creation of a two-dimensional array how it is possible to convert a one-\n",
    "dimensional array into a matrix, thanks to the reshape() function."
   ]
  },
  {
   "cell_type": "code",
   "execution_count": 7,
   "id": "1d0ed0c9-234d-4dfe-bed6-4e2bddd76e53",
   "metadata": {},
   "outputs": [
    {
     "data": {
      "text/plain": [
       "array([0.6115242 , 0.99700754, 0.2641526 , 0.7042035 , 0.56735346,\n",
       "       0.85683597, 0.28290172, 0.28711711, 0.35781228, 0.62673547,\n",
       "       0.45210481, 0.62720134])"
      ]
     },
     "execution_count": 7,
     "metadata": {},
     "output_type": "execute_result"
    }
   ],
   "source": [
    "a = np.random.random(12)\n",
    "a"
   ]
  },
  {
   "cell_type": "code",
   "execution_count": 8,
   "id": "e74f1222-c7d9-4fe1-810d-c971835744c4",
   "metadata": {},
   "outputs": [
    {
     "data": {
      "text/plain": [
       "array([[0.6115242 , 0.99700754, 0.2641526 , 0.7042035 ],\n",
       "       [0.56735346, 0.85683597, 0.28290172, 0.28711711],\n",
       "       [0.35781228, 0.62673547, 0.45210481, 0.62720134]])"
      ]
     },
     "execution_count": 8,
     "metadata": {},
     "output_type": "execute_result"
    }
   ],
   "source": [
    "A = a.reshape(3, 4)\n",
    "A"
   ]
  },
  {
   "cell_type": "markdown",
   "id": "e5d7ac3d-c231-42f5-94d5-c3b927a17c5b",
   "metadata": {},
   "source": [
    "The reshape() function returns a new array and therefore it is useful to create new objects. However\n",
    "if you want to modify the object by modifying the shape, you have to assign a tuple containing the new\n",
    "dimensions directly to its shape attribute."
   ]
  },
  {
   "cell_type": "code",
   "execution_count": 9,
   "id": "ea10af5b-a36e-4367-86d9-1830dbc411a4",
   "metadata": {},
   "outputs": [
    {
     "data": {
      "text/plain": [
       "array([[0.6115242 , 0.99700754, 0.2641526 , 0.7042035 ],\n",
       "       [0.56735346, 0.85683597, 0.28290172, 0.28711711],\n",
       "       [0.35781228, 0.62673547, 0.45210481, 0.62720134]])"
      ]
     },
     "execution_count": 9,
     "metadata": {},
     "output_type": "execute_result"
    }
   ],
   "source": [
    "a.shape = (3, 4)\n",
    "a"
   ]
  },
  {
   "cell_type": "raw",
   "id": "d8f34124-5549-48a2-bcc7-a3fecd58a7c3",
   "metadata": {},
   "source": [
    "As you can see, this time it is the starting array to change shape and there is no object returned. The\n",
    "inverse operation is possible, that is, to convert a two-dimensional array into a one-dimensional array,\n",
    "through the ravel() function."
   ]
  },
  {
   "cell_type": "code",
   "execution_count": 10,
   "id": "22c19eb4-72cd-48b2-8c85-add3eb8ffb92",
   "metadata": {},
   "outputs": [],
   "source": [
    "a = a.ravel()"
   ]
  },
  {
   "cell_type": "code",
   "execution_count": 11,
   "id": "f3dd6b28-b93c-4dad-9145-75d09294f088",
   "metadata": {},
   "outputs": [
    {
     "data": {
      "text/plain": [
       "array([0.6115242 , 0.99700754, 0.2641526 , 0.7042035 , 0.56735346,\n",
       "       0.85683597, 0.28290172, 0.28711711, 0.35781228, 0.62673547,\n",
       "       0.45210481, 0.62720134])"
      ]
     },
     "execution_count": 11,
     "metadata": {},
     "output_type": "execute_result"
    }
   ],
   "source": [
    "a"
   ]
  },
  {
   "cell_type": "raw",
   "id": "645f58a1-0dd3-409c-8f26-e2284099457b",
   "metadata": {},
   "source": [
    "or even here acting directly on the shape attribute of the array itself."
   ]
  },
  {
   "cell_type": "code",
   "execution_count": 12,
   "id": "8d13990f-947a-42a5-8c1a-ab64bb7e1e70",
   "metadata": {},
   "outputs": [
    {
     "data": {
      "text/plain": [
       "array([0.6115242 , 0.99700754, 0.2641526 , 0.7042035 , 0.56735346,\n",
       "       0.85683597, 0.28290172, 0.28711711, 0.35781228, 0.62673547,\n",
       "       0.45210481, 0.62720134])"
      ]
     },
     "execution_count": 12,
     "metadata": {},
     "output_type": "execute_result"
    }
   ],
   "source": [
    "a.shape = (12)\n",
    "a"
   ]
  },
  {
   "cell_type": "markdown",
   "id": "4256cd4c-6abe-4a79-9ff6-6fc408c57e1b",
   "metadata": {},
   "source": [
    "Another important operation is the transposition of a matrix that is an inversion of the columns with\n",
    "rows. NumPy provides this feature with the transpose() function."
   ]
  },
  {
   "cell_type": "code",
   "execution_count": 13,
   "id": "eb83a3de-28ad-4d4b-a4e1-6e1fd8a44ac7",
   "metadata": {},
   "outputs": [
    {
     "data": {
      "text/plain": [
       "array([[0.6115242 , 0.56735346, 0.35781228],\n",
       "       [0.99700754, 0.85683597, 0.62673547],\n",
       "       [0.2641526 , 0.28290172, 0.45210481],\n",
       "       [0.7042035 , 0.28711711, 0.62720134]])"
      ]
     },
     "execution_count": 13,
     "metadata": {},
     "output_type": "execute_result"
    }
   ],
   "source": [
    "A.transpose()"
   ]
  },
  {
   "cell_type": "code",
   "execution_count": null,
   "id": "869bda9c-c927-4d69-a4b8-02f0a77c48b0",
   "metadata": {},
   "outputs": [],
   "source": []
  }
 ],
 "metadata": {
  "kernelspec": {
   "display_name": "Python 3 (ipykernel)",
   "language": "python",
   "name": "python3"
  },
  "language_info": {
   "codemirror_mode": {
    "name": "ipython",
    "version": 3
   },
   "file_extension": ".py",
   "mimetype": "text/x-python",
   "name": "python",
   "nbconvert_exporter": "python",
   "pygments_lexer": "ipython3",
   "version": "3.12.3"
  }
 },
 "nbformat": 4,
 "nbformat_minor": 5
}
