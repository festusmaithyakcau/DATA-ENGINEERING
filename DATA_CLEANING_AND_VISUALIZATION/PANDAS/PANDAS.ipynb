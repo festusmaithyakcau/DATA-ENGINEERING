{
 "cells": [
  {
   "cell_type": "markdown",
   "id": "7ef612fe-1029-4499-b130-a107f229f110",
   "metadata": {},
   "source": [
    "Pandas is an open source Python library for highly specialized data analysis. Currently it is the reference\n",
    "point that all professionals using the Python language need to study and analyze data sets for statistical\n",
    "purposes of analysis and decision making.\n",
    "This library has been designed and developed primarily by Wes McKinney starting in 2008; later, in\n",
    "2012, Sien Chang, one of his colleagues, was added to the development. Together they set up one of the most\n",
    "used libraries in the Python community.\n",
    "Pandas arises from the need to have a specific library for analysis of the data which provides, in the\n",
    "simplest possible way, all the instruments for the processing of data, data extraction, and data manipulation.\n",
    "This Python package is designed on the basis of the NumPy library. This choice, we can say, was critical\n",
    "to the success and the rapid spread of pandas. In fact, this choice not only makes this library compatible with\n",
    "most of the other modules, but also takes advantage of the high quality of performance in calculating of the\n",
    "NumPy module.\n",
    "Another fundamental choice has been to design ad hoc data structures for the data analysis. In fact,\n",
    "instead of using existing data structures built into Python or provided by other libraries, two new data\n",
    "structures have been developed.\n",
    "These data structures are designed to work with relational data or labeled, thus allowing you to manage\n",
    "data with features similar to those designed for SQL relational databases and Excel spreadsheets.\n",
    "Throughout the book, in fact, we will see a series of basic operations for data analysis, normally used on\n",
    "the database tables or spreadsheets. Pandas in fact provides an extended set of functions and methods that\n",
    "allow you to perform, and in many cases even in the best way, these operations.\n",
    "So pandas has as its main purpose to provide all the building blocks for anyone approaching the world\n",
    "of data analysis."
   ]
  },
  {
   "cell_type": "code",
   "execution_count": 2,
   "id": "cacdd7b5-43fc-417e-b9b9-1c7edee6531d",
   "metadata": {},
   "outputs": [
    {
     "name": "stdout",
     "output_type": "stream",
     "text": [
      "# packages in environment at /home/festus/.config/jupyterlab-desktop/envs/env_1:\n",
      "#\n",
      "# Name                    Version                   Build  Channel\n",
      "pandas                    2.2.2           py312h1d6d2e6_1    conda-forge\n",
      "\n",
      "Note: you may need to restart the kernel to use updated packages.\n"
     ]
    }
   ],
   "source": [
    "conda list pandas"
   ]
  },
  {
   "cell_type": "code",
   "execution_count": 1,
   "id": "5e399259-b788-4fbd-91bc-c22bbd2df060",
   "metadata": {},
   "outputs": [],
   "source": [
    "import pandas as pd\n",
    "import numpy as np"
   ]
  },
  {
   "cell_type": "markdown",
   "id": "34bc2998-9f29-4d2a-9f93-f47fe08873d3",
   "metadata": {},
   "source": [
    "Introduction to pandas Data Structures"
   ]
  },
  {
   "cell_type": "markdown",
   "id": "6483f0fd-aa51-458a-8315-9374cc66ecea",
   "metadata": {},
   "source": [
    "The heart of pandas is just the two primary data structures on which all transactions, which are generally\n",
    "made during the analysis of data, are centralized:\n",
    "\n",
    "•Series\n",
    "\n",
    "•DataFrame"
   ]
  },
  {
   "cell_type": "raw",
   "id": "49f6c740-5443-42f0-b697-4fe46d3e60b2",
   "metadata": {},
   "source": [
    "The Series"
   ]
  },
  {
   "cell_type": "markdown",
   "id": "902e0d6f-6487-4d2d-a435-7d4d968546f7",
   "metadata": {},
   "source": [
    "The Series is the object of the pandas library designed to represent one-dimensional data structures,\n",
    "similarly to an array but with some additional features. Its internal structure is simple and is\n",
    "composed of two arrays associated with each other. The main array has the purpose to hold the data (data of\n",
    "any NumPy type) to which each element is associated with a label, contained within the other array, called\n",
    "the Index."
   ]
  },
  {
   "cell_type": "markdown",
   "id": "14f4be9f-c06b-4ef5-ba7d-c56ded49be92",
   "metadata": {},
   "source": [
    "Declaring a Series"
   ]
  },
  {
   "cell_type": "markdown",
   "id": "f44ea68d-df49-40e5-a377-d856734e5962",
   "metadata": {},
   "source": [
    "To create the Series, simply call the Series() constructor passing as an argument an\n",
    "array containing the values to be included in it."
   ]
  },
  {
   "cell_type": "code",
   "execution_count": 7,
   "id": "73de9277-b57b-4a35-b32b-349542856d04",
   "metadata": {},
   "outputs": [
    {
     "data": {
      "text/plain": [
       "0    12\n",
       "1    -4\n",
       "2     7\n",
       "3     9\n",
       "dtype: int64"
      ]
     },
     "execution_count": 7,
     "metadata": {},
     "output_type": "execute_result"
    }
   ],
   "source": [
    "s = pd.Series([12,-4,7,9])\n",
    "s"
   ]
  },
  {
   "cell_type": "markdown",
   "id": "8f41aced-b0f2-4286-b541-6e25bc845478",
   "metadata": {},
   "source": [
    "As you can see from the output of the Series, on the left there are the values in the Index, which is a\n",
    "series of labels, and on the right the corresponding values.\n",
    "If you do not specify any index during the definition of the Series, by default, pandas will assign\n",
    "numerical values increasing from 0 as labels. In this case the labels correspond to the indexes (position in\n",
    "the array) of the elements within the Series object.\n",
    "Often, however, it is preferable to create a Series using meaningful labels in order to distinguish and\n",
    "identify each item regardless of the order in which they were inserted into the Series.\n",
    "So in this case it will be necessary, during the constructor call, to include the index option assigning an\n",
    "array of strings containing the labels."
   ]
  },
  {
   "cell_type": "code",
   "execution_count": 7,
   "id": "98168f95-b9f6-4126-bd6d-b793d8563e4d",
   "metadata": {},
   "outputs": [
    {
     "data": {
      "text/plain": [
       "a    12\n",
       "b    -4\n",
       "c     7\n",
       "d     9\n",
       "dtype: int64"
      ]
     },
     "execution_count": 7,
     "metadata": {},
     "output_type": "execute_result"
    }
   ],
   "source": [
    "s = pd.Series([12,-4,7,9], index=['a','b','c','d'])\n",
    "s"
   ]
  },
  {
   "cell_type": "markdown",
   "id": "6cefa104-f99d-4e64-8389-c10c372b5411",
   "metadata": {},
   "source": [
    "If you want to individually see the two arrays that make up this data structure you can call the two\n",
    "attributes of the Series as follows: index and values."
   ]
  },
  {
   "cell_type": "code",
   "execution_count": 10,
   "id": "4f0c2a1c-cf2e-41f2-9f06-926c6dc74bfe",
   "metadata": {},
   "outputs": [
    {
     "data": {
      "text/plain": [
       "array([12, -4,  7,  9])"
      ]
     },
     "execution_count": 10,
     "metadata": {},
     "output_type": "execute_result"
    }
   ],
   "source": [
    "s.values"
   ]
  },
  {
   "cell_type": "code",
   "execution_count": 11,
   "id": "647bdfbd-7f77-406b-821c-eb5c60badc5d",
   "metadata": {},
   "outputs": [
    {
     "data": {
      "text/plain": [
       "Index(['a', 'b', 'c', 'd'], dtype='object')"
      ]
     },
     "execution_count": 11,
     "metadata": {},
     "output_type": "execute_result"
    }
   ],
   "source": [
    "s.index"
   ]
  },
  {
   "cell_type": "raw",
   "id": "a994a346-c4f8-4a0f-be43-823a797ccd2a",
   "metadata": {},
   "source": [
    "Selecting the Internal Elements"
   ]
  },
  {
   "cell_type": "code",
   "execution_count": 14,
   "id": "fc19848e-cb51-4a5a-bf14-062bf8432ca1",
   "metadata": {},
   "outputs": [
    {
     "data": {
      "text/plain": [
       "7"
      ]
     },
     "execution_count": 14,
     "metadata": {},
     "output_type": "execute_result"
    }
   ],
   "source": [
    "# For that concerning individual elements, you can select them as an ordinary numpy array (not anymore), specifying the key.\n",
    "# We must use the iloc attribute to select the element\n",
    "s.iloc[2]"
   ]
  },
  {
   "cell_type": "code",
   "execution_count": 15,
   "id": "ff3076ad-18d1-408d-b262-0909678bfce3",
   "metadata": {},
   "outputs": [
    {
     "data": {
      "text/plain": [
       "-4"
      ]
     },
     "execution_count": 15,
     "metadata": {},
     "output_type": "execute_result"
    }
   ],
   "source": [
    "# Or you can specify the label corresponding to the position of the index.\n",
    "s['b']"
   ]
  },
  {
   "cell_type": "code",
   "execution_count": 16,
   "id": "70a47758-2270-4711-ab52-7faf8509120c",
   "metadata": {},
   "outputs": [
    {
     "data": {
      "text/plain": [
       "a    12\n",
       "b    -4\n",
       "dtype: int64"
      ]
     },
     "execution_count": 16,
     "metadata": {},
     "output_type": "execute_result"
    }
   ],
   "source": [
    "# In the same way you select multiple items in a numpy array, you can specify the following:\n",
    "s[0:2]"
   ]
  },
  {
   "cell_type": "code",
   "execution_count": 17,
   "id": "fa7d237e-d74c-46f8-a616-bf477b1b1693",
   "metadata": {},
   "outputs": [
    {
     "data": {
      "text/plain": [
       "b   -4\n",
       "c    7\n",
       "dtype: int64"
      ]
     },
     "execution_count": 17,
     "metadata": {},
     "output_type": "execute_result"
    }
   ],
   "source": [
    "# or even in this case, use the corresponding labels, but specifying the list of labels within an array.\n",
    "s[['b','c']]"
   ]
  },
  {
   "cell_type": "raw",
   "id": "f3560dc9-1d11-4f19-83ba-27a679dacf6a",
   "metadata": {},
   "source": [
    "Assigning Values to the Elements"
   ]
  },
  {
   "cell_type": "code",
   "execution_count": 3,
   "id": "c0af2785-65f0-40b7-938c-2ed21d73eed5",
   "metadata": {},
   "outputs": [
    {
     "data": {
      "text/plain": [
       "a    12\n",
       "b    -4\n",
       "c     7\n",
       "d     9\n",
       "dtype: int64"
      ]
     },
     "execution_count": 3,
     "metadata": {},
     "output_type": "execute_result"
    }
   ],
   "source": [
    "s"
   ]
  },
  {
   "cell_type": "markdown",
   "id": "0b751afa-a36e-4a6c-b658-9fa1dbf21893",
   "metadata": {},
   "source": [
    "Now that you understand how to select individual elements, you also know how to assign new values to\n",
    "them. In fact, you can select the value by index or label."
   ]
  },
  {
   "cell_type": "code",
   "execution_count": 14,
   "id": "0be9d974-b7fb-47d5-b263-ecb460c300e6",
   "metadata": {},
   "outputs": [],
   "source": [
    "s.iloc[1] = 0"
   ]
  },
  {
   "cell_type": "code",
   "execution_count": 15,
   "id": "877530ad-31fd-44e9-9b60-a92b89a0c665",
   "metadata": {},
   "outputs": [
    {
     "data": {
      "text/plain": [
       "a    12\n",
       "b     0\n",
       "c     7\n",
       "d     9\n",
       "dtype: int64"
      ]
     },
     "execution_count": 15,
     "metadata": {},
     "output_type": "execute_result"
    }
   ],
   "source": [
    "s"
   ]
  },
  {
   "cell_type": "code",
   "execution_count": 16,
   "id": "a0eb0a8f-3f97-4213-89f5-b6104de1aa3d",
   "metadata": {},
   "outputs": [],
   "source": [
    "s['b'] = 1"
   ]
  },
  {
   "cell_type": "code",
   "execution_count": 18,
   "id": "14ecf726-ac9b-41f3-8020-42039ad50128",
   "metadata": {},
   "outputs": [
    {
     "data": {
      "text/plain": [
       "a    12\n",
       "b     1\n",
       "c     7\n",
       "d     9\n",
       "dtype: int64"
      ]
     },
     "execution_count": 18,
     "metadata": {},
     "output_type": "execute_result"
    }
   ],
   "source": [
    "s"
   ]
  },
  {
   "cell_type": "raw",
   "id": "455e5613-12fd-44f6-8d3d-11289c0e5d43",
   "metadata": {},
   "source": [
    "Defining Series from NumPy Arrays and Other Series"
   ]
  },
  {
   "cell_type": "code",
   "execution_count": 2,
   "id": "d5c7c8c7-4d83-47f3-bac3-4668617ac611",
   "metadata": {},
   "outputs": [],
   "source": [
    "arr = np.array([1,2,3,4])\n",
    "s3 = pd.Series(arr)"
   ]
  },
  {
   "cell_type": "code",
   "execution_count": 8,
   "id": "c0351b17-5f4b-4f06-a10e-bf3596193dcc",
   "metadata": {},
   "outputs": [
    {
     "data": {
      "text/plain": [
       "0    1\n",
       "1    2\n",
       "2   -2\n",
       "3    4\n",
       "dtype: int64"
      ]
     },
     "execution_count": 8,
     "metadata": {},
     "output_type": "execute_result"
    }
   ],
   "source": [
    "s3"
   ]
  },
  {
   "cell_type": "code",
   "execution_count": 9,
   "id": "b02a9582-9330-46f0-9034-006176e13c2d",
   "metadata": {},
   "outputs": [
    {
     "data": {
      "text/plain": [
       "a    12\n",
       "b    -4\n",
       "c     7\n",
       "d     9\n",
       "dtype: int64"
      ]
     },
     "execution_count": 9,
     "metadata": {},
     "output_type": "execute_result"
    }
   ],
   "source": [
    "s4 = pd.Series(s)\n",
    "s4"
   ]
  },
  {
   "cell_type": "markdown",
   "id": "ee34473a-4745-42cb-8c60-727e01426d91",
   "metadata": {},
   "source": [
    "When doing this, however, you should always keep in mind that the values contained within the\n",
    "NumPy array or the original Series are not copied, but are passed by reference. That is, the object is inserted\n",
    "dynamically within the new Series object. If it changes, for example its internal element varies in value, then\n",
    "those changes will also be present in the new Series object."
   ]
  },
  {
   "cell_type": "code",
   "execution_count": 10,
   "id": "57f484a0-6ecb-4980-a68a-885128000e09",
   "metadata": {},
   "outputs": [
    {
     "data": {
      "text/plain": [
       "0    1\n",
       "1    2\n",
       "2   -2\n",
       "3    4\n",
       "dtype: int64"
      ]
     },
     "execution_count": 10,
     "metadata": {},
     "output_type": "execute_result"
    }
   ],
   "source": [
    "s3"
   ]
  },
  {
   "cell_type": "code",
   "execution_count": 11,
   "id": "14a5cefa-5887-4b51-ba46-811cf6bbfe0c",
   "metadata": {},
   "outputs": [
    {
     "data": {
      "text/plain": [
       "0    1\n",
       "1    2\n",
       "2   -2\n",
       "3    4\n",
       "dtype: int64"
      ]
     },
     "execution_count": 11,
     "metadata": {},
     "output_type": "execute_result"
    }
   ],
   "source": [
    "arr[2] = -2\n",
    "s3"
   ]
  },
  {
   "cell_type": "markdown",
   "id": "044ce1cc-dbb9-4589-9f48-c8c4b7d66597",
   "metadata": {},
   "source": [
    "As we can see in this example, by changing the third element of the arr array we also modified the\n",
    "corresponding element in the s3 Series."
   ]
  },
  {
   "cell_type": "raw",
   "id": "b0e83e3f-33d7-430e-9c6e-cecbf2c11196",
   "metadata": {},
   "source": [
    "Filtering Values"
   ]
  },
  {
   "cell_type": "markdown",
   "id": "278b4e06-5dcc-4ea4-8a06-11256dae2215",
   "metadata": {},
   "source": [
    "Thanks to the choice of NumPy library as the base for the development of the pandas library and as a result,\n",
    "for its data structures, many operations applicable to NumPy arrays are extended to the Series. One of these\n",
    "is the filtering of the values contained within the data structure through conditions.\n",
    "For example, if you need to know which elements within the series have value greater than 8, you will\n",
    "write the following:"
   ]
  },
  {
   "cell_type": "code",
   "execution_count": 12,
   "id": "6643f899-4624-4af6-96a1-7bcdfd3174d4",
   "metadata": {},
   "outputs": [
    {
     "data": {
      "text/plain": [
       "a    12\n",
       "d     9\n",
       "dtype: int64"
      ]
     },
     "execution_count": 12,
     "metadata": {},
     "output_type": "execute_result"
    }
   ],
   "source": [
    "s[s > 8]"
   ]
  },
  {
   "cell_type": "raw",
   "id": "0932ab15-162d-4f15-b079-5be435cef282",
   "metadata": {},
   "source": [
    "Operations and Mathematical Functions"
   ]
  },
  {
   "cell_type": "markdown",
   "id": "72715fa6-95a2-465c-9360-5c6577cacf4c",
   "metadata": {},
   "source": [
    "Other operations such as operators (+, -, *, /) or mathematical functions that are applicable to NumPy array\n",
    "can be extended to objects Series.\n",
    "Regarding the operators you can simply write the arithmetic expression."
   ]
  },
  {
   "cell_type": "code",
   "execution_count": 14,
   "id": "a1878cec-0d34-45d1-b1d4-59b956afc6eb",
   "metadata": {},
   "outputs": [
    {
     "data": {
      "text/plain": [
       "a    6.0\n",
       "b   -2.0\n",
       "c    3.5\n",
       "d    4.5\n",
       "dtype: float64"
      ]
     },
     "execution_count": 14,
     "metadata": {},
     "output_type": "execute_result"
    }
   ],
   "source": [
    "s / 2"
   ]
  },
  {
   "cell_type": "markdown",
   "id": "284dd3b8-5dce-476f-943c-26958d540a51",
   "metadata": {},
   "source": [
    "However, regarding the NumPy mathematical functions, you must specify the function referenced with\n",
    "np and the instance of the Series passed as argument."
   ]
  },
  {
   "cell_type": "code",
   "execution_count": 18,
   "id": "6f842bd1-2043-433b-a388-bc897b8b6e60",
   "metadata": {},
   "outputs": [
    {
     "data": {
      "text/plain": [
       "a    2.484907\n",
       "b         NaN\n",
       "c    1.945910\n",
       "d    2.197225\n",
       "dtype: float64"
      ]
     },
     "execution_count": 18,
     "metadata": {},
     "output_type": "execute_result"
    }
   ],
   "source": [
    "np.log(s)"
   ]
  },
  {
   "cell_type": "raw",
   "id": "485454d2-8323-4dfd-9f2e-dc08eb94a6ec",
   "metadata": {},
   "source": [
    "Evaluating Values"
   ]
  },
  {
   "cell_type": "markdown",
   "id": "f5e73228-6280-40a9-b2cc-9b7c79dd2355",
   "metadata": {},
   "source": [
    "Often within a Series there may be duplicate values and then you may need to have information on what are\n",
    "the samples contained, counting duplicates and whether a value is present or not in the Series.\n",
    "In this regard, declare a series in which there are many duplicate values."
   ]
  },
  {
   "cell_type": "code",
   "execution_count": 19,
   "id": "5aa11b6e-7337-4a58-9b61-979897ccbd9b",
   "metadata": {},
   "outputs": [
    {
     "data": {
      "text/plain": [
       "white     1\n",
       "white     0\n",
       "blue      2\n",
       "green     1\n",
       "green     2\n",
       "yellow    3\n",
       "dtype: int64"
      ]
     },
     "execution_count": 19,
     "metadata": {},
     "output_type": "execute_result"
    }
   ],
   "source": [
    "serd = pd.Series([1,0,2,1,2,3], index=['white','white','blue','green','green','yellow'])\n",
    "serd"
   ]
  },
  {
   "cell_type": "markdown",
   "id": "dcf1e502-0920-4344-92a3-aff5a6a45c6d",
   "metadata": {},
   "source": [
    "To know all the values contained within the Series excluding duplicates, you can use the unique() function.\n",
    "The return value is an array containing the unique values in the Series, though not necessarily in order."
   ]
  },
  {
   "cell_type": "code",
   "execution_count": 20,
   "id": "cff6bd1d-c5d7-4e98-8015-9e01ef9ca33e",
   "metadata": {},
   "outputs": [
    {
     "data": {
      "text/plain": [
       "array([1, 0, 2, 3])"
      ]
     },
     "execution_count": 20,
     "metadata": {},
     "output_type": "execute_result"
    }
   ],
   "source": [
    "serd.unique()"
   ]
  },
  {
   "cell_type": "markdown",
   "id": "8aa66c10-53de-4418-a80d-e8c9187393f6",
   "metadata": {},
   "source": [
    "A function similar to unique( ) is the value_counts( ) function, which not only returns the unique values\n",
    "but calculates occurrences within a Series."
   ]
  },
  {
   "cell_type": "code",
   "execution_count": 21,
   "id": "584a8098-ce3c-47e9-8302-a88f30016ba2",
   "metadata": {},
   "outputs": [
    {
     "data": {
      "text/plain": [
       "1    2\n",
       "2    2\n",
       "0    1\n",
       "3    1\n",
       "Name: count, dtype: int64"
      ]
     },
     "execution_count": 21,
     "metadata": {},
     "output_type": "execute_result"
    }
   ],
   "source": [
    "serd.value_counts()"
   ]
  },
  {
   "cell_type": "markdown",
   "id": "942167f0-fa44-42a4-86cf-5992bbc9db4b",
   "metadata": {},
   "source": [
    "Finally, isin( ) is a function that evaluates the membership, that is, given a list of values, this function\n",
    "lets you know if these values are contained within the data structure. Boolean values that are returned can be\n",
    "very useful during the filtering of data within a series or in a column of a DataFrame."
   ]
  },
  {
   "cell_type": "code",
   "execution_count": 22,
   "id": "945f1ca0-bb76-4402-91a1-69bdb54f582f",
   "metadata": {},
   "outputs": [
    {
     "data": {
      "text/plain": [
       "white     False\n",
       "white      True\n",
       "blue      False\n",
       "green     False\n",
       "green     False\n",
       "yellow     True\n",
       "dtype: bool"
      ]
     },
     "execution_count": 22,
     "metadata": {},
     "output_type": "execute_result"
    }
   ],
   "source": [
    "serd.isin([0,3])"
   ]
  },
  {
   "cell_type": "code",
   "execution_count": 23,
   "id": "5dca0ff5-cbe8-4007-9605-0ea8b6fd2fb8",
   "metadata": {},
   "outputs": [
    {
     "data": {
      "text/plain": [
       "white     0\n",
       "yellow    3\n",
       "dtype: int64"
      ]
     },
     "execution_count": 23,
     "metadata": {},
     "output_type": "execute_result"
    }
   ],
   "source": [
    "serd[serd.isin([0,3])]"
   ]
  },
  {
   "cell_type": "code",
   "execution_count": null,
   "id": "99c3b1ea-c2ef-4fb3-89d9-abe409655aa6",
   "metadata": {},
   "outputs": [],
   "source": []
  }
 ],
 "metadata": {
  "kernelspec": {
   "display_name": "Python 3 (ipykernel)",
   "language": "python",
   "name": "python3"
  },
  "language_info": {
   "codemirror_mode": {
    "name": "ipython",
    "version": 3
   },
   "file_extension": ".py",
   "mimetype": "text/x-python",
   "name": "python",
   "nbconvert_exporter": "python",
   "pygments_lexer": "ipython3",
   "version": "3.12.3"
  }
 },
 "nbformat": 4,
 "nbformat_minor": 5
}
