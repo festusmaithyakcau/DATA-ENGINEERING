{
 "cells": [
  {
   "cell_type": "markdown",
   "id": "7ef612fe-1029-4499-b130-a107f229f110",
   "metadata": {},
   "source": [
    "Pandas is an open source Python library for highly specialized data analysis. Currently it is the reference\n",
    "point that all professionals using the Python language need to study and analyze data sets for statistical\n",
    "purposes of analysis and decision making.\n",
    "This library has been designed and developed primarily by Wes McKinney starting in 2008; later, in\n",
    "2012, Sien Chang, one of his colleagues, was added to the development. Together they set up one of the most\n",
    "used libraries in the Python community.\n",
    "Pandas arises from the need to have a specific library for analysis of the data which provides, in the\n",
    "simplest possible way, all the instruments for the processing of data, data extraction, and data manipulation.\n",
    "This Python package is designed on the basis of the NumPy library. This choice, we can say, was critical\n",
    "to the success and the rapid spread of pandas. In fact, this choice not only makes this library compatible with\n",
    "most of the other modules, but also takes advantage of the high quality of performance in calculating of the\n",
    "NumPy module.\n",
    "Another fundamental choice has been to design ad hoc data structures for the data analysis. In fact,\n",
    "instead of using existing data structures built into Python or provided by other libraries, two new data\n",
    "structures have been developed.\n",
    "These data structures are designed to work with relational data or labeled, thus allowing you to manage\n",
    "data with features similar to those designed for SQL relational databases and Excel spreadsheets.\n",
    "Throughout the book, in fact, we will see a series of basic operations for data analysis, normally used on\n",
    "the database tables or spreadsheets. Pandas in fact provides an extended set of functions and methods that\n",
    "allow you to perform, and in many cases even in the best way, these operations.\n",
    "So pandas has as its main purpose to provide all the building blocks for anyone approaching the world\n",
    "of data analysis."
   ]
  },
  {
   "cell_type": "code",
   "execution_count": 2,
   "id": "cacdd7b5-43fc-417e-b9b9-1c7edee6531d",
   "metadata": {},
   "outputs": [
    {
     "name": "stdout",
     "output_type": "stream",
     "text": [
      "# packages in environment at /home/festus/.config/jupyterlab-desktop/envs/env_1:\n",
      "#\n",
      "# Name                    Version                   Build  Channel\n",
      "pandas                    2.2.2           py312h1d6d2e6_1    conda-forge\n",
      "\n",
      "Note: you may need to restart the kernel to use updated packages.\n"
     ]
    }
   ],
   "source": [
    "conda list pandas"
   ]
  },
  {
   "cell_type": "code",
   "execution_count": 1,
   "id": "5e399259-b788-4fbd-91bc-c22bbd2df060",
   "metadata": {},
   "outputs": [],
   "source": [
    "import pandas as pd\n",
    "import numpy as np"
   ]
  },
  {
   "cell_type": "markdown",
   "id": "34bc2998-9f29-4d2a-9f93-f47fe08873d3",
   "metadata": {},
   "source": [
    "Introduction to pandas Data Structures"
   ]
  },
  {
   "cell_type": "markdown",
   "id": "6483f0fd-aa51-458a-8315-9374cc66ecea",
   "metadata": {},
   "source": [
    "The heart of pandas is just the two primary data structures on which all transactions, which are generally\n",
    "made during the analysis of data, are centralized:\n",
    "\n",
    "•Series\n",
    "\n",
    "•DataFrame"
   ]
  },
  {
   "cell_type": "raw",
   "id": "49f6c740-5443-42f0-b697-4fe46d3e60b2",
   "metadata": {},
   "source": [
    "The Series"
   ]
  },
  {
   "cell_type": "markdown",
   "id": "902e0d6f-6487-4d2d-a435-7d4d968546f7",
   "metadata": {},
   "source": [
    "The Series is the object of the pandas library designed to represent one-dimensional data structures,\n",
    "similarly to an array but with some additional features. Its internal structure is simple and is\n",
    "composed of two arrays associated with each other. The main array has the purpose to hold the data (data of\n",
    "any NumPy type) to which each element is associated with a label, contained within the other array, called\n",
    "the Index."
   ]
  },
  {
   "cell_type": "markdown",
   "id": "14f4be9f-c06b-4ef5-ba7d-c56ded49be92",
   "metadata": {},
   "source": [
    "Declaring a Series"
   ]
  },
  {
   "cell_type": "markdown",
   "id": "f44ea68d-df49-40e5-a377-d856734e5962",
   "metadata": {},
   "source": [
    "To create the Series, simply call the Series() constructor passing as an argument an\n",
    "array containing the values to be included in it."
   ]
  },
  {
   "cell_type": "code",
   "execution_count": 7,
   "id": "73de9277-b57b-4a35-b32b-349542856d04",
   "metadata": {},
   "outputs": [
    {
     "data": {
      "text/plain": [
       "0    12\n",
       "1    -4\n",
       "2     7\n",
       "3     9\n",
       "dtype: int64"
      ]
     },
     "execution_count": 7,
     "metadata": {},
     "output_type": "execute_result"
    }
   ],
   "source": [
    "s = pd.Series([12,-4,7,9])\n",
    "s"
   ]
  },
  {
   "cell_type": "markdown",
   "id": "8f41aced-b0f2-4286-b541-6e25bc845478",
   "metadata": {},
   "source": [
    "As you can see from the output of the Series, on the left there are the values in the Index, which is a\n",
    "series of labels, and on the right the corresponding values.\n",
    "If you do not specify any index during the definition of the Series, by default, pandas will assign\n",
    "numerical values increasing from 0 as labels. In this case the labels correspond to the indexes (position in\n",
    "the array) of the elements within the Series object.\n",
    "Often, however, it is preferable to create a Series using meaningful labels in order to distinguish and\n",
    "identify each item regardless of the order in which they were inserted into the Series.\n",
    "So in this case it will be necessary, during the constructor call, to include the index option assigning an\n",
    "array of strings containing the labels."
   ]
  },
  {
   "cell_type": "code",
   "execution_count": 2,
   "id": "98168f95-b9f6-4126-bd6d-b793d8563e4d",
   "metadata": {},
   "outputs": [
    {
     "data": {
      "text/plain": [
       "a    12\n",
       "b    -4\n",
       "c     7\n",
       "d     9\n",
       "dtype: int64"
      ]
     },
     "execution_count": 2,
     "metadata": {},
     "output_type": "execute_result"
    }
   ],
   "source": [
    "s = pd.Series([12,-4,7,9], index=['a','b','c','d'])\n",
    "s"
   ]
  },
  {
   "cell_type": "markdown",
   "id": "6cefa104-f99d-4e64-8389-c10c372b5411",
   "metadata": {},
   "source": [
    "If you want to individually see the two arrays that make up this data structure you can call the two\n",
    "attributes of the Series as follows: index and values."
   ]
  },
  {
   "cell_type": "code",
   "execution_count": 10,
   "id": "4f0c2a1c-cf2e-41f2-9f06-926c6dc74bfe",
   "metadata": {},
   "outputs": [
    {
     "data": {
      "text/plain": [
       "array([12, -4,  7,  9])"
      ]
     },
     "execution_count": 10,
     "metadata": {},
     "output_type": "execute_result"
    }
   ],
   "source": [
    "s.values"
   ]
  },
  {
   "cell_type": "code",
   "execution_count": 11,
   "id": "647bdfbd-7f77-406b-821c-eb5c60badc5d",
   "metadata": {},
   "outputs": [
    {
     "data": {
      "text/plain": [
       "Index(['a', 'b', 'c', 'd'], dtype='object')"
      ]
     },
     "execution_count": 11,
     "metadata": {},
     "output_type": "execute_result"
    }
   ],
   "source": [
    "s.index"
   ]
  },
  {
   "cell_type": "raw",
   "id": "a994a346-c4f8-4a0f-be43-823a797ccd2a",
   "metadata": {},
   "source": [
    "Selecting the Internal Elements"
   ]
  },
  {
   "cell_type": "code",
   "execution_count": 14,
   "id": "fc19848e-cb51-4a5a-bf14-062bf8432ca1",
   "metadata": {},
   "outputs": [
    {
     "data": {
      "text/plain": [
       "7"
      ]
     },
     "execution_count": 14,
     "metadata": {},
     "output_type": "execute_result"
    }
   ],
   "source": [
    "# For that concerning individual elements, you can select them as an ordinary numpy array (not anymore), specifying the key.\n",
    "# We must use the iloc attribute to select the element\n",
    "s.iloc[2]"
   ]
  },
  {
   "cell_type": "code",
   "execution_count": 15,
   "id": "ff3076ad-18d1-408d-b262-0909678bfce3",
   "metadata": {},
   "outputs": [
    {
     "data": {
      "text/plain": [
       "-4"
      ]
     },
     "execution_count": 15,
     "metadata": {},
     "output_type": "execute_result"
    }
   ],
   "source": [
    "# Or you can specify the label corresponding to the position of the index.\n",
    "s['b']"
   ]
  },
  {
   "cell_type": "code",
   "execution_count": 16,
   "id": "70a47758-2270-4711-ab52-7faf8509120c",
   "metadata": {},
   "outputs": [
    {
     "data": {
      "text/plain": [
       "a    12\n",
       "b    -4\n",
       "dtype: int64"
      ]
     },
     "execution_count": 16,
     "metadata": {},
     "output_type": "execute_result"
    }
   ],
   "source": [
    "# In the same way you select multiple items in a numpy array, you can specify the following:\n",
    "s[0:2]"
   ]
  },
  {
   "cell_type": "code",
   "execution_count": 17,
   "id": "fa7d237e-d74c-46f8-a616-bf477b1b1693",
   "metadata": {},
   "outputs": [
    {
     "data": {
      "text/plain": [
       "b   -4\n",
       "c    7\n",
       "dtype: int64"
      ]
     },
     "execution_count": 17,
     "metadata": {},
     "output_type": "execute_result"
    }
   ],
   "source": [
    "# or even in this case, use the corresponding labels, but specifying the list of labels within an array.\n",
    "s[['b','c']]"
   ]
  },
  {
   "cell_type": "raw",
   "id": "f3560dc9-1d11-4f19-83ba-27a679dacf6a",
   "metadata": {},
   "source": [
    "Assigning Values to the Elements"
   ]
  },
  {
   "cell_type": "code",
   "execution_count": 3,
   "id": "c0af2785-65f0-40b7-938c-2ed21d73eed5",
   "metadata": {},
   "outputs": [
    {
     "data": {
      "text/plain": [
       "a    12\n",
       "b    -4\n",
       "c     7\n",
       "d     9\n",
       "dtype: int64"
      ]
     },
     "execution_count": 3,
     "metadata": {},
     "output_type": "execute_result"
    }
   ],
   "source": [
    "s"
   ]
  },
  {
   "cell_type": "markdown",
   "id": "0b751afa-a36e-4a6c-b658-9fa1dbf21893",
   "metadata": {},
   "source": [
    "Now that you understand how to select individual elements, you also know how to assign new values to\n",
    "them. In fact, you can select the value by index or label."
   ]
  },
  {
   "cell_type": "code",
   "execution_count": 14,
   "id": "0be9d974-b7fb-47d5-b263-ecb460c300e6",
   "metadata": {},
   "outputs": [],
   "source": [
    "s.iloc[1] = 0"
   ]
  },
  {
   "cell_type": "code",
   "execution_count": 15,
   "id": "877530ad-31fd-44e9-9b60-a92b89a0c665",
   "metadata": {},
   "outputs": [
    {
     "data": {
      "text/plain": [
       "a    12\n",
       "b     0\n",
       "c     7\n",
       "d     9\n",
       "dtype: int64"
      ]
     },
     "execution_count": 15,
     "metadata": {},
     "output_type": "execute_result"
    }
   ],
   "source": [
    "s"
   ]
  },
  {
   "cell_type": "code",
   "execution_count": 16,
   "id": "a0eb0a8f-3f97-4213-89f5-b6104de1aa3d",
   "metadata": {},
   "outputs": [],
   "source": [
    "s['b'] = 1"
   ]
  },
  {
   "cell_type": "code",
   "execution_count": 18,
   "id": "14ecf726-ac9b-41f3-8020-42039ad50128",
   "metadata": {},
   "outputs": [
    {
     "data": {
      "text/plain": [
       "a    12\n",
       "b     1\n",
       "c     7\n",
       "d     9\n",
       "dtype: int64"
      ]
     },
     "execution_count": 18,
     "metadata": {},
     "output_type": "execute_result"
    }
   ],
   "source": [
    "s"
   ]
  },
  {
   "cell_type": "raw",
   "id": "455e5613-12fd-44f6-8d3d-11289c0e5d43",
   "metadata": {},
   "source": [
    "Defining Series from NumPy Arrays and Other Series"
   ]
  },
  {
   "cell_type": "code",
   "execution_count": null,
   "id": "d5c7c8c7-4d83-47f3-bac3-4668617ac611",
   "metadata": {},
   "outputs": [],
   "source": []
  }
 ],
 "metadata": {
  "kernelspec": {
   "display_name": "Python 3 (ipykernel)",
   "language": "python",
   "name": "python3"
  },
  "language_info": {
   "codemirror_mode": {
    "name": "ipython",
    "version": 3
   },
   "file_extension": ".py",
   "mimetype": "text/x-python",
   "name": "python",
   "nbconvert_exporter": "python",
   "pygments_lexer": "ipython3",
   "version": "3.12.3"
  }
 },
 "nbformat": 4,
 "nbformat_minor": 5
}
